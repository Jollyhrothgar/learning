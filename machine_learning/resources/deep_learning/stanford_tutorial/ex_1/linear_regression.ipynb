{
 "cells": [
  {
   "cell_type": "markdown",
   "metadata": {},
   "source": [
    "\n",
    "# Linear Regression\n",
    "\n",
    "Linear regression at its core allows us to model a set of features, $x_j$ that correlate to values $y_j$. The relationship between the features is defined linearly. This relationship is explicitly:\n",
    "$$x_j \\rightarrow y_j$$\n",
    "$$y_j \\approx x^{(0)}_j\\theta^{(0)}_j+x^{(1)}_j\\theta^{(1)}_j...x^{(n)}_j\\theta^{(n)}_j$$\n",
    "\n",
    "$\\theta_j$ is the hyperparameter set which maps $x_j$ to approximately $y_j$. \n",
    " \n",
    "A cost function can be defined which compares the difference between the expected value of the $j^{th}$ element $x_j$, which if modeled perfectly would be exactly $y_j$. \n",
    "\n",
    "In the standard way, we define the cost function: \n",
    "$$J(\\theta) = {1\\over2}\\sum_i\\left(\\theta^Tx^{(i)}-y^{(i)}\\right)^2$$\n",
    "\n",
    "And its derivative, which is used for the standard convex optimization:\n",
    "$${{\\partial J(\\theta)}\\over{\\partial \\theta_j}} = \\sum_i x^{(i)}_j\\left(\\theta^T x^{(i)}_j-y_j\\right)$$\n",
    "\n",
    "For this excersize, the feature indexing is assumed to start from 1."
   ]
  },
  {
   "cell_type": "markdown",
   "metadata": {},
   "source": [
    "# Exersize 1A: Linear Regression\n",
    "Instead of using matlab, we use python to perform the linear regression. Data source used will be housing.data, which contains some categorical data, numerical data, and the overall home value. An offset parameter is added to the front of the feature set. The last entry in the feature set is the price of the home.\n",
    "\n"
   ]
  },
  {
   "cell_type": "code",
   "execution_count": 60,
   "metadata": {
    "collapsed": false
   },
   "outputs": [
    {
     "name": "stdout",
     "output_type": "stream",
     "text": [
      "loaded 506 lines of data\n"
     ]
    }
   ],
   "source": [
    "%matplotlib inline\n",
    "import numpy as np\n",
    "import random\n",
    "import matplotlib.pyplot as plt\n",
    "from operator import itemgetter\n",
    "\n",
    "def load_data(filename):\n",
    "    '''\n",
    "    loads whitespace separated file into a list of lists, data.\n",
    "    data[row] = list of data points\n",
    "    data[row][col] = specific feature\n",
    "    \n",
    "    No assumptions are made about the type of data, but it appears\n",
    "    that housing.data (for example) has a mixture of categorical and\n",
    "    numeric features.\n",
    "    '''\n",
    "    data = []\n",
    "    with open(filename,'r') as in_file:\n",
    "        lines = in_file.readlines();\n",
    "        for line in lines:\n",
    "            # convert to the appropriate type\n",
    "            out_list = []\n",
    "            numeric_data = line.split()\n",
    "            out_list.append(1)\n",
    "            for i in range(14):\n",
    "                if i == 3 or i == 8:\n",
    "                    out_list.append(int(numeric_data[i]))\n",
    "                else:\n",
    "                    out_list.append(float(numeric_data[i]))\n",
    "            data.append(out_list)\n",
    "    print \"loaded\",len(data),\"lines of data\"\n",
    "    return data\n",
    "\n",
    "data = load_data(\"./housing.data\")\n",
    "random.shuffle(data)\n",
    "testing_data = data[:250]\n",
    "training_data = data[250:]\n",
    "\n",
    "testing_data = sorted(testing_data,key=itemgetter(14))\n",
    "training_data = sorted(training_data,key=itemgetter(14))"
   ]
  },
  {
   "cell_type": "code",
   "execution_count": 63,
   "metadata": {
    "collapsed": false
   },
   "outputs": [
    {
     "data": {
      "text/plain": [
       "[<matplotlib.lines.Line2D at 0x7f6b39063c10>]"
      ]
     },
     "execution_count": 63,
     "metadata": {},
     "output_type": "execute_result"
    },
    {
     "data": {
      "image/png": "[encoded data removed]",
      "text/plain": [
       "<matplotlib.figure.Figure at 0x7f6b39154150>"
      ]
     },
     "metadata": {},
     "output_type": "display_data"
    }
   ],
   "source": [
    "order = range(len(testing_data))\n",
    "vals = [x[14] for x in testing_data]\n",
    "plt.plot(order,vals,'ro')"
   ]
  },
  {
   "cell_type": "code",
   "execution_count": null,
   "metadata": {
    "collapsed": true
   },
   "outputs": [],
   "source": []
  }
 ],
 "metadata": {
  "kernelspec": {
   "display_name": "Python [Root]",
   "language": "python",
   "name": "Python [Root]"
  },
  "language_info": {
   "codemirror_mode": {
    "name": "ipython",
    "version": 2
   },
   "file_extension": ".py",
   "mimetype": "text/x-python",
   "name": "python",
   "nbconvert_exporter": "python",
   "pygments_lexer": "ipython2",
   "version": "2.7.12"
  }
 },
 "nbformat": 4,
 "nbformat_minor": 0
}
