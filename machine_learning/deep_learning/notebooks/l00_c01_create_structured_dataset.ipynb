{
 "cells": [
  {
   "cell_type": "markdown",
   "metadata": {},
   "source": [
    "# Introduction\n",
    "\n",
    "This tutorial is created by following along with [this](https://www.tensorflow.org/tutorials/structured_data/feature_columns) tensorflow tutorial. Goals of following the tutorial include:\n",
    "\n",
    "* Understand how to use structured data (csv, etc) and reshape to input into a model\n",
    "* Use feature-columns as a bridge to map columns from a source datasource to features used to train a model"
   ]
  },
  {
   "cell_type": "markdown",
   "metadata": {},
   "source": [
    "# Dataset\n",
    "\n",
    "We use a simpler version of the [petfinder](https://www.kaggle.com/c/petfinder-adoption-prediction) dataset.\n",
    "\n",
    " Column | Description | Feature Type | Data Type\n",
    "--------|-------------|--------------|------------\n",
    "Type|Type of animal (Dog, Cat)|Categorical|string\n",
    "Age|Age of the pet|Numerical|integer\n",
    "Breed1|Primary breed of the pet|Categorical|string\n",
    "Color1|Color 1 of pet|Categorical|string\n",
    "Color2|Color 2 of pet|Categorical|string\n",
    "MaturitySize|Size at maturity|Categorical|string\n",
    "FurLength|Fur length|Categorical|string\n",
    "Vaccinated|Pet has been vaccinated|Categorical|string\n",
    "Sterilized|Pet has been sterilized|Categorical|string\n",
    "Health|Health Condition|Categorical|string\n",
    "Fee|Adoption Fee|Numerical|integer\n",
    "Description|Profile write-up for this pet|Text|string\n",
    "PhotoAmt|Total uploaded photos for this pet|Numerical|integer\n",
    "AdoptionSpeed|Speed of adoption | Classification | integer"
   ]
  },
  {
   "cell_type": "markdown",
   "metadata": {},
   "source": [
    "# Imports "
   ]
  },
  {
   "cell_type": "code",
   "execution_count": 1,
   "metadata": {},
   "outputs": [],
   "source": [
    "import sklearn\n",
    "import numpy as np\n",
    "import pandas as pd\n",
    "import matplotlib.pyplot as plt\n",
    "import tensorflow as tf\n",
    "from tensorflow import feature_column\n",
    "from tensorflow.keras import layers\n",
    "from sklearn.model_selection import train_test_split\n",
    "import pathlib"
   ]
  },
  {
   "cell_type": "markdown",
   "metadata": {},
   "source": [
    "# Data Processing"
   ]
  },
  {
   "cell_type": "markdown",
   "metadata": {},
   "source": [
    "## Load the dataset"
   ]
  },
  {
   "cell_type": "code",
   "execution_count": 2,
   "metadata": {},
   "outputs": [],
   "source": [
    "dataset_url = 'http://storage.googleapis.com/download.tensorflow.org/data/petfinder-mini.zip'\n",
    "csv_file = 'datasets/petfinder-mini/petfinder-mini.csv'"
   ]
  },
  {
   "cell_type": "code",
   "execution_count": 3,
   "metadata": {},
   "outputs": [
    {
     "name": "stdout",
     "output_type": "stream",
     "text": [
      "7383 Train examples\n",
      "2308 Test examples\n",
      "1846 Validation examples\n"
     ]
    }
   ],
   "source": [
    "tf.keras.utils.get_file(\n",
    "  'petfinder_mini.zip', dataset_url, extract=True, cache_dir='.')\n",
    "\n",
    "dataframe = pd.read_csv(csv_file)\n",
    "\n",
    "# Adoption speed = 4 means unadopted, we do binary classification\n",
    "dataframe['target'] = np.where(dataframe['AdoptionSpeed'] == 4, 0, 1)\n",
    "\n",
    "# Drop unused features\n",
    "del dataframe['AdoptionSpeed']\n",
    "del dataframe['Description']\n",
    "\n",
    "# Split data frame into test/train/validation\n",
    "train, test = train_test_split(dataframe, test_size=0.2)\n",
    "train, val = train_test_split(train, test_size=0.2)\n",
    "\n",
    "# Show our work\n",
    "print(len(train), \"Train examples\")\n",
    "print(len(test), \"Test examples\")\n",
    "print(len(val), \"Validation examples\")"
   ]
  },
  {
   "cell_type": "code",
   "execution_count": 4,
   "metadata": {},
   "outputs": [
    {
     "data": {
      "text/html": [
       "<div>\n",
       "<style scoped>\n",
       "    .dataframe tbody tr th:only-of-type {\n",
       "        vertical-align: middle;\n",
       "    }\n",
       "\n",
       "    .dataframe tbody tr th {\n",
       "        vertical-align: top;\n",
       "    }\n",
       "\n",
       "    .dataframe thead th {\n",
       "        text-align: right;\n",
       "    }\n",
       "</style>\n",
       "<table border=\"1\" class=\"dataframe\">\n",
       "  <thead>\n",
       "    <tr style=\"text-align: right;\">\n",
       "      <th></th>\n",
       "      <th>Type</th>\n",
       "      <th>Age</th>\n",
       "      <th>Breed1</th>\n",
       "      <th>Gender</th>\n",
       "      <th>Color1</th>\n",
       "      <th>Color2</th>\n",
       "      <th>MaturitySize</th>\n",
       "      <th>FurLength</th>\n",
       "      <th>Vaccinated</th>\n",
       "      <th>Sterilized</th>\n",
       "      <th>Health</th>\n",
       "      <th>Fee</th>\n",
       "      <th>PhotoAmt</th>\n",
       "      <th>target</th>\n",
       "    </tr>\n",
       "  </thead>\n",
       "  <tbody>\n",
       "    <tr>\n",
       "      <th>4508</th>\n",
       "      <td>Dog</td>\n",
       "      <td>4</td>\n",
       "      <td>Mixed Breed</td>\n",
       "      <td>Male</td>\n",
       "      <td>Brown</td>\n",
       "      <td>Yellow</td>\n",
       "      <td>Large</td>\n",
       "      <td>Short</td>\n",
       "      <td>Yes</td>\n",
       "      <td>No</td>\n",
       "      <td>Healthy</td>\n",
       "      <td>0</td>\n",
       "      <td>1</td>\n",
       "      <td>0</td>\n",
       "    </tr>\n",
       "    <tr>\n",
       "      <th>6843</th>\n",
       "      <td>Cat</td>\n",
       "      <td>48</td>\n",
       "      <td>American Shorthair</td>\n",
       "      <td>Male</td>\n",
       "      <td>Brown</td>\n",
       "      <td>Cream</td>\n",
       "      <td>Small</td>\n",
       "      <td>Short</td>\n",
       "      <td>Yes</td>\n",
       "      <td>Yes</td>\n",
       "      <td>Healthy</td>\n",
       "      <td>0</td>\n",
       "      <td>2</td>\n",
       "      <td>0</td>\n",
       "    </tr>\n",
       "    <tr>\n",
       "      <th>8866</th>\n",
       "      <td>Dog</td>\n",
       "      <td>1</td>\n",
       "      <td>Mixed Breed</td>\n",
       "      <td>Female</td>\n",
       "      <td>Black</td>\n",
       "      <td>Brown</td>\n",
       "      <td>Medium</td>\n",
       "      <td>Medium</td>\n",
       "      <td>No</td>\n",
       "      <td>No</td>\n",
       "      <td>Healthy</td>\n",
       "      <td>0</td>\n",
       "      <td>3</td>\n",
       "      <td>1</td>\n",
       "    </tr>\n",
       "    <tr>\n",
       "      <th>4605</th>\n",
       "      <td>Dog</td>\n",
       "      <td>2</td>\n",
       "      <td>Mixed Breed</td>\n",
       "      <td>Female</td>\n",
       "      <td>Brown</td>\n",
       "      <td>No Color</td>\n",
       "      <td>Medium</td>\n",
       "      <td>Short</td>\n",
       "      <td>No</td>\n",
       "      <td>Not Sure</td>\n",
       "      <td>Healthy</td>\n",
       "      <td>5</td>\n",
       "      <td>2</td>\n",
       "      <td>0</td>\n",
       "    </tr>\n",
       "    <tr>\n",
       "      <th>2789</th>\n",
       "      <td>Dog</td>\n",
       "      <td>17</td>\n",
       "      <td>Australian Shepherd</td>\n",
       "      <td>Female</td>\n",
       "      <td>Black</td>\n",
       "      <td>Brown</td>\n",
       "      <td>Medium</td>\n",
       "      <td>Medium</td>\n",
       "      <td>Yes</td>\n",
       "      <td>Not Sure</td>\n",
       "      <td>Healthy</td>\n",
       "      <td>100</td>\n",
       "      <td>1</td>\n",
       "      <td>0</td>\n",
       "    </tr>\n",
       "  </tbody>\n",
       "</table>\n",
       "</div>"
      ],
      "text/plain": [
       "     Type  Age               Breed1  Gender Color1    Color2 MaturitySize  \\\n",
       "4508  Dog    4          Mixed Breed    Male  Brown    Yellow        Large   \n",
       "6843  Cat   48   American Shorthair    Male  Brown     Cream        Small   \n",
       "8866  Dog    1          Mixed Breed  Female  Black     Brown       Medium   \n",
       "4605  Dog    2          Mixed Breed  Female  Brown  No Color       Medium   \n",
       "2789  Dog   17  Australian Shepherd  Female  Black     Brown       Medium   \n",
       "\n",
       "     FurLength Vaccinated Sterilized   Health  Fee  PhotoAmt  target  \n",
       "4508     Short        Yes         No  Healthy    0         1       0  \n",
       "6843     Short        Yes        Yes  Healthy    0         2       0  \n",
       "8866    Medium         No         No  Healthy    0         3       1  \n",
       "4605     Short         No   Not Sure  Healthy    5         2       0  \n",
       "2789    Medium        Yes   Not Sure  Healthy  100         1       0  "
      ]
     },
     "execution_count": 4,
     "metadata": {},
     "output_type": "execute_result"
    }
   ],
   "source": [
    "train.head()"
   ]
  },
  {
   "cell_type": "code",
   "execution_count": 5,
   "metadata": {},
   "outputs": [
    {
     "data": {
      "text/plain": [
       "dict_keys(['Type', 'Age', 'Breed1', 'Gender', 'Color1', 'Color2', 'MaturitySize', 'FurLength', 'Vaccinated', 'Sterilized', 'Health', 'Fee', 'PhotoAmt', 'target'])"
      ]
     },
     "execution_count": 5,
     "metadata": {},
     "output_type": "execute_result"
    }
   ],
   "source": [
    "# This splits a dataframe into series which are mapped to column names, all\n",
    "# series share the same index.\n",
    "dict(dataframe).keys()"
   ]
  },
  {
   "cell_type": "code",
   "execution_count": 6,
   "metadata": {},
   "outputs": [
    {
     "data": {
      "text/plain": [
       "0         3\n",
       "1         1\n",
       "2         1\n",
       "3         4\n",
       "4         1\n",
       "         ..\n",
       "11532    24\n",
       "11533     1\n",
       "11534     6\n",
       "11535     9\n",
       "11536     1\n",
       "Name: Age, Length: 11537, dtype: int64"
      ]
     },
     "execution_count": 6,
     "metadata": {},
     "output_type": "execute_result"
    }
   ],
   "source": [
    "dict(dataframe)['Age']"
   ]
  },
  {
   "cell_type": "code",
   "execution_count": 7,
   "metadata": {},
   "outputs": [],
   "source": [
    "def df_to_dataset(df, shuffle=True, batch_size=32):\n",
    "  df = df.copy(deep=True)\n",
    "  labels = df.pop('target')\n",
    "  ds = tf.data.Dataset.from_tensor_slices((dict(df), labels))\n",
    "  if shuffle:\n",
    "    # Shuffle the entire dataset.\n",
    "    ds = ds.shuffle(buffer_size=len(df))\n",
    "  \n",
    "  # Configure the dataset to return batches of batch_size\n",
    "  ds = ds.batch(batch_size)\n",
    "  return ds"
   ]
  },
  {
   "cell_type": "code",
   "execution_count": 8,
   "metadata": {},
   "outputs": [],
   "source": [
    "batch_size = 5\n",
    "train_ds = df_to_dataset(train, batch_size=batch_size)\n",
    "test_ds = df_to_dataset(test, batch_size=batch_size)\n",
    "val_ds = df_to_dataset(val, batch_size=batch_size)"
   ]
  },
  {
   "cell_type": "code",
   "execution_count": 9,
   "metadata": {},
   "outputs": [
    {
     "name": "stdout",
     "output_type": "stream",
     "text": [
      "Every feature: ['Type', 'Age', 'Breed1', 'Gender', 'Color1', 'Color2', 'MaturitySize', 'FurLength', 'Vaccinated', 'Sterilized', 'Health', 'Fee', 'PhotoAmt']\n",
      "A batch of ages: tf.Tensor([12  2  2  3 60], shape=(5,), dtype=int64)\n",
      "A batch of targets: tf.Tensor([0 1 1 1 1], shape=(5,), dtype=int64)\n"
     ]
    }
   ],
   "source": [
    "# Iterate through one batch\n",
    "for feature_batch, label_batch in train_ds.take(1):\n",
    "  print('Every feature:', list(feature_batch.keys()))\n",
    "  print('A batch of ages:', feature_batch['Age'])\n",
    "  print('A batch of targets:', label_batch )"
   ]
  },
  {
   "cell_type": "markdown",
   "metadata": {},
   "source": [
    "Okay - so, we have a dictionary of features that is returned from a call to the batch generator - cool!\n",
    "\n",
    "We can leverage `feature_columns` to further transform the dataframe."
   ]
  },
  {
   "cell_type": "code",
   "execution_count": 10,
   "metadata": {},
   "outputs": [],
   "source": [
    "example_batch = next(iter(train_ds))[0]"
   ]
  },
  {
   "cell_type": "code",
   "execution_count": 11,
   "metadata": {},
   "outputs": [
    {
     "data": {
      "text/plain": [
       "{'Type': <tf.Tensor: shape=(5,), dtype=string, numpy=array([b'Cat', b'Cat', b'Dog', b'Cat', b'Dog'], dtype=object)>,\n",
       " 'Age': <tf.Tensor: shape=(5,), dtype=int64, numpy=array([3, 3, 2, 4, 3])>,\n",
       " 'Breed1': <tf.Tensor: shape=(5,), dtype=string, numpy=\n",
       " array([b'Domestic Short Hair', b'Domestic Long Hair', b'Mixed Breed',\n",
       "        b'Domestic Medium Hair', b'Jack Russell Terrier'], dtype=object)>,\n",
       " 'Gender': <tf.Tensor: shape=(5,), dtype=string, numpy=array([b'Male', b'Male', b'Male', b'Male', b'Female'], dtype=object)>,\n",
       " 'Color1': <tf.Tensor: shape=(5,), dtype=string, numpy=array([b'Brown', b'Black', b'Brown', b'White', b'Brown'], dtype=object)>,\n",
       " 'Color2': <tf.Tensor: shape=(5,), dtype=string, numpy=\n",
       " array([b'Golden', b'No Color', b'Cream', b'No Color', b'White'],\n",
       "       dtype=object)>,\n",
       " 'MaturitySize': <tf.Tensor: shape=(5,), dtype=string, numpy=array([b'Medium', b'Medium', b'Medium', b'Large', b'Medium'], dtype=object)>,\n",
       " 'FurLength': <tf.Tensor: shape=(5,), dtype=string, numpy=array([b'Short', b'Long', b'Short', b'Medium', b'Short'], dtype=object)>,\n",
       " 'Vaccinated': <tf.Tensor: shape=(5,), dtype=string, numpy=array([b'No', b'Yes', b'No', b'No', b'Yes'], dtype=object)>,\n",
       " 'Sterilized': <tf.Tensor: shape=(5,), dtype=string, numpy=array([b'No', b'No', b'No', b'No', b'No'], dtype=object)>,\n",
       " 'Health': <tf.Tensor: shape=(5,), dtype=string, numpy=\n",
       " array([b'Healthy', b'Healthy', b'Healthy', b'Healthy', b'Healthy'],\n",
       "       dtype=object)>,\n",
       " 'Fee': <tf.Tensor: shape=(5,), dtype=int64, numpy=array([  0, 100, 150,   0, 500])>,\n",
       " 'PhotoAmt': <tf.Tensor: shape=(5,), dtype=int64, numpy=array([0, 2, 6, 5, 1])>}"
      ]
     },
     "execution_count": 11,
     "metadata": {},
     "output_type": "execute_result"
    }
   ],
   "source": [
    "example_batch"
   ]
  },
  {
   "cell_type": "code",
   "execution_count": 12,
   "metadata": {},
   "outputs": [],
   "source": [
    "# A utility method to create a feature column\n",
    "# and to transform a batch of data\n",
    "def demo(feature_column):\n",
    "  \n",
    "  # We define the input calculation here using dense feature layer.\n",
    "  feature_layer = layers.DenseFeatures(feature_column)\n",
    "  \n",
    "  # Here, we are operating on the example batch which is in the global scope.\n",
    "  print(feature_layer(example_batch).numpy())\n",
    "  print(tf.shape(feature_layer(example_batch)))"
   ]
  },
  {
   "cell_type": "markdown",
   "metadata": {},
   "source": [
    "Above, we've created a feature layer from a feature column using DenseFeatures - this tells the model to expect input data in the form of a dense Tensor, which is a Tensor where all values are defined in contiguous memory (a performance improvement)."
   ]
  },
  {
   "cell_type": "markdown",
   "metadata": {},
   "source": [
    "## Numeric columns\n",
    "\n",
    "The output of a feature column becomes the input to the model (using the demo function defined above, we will be able to see exactly how each column from the dataframe is transformed). A numeric column is the simplest type of column. It is used to represent real valued features. When using this column, your model will receive the column value from the dataframe unchanged.\n"
   ]
  },
  {
   "cell_type": "code",
   "execution_count": 13,
   "metadata": {},
   "outputs": [
    {
     "name": "stdout",
     "output_type": "stream",
     "text": [
      "[[0.]\n",
      " [2.]\n",
      " [6.]\n",
      " [5.]\n",
      " [1.]]\n",
      "tf.Tensor([5 1], shape=(2,), dtype=int32)\n"
     ]
    }
   ],
   "source": [
    "photo_count = feature_column.numeric_column('PhotoAmt')\n",
    "demo(photo_count)"
   ]
  },
  {
   "cell_type": "markdown",
   "metadata": {},
   "source": [
    "## Bucketized columns\n",
    "\n",
    "Often, you don't want to feed a number directly into the model, but instead split its value into different categories based on numerical ranges. Consider raw data that represents a person's age. Instead of representing age as a numeric column, we could split the age into several buckets using a bucketized column. Notice the one-hot values below describe which age range each row matches.\n",
    "\n",
    "Bucketizing works as follows, e.g. for boundaries `[0., 1., 2.]` $\\rightarrow$\n",
    "`[-inf, 0.), [0., 1.), [1., 2.), and [2., +inf)`"
   ]
  },
  {
   "cell_type": "code",
   "execution_count": 14,
   "metadata": {},
   "outputs": [
    {
     "name": "stdout",
     "output_type": "stream",
     "text": [
      "[[0. 0. 0. 1. 0. 0.]\n",
      " [0. 0. 0. 1. 0. 0.]\n",
      " [0. 0. 1. 0. 0. 0.]\n",
      " [0. 0. 0. 0. 1. 0.]\n",
      " [0. 0. 0. 1. 0. 0.]]\n",
      "tf.Tensor([5 6], shape=(2,), dtype=int32)\n"
     ]
    }
   ],
   "source": [
    "age = feature_column.numeric_column('Age')\n",
    "\n",
    "# Divide data into four buckets:\n",
    "# Equivalent to 'one-hot' encoding buckets:\n",
    "# [bucket_1, bucket_2, bucket_3, bucket_4]\n",
    "# bucket_1 = 1, when -inf <= age < 1\n",
    "# bucket_2 = 1, when 1 <= age < 3\n",
    "# bucket_3 = 1, when 3 <= age < 5\n",
    "# bucket_4 = 1, when 5 <= age < +inf\n",
    "age_buckets = feature_column.bucketized_column(age, boundaries=[1, 2, 3, 4, 5])\n",
    "\n",
    "demo(age_buckets)"
   ]
  },
  {
   "cell_type": "code",
   "execution_count": 15,
   "metadata": {},
   "outputs": [
    {
     "data": {
      "text/plain": [
       "array([3, 3, 2, 4, 3])"
      ]
     },
     "execution_count": 15,
     "metadata": {},
     "output_type": "execute_result"
    }
   ],
   "source": [
    "example_batch['Age'].numpy()"
   ]
  },
  {
   "cell_type": "markdown",
   "metadata": {},
   "source": [
    "## Categorical columns\n",
    "\n",
    "In this dataset, Type is represented as a string (e.g. 'Dog', or 'Cat'). We cannot feed strings directly to a model. Instead, we must first map them to numeric values. The categorical vocabulary columns provide a way to represent strings as a one-hot vector (much like you have seen above with age buckets). The vocabulary can be passed as a list using categorical_column_with_vocabulary_list, or loaded from a file using categorical_column_with_vocabulary_file.\n",
    "\n"
   ]
  },
  {
   "cell_type": "code",
   "execution_count": 16,
   "metadata": {},
   "outputs": [
    {
     "name": "stdout",
     "output_type": "stream",
     "text": [
      "[[1. 0.]\n",
      " [1. 0.]\n",
      " [0. 1.]\n",
      " [1. 0.]\n",
      " [0. 1.]]\n",
      "tf.Tensor([5 2], shape=(2,), dtype=int32)\n"
     ]
    }
   ],
   "source": [
    "animal_type = feature_column.categorical_column_with_vocabulary_list(\n",
    "      'Type', ['Cat', 'Dog'])\n",
    "\n",
    "animal_type_one_hot = feature_column.indicator_column(animal_type)\n",
    "demo(animal_type_one_hot)"
   ]
  },
  {
   "cell_type": "markdown",
   "metadata": {},
   "source": [
    "## Embedding columns\n",
    "\n",
    "Suppose instead of having just a few possible strings, we have thousands (or more) values per category. For a number of reasons, as the number of categories grow large, it becomes infeasible to train a neural network using one-hot encodings. We can use an embedding column to overcome this limitation. Instead of representing the data as a one-hot vector of many dimensions, an embedding column represents that data as a lower-dimensional, dense vector in which each cell can contain any number, not just 0 or 1. The size of the embedding (8, in the example below) is a parameter that must be tuned.\n",
    "\n"
   ]
  },
  {
   "cell_type": "code",
   "execution_count": 17,
   "metadata": {},
   "outputs": [
    {
     "name": "stdout",
     "output_type": "stream",
     "text": [
      "['Tabby' 'Domestic Medium Hair' 'Mixed Breed' 'Domestic Short Hair'\n",
      " 'Domestic Long Hair' 'Terrier' 'Persian' 'Rottweiler'\n",
      " 'Jack Russell Terrier' 'Shih Tzu' 'Labrador Retriever' 'Silky Terrier'\n",
      " 'Bombay' 'Husky' 'Schnauzer' 'Golden Retriever' 'Siberian Husky' 'Collie'\n",
      " 'German Shepherd Dog' 'Siamese' 'Calico' 'American Staffordshire Terrier'\n",
      " 'Turkish Van' 'Doberman Pinscher' 'Oriental Short Hair' 'Beagle'\n",
      " 'Ragdoll' 'Cocker Spaniel' 'Poodle' 'Black Labrador Retriever' 'Bengal'\n",
      " 'Shar Pei' 'Spitz' 'Birman' 'Belgian Shepherd Malinois'\n",
      " 'American Shorthair' 'Belgian Shepherd Laekenois' '0'\n",
      " 'Jack Russell Terrier (Parson Russell Terrier)' 'Shepherd' 'Corgi'\n",
      " 'Pit Bull Terrier' 'Oriental Tabby' 'Miniature Pinscher' 'Manx' 'Boxer'\n",
      " 'Dachshund' 'Chihuahua' 'Snowshoe' 'Rat Terrier' 'Tiger' 'Silver'\n",
      " 'Maine Coon' 'German Pinscher' 'Russian Blue' 'Tuxedo' 'Lhasa Apso'\n",
      " 'Pomeranian' 'Whippet' 'English Bulldog' 'Bull Terrier'\n",
      " 'Yellow Labrador Retriever' 'Dalmatian'\n",
      " 'West Highland White Terrier Westie' 'Pekingese' 'Wheaten Terrier'\n",
      " 'Havana' 'Egyptian Mau' 'Tortoiseshell' 'American Curl'\n",
      " 'British Shorthair' 'Cavalier King Charles Spaniel' 'Munsterlander'\n",
      " 'Singapura' 'Turkish Angora' 'Maltese' 'Applehead Siamese'\n",
      " 'Oriental Long Hair' 'Standard Poodle' 'Samoyed' 'Mountain Dog'\n",
      " 'Coonhound' 'Japanese Bobtail' 'Abyssinian' 'Bobtail'\n",
      " 'Glen of Imaal Terrier' 'Yorkshire Terrier Yorkie'\n",
      " 'English Cocker Spaniel' 'Siberian' 'Border Collie' 'Field Spaniel'\n",
      " 'Australian Terrier' 'Burmese' 'Pug' 'Toy Fox Terrier' 'French Bulldog'\n",
      " 'Norwegian Forest Cat' 'Boston Terrier' 'Australian Kelpie'\n",
      " 'Basset Hound' 'Belgian Shepherd Dog Sheepdog' 'Bullmastiff' 'Korat'\n",
      " 'Hound' 'Great Dane' 'American Wirehair' 'White German Shepherd'\n",
      " 'Burmilla' 'Ocicat' 'Saint Bernard' 'Javanese' 'Australian Shepherd'\n",
      " 'Retriever' 'Black Mouth Cur' 'Old English Sheepdog' 'Weimaraner'\n",
      " 'Chausie' 'Pointer' 'Staffordshire Bull Terrier' 'Dilute Tortoiseshell'\n",
      " 'Greyhound' 'Shetland Sheepdog Sheltie' 'Wirehaired Terrier'\n",
      " 'American Water Spaniel' 'Irish Setter' 'Flat-coated Retriever'\n",
      " 'Irish Wolfhound' 'Tonkinese' 'Nebelung' 'Irish Terrier'\n",
      " 'Bedlington Terrier' 'Cymric' 'American Bulldog' 'Mastiff' 'Akita'\n",
      " 'Basenji' 'Somali' 'English Springer Spaniel' 'Chow Chow' 'Shiba Inu'\n",
      " 'Rhodesian Ridgeback' 'Papillon' 'Setter' 'Chartreux' 'Dilute Calico'\n",
      " 'Fox Terrier' 'Balinese' 'Extra-Toes Cat (Hemingway Polydactyl)'\n",
      " 'English Pointer' 'Sphynx (hairless cat)' 'Lowchen' 'Kai Dog'\n",
      " 'German Spitz' 'Exotic Shorthair' 'Welsh Corgi' 'Himalayan'\n",
      " 'Manchester Terrier' 'Spaniel' 'Swedish Vallhund' 'Chinese Crested Dog'\n",
      " 'Cattle Dog' 'Torbie' 'Ragamuffin' 'Lancashire Heeler' 'Foxhound'\n",
      " 'Dutch Shepherd'] 166\n"
     ]
    }
   ],
   "source": [
    "print(dataframe['Breed1'].unique(), dataframe['Breed1'].nunique())"
   ]
  },
  {
   "cell_type": "code",
   "execution_count": 18,
   "metadata": {},
   "outputs": [
    {
     "name": "stdout",
     "output_type": "stream",
     "text": [
      "[[ 0.27558586 -0.02141405 -0.15342723 -0.13164552  0.38538918 -0.52284503\n",
      "   0.40116212 -0.33791885]\n",
      " [ 0.3681627   0.2855768  -0.04499963  0.2360308  -0.39788714  0.00523465\n",
      "   0.2871801   0.15578625]\n",
      " [-0.01446695 -0.62306297  0.10713117  0.38678247 -0.14006476 -0.0779836\n",
      "   0.09667698 -0.16591378]\n",
      " [ 0.11650485 -0.4624217  -0.14630806 -0.6280184   0.03861158  0.22639282\n",
      "  -0.3750416  -0.30670336]\n",
      " [-0.08748081 -0.44688854 -0.14367794  0.28977922 -0.20968759  0.38100404\n",
      "   0.03998243  0.2697332 ]]\n",
      "tf.Tensor([5 8], shape=(2,), dtype=int32)\n"
     ]
    }
   ],
   "source": [
    "# Notice the input to the embedding column is the categorical column\n",
    "# we previously created\n",
    "\n",
    "breed1 = feature_column.categorical_column_with_vocabulary_list('Breed1', dataframe.Breed1.unique())\n",
    "breed1_embedding = feature_column.embedding_column(breed1, dimension=8)\n",
    "demo(breed1_embedding)"
   ]
  },
  {
   "cell_type": "markdown",
   "metadata": {},
   "source": [
    "Interesting...there are a few other ways to embed large categorical data, which are discussed [here](https://medium.com/ml-book/demonstration-of-tensorflow-feature-columns-tf-feature-column-3bfcca4ca5c4#:~:text=An%20embedding%20column%20stores%20categorical,vector%20than%20an%20indicator%20column.&text=As%20an%20embedding%20column.,contains%20a%203%2Delement%20vector.)"
   ]
  },
  {
   "cell_type": "markdown",
   "metadata": {},
   "source": [
    "## Hashed feature columns\n",
    "Another way to represent a categorical column with a large number of values is to use a categorical_column_with_hash_bucket. This feature column calculates a hash value of the input, then selects one of the hash_bucket_size buckets to encode a string. When using this column, you do not need to provide the vocabulary, and you can choose to make the number of hash_buckets significantly smaller than the number of actual categories to save space."
   ]
  },
  {
   "cell_type": "code",
   "execution_count": 19,
   "metadata": {},
   "outputs": [
    {
     "name": "stdout",
     "output_type": "stream",
     "text": [
      "[[0. 0. 0. 0. 0. 0. 0. 0. 0. 1.]\n",
      " [0. 0. 0. 0. 1. 0. 0. 0. 0. 0.]\n",
      " [0. 0. 0. 0. 0. 0. 0. 1. 0. 0.]\n",
      " [0. 0. 0. 0. 1. 0. 0. 0. 0. 0.]\n",
      " [0. 0. 0. 0. 0. 0. 0. 1. 0. 0.]]\n",
      "tf.Tensor([ 5 10], shape=(2,), dtype=int32)\n"
     ]
    }
   ],
   "source": [
    "breed1_hashed = feature_column.categorical_column_with_hash_bucket(\n",
    "      'Breed1', hash_bucket_size=10)\n",
    "demo(feature_column.indicator_column(breed1_hashed))"
   ]
  },
  {
   "cell_type": "markdown",
   "metadata": {},
   "source": [
    "## Crossed feature columns\n",
    "\n",
    "Combining features into a single feature, better known as feature crosses, enables a model to learn separate weights for each combination of features. Here, we will create a new feature that is the cross of Age and Type. Note that crossed_column does not build the full table of all possible combinations (which could be very large). Instead, it is backed by a hashed_column, so you can choose how large the table is."
   ]
  },
  {
   "cell_type": "code",
   "execution_count": 20,
   "metadata": {},
   "outputs": [
    {
     "name": "stdout",
     "output_type": "stream",
     "text": [
      "[[1. 0. 0. 0. 0. 0. 0. 0. 0. 0.]\n",
      " [1. 0. 0. 0. 0. 0. 0. 0. 0. 0.]\n",
      " [0. 0. 0. 0. 0. 0. 1. 0. 0. 0.]\n",
      " [0. 0. 0. 0. 0. 0. 1. 0. 0. 0.]\n",
      " [0. 0. 0. 0. 0. 0. 0. 0. 1. 0.]]\n",
      "tf.Tensor([ 5 10], shape=(2,), dtype=int32)\n"
     ]
    }
   ],
   "source": [
    "crossed_feature = feature_column.crossed_column([age_buckets, animal_type], hash_bucket_size=10)\n",
    "demo(feature_column.indicator_column(crossed_feature))"
   ]
  },
  {
   "cell_type": "markdown",
   "metadata": {},
   "source": [
    "# Build a Model with Feature Columns (Arbitrary Selection)\n",
    "\n",
    "We specify feature_layer_inputs for every feature column that is a direct input, and let tensorflow take care of the rest - for example, the input type for the dog-breed is a string (`tf.string`) even though it gets transformed into buckets of float32."
   ]
  },
  {
   "cell_type": "code",
   "execution_count": 21,
   "metadata": {},
   "outputs": [],
   "source": [
    "feature_columns = []\n",
    "feature_layer_inputs = {}\n",
    "\n",
    "# numeric cols\n",
    "for header in ['PhotoAmt', 'Fee', 'Age']:\n",
    "  feature_columns.append(feature_column.numeric_column(header))\n",
    "  feature_layer_inputs[header] = tf.keras.Input(shape=(1,), name=header)\n",
    "\n",
    "# bucketized cols\n",
    "# This column depends on Age, so we don't hav eto specify an input for it.\n",
    "age = feature_column.numeric_column('Age')\n",
    "age_buckets = feature_column.bucketized_column(age, boundaries=[1, 2, 3, 4, 5])\n",
    "feature_columns.append(age_buckets)\n",
    "\n",
    "# indicator_columns\n",
    "indicator_column_names = ['Type', 'Color1', 'Color2', 'Gender', 'MaturitySize',\n",
    "                          'FurLength', 'Vaccinated', 'Sterilized', 'Health']\n",
    "for col_name in indicator_column_names:\n",
    "  categorical_column = feature_column.categorical_column_with_vocabulary_list(\n",
    "      col_name, dataframe[col_name].unique())\n",
    "  indicator_column = feature_column.indicator_column(categorical_column)\n",
    "  feature_columns.append(indicator_column)\n",
    "  feature_layer_inputs[col_name] = tf.keras.Input(shape=(1,), name=col_name, dtype=tf.string)\n",
    "\n",
    "# embedding columns\n",
    "breed1 = feature_column.categorical_column_with_vocabulary_list(\n",
    "      'Breed1', dataframe.Breed1.unique())\n",
    "breed1_embedding = feature_column.embedding_column(breed1, dimension=8)\n",
    "feature_columns.append(breed1_embedding)\n",
    "feature_layer_inputs['Breed1'] = tf.keras.Input(shape=(8,), name='Breed1', dtype=tf.string)\n",
    "\n",
    "# crossed columns\n",
    "# This feature is a cross, so we define inputs separately.\n",
    "age_type_feature = feature_column.crossed_column([age_buckets, animal_type], hash_bucket_size=100)\n",
    "feature_columns.append(feature_column.indicator_column(age_type_feature))\n",
    "\n",
    "# Create the input layer, which takes the feature columns.\n",
    "feature_layer = tf.keras.layers.DenseFeatures(feature_columns)"
   ]
  },
  {
   "cell_type": "code",
   "execution_count": 22,
   "metadata": {},
   "outputs": [],
   "source": [
    "batch_size = 5\n",
    "train_ds = df_to_dataset(train, batch_size=batch_size)\n",
    "val_ds = df_to_dataset(val, shuffle=False, batch_size=batch_size)\n",
    "test_ds = df_to_dataset(test, shuffle=False, batch_size=batch_size)"
   ]
  },
  {
   "cell_type": "markdown",
   "metadata": {},
   "source": [
    "## Sequential API Solution\n",
    "\n",
    "```python\n",
    "model = tf.keras.Sequential([\n",
    "  feature_layer,\n",
    "  layers.Dense(128, activation='relu'),\n",
    "  layers.Dense(128, activation='relu'),\n",
    "  layers.Dropout(.1),\n",
    "  layers.Dense(1)\n",
    "])\n",
    "```"
   ]
  },
  {
   "cell_type": "markdown",
   "metadata": {},
   "source": [
    "## Functional API Solution"
   ]
  },
  {
   "cell_type": "code",
   "execution_count": 43,
   "metadata": {},
   "outputs": [],
   "source": [
    "# outputs is the input into the model\n",
    "feature_layer_outputs = feature_layer(feature_layer_inputs)\n",
    "l1 = layers.Dense(128, activation='relu')(feature_layer_outputs)\n",
    "l2 = layers.Dense(128, activation='relu')(l1)\n",
    "l3 = layers.Dropout(.1)(l2)\n",
    "prediction = layers.Dense(1)(l3)\n",
    "\n",
    "model = tf.keras.Model(inputs=[v for v in feature_layer_inputs.values()], outputs=prediction)\n",
    "\n",
    "model.compile(\n",
    "  optimizer='adam',\n",
    "  loss=tf.keras.losses.BinaryCrossentropy(from_logits=True),\n",
    "  metrics=['accuracy']\n",
    ")"
   ]
  },
  {
   "cell_type": "markdown",
   "metadata": {},
   "source": [
    "## Example - Manually Executing the Layers"
   ]
  },
  {
   "cell_type": "code",
   "execution_count": 41,
   "metadata": {},
   "outputs": [
    {
     "data": {
      "text/plain": [
       "tuple"
      ]
     },
     "execution_count": 41,
     "metadata": {},
     "output_type": "execute_result"
    }
   ],
   "source": [
    "type(train_batch)"
   ]
  },
  {
   "cell_type": "code",
   "execution_count": 44,
   "metadata": {},
   "outputs": [
    {
     "data": {
      "text/plain": [
       "{'Type': <tf.Tensor: shape=(5,), dtype=string, numpy=array([b'Dog', b'Cat', b'Cat', b'Cat', b'Dog'], dtype=object)>,\n",
       " 'Age': <tf.Tensor: shape=(5,), dtype=int64, numpy=array([ 2,  1, 12,  2,  2])>,\n",
       " 'Breed1': <tf.Tensor: shape=(5,), dtype=string, numpy=\n",
       " array([b'Mixed Breed', b'Domestic Short Hair', b'Domestic Short Hair',\n",
       "        b'Domestic Short Hair', b'Mixed Breed'], dtype=object)>,\n",
       " 'Gender': <tf.Tensor: shape=(5,), dtype=string, numpy=array([b'Male', b'Male', b'Male', b'Male', b'Male'], dtype=object)>,\n",
       " 'Color1': <tf.Tensor: shape=(5,), dtype=string, numpy=array([b'Brown', b'Golden', b'Black', b'Black', b'Black'], dtype=object)>,\n",
       " 'Color2': <tf.Tensor: shape=(5,), dtype=string, numpy=array([b'No Color', b'White', b'Brown', b'White', b'Brown'], dtype=object)>,\n",
       " 'MaturitySize': <tf.Tensor: shape=(5,), dtype=string, numpy=array([b'Medium', b'Medium', b'Large', b'Small', b'Medium'], dtype=object)>,\n",
       " 'FurLength': <tf.Tensor: shape=(5,), dtype=string, numpy=array([b'Short', b'Short', b'Short', b'Short', b'Short'], dtype=object)>,\n",
       " 'Vaccinated': <tf.Tensor: shape=(5,), dtype=string, numpy=array([b'Not Sure', b'No', b'Yes', b'No', b'Yes'], dtype=object)>,\n",
       " 'Sterilized': <tf.Tensor: shape=(5,), dtype=string, numpy=array([b'No', b'No', b'Yes', b'No', b'No'], dtype=object)>,\n",
       " 'Health': <tf.Tensor: shape=(5,), dtype=string, numpy=\n",
       " array([b'Healthy', b'Healthy', b'Healthy', b'Healthy', b'Healthy'],\n",
       "       dtype=object)>,\n",
       " 'Fee': <tf.Tensor: shape=(5,), dtype=int64, numpy=array([  0,  50, 200,   0,   0])>,\n",
       " 'PhotoAmt': <tf.Tensor: shape=(5,), dtype=int64, numpy=array([3, 6, 5, 1, 1])>}"
      ]
     },
     "execution_count": 44,
     "metadata": {},
     "output_type": "execute_result"
    }
   ],
   "source": [
    "train_batch[0]"
   ]
  },
  {
   "cell_type": "code",
   "execution_count": 45,
   "metadata": {},
   "outputs": [
    {
     "data": {
      "text/plain": [
       "<tf.Tensor: shape=(5, 150), dtype=float32, numpy=\n",
       "array([[ 2.0000000e+00,  0.0000000e+00,  0.0000000e+00,  1.0000000e+00,\n",
       "         0.0000000e+00,  0.0000000e+00,  0.0000000e+00,  0.0000000e+00,\n",
       "         0.0000000e+00,  0.0000000e+00,  0.0000000e+00,  0.0000000e+00,\n",
       "         0.0000000e+00,  0.0000000e+00,  0.0000000e+00,  0.0000000e+00,\n",
       "         0.0000000e+00,  0.0000000e+00,  0.0000000e+00,  0.0000000e+00,\n",
       "         0.0000000e+00,  0.0000000e+00,  0.0000000e+00,  1.0000000e+00,\n",
       "         0.0000000e+00,  0.0000000e+00,  0.0000000e+00,  0.0000000e+00,\n",
       "         0.0000000e+00,  0.0000000e+00,  0.0000000e+00,  0.0000000e+00,\n",
       "         0.0000000e+00,  0.0000000e+00,  0.0000000e+00,  0.0000000e+00,\n",
       "         0.0000000e+00,  0.0000000e+00,  0.0000000e+00,  0.0000000e+00,\n",
       "         0.0000000e+00,  0.0000000e+00,  0.0000000e+00,  0.0000000e+00,\n",
       "         0.0000000e+00,  0.0000000e+00,  0.0000000e+00,  0.0000000e+00,\n",
       "         0.0000000e+00,  0.0000000e+00,  0.0000000e+00,  0.0000000e+00,\n",
       "         0.0000000e+00,  0.0000000e+00,  0.0000000e+00,  0.0000000e+00,\n",
       "         0.0000000e+00,  0.0000000e+00,  0.0000000e+00,  0.0000000e+00,\n",
       "         0.0000000e+00,  0.0000000e+00,  0.0000000e+00,  0.0000000e+00,\n",
       "         0.0000000e+00,  0.0000000e+00,  0.0000000e+00,  0.0000000e+00,\n",
       "         0.0000000e+00,  0.0000000e+00,  0.0000000e+00,  0.0000000e+00,\n",
       "         0.0000000e+00,  0.0000000e+00,  0.0000000e+00,  0.0000000e+00,\n",
       "         0.0000000e+00,  0.0000000e+00,  0.0000000e+00,  0.0000000e+00,\n",
       "         0.0000000e+00,  0.0000000e+00,  0.0000000e+00,  0.0000000e+00,\n",
       "         0.0000000e+00,  0.0000000e+00,  0.0000000e+00,  0.0000000e+00,\n",
       "         0.0000000e+00,  0.0000000e+00,  0.0000000e+00,  0.0000000e+00,\n",
       "         0.0000000e+00,  0.0000000e+00,  0.0000000e+00,  0.0000000e+00,\n",
       "         0.0000000e+00,  0.0000000e+00,  0.0000000e+00,  0.0000000e+00,\n",
       "         0.0000000e+00,  0.0000000e+00,  0.0000000e+00,  0.0000000e+00,\n",
       "         0.0000000e+00,  0.0000000e+00,  0.0000000e+00,  2.1786651e-01,\n",
       "        -8.7801211e-02,  6.0795522e-01,  6.1922759e-01, -5.4829031e-01,\n",
       "        -6.2878639e-01,  9.2568658e-02, -4.4249845e-01,  0.0000000e+00,\n",
       "         1.0000000e+00,  0.0000000e+00,  0.0000000e+00,  0.0000000e+00,\n",
       "         0.0000000e+00,  0.0000000e+00,  0.0000000e+00,  0.0000000e+00,\n",
       "         1.0000000e+00,  0.0000000e+00,  0.0000000e+00,  0.0000000e+00,\n",
       "         0.0000000e+00,  0.0000000e+00,  1.0000000e+00,  0.0000000e+00,\n",
       "         0.0000000e+00,  1.0000000e+00,  0.0000000e+00,  1.0000000e+00,\n",
       "         0.0000000e+00,  0.0000000e+00,  0.0000000e+00,  1.0000000e+00,\n",
       "         0.0000000e+00,  3.0000000e+00,  1.0000000e+00,  0.0000000e+00,\n",
       "         0.0000000e+00,  0.0000000e+00,  1.0000000e+00,  0.0000000e+00,\n",
       "         1.0000000e+00,  0.0000000e+00],\n",
       "       [ 1.0000000e+00,  0.0000000e+00,  1.0000000e+00,  0.0000000e+00,\n",
       "         0.0000000e+00,  0.0000000e+00,  0.0000000e+00,  0.0000000e+00,\n",
       "         0.0000000e+00,  0.0000000e+00,  0.0000000e+00,  0.0000000e+00,\n",
       "         0.0000000e+00,  0.0000000e+00,  0.0000000e+00,  0.0000000e+00,\n",
       "         0.0000000e+00,  0.0000000e+00,  0.0000000e+00,  0.0000000e+00,\n",
       "         0.0000000e+00,  0.0000000e+00,  0.0000000e+00,  0.0000000e+00,\n",
       "         0.0000000e+00,  0.0000000e+00,  0.0000000e+00,  0.0000000e+00,\n",
       "         0.0000000e+00,  0.0000000e+00,  0.0000000e+00,  0.0000000e+00,\n",
       "         0.0000000e+00,  0.0000000e+00,  0.0000000e+00,  0.0000000e+00,\n",
       "         0.0000000e+00,  0.0000000e+00,  0.0000000e+00,  0.0000000e+00,\n",
       "         0.0000000e+00,  0.0000000e+00,  0.0000000e+00,  0.0000000e+00,\n",
       "         0.0000000e+00,  0.0000000e+00,  0.0000000e+00,  0.0000000e+00,\n",
       "         0.0000000e+00,  0.0000000e+00,  0.0000000e+00,  0.0000000e+00,\n",
       "         0.0000000e+00,  0.0000000e+00,  0.0000000e+00,  0.0000000e+00,\n",
       "         0.0000000e+00,  0.0000000e+00,  0.0000000e+00,  0.0000000e+00,\n",
       "         0.0000000e+00,  0.0000000e+00,  0.0000000e+00,  0.0000000e+00,\n",
       "         0.0000000e+00,  0.0000000e+00,  0.0000000e+00,  0.0000000e+00,\n",
       "         0.0000000e+00,  0.0000000e+00,  0.0000000e+00,  0.0000000e+00,\n",
       "         0.0000000e+00,  0.0000000e+00,  0.0000000e+00,  0.0000000e+00,\n",
       "         0.0000000e+00,  0.0000000e+00,  0.0000000e+00,  0.0000000e+00,\n",
       "         1.0000000e+00,  0.0000000e+00,  0.0000000e+00,  0.0000000e+00,\n",
       "         0.0000000e+00,  0.0000000e+00,  0.0000000e+00,  0.0000000e+00,\n",
       "         0.0000000e+00,  0.0000000e+00,  0.0000000e+00,  0.0000000e+00,\n",
       "         0.0000000e+00,  0.0000000e+00,  0.0000000e+00,  0.0000000e+00,\n",
       "         0.0000000e+00,  0.0000000e+00,  0.0000000e+00,  0.0000000e+00,\n",
       "         0.0000000e+00,  0.0000000e+00,  0.0000000e+00,  0.0000000e+00,\n",
       "         0.0000000e+00,  0.0000000e+00,  0.0000000e+00, -1.0699791e-01,\n",
       "        -7.9913169e-02,  4.8208833e-01,  6.1955374e-02, -1.7661405e-01,\n",
       "        -5.5179679e-01, -1.4129189e-01,  1.5765700e-01,  0.0000000e+00,\n",
       "         0.0000000e+00,  0.0000000e+00,  0.0000000e+00,  1.0000000e+00,\n",
       "         0.0000000e+00,  0.0000000e+00,  1.0000000e+00,  0.0000000e+00,\n",
       "         0.0000000e+00,  0.0000000e+00,  0.0000000e+00,  0.0000000e+00,\n",
       "         0.0000000e+00,  5.0000000e+01,  1.0000000e+00,  0.0000000e+00,\n",
       "         0.0000000e+00,  1.0000000e+00,  0.0000000e+00,  1.0000000e+00,\n",
       "         0.0000000e+00,  0.0000000e+00,  0.0000000e+00,  1.0000000e+00,\n",
       "         0.0000000e+00,  6.0000000e+00,  1.0000000e+00,  0.0000000e+00,\n",
       "         0.0000000e+00,  1.0000000e+00,  0.0000000e+00,  1.0000000e+00,\n",
       "         0.0000000e+00,  0.0000000e+00],\n",
       "       [ 1.2000000e+01,  0.0000000e+00,  0.0000000e+00,  0.0000000e+00,\n",
       "         0.0000000e+00,  0.0000000e+00,  1.0000000e+00,  0.0000000e+00,\n",
       "         0.0000000e+00,  0.0000000e+00,  0.0000000e+00,  0.0000000e+00,\n",
       "         0.0000000e+00,  0.0000000e+00,  0.0000000e+00,  0.0000000e+00,\n",
       "         0.0000000e+00,  0.0000000e+00,  0.0000000e+00,  0.0000000e+00,\n",
       "         0.0000000e+00,  0.0000000e+00,  0.0000000e+00,  0.0000000e+00,\n",
       "         0.0000000e+00,  0.0000000e+00,  0.0000000e+00,  0.0000000e+00,\n",
       "         0.0000000e+00,  0.0000000e+00,  0.0000000e+00,  0.0000000e+00,\n",
       "         0.0000000e+00,  0.0000000e+00,  0.0000000e+00,  0.0000000e+00,\n",
       "         0.0000000e+00,  0.0000000e+00,  0.0000000e+00,  0.0000000e+00,\n",
       "         0.0000000e+00,  0.0000000e+00,  0.0000000e+00,  0.0000000e+00,\n",
       "         0.0000000e+00,  0.0000000e+00,  0.0000000e+00,  0.0000000e+00,\n",
       "         0.0000000e+00,  0.0000000e+00,  0.0000000e+00,  1.0000000e+00,\n",
       "         0.0000000e+00,  0.0000000e+00,  0.0000000e+00,  0.0000000e+00,\n",
       "         0.0000000e+00,  0.0000000e+00,  0.0000000e+00,  0.0000000e+00,\n",
       "         0.0000000e+00,  0.0000000e+00,  0.0000000e+00,  0.0000000e+00,\n",
       "         0.0000000e+00,  0.0000000e+00,  0.0000000e+00,  0.0000000e+00,\n",
       "         0.0000000e+00,  0.0000000e+00,  0.0000000e+00,  0.0000000e+00,\n",
       "         0.0000000e+00,  0.0000000e+00,  0.0000000e+00,  0.0000000e+00,\n",
       "         0.0000000e+00,  0.0000000e+00,  0.0000000e+00,  0.0000000e+00,\n",
       "         0.0000000e+00,  0.0000000e+00,  0.0000000e+00,  0.0000000e+00,\n",
       "         0.0000000e+00,  0.0000000e+00,  0.0000000e+00,  0.0000000e+00,\n",
       "         0.0000000e+00,  0.0000000e+00,  0.0000000e+00,  0.0000000e+00,\n",
       "         0.0000000e+00,  0.0000000e+00,  0.0000000e+00,  0.0000000e+00,\n",
       "         0.0000000e+00,  0.0000000e+00,  0.0000000e+00,  0.0000000e+00,\n",
       "         0.0000000e+00,  0.0000000e+00,  0.0000000e+00,  0.0000000e+00,\n",
       "         0.0000000e+00,  0.0000000e+00,  0.0000000e+00, -1.0699791e-01,\n",
       "        -7.9913169e-02,  4.8208833e-01,  6.1955374e-02, -1.7661405e-01,\n",
       "        -5.5179679e-01, -1.4129189e-01,  1.5765700e-01,  1.0000000e+00,\n",
       "         0.0000000e+00,  0.0000000e+00,  0.0000000e+00,  0.0000000e+00,\n",
       "         0.0000000e+00,  0.0000000e+00,  0.0000000e+00,  1.0000000e+00,\n",
       "         0.0000000e+00,  0.0000000e+00,  0.0000000e+00,  0.0000000e+00,\n",
       "         0.0000000e+00,  2.0000000e+02,  1.0000000e+00,  0.0000000e+00,\n",
       "         0.0000000e+00,  1.0000000e+00,  0.0000000e+00,  1.0000000e+00,\n",
       "         0.0000000e+00,  0.0000000e+00,  0.0000000e+00,  0.0000000e+00,\n",
       "         1.0000000e+00,  5.0000000e+00,  0.0000000e+00,  0.0000000e+00,\n",
       "         1.0000000e+00,  1.0000000e+00,  0.0000000e+00,  0.0000000e+00,\n",
       "         0.0000000e+00,  1.0000000e+00],\n",
       "       [ 2.0000000e+00,  0.0000000e+00,  0.0000000e+00,  1.0000000e+00,\n",
       "         0.0000000e+00,  0.0000000e+00,  0.0000000e+00,  0.0000000e+00,\n",
       "         0.0000000e+00,  0.0000000e+00,  0.0000000e+00,  0.0000000e+00,\n",
       "         0.0000000e+00,  0.0000000e+00,  0.0000000e+00,  0.0000000e+00,\n",
       "         0.0000000e+00,  0.0000000e+00,  0.0000000e+00,  0.0000000e+00,\n",
       "         0.0000000e+00,  0.0000000e+00,  0.0000000e+00,  0.0000000e+00,\n",
       "         0.0000000e+00,  0.0000000e+00,  0.0000000e+00,  0.0000000e+00,\n",
       "         0.0000000e+00,  0.0000000e+00,  0.0000000e+00,  0.0000000e+00,\n",
       "         0.0000000e+00,  0.0000000e+00,  0.0000000e+00,  0.0000000e+00,\n",
       "         0.0000000e+00,  0.0000000e+00,  0.0000000e+00,  0.0000000e+00,\n",
       "         0.0000000e+00,  0.0000000e+00,  0.0000000e+00,  0.0000000e+00,\n",
       "         0.0000000e+00,  0.0000000e+00,  0.0000000e+00,  0.0000000e+00,\n",
       "         1.0000000e+00,  0.0000000e+00,  0.0000000e+00,  0.0000000e+00,\n",
       "         0.0000000e+00,  0.0000000e+00,  0.0000000e+00,  0.0000000e+00,\n",
       "         0.0000000e+00,  0.0000000e+00,  0.0000000e+00,  0.0000000e+00,\n",
       "         0.0000000e+00,  0.0000000e+00,  0.0000000e+00,  0.0000000e+00,\n",
       "         0.0000000e+00,  0.0000000e+00,  0.0000000e+00,  0.0000000e+00,\n",
       "         0.0000000e+00,  0.0000000e+00,  0.0000000e+00,  0.0000000e+00,\n",
       "         0.0000000e+00,  0.0000000e+00,  0.0000000e+00,  0.0000000e+00,\n",
       "         0.0000000e+00,  0.0000000e+00,  0.0000000e+00,  0.0000000e+00,\n",
       "         0.0000000e+00,  0.0000000e+00,  0.0000000e+00,  0.0000000e+00,\n",
       "         0.0000000e+00,  0.0000000e+00,  0.0000000e+00,  0.0000000e+00,\n",
       "         0.0000000e+00,  0.0000000e+00,  0.0000000e+00,  0.0000000e+00,\n",
       "         0.0000000e+00,  0.0000000e+00,  0.0000000e+00,  0.0000000e+00,\n",
       "         0.0000000e+00,  0.0000000e+00,  0.0000000e+00,  0.0000000e+00,\n",
       "         0.0000000e+00,  0.0000000e+00,  0.0000000e+00,  0.0000000e+00,\n",
       "         0.0000000e+00,  0.0000000e+00,  0.0000000e+00, -1.0699791e-01,\n",
       "        -7.9913169e-02,  4.8208833e-01,  6.1955374e-02, -1.7661405e-01,\n",
       "        -5.5179679e-01, -1.4129189e-01,  1.5765700e-01,  1.0000000e+00,\n",
       "         0.0000000e+00,  0.0000000e+00,  0.0000000e+00,  0.0000000e+00,\n",
       "         0.0000000e+00,  0.0000000e+00,  1.0000000e+00,  0.0000000e+00,\n",
       "         0.0000000e+00,  0.0000000e+00,  0.0000000e+00,  0.0000000e+00,\n",
       "         0.0000000e+00,  0.0000000e+00,  1.0000000e+00,  0.0000000e+00,\n",
       "         0.0000000e+00,  1.0000000e+00,  0.0000000e+00,  1.0000000e+00,\n",
       "         0.0000000e+00,  0.0000000e+00,  1.0000000e+00,  0.0000000e+00,\n",
       "         0.0000000e+00,  1.0000000e+00,  1.0000000e+00,  0.0000000e+00,\n",
       "         0.0000000e+00,  1.0000000e+00,  0.0000000e+00,  1.0000000e+00,\n",
       "         0.0000000e+00,  0.0000000e+00],\n",
       "       [ 2.0000000e+00,  0.0000000e+00,  0.0000000e+00,  1.0000000e+00,\n",
       "         0.0000000e+00,  0.0000000e+00,  0.0000000e+00,  0.0000000e+00,\n",
       "         0.0000000e+00,  0.0000000e+00,  0.0000000e+00,  0.0000000e+00,\n",
       "         0.0000000e+00,  0.0000000e+00,  0.0000000e+00,  0.0000000e+00,\n",
       "         0.0000000e+00,  0.0000000e+00,  0.0000000e+00,  0.0000000e+00,\n",
       "         0.0000000e+00,  0.0000000e+00,  0.0000000e+00,  1.0000000e+00,\n",
       "         0.0000000e+00,  0.0000000e+00,  0.0000000e+00,  0.0000000e+00,\n",
       "         0.0000000e+00,  0.0000000e+00,  0.0000000e+00,  0.0000000e+00,\n",
       "         0.0000000e+00,  0.0000000e+00,  0.0000000e+00,  0.0000000e+00,\n",
       "         0.0000000e+00,  0.0000000e+00,  0.0000000e+00,  0.0000000e+00,\n",
       "         0.0000000e+00,  0.0000000e+00,  0.0000000e+00,  0.0000000e+00,\n",
       "         0.0000000e+00,  0.0000000e+00,  0.0000000e+00,  0.0000000e+00,\n",
       "         0.0000000e+00,  0.0000000e+00,  0.0000000e+00,  0.0000000e+00,\n",
       "         0.0000000e+00,  0.0000000e+00,  0.0000000e+00,  0.0000000e+00,\n",
       "         0.0000000e+00,  0.0000000e+00,  0.0000000e+00,  0.0000000e+00,\n",
       "         0.0000000e+00,  0.0000000e+00,  0.0000000e+00,  0.0000000e+00,\n",
       "         0.0000000e+00,  0.0000000e+00,  0.0000000e+00,  0.0000000e+00,\n",
       "         0.0000000e+00,  0.0000000e+00,  0.0000000e+00,  0.0000000e+00,\n",
       "         0.0000000e+00,  0.0000000e+00,  0.0000000e+00,  0.0000000e+00,\n",
       "         0.0000000e+00,  0.0000000e+00,  0.0000000e+00,  0.0000000e+00,\n",
       "         0.0000000e+00,  0.0000000e+00,  0.0000000e+00,  0.0000000e+00,\n",
       "         0.0000000e+00,  0.0000000e+00,  0.0000000e+00,  0.0000000e+00,\n",
       "         0.0000000e+00,  0.0000000e+00,  0.0000000e+00,  0.0000000e+00,\n",
       "         0.0000000e+00,  0.0000000e+00,  0.0000000e+00,  0.0000000e+00,\n",
       "         0.0000000e+00,  0.0000000e+00,  0.0000000e+00,  0.0000000e+00,\n",
       "         0.0000000e+00,  0.0000000e+00,  0.0000000e+00,  0.0000000e+00,\n",
       "         0.0000000e+00,  0.0000000e+00,  0.0000000e+00,  2.1786651e-01,\n",
       "        -8.7801211e-02,  6.0795522e-01,  6.1922759e-01, -5.4829031e-01,\n",
       "        -6.2878639e-01,  9.2568658e-02, -4.4249845e-01,  1.0000000e+00,\n",
       "         0.0000000e+00,  0.0000000e+00,  0.0000000e+00,  0.0000000e+00,\n",
       "         0.0000000e+00,  0.0000000e+00,  0.0000000e+00,  1.0000000e+00,\n",
       "         0.0000000e+00,  0.0000000e+00,  0.0000000e+00,  0.0000000e+00,\n",
       "         0.0000000e+00,  0.0000000e+00,  1.0000000e+00,  0.0000000e+00,\n",
       "         0.0000000e+00,  1.0000000e+00,  0.0000000e+00,  1.0000000e+00,\n",
       "         0.0000000e+00,  0.0000000e+00,  0.0000000e+00,  1.0000000e+00,\n",
       "         0.0000000e+00,  1.0000000e+00,  1.0000000e+00,  0.0000000e+00,\n",
       "         0.0000000e+00,  0.0000000e+00,  1.0000000e+00,  0.0000000e+00,\n",
       "         0.0000000e+00,  1.0000000e+00]], dtype=float32)>"
      ]
     },
     "execution_count": 45,
     "metadata": {},
     "output_type": "execute_result"
    }
   ],
   "source": [
    "feature_layer(train_batch[0])"
   ]
  },
  {
   "cell_type": "code",
   "execution_count": 48,
   "metadata": {},
   "outputs": [
    {
     "data": {
      "text/plain": [
       "<tf.Tensor: shape=(5, 128), dtype=float32, numpy=\n",
       "array([[0.00000000e+00, 5.04564345e-01, 7.69307852e-01, 0.00000000e+00,\n",
       "        4.34136212e-01, 6.70226887e-02, 4.50785607e-02, 0.00000000e+00,\n",
       "        0.00000000e+00, 0.00000000e+00, 0.00000000e+00, 0.00000000e+00,\n",
       "        1.11346997e-01, 7.82729983e-01, 2.14349434e-01, 2.31610641e-01,\n",
       "        0.00000000e+00, 1.24155819e-01, 0.00000000e+00, 0.00000000e+00,\n",
       "        3.77183497e-01, 0.00000000e+00, 1.70730963e-01, 2.13714719e-01,\n",
       "        9.46536899e-01, 2.73239553e-01, 0.00000000e+00, 1.55462995e-01,\n",
       "        0.00000000e+00, 2.17183813e-01, 4.36451286e-03, 0.00000000e+00,\n",
       "        5.26980877e-01, 0.00000000e+00, 0.00000000e+00, 0.00000000e+00,\n",
       "        8.70337963e-01, 1.78794950e-01, 4.79683936e-01, 4.19380784e-01,\n",
       "        1.37149870e-01, 0.00000000e+00, 1.30069271e-01, 2.78143227e-01,\n",
       "        0.00000000e+00, 6.13838434e-03, 0.00000000e+00, 6.82151437e-01,\n",
       "        0.00000000e+00, 0.00000000e+00, 0.00000000e+00, 5.20796925e-02,\n",
       "        1.24587692e-01, 1.47019058e-01, 0.00000000e+00, 4.72302735e-02,\n",
       "        0.00000000e+00, 1.00867242e-01, 0.00000000e+00, 4.84071195e-01,\n",
       "        0.00000000e+00, 7.02608645e-01, 0.00000000e+00, 0.00000000e+00,\n",
       "        0.00000000e+00, 0.00000000e+00, 0.00000000e+00, 7.78536797e-02,\n",
       "        0.00000000e+00, 0.00000000e+00, 9.63308811e-02, 5.37166744e-02,\n",
       "        3.70402426e-01, 0.00000000e+00, 2.40281180e-01, 3.40937495e-01,\n",
       "        2.08358541e-01, 9.28869605e-01, 0.00000000e+00, 0.00000000e+00,\n",
       "        6.00307047e-01, 0.00000000e+00, 0.00000000e+00, 2.42966831e-01,\n",
       "        9.90035385e-02, 0.00000000e+00, 3.20279360e-01, 8.86671364e-01,\n",
       "        0.00000000e+00, 1.09897338e-01, 0.00000000e+00, 0.00000000e+00,\n",
       "        3.77330244e-01, 4.43755090e-02, 5.74584961e-01, 2.00248361e-02,\n",
       "        2.70094454e-01, 1.84960753e-01, 3.43020335e-02, 1.19726181e-01,\n",
       "        0.00000000e+00, 5.68011642e-01, 3.61411810e-01, 6.15804195e-01,\n",
       "        0.00000000e+00, 4.79358822e-01, 7.35509545e-02, 2.10406601e-01,\n",
       "        4.83195126e-01, 7.05757260e-01, 8.47132981e-01, 4.56448466e-01,\n",
       "        5.28386593e-01, 0.00000000e+00, 2.96801507e-01, 0.00000000e+00,\n",
       "        0.00000000e+00, 0.00000000e+00, 0.00000000e+00, 0.00000000e+00,\n",
       "        0.00000000e+00, 0.00000000e+00, 0.00000000e+00, 0.00000000e+00,\n",
       "        6.12104654e-01, 0.00000000e+00, 5.63161373e-01, 0.00000000e+00],\n",
       "       [3.23791647e+00, 0.00000000e+00, 8.00056744e+00, 0.00000000e+00,\n",
       "        7.98898792e+00, 3.39436746e+00, 4.05868149e+00, 0.00000000e+00,\n",
       "        0.00000000e+00, 4.60805941e+00, 7.81344593e-01, 0.00000000e+00,\n",
       "        4.73812222e-03, 0.00000000e+00, 0.00000000e+00, 5.70067310e+00,\n",
       "        2.67291236e+00, 0.00000000e+00, 0.00000000e+00, 3.78598189e+00,\n",
       "        6.63957357e+00, 0.00000000e+00, 1.07787764e+00, 0.00000000e+00,\n",
       "        0.00000000e+00, 4.52377081e+00, 6.25486732e-01, 6.02907896e-01,\n",
       "        2.13989401e+00, 4.50729799e+00, 5.61263418e+00, 0.00000000e+00,\n",
       "        0.00000000e+00, 0.00000000e+00, 0.00000000e+00, 0.00000000e+00,\n",
       "        0.00000000e+00, 7.51858139e+00, 0.00000000e+00, 7.21625328e+00,\n",
       "        1.85908520e+00, 0.00000000e+00, 0.00000000e+00, 5.07548618e+00,\n",
       "        5.86322308e+00, 6.18780184e+00, 0.00000000e+00, 0.00000000e+00,\n",
       "        0.00000000e+00, 0.00000000e+00, 0.00000000e+00, 0.00000000e+00,\n",
       "        2.24411058e+00, 0.00000000e+00, 0.00000000e+00, 0.00000000e+00,\n",
       "        6.13973141e+00, 3.72588444e+00, 3.75466108e+00, 0.00000000e+00,\n",
       "        3.52295947e+00, 4.58986282e+00, 2.15415525e+00, 5.77136087e+00,\n",
       "        3.33828712e+00, 6.76238537e-01, 0.00000000e+00, 0.00000000e+00,\n",
       "        0.00000000e+00, 0.00000000e+00, 2.27069333e-01, 3.81428480e-01,\n",
       "        0.00000000e+00, 4.29324341e+00, 3.15003181e+00, 6.39320898e+00,\n",
       "        0.00000000e+00, 0.00000000e+00, 2.48332191e+00, 0.00000000e+00,\n",
       "        0.00000000e+00, 0.00000000e+00, 0.00000000e+00, 0.00000000e+00,\n",
       "        9.86256063e-01, 1.20408058e+00, 5.37235403e+00, 0.00000000e+00,\n",
       "        0.00000000e+00, 6.94835472e+00, 1.81480324e+00, 6.18033075e+00,\n",
       "        1.02770448e+00, 0.00000000e+00, 5.28868735e-01, 6.40337563e+00,\n",
       "        0.00000000e+00, 2.77368689e+00, 6.47086000e+00, 1.93647695e+00,\n",
       "        0.00000000e+00, 0.00000000e+00, 9.67925549e-01, 3.44441772e+00,\n",
       "        0.00000000e+00, 5.43665981e+00, 0.00000000e+00, 0.00000000e+00,\n",
       "        0.00000000e+00, 0.00000000e+00, 0.00000000e+00, 6.25567818e+00,\n",
       "        0.00000000e+00, 0.00000000e+00, 5.26922417e+00, 0.00000000e+00,\n",
       "        5.06750250e+00, 0.00000000e+00, 0.00000000e+00, 0.00000000e+00,\n",
       "        6.82853031e+00, 4.01908398e+00, 3.50063109e+00, 4.57571745e+00,\n",
       "        4.35515213e+00, 4.69193649e+00, 0.00000000e+00, 0.00000000e+00],\n",
       "       [1.46237230e+01, 0.00000000e+00, 3.02421608e+01, 0.00000000e+00,\n",
       "        2.96552753e+01, 1.19200239e+01, 1.49848461e+01, 0.00000000e+00,\n",
       "        0.00000000e+00, 1.87832775e+01, 3.49270177e+00, 0.00000000e+00,\n",
       "        0.00000000e+00, 0.00000000e+00, 0.00000000e+00, 2.11951809e+01,\n",
       "        9.26067257e+00, 3.46923208e+00, 0.00000000e+00, 1.90225258e+01,\n",
       "        2.64140434e+01, 0.00000000e+00, 3.32962823e+00, 0.00000000e+00,\n",
       "        0.00000000e+00, 1.94649220e+01, 5.11717415e+00, 0.00000000e+00,\n",
       "        6.73126459e+00, 1.58370895e+01, 1.98485661e+01, 1.69362783e+00,\n",
       "        0.00000000e+00, 0.00000000e+00, 0.00000000e+00, 4.05656576e-01,\n",
       "        0.00000000e+00, 2.80315971e+01, 0.00000000e+00, 2.58946877e+01,\n",
       "        9.20392513e+00, 0.00000000e+00, 0.00000000e+00, 2.17685966e+01,\n",
       "        2.62877789e+01, 2.44634781e+01, 0.00000000e+00, 0.00000000e+00,\n",
       "        0.00000000e+00, 0.00000000e+00, 0.00000000e+00, 0.00000000e+00,\n",
       "        8.84661484e+00, 1.78377700e+00, 0.00000000e+00, 0.00000000e+00,\n",
       "        2.54604645e+01, 1.34997034e+01, 1.26059971e+01, 0.00000000e+00,\n",
       "        1.34189463e+01, 1.80905685e+01, 6.78287411e+00, 2.48128738e+01,\n",
       "        1.36539545e+01, 5.03008509e+00, 0.00000000e+00, 0.00000000e+00,\n",
       "        0.00000000e+00, 0.00000000e+00, 4.49179173e-01, 1.60941446e+00,\n",
       "        0.00000000e+00, 1.82589970e+01, 1.09189472e+01, 2.66260509e+01,\n",
       "        0.00000000e+00, 0.00000000e+00, 6.79487085e+00, 0.00000000e+00,\n",
       "        0.00000000e+00, 0.00000000e+00, 0.00000000e+00, 0.00000000e+00,\n",
       "        5.43772173e+00, 5.21194077e+00, 1.99282589e+01, 0.00000000e+00,\n",
       "        1.91507602e+00, 2.73955002e+01, 1.04180307e+01, 2.49420376e+01,\n",
       "        1.33009529e+00, 0.00000000e+00, 5.53608227e+00, 2.78352070e+01,\n",
       "        0.00000000e+00, 9.95049667e+00, 2.15434990e+01, 9.00938606e+00,\n",
       "        0.00000000e+00, 0.00000000e+00, 2.46216464e+00, 1.34144278e+01,\n",
       "        0.00000000e+00, 2.13340569e+01, 0.00000000e+00, 0.00000000e+00,\n",
       "        0.00000000e+00, 0.00000000e+00, 0.00000000e+00, 2.66649055e+01,\n",
       "        0.00000000e+00, 0.00000000e+00, 2.37054615e+01, 0.00000000e+00,\n",
       "        1.98552094e+01, 0.00000000e+00, 0.00000000e+00, 0.00000000e+00,\n",
       "        2.44108162e+01, 1.85977554e+01, 1.57391453e+01, 1.74706573e+01,\n",
       "        1.57635889e+01, 1.73547955e+01, 0.00000000e+00, 0.00000000e+00],\n",
       "       [2.32422143e-01, 2.91091919e-01, 3.11485589e-01, 0.00000000e+00,\n",
       "        2.49576584e-01, 0.00000000e+00, 1.61173642e-02, 5.46652913e-01,\n",
       "        3.56232226e-02, 0.00000000e+00, 0.00000000e+00, 0.00000000e+00,\n",
       "        0.00000000e+00, 4.18777257e-01, 6.64659590e-02, 7.69672915e-02,\n",
       "        2.43490845e-01, 0.00000000e+00, 9.20301154e-02, 0.00000000e+00,\n",
       "        9.41563845e-02, 2.00917453e-01, 0.00000000e+00, 4.67825532e-01,\n",
       "        7.35444784e-01, 2.47300133e-01, 1.41313344e-01, 1.73780844e-01,\n",
       "        0.00000000e+00, 0.00000000e+00, 0.00000000e+00, 2.40159839e-01,\n",
       "        0.00000000e+00, 0.00000000e+00, 0.00000000e+00, 0.00000000e+00,\n",
       "        4.42642689e-01, 2.77830780e-01, 5.96082747e-01, 1.26318336e-01,\n",
       "        2.01697201e-01, 0.00000000e+00, 0.00000000e+00, 3.50619406e-01,\n",
       "        2.80760884e-01, 3.88360083e-01, 1.50638655e-01, 3.56774211e-01,\n",
       "        0.00000000e+00, 0.00000000e+00, 0.00000000e+00, 0.00000000e+00,\n",
       "        4.22293693e-03, 0.00000000e+00, 0.00000000e+00, 0.00000000e+00,\n",
       "        0.00000000e+00, 2.77101338e-01, 3.42051357e-01, 2.55976796e-01,\n",
       "        0.00000000e+00, 6.91415429e-01, 0.00000000e+00, 0.00000000e+00,\n",
       "        0.00000000e+00, 0.00000000e+00, 0.00000000e+00, 3.92733991e-01,\n",
       "        3.04877430e-01, 0.00000000e+00, 1.94907248e-01, 0.00000000e+00,\n",
       "        1.36572674e-01, 0.00000000e+00, 0.00000000e+00, 1.49619639e-01,\n",
       "        0.00000000e+00, 5.02830207e-01, 0.00000000e+00, 0.00000000e+00,\n",
       "        4.54684079e-01, 0.00000000e+00, 0.00000000e+00, 0.00000000e+00,\n",
       "        1.15732029e-01, 8.17696303e-02, 2.31257215e-01, 6.17283583e-01,\n",
       "        0.00000000e+00, 0.00000000e+00, 2.44508535e-01, 0.00000000e+00,\n",
       "        0.00000000e+00, 0.00000000e+00, 0.00000000e+00, 0.00000000e+00,\n",
       "        4.13918942e-02, 1.46128535e-01, 2.36451477e-01, 3.90182436e-01,\n",
       "        0.00000000e+00, 0.00000000e+00, 0.00000000e+00, 1.72021315e-01,\n",
       "        0.00000000e+00, 7.67077386e-01, 3.05555254e-01, 0.00000000e+00,\n",
       "        1.60410210e-01, 1.66131496e-01, 1.75526172e-01, 5.22895813e-01,\n",
       "        7.63337731e-01, 0.00000000e+00, 4.41986322e-03, 0.00000000e+00,\n",
       "        1.66441843e-01, 0.00000000e+00, 0.00000000e+00, 0.00000000e+00,\n",
       "        0.00000000e+00, 0.00000000e+00, 0.00000000e+00, 0.00000000e+00,\n",
       "        1.04355678e-01, 3.46599162e-01, 4.22501385e-01, 0.00000000e+00],\n",
       "       [2.62954950e-01, 3.42870086e-01, 2.02448368e-01, 0.00000000e+00,\n",
       "        0.00000000e+00, 0.00000000e+00, 1.35806859e-01, 0.00000000e+00,\n",
       "        1.92595080e-01, 0.00000000e+00, 0.00000000e+00, 0.00000000e+00,\n",
       "        0.00000000e+00, 3.08255136e-01, 0.00000000e+00, 2.12408975e-02,\n",
       "        0.00000000e+00, 3.14157605e-02, 0.00000000e+00, 0.00000000e+00,\n",
       "        2.37131357e-01, 0.00000000e+00, 2.03800350e-01, 0.00000000e+00,\n",
       "        7.10961998e-01, 2.40419284e-01, 3.02330971e-01, 0.00000000e+00,\n",
       "        2.92480737e-03, 0.00000000e+00, 0.00000000e+00, 0.00000000e+00,\n",
       "        2.33489305e-01, 0.00000000e+00, 0.00000000e+00, 0.00000000e+00,\n",
       "        9.05781627e-01, 3.81763950e-02, 4.41649765e-01, 0.00000000e+00,\n",
       "        9.94078517e-02, 0.00000000e+00, 0.00000000e+00, 7.93232173e-02,\n",
       "        0.00000000e+00, 0.00000000e+00, 1.42649442e-01, 3.92634958e-01,\n",
       "        0.00000000e+00, 0.00000000e+00, 0.00000000e+00, 0.00000000e+00,\n",
       "        0.00000000e+00, 1.02211095e-01, 0.00000000e+00, 1.96214914e-02,\n",
       "        0.00000000e+00, 1.11999065e-01, 0.00000000e+00, 7.73133755e-01,\n",
       "        0.00000000e+00, 8.65433335e-01, 0.00000000e+00, 0.00000000e+00,\n",
       "        0.00000000e+00, 0.00000000e+00, 0.00000000e+00, 1.85931057e-01,\n",
       "        2.85305828e-01, 0.00000000e+00, 1.25564277e-01, 9.45363045e-02,\n",
       "        5.68165630e-02, 0.00000000e+00, 0.00000000e+00, 4.55254167e-01,\n",
       "        0.00000000e+00, 4.94491100e-01, 0.00000000e+00, 0.00000000e+00,\n",
       "        0.00000000e+00, 0.00000000e+00, 2.00364038e-01, 0.00000000e+00,\n",
       "        0.00000000e+00, 0.00000000e+00, 1.74419507e-01, 6.03839099e-01,\n",
       "        0.00000000e+00, 0.00000000e+00, 0.00000000e+00, 0.00000000e+00,\n",
       "        2.10511297e-01, 0.00000000e+00, 5.23489118e-01, 2.79529095e-01,\n",
       "        4.24143314e-01, 0.00000000e+00, 2.40581334e-02, 2.19329223e-01,\n",
       "        1.72079355e-03, 3.54753941e-01, 2.36919060e-01, 2.80211806e-01,\n",
       "        0.00000000e+00, 6.15498424e-01, 2.44240642e-01, 1.99686497e-01,\n",
       "        2.38394797e-01, 6.43281579e-01, 3.97564709e-01, 5.27011395e-01,\n",
       "        4.99466389e-01, 1.64519995e-02, 1.93111584e-01, 7.25638270e-02,\n",
       "        0.00000000e+00, 0.00000000e+00, 0.00000000e+00, 0.00000000e+00,\n",
       "        0.00000000e+00, 0.00000000e+00, 0.00000000e+00, 6.10938966e-02,\n",
       "        3.13217878e-01, 0.00000000e+00, 6.84137225e-01, 0.00000000e+00]],\n",
       "      dtype=float32)>"
      ]
     },
     "execution_count": 48,
     "metadata": {},
     "output_type": "execute_result"
    }
   ],
   "source": [
    "layers.Dense(128, activation='relu')(feature_layer(train_batch[0]))"
   ]
  },
  {
   "cell_type": "code",
   "execution_count": 110,
   "metadata": {},
   "outputs": [
    {
     "name": "stdout",
     "output_type": "stream",
     "text": [
      "Epoch 1/10\n",
      "WARNING:tensorflow:Model was constructed with shape (None, 8) for input Tensor(\"Breed1_7:0\", shape=(None, 8), dtype=string), but it was called on an input with incompatible shape (None, 1).\n",
      "WARNING:tensorflow:Model was constructed with shape (None, 8) for input Tensor(\"Breed1_7:0\", shape=(None, 8), dtype=string), but it was called on an input with incompatible shape (None, 1).\n",
      "231/231 [==============================] - ETA: 0s - loss: 0.6953 - accuracy: 0.7005WARNING:tensorflow:Model was constructed with shape (None, 8) for input Tensor(\"Breed1_7:0\", shape=(None, 8), dtype=string), but it was called on an input with incompatible shape (None, 1).\n",
      "231/231 [==============================] - 2s 8ms/step - loss: 0.6953 - accuracy: 0.7005 - val_loss: 0.6136 - val_accuracy: 0.7438\n",
      "Epoch 2/10\n",
      "231/231 [==============================] - 1s 6ms/step - loss: 0.5601 - accuracy: 0.7215 - val_loss: 0.5635 - val_accuracy: 0.6950\n",
      "Epoch 3/10\n",
      "231/231 [==============================] - 1s 6ms/step - loss: 0.5081 - accuracy: 0.7356 - val_loss: 0.4950 - val_accuracy: 0.7492\n",
      "Epoch 4/10\n",
      "231/231 [==============================] - 1s 6ms/step - loss: 0.5015 - accuracy: 0.7356 - val_loss: 0.4945 - val_accuracy: 0.7492\n",
      "Epoch 5/10\n",
      "231/231 [==============================] - 1s 6ms/step - loss: 0.4926 - accuracy: 0.7356 - val_loss: 0.4937 - val_accuracy: 0.7514\n",
      "Epoch 6/10\n",
      "231/231 [==============================] - 1s 6ms/step - loss: 0.4828 - accuracy: 0.7422 - val_loss: 0.4987 - val_accuracy: 0.7486\n",
      "Epoch 7/10\n",
      "231/231 [==============================] - 1s 6ms/step - loss: 0.4781 - accuracy: 0.7485 - val_loss: 0.5140 - val_accuracy: 0.7589\n",
      "Epoch 8/10\n",
      "231/231 [==============================] - 1s 6ms/step - loss: 0.4737 - accuracy: 0.7520 - val_loss: 0.4971 - val_accuracy: 0.7519\n",
      "Epoch 9/10\n",
      "231/231 [==============================] - 1s 6ms/step - loss: 0.4700 - accuracy: 0.7528 - val_loss: 0.5207 - val_accuracy: 0.6956\n",
      "Epoch 10/10\n",
      "231/231 [==============================] - 1s 6ms/step - loss: 0.4694 - accuracy: 0.7489 - val_loss: 0.4965 - val_accuracy: 0.7421\n"
     ]
    }
   ],
   "source": [
    "history = model.fit(train_ds, validation_data=val_ds, epochs=10)"
   ]
  },
  {
   "cell_type": "code",
   "execution_count": 111,
   "metadata": {},
   "outputs": [
    {
     "name": "stdout",
     "output_type": "stream",
     "text": [
      "Model: \"functional_3\"\n",
      "__________________________________________________________________________________________________\n",
      "Layer (type)                    Output Shape         Param #     Connected to                     \n",
      "==================================================================================================\n",
      "Age (InputLayer)                [(None, 1)]          0                                            \n",
      "__________________________________________________________________________________________________\n",
      "Breed1 (InputLayer)             [(None, 8)]          0                                            \n",
      "__________________________________________________________________________________________________\n",
      "Color1 (InputLayer)             [(None, 1)]          0                                            \n",
      "__________________________________________________________________________________________________\n",
      "Color2 (InputLayer)             [(None, 1)]          0                                            \n",
      "__________________________________________________________________________________________________\n",
      "Fee (InputLayer)                [(None, 1)]          0                                            \n",
      "__________________________________________________________________________________________________\n",
      "FurLength (InputLayer)          [(None, 1)]          0                                            \n",
      "__________________________________________________________________________________________________\n",
      "Gender (InputLayer)             [(None, 1)]          0                                            \n",
      "__________________________________________________________________________________________________\n",
      "Health (InputLayer)             [(None, 1)]          0                                            \n",
      "__________________________________________________________________________________________________\n",
      "MaturitySize (InputLayer)       [(None, 1)]          0                                            \n",
      "__________________________________________________________________________________________________\n",
      "PhotoAmt (InputLayer)           [(None, 1)]          0                                            \n",
      "__________________________________________________________________________________________________\n",
      "Sterilized (InputLayer)         [(None, 1)]          0                                            \n",
      "__________________________________________________________________________________________________\n",
      "Type (InputLayer)               [(None, 1)]          0                                            \n",
      "__________________________________________________________________________________________________\n",
      "Vaccinated (InputLayer)         [(None, 1)]          0                                            \n",
      "__________________________________________________________________________________________________\n",
      "dense_features_26 (DenseFeature (None, 150)          1328        Age[0][0]                        \n",
      "                                                                 Breed1[0][0]                     \n",
      "                                                                 Color1[0][0]                     \n",
      "                                                                 Color2[0][0]                     \n",
      "                                                                 Fee[0][0]                        \n",
      "                                                                 FurLength[0][0]                  \n",
      "                                                                 Gender[0][0]                     \n",
      "                                                                 Health[0][0]                     \n",
      "                                                                 MaturitySize[0][0]               \n",
      "                                                                 PhotoAmt[0][0]                   \n",
      "                                                                 Sterilized[0][0]                 \n",
      "                                                                 Type[0][0]                       \n",
      "                                                                 Vaccinated[0][0]                 \n",
      "__________________________________________________________________________________________________\n",
      "dense_7 (Dense)                 (None, 128)          19328       dense_features_26[4][0]          \n",
      "__________________________________________________________________________________________________\n",
      "dense_8 (Dense)                 (None, 128)          16512       dense_7[0][0]                    \n",
      "__________________________________________________________________________________________________\n",
      "dropout_2 (Dropout)             (None, 128)          0           dense_8[0][0]                    \n",
      "__________________________________________________________________________________________________\n",
      "dense_9 (Dense)                 (None, 1)            129         dropout_2[0][0]                  \n",
      "==================================================================================================\n",
      "Total params: 37,297\n",
      "Trainable params: 37,297\n",
      "Non-trainable params: 0\n",
      "__________________________________________________________________________________________________\n"
     ]
    }
   ],
   "source": [
    "model.summary()"
   ]
  },
  {
   "cell_type": "code",
   "execution_count": 114,
   "metadata": {},
   "outputs": [
    {
     "data": {
      "text/plain": [
       "<matplotlib.axes._subplots.AxesSubplot at 0x7f81649dbd90>"
      ]
     },
     "execution_count": 114,
     "metadata": {},
     "output_type": "execute_result"
    },
    {
     "data": {
      "image/png": "[encoded data removed]",
      "text/plain": [
       "<Figure size 432x288 with 1 Axes>"
      ]
     },
     "metadata": {
      "needs_background": "light"
     },
     "output_type": "display_data"
    }
   ],
   "source": [
    "pd.DataFrame(history.history).plot()"
   ]
  },
  {
   "cell_type": "code",
   "execution_count": 115,
   "metadata": {},
   "outputs": [
    {
     "name": "stdout",
     "output_type": "stream",
     "text": [
      "73/73 [==============================] - 0s 4ms/step - loss: 0.4970 - accuracy: 0.7400\n",
      "Accuracy 0.7400346398353577\n"
     ]
    }
   ],
   "source": [
    "loss, accuracy = model.evaluate(test_ds)\n",
    "print(\"Accuracy\", accuracy)\n"
   ]
  },
  {
   "cell_type": "code",
   "execution_count": null,
   "metadata": {},
   "outputs": [],
   "source": []
  }
 ],
 "metadata": {
  "kernelspec": {
   "display_name": "Python 3",
   "language": "python",
   "name": "python3"
  },
  "language_info": {
   "codemirror_mode": {
    "name": "ipython",
    "version": 3
   },
   "file_extension": ".py",
   "mimetype": "text/x-python",
   "name": "python",
   "nbconvert_exporter": "python",
   "pygments_lexer": "ipython3",
   "version": "3.7.8"
  }
 },
 "nbformat": 4,
 "nbformat_minor": 4
}
