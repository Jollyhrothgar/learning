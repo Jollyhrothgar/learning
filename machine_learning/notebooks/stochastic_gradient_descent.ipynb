{
 "cells": [
  {
   "cell_type": "markdown",
   "metadata": {},
   "source": [
    "# Ideas For Implementation and Testing\n",
    "\n",
    "1. Generate a manifold in N-Dimensions\n",
    "2. Randomly select a point on the manifold\n",
    "3. Randomly sample the gradient given a step size away from the starting point\n",
    "4. Select the direction where the gradient is largest\n",
    "5. Repeat 2-4; perhaps change step size"
   ]
  },
  {
   "cell_type": "code",
   "execution_count": null,
   "metadata": {
    "collapsed": true
   },
   "outputs": [],
   "source": []
  }
 ],
 "metadata": {
  "kernelspec": {
   "display_name": "Python 3",
   "language": "python",
   "name": "python3"
  },
  "language_info": {
   "codemirror_mode": {
    "name": "ipython",
    "version": 3
   },
   "file_extension": ".py",
   "mimetype": "text/x-python",
   "name": "python",
   "nbconvert_exporter": "python",
   "pygments_lexer": "ipython3",
   "version": "3.5.2"
  }
 },
 "nbformat": 4,
 "nbformat_minor": 1
}
