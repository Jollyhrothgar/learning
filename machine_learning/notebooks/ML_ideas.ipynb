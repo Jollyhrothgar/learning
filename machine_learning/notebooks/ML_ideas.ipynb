{
 "cells": [
  {
   "cell_type": "markdown",
   "metadata": {},
   "source": [
    "----\n",
    "# Meme Generator\n",
    "\n",
    "- Download corpus of memes\n",
    "- Create data set of captions associated with images\n",
    " - maybe first with meme image name, and second with meme image data\n",
    " "
   ]
  },
  {
   "cell_type": "markdown",
   "metadata": {},
   "source": [
    "----\n",
    "# User Simulators in Conversational Agents\n",
    "- Reinforcement learning + LSTM + simulation\n",
    "- User simulator: express distribution of behaviors over a population"
   ]
  },
  {
   "cell_type": "markdown",
   "metadata": {},
   "source": [
    "----\n",
    "# Conversational Agents, Data\n",
    "- Download fb messenger data to be used to train conversational models\n",
    "- Create unifying chat data service to collect conversatonal data from multiple models.\n",
    "- Represent semantic meaning as drected graphs. \n",
    " - Semantic role labeling, named entities, modality, negation, questions, etc.\n",
    " - If we generated a corpus which was large enough, we could use the directed graph representation to do NLG"
   ]
  },
  {
   "cell_type": "markdown",
   "metadata": {},
   "source": []
  }
 ],
 "metadata": {
  "kernelspec": {
   "display_name": "Python 3",
   "language": "python",
   "name": "python3"
  },
  "language_info": {
   "codemirror_mode": {
    "name": "ipython",
    "version": 3
   },
   "file_extension": ".py",
   "mimetype": "text/x-python",
   "name": "python",
   "nbconvert_exporter": "python",
   "pygments_lexer": "ipython3",
   "version": "3.5.2"
  }
 },
 "nbformat": 4,
 "nbformat_minor": 1
}
