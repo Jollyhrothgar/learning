{
 "cells": [
  {
   "cell_type": "markdown",
   "metadata": {},
   "source": [
    "# Neural Networks Demystified - YouTube Series\n",
    "\n",
    "Consider that we wish to model the score on a test, based on how many hours of sleep one receives.\n",
    "\n",
    "Data set is the (hours of sleep, hours of study), mapped to the the output: a score on a test."
   ]
  },
  {
   "cell_type": "code",
   "execution_count": 1,
   "metadata": {
    "collapsed": true
   },
   "outputs": [],
   "source": [
    "%matplotlib notebook\n",
    "import numpy as np\n",
    "import matplotlib.pyplot as plt\n",
    "from IPython.display import Image\n",
    "from IPython.display import Latex"
   ]
  },
  {
   "cell_type": "code",
   "execution_count": 2,
   "metadata": {
    "collapsed": false
   },
   "outputs": [],
   "source": [
    "# X -> (hours of sleep, hours of study)\n",
    "X = np.array(([3,5],[5,1],[10,2]), dtype=float)\n",
    "y = np.array(([75],[82],[93]), dtype=float)"
   ]
  },
  {
   "cell_type": "code",
   "execution_count": 3,
   "metadata": {
    "collapsed": false
   },
   "outputs": [
    {
     "data": {
      "text/plain": [
       "array([[  3.,   5.],\n",
       "       [  5.,   1.],\n",
       "       [ 10.,   2.]])"
      ]
     },
     "execution_count": 3,
     "metadata": {},
     "output_type": "execute_result"
    }
   ],
   "source": [
    "X"
   ]
  },
  {
   "cell_type": "code",
   "execution_count": 4,
   "metadata": {
    "collapsed": false
   },
   "outputs": [
    {
     "data": {
      "text/plain": [
       "array([[ 75.],\n",
       "       [ 82.],\n",
       "       [ 93.]])"
      ]
     },
     "execution_count": 4,
     "metadata": {},
     "output_type": "execute_result"
    }
   ],
   "source": [
    "y"
   ]
  },
  {
   "cell_type": "markdown",
   "metadata": {},
   "source": [
    "# Train a Model to Perform Supervised Regression\n",
    "To train a model, we must define a training set, and a testing set. Regression implies predicting a continuous output, wheras classification implies predicting a categorical output.\n",
    "\n",
    "I.e., what do we expect to get as a score, if we get 8 hours of sleep, and study for 3 hours?\n",
    "\n",
    "First, data should be scaled (normalized) to fall within a range from 0 to 1 (what about continous data)?\n",
    "\n",
    "$$X_{norm} = {{X}\\over{max_{X}}}$$ \n",
    "$$y_{norm} = {{y}\\over{100}}$$"
   ]
  },
  {
   "cell_type": "code",
   "execution_count": 29,
   "metadata": {
    "collapsed": false
   },
   "outputs": [
    {
     "name": "stdout",
     "output_type": "stream",
     "text": [
      "[[ 0.3  1. ]\n",
      " [ 0.5  0.2]\n",
      " [ 1.   0.4]]\n",
      "[[ 0.0075]\n",
      " [ 0.0082]\n",
      " [ 0.0093]]\n"
     ]
    }
   ],
   "source": [
    "X = X/np.amax(X,axis=0)\n",
    "print(X)\n",
    "y = y/100\n",
    "print(y)"
   ]
  },
  {
   "cell_type": "markdown",
   "metadata": {},
   "source": [
    "## Deep Network Example\n",
    "A neural net can be represented by passing weighted sums of one layer of neruons to the next, and so on. In this configuration, we have 'deep learning'.\n",
    "<img src=\"./img/neural_net_1.jpg\">\n",
    "Each layer of neurons is referred to as a 'hidden layer' since we don't actually observe the output of these layers, they are instead transformed back into 'X' space, as normal.\n",
    "\n",
    "\n",
    "## Simple, Single Layer Network\n",
    "In this case, we use one 'hidden layer' with three hidden units, which under the neuronal analogy are referred to as 'neurons'.\n",
    "\n",
    "<img src=\"./img/neural_net_2.jpg\">\n",
    "\n",
    "Circles are neurons, lines are synapses. Neurons add output from synapses and apply an activation funciton. We use sigmoid activation function on this case.\n",
    "\n",
    "Without training, our Neural_Network Object will simply give us garbage, because we've initialized the weights with random numbers. We could essentially try all combinations of nine weights to obtain the 'best fit' but of course, enter the curse of dimensionality. We quickly run out of computing power as we increase the dimensionality.\n",
    "\n",
    "\n"
   ]
  },
  {
   "cell_type": "code",
   "execution_count": 10,
   "metadata": {
    "collapsed": true
   },
   "outputs": [],
   "source": [
    "class Neural_Network(object):\n",
    "    def __init__(self):\n",
    "        # Hyperparameters\n",
    "        self.inputLayerSize = 2\n",
    "        self.outputLayerSize = 1\n",
    "        self.hiddenLayerSize = 3\n",
    "    \n",
    "        # Weights\n",
    "        self.W1 = np.random.randn(self.inputLayerSize,self.hiddenLayerSize)\n",
    "        self.W2 = np.random.randn(self.hiddenLayerSize,self.outputLayerSize)\n",
    "    \n",
    "    # Activation function\n",
    "    def sigmoid(self,z):\n",
    "        # Apply sigmoid activation function\n",
    "        return 1/(1+np.exp(-z))\n",
    "    \n",
    "    # Forward Propagation\n",
    "    def forward(self,X):\n",
    "        # Propagate inputs through network using matries\n",
    "        self.z2 = np.dot(X,self.W1)\n",
    "        self.a2 = self.sigmoid(self.z2)\n",
    "        self.z3 = np.dot(self.a2,self.W2)\n",
    "        yHat = self.sigmoid(self.z3)\n",
    "        return yHat"
   ]
  },
  {
   "cell_type": "code",
   "execution_count": 27,
   "metadata": {
    "collapsed": false
   },
   "outputs": [],
   "source": [
    "# Handle instance\n",
    "NN = Neural_Network()\n",
    "yHat = NN.forward(X)"
   ]
  },
  {
   "cell_type": "code",
   "execution_count": 28,
   "metadata": {
    "collapsed": false
   },
   "outputs": [
    {
     "data": {
      "text/plain": [
       "array([[ 0.45281219],\n",
       "       [ 0.39943534],\n",
       "       [ 0.4383842 ]])"
      ]
     },
     "execution_count": 28,
     "metadata": {},
     "output_type": "execute_result"
    }
   ],
   "source": [
    "yHat"
   ]
  },
  {
   "cell_type": "code",
   "execution_count": null,
   "metadata": {
    "collapsed": false,
    "scrolled": true
   },
   "outputs": [],
   "source": [
    "# Simple plot example\n",
    "plot_domain = np.arange(-6,6,0.01) # np array from -6 to 6 in steps of 0.01\n",
    "plt.plot(plot_domain, sigmoid(plot_domain), linewidth=2)\n",
    "plt.grid(1)\n",
    "\n",
    "# Numpy note - applies functions element-wise to containers as a convention - pretty neat!"
   ]
  }
 ],
 "metadata": {
  "kernelspec": {
   "display_name": "Python 3",
   "language": "python",
   "name": "python3"
  },
  "language_info": {
   "codemirror_mode": {
    "name": "ipython",
    "version": 3
   },
   "file_extension": ".py",
   "mimetype": "text/x-python",
   "name": "python",
   "nbconvert_exporter": "python",
   "pygments_lexer": "ipython3",
   "version": "3.5.2"
  }
 },
 "nbformat": 4,
 "nbformat_minor": 1
}
