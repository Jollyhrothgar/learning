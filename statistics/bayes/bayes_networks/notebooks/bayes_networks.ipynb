{
 "cells": [
  {
   "cell_type": "markdown",
   "metadata": {},
   "source": [
    "# Bayesian Networks\n",
    "Measurements of a light (red or green) are taken over time. A series of data is taken measuring the state of the light at time point C, B and then A. We are provided the following data:\n",
    "\n",
    "<pre>\n",
    "\n",
    "[C]  ->  [B]   ->  [A]\n",
    "\n",
    "P(C) -> P(B|C) -> P(A|B)\n",
    "\n",
    "     A  B  C\n",
    "1:  (R, X, G)\n",
    "2:  (G, X, G)\n",
    "3:  (R, X, R)\n",
    "4:  (G, X, G)\n",
    "</pre>\n",
    "\n",
    "We wish to calculate the probability of observing A, given C $\\mathcal{P}(A\\vert C)$, but have no knowledge of B. Therefore, we must come up with a means of constraining the values of B which admit the known data. The transition probabilities are unknown, but from the data, it seems that the outcome of C is highly correllated to the outcome A. Therefore, B must be correllated to A or C, or anit-correlated to A or C. However, the correlation between A and C is not perfect, as there is one case (3) which is not correlated to the others.\n",
    "\n",
    "## Probability Rules\n",
    "\n",
    "The probability of the joint of A and B, given C is written in terms of the probability of A, given the joint of B and C multiplied by the probability of B given C:\n",
    "\n",
    "$$\\mathcal{P}(A\\vert B,C) \\times \\mathcal{P}(B \\vert C) = \\mathcal{P}(A, B \\vert C) $$\n",
    "\n",
    "The probability of A, given C is written as: \n",
    "$$\\mathcal{P}(A \\vert C) = \\sum \\mathcal{P}(A \\vert C) \\mathcal{P} (B \\vert C ) $$\n"
   ]
  },
  {
   "cell_type": "code",
   "execution_count": null,
   "metadata": {
    "collapsed": true
   },
   "outputs": [],
   "source": []
  },
  {
   "cell_type": "code",
   "execution_count": null,
   "metadata": {
    "collapsed": true
   },
   "outputs": [],
   "source": []
  }
 ],
 "metadata": {
  "kernelspec": {
   "display_name": "Python 3",
   "language": "python",
   "name": "python3"
  },
  "language_info": {
   "codemirror_mode": {
    "name": "ipython",
    "version": 3
   },
   "file_extension": ".py",
   "mimetype": "text/x-python",
   "name": "python",
   "nbconvert_exporter": "python",
   "pygments_lexer": "ipython3",
   "version": "3.5.2"
  }
 },
 "nbformat": 4,
 "nbformat_minor": 1
}
