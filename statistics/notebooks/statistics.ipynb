{
 "cells": [
  {
   "cell_type": "code",
   "execution_count": 1,
   "metadata": {
    "collapsed": false,
    "deletable": true,
    "editable": true
   },
   "outputs": [
    {
     "data": {
      "application/javascript": [
       "$.getScript('https://kmahelona.github.io/ipython_notebook_goodies/ipython_notebook_toc.js')"
      ],
      "text/plain": [
       "<IPython.core.display.Javascript object>"
      ]
     },
     "metadata": {},
     "output_type": "display_data"
    }
   ],
   "source": [
    "%%javascript\n",
    "$.getScript('https://kmahelona.github.io/ipython_notebook_goodies/ipython_notebook_toc.js')"
   ]
  },
  {
   "cell_type": "code",
   "execution_count": 2,
   "metadata": {
    "collapsed": true,
    "deletable": true,
    "editable": true
   },
   "outputs": [],
   "source": [
    "from IPython.display import Image"
   ]
  },
  {
   "cell_type": "markdown",
   "metadata": {
    "deletable": true,
    "editable": true
   },
   "source": [
    "<h1 id=\"tcheading\">Table Of Contents</h1>\n",
    "<div id =\"toc\"></div>"
   ]
  },
  {
   "cell_type": "markdown",
   "metadata": {
    "deletable": true,
    "editable": true
   },
   "source": [
    "## Bayes Theorem Statement - Various Formulation\n",
    "$$P(A|B) = {{P(B|A)P(A)}\\over{P(B)}} $$\n",
    "\n",
    "$$P(A|B) = {{P(B \\cup A)}\\over{P(B)}} $$\n",
    "\n",
    "$$P(A|B) = {{P(B|A)P(A)}\\over{P(B|A)P(A)+P(B|\\sim A)P(\\sim A)}} $$\n",
    "\n",
    "* $P(A|B)$ Conditional probability that A is true, given B is true\n",
    "* $P(B|A)$ Conditional probability that B is true, given A is true\n",
    "* $P(B)$ Probabiltiy of B being true, with no regard to A\n",
    "* $P(A)$ Probability of A being true, with no regard to B\n",
    "* $P(A \\cup B) $ Probability of A and B\n",
    "* $P(B|~A)$ Probability of B, given not A\n",
    "* $P(\\sim A)$ Probability of not A\n",
    "\n",
    "Maybe we can move things around?"
   ]
  },
  {
   "cell_type": "markdown",
   "metadata": {
    "deletable": true,
    "editable": true
   },
   "source": [
    "## Bayes Theorem Discussion\n",
    "Describes the probability of an event, based on conditions which may be related to an event. One concept of Bayes theorem is that of the Decision tree - where each level of the decision tree is defined in terms of the branching probability from the node."
   ]
  },
  {
   "cell_type": "markdown",
   "metadata": {
    "collapsed": false,
    "deletable": true,
    "editable": true
   },
   "source": [
    "<!-- link path is relative to notebook --> \n",
    "<img src=\"./img/bayes_theorem_bayesian_interp.png\">"
   ]
  },
  {
   "cell_type": "markdown",
   "metadata": {},
   "source": [
    "# Probability TODO List\n",
    "\n",
    "- $\\int_{-\\infty}^{\\infty} P(c,x) = P(c \\vert x) P(x) dx $\n",
    "- c = class, x = context feature\n",
    "\n",
    "## TODO LIST\n",
    "- discrimintive model vs generative model\n",
    "- posterior\n",
    "- prior\n",
    "- marginalization, conditioning\n",
    "- Bayesian generative model\n",
    "- transitional matricies in markov models\n",
    "- variational inference\n",
    "- markov chain, model\n",
    "\n"
   ]
  },
  {
   "cell_type": "markdown",
   "metadata": {
    "deletable": true,
    "editable": true
   },
   "source": [
    "## Example Problems\n",
    "You are given a bag of 100 coins, with 99 fair coins flipping heads and tails with 0.5 probability each, and one unfair coin which flips heads with 1.0 probability. You can pick a coin and flip it 10 times, getting heads every single time What is the probability that you picked the unfair coin?\n",
    "\n",
    "### Identify the probabilities\n",
    "Thought process: identify the events, which we want to determine the probability of.\n",
    "* $P(A)$ - probability of picking the unfair coin\n",
    "* $P(B)$ - probability of flipping heads ten times in a row\n",
    "* $P(B|A)$ - probability of flipping heads, given we picked the unfair coin\n",
    "* $P(B|\\sim A)$ - probability of flipping heads given we picked a fair coin\n",
    "* $P(\\sim A)$ - probability of not choosing the unfair coin"
   ]
  },
  {
   "cell_type": "markdown",
   "metadata": {
    "deletable": true,
    "editable": true
   },
   "source": [
    "### Python Implementation\n",
    "\n",
    "#### Note on bernoulli process:\n",
    "\n",
    "In probability and statistics, a Bernoulli process is a finite or infinite sequence of binary random variables, so it is a discrete-time stochastic process that takes only two values, canonically 0 and 1. The component Bernoulli variables Xi are identical and independent."
   ]
  },
  {
   "cell_type": "code",
   "execution_count": 10,
   "metadata": {
    "collapsed": false,
    "deletable": true,
    "editable": true
   },
   "outputs": [
    {
     "name": "stdout",
     "output_type": "stream",
     "text": [
      "0.0\n"
     ]
    }
   ],
   "source": [
    "import random\n",
    "\n",
    "def bernoulli_process(p):\n",
    "    if p > 1.0 or p < 0.0:\n",
    "        raise ValueError(\"p should be between 0.0 and 1.0.\")\n",
    "\n",
    "    while True:\n",
    "        yield random.random() < p\n",
    "\n",
    "def pick_random_coin(fair_coin_probablity):\n",
    "    if random.random() < fair_coin_probablity:\n",
    "        return bernoulli_process(0.5)\n",
    "    else:\n",
    "        return bernoulli_process(1.0)\n",
    "\n",
    "a = 0  # number of times we get 10 heads in a row AND coin was unfair\n",
    "b = 0  # total number of times we get 10 heads in a row\n",
    "for __ in range(100000):\n",
    "    coin = pick_random_coin(0.99)\n",
    "    if True not in [next(coin) for __ in range(10)]:\n",
    "        b += 1\n",
    "        # check to see if the coin is unfair, or we\n",
    "        # just got really lucky\n",
    "        if coin.gi_frame.f_locals['p'] > 0.6:\n",
    "            a += 1\n",
    "\n",
    "print(float(a) / b)"
   ]
  },
  {
   "cell_type": "markdown",
   "metadata": {
    "collapsed": true,
    "deletable": true,
    "editable": true
   },
   "source": [
    "# Flipping Coins"
   ]
  },
  {
   "cell_type": "markdown",
   "metadata": {
    "collapsed": true,
    "deletable": true,
    "editable": true
   },
   "source": [
    "## Flipping Three Fair Coins, Probability of Getting At Least Two Heads"
   ]
  },
  {
   "cell_type": "code",
   "execution_count": 11,
   "metadata": {
    "collapsed": true,
    "deletable": true,
    "editable": true
   },
   "outputs": [],
   "source": [
    "def flip_three_coins():\n",
    "    \"\"\" \n",
    "    Returns a list of outcomes from flipping a fair coin. List is a tuple\n",
    "    containing possible outcomes of three coinflips, i.e: (0,1,0) is \"heads\n",
    "    \"tails\",\"heads\"\n",
    "    \"\"\"\n",
    "    coin_flips = []\n",
    "    for i in range(2):\n",
    "        for j in range(2):\n",
    "            for k in range(2):\n",
    "                coin_flips.append((i,j,k))\n",
    "    return coin_flips"
   ]
  },
  {
   "cell_type": "code",
   "execution_count": 12,
   "metadata": {
    "collapsed": false,
    "deletable": true,
    "editable": true
   },
   "outputs": [
    {
     "name": "stdout",
     "output_type": "stream",
     "text": [
      "8\n",
      "4 8\n"
     ]
    }
   ],
   "source": [
    "# Probability of two or more heads\n",
    "\n",
    "flip_three_coins()\n",
    "print(len(flip_three_coins()))\n",
    "\n",
    "two_heads = 0\n",
    "for outcomes in flip_three_coins():\n",
    "    sum_outcomes = 0\n",
    "    for result in outcomes:\n",
    "        sum_outcomes += result\n",
    "    if sum_outcomes > 1:\n",
    "        two_heads += 1\n",
    "print(two_heads,len(flip_three_coins()))\n",
    "\n",
    "\n",
    "# probability of H, T, H:"
   ]
  },
  {
   "cell_type": "markdown",
   "metadata": {
    "deletable": true,
    "editable": true
   },
   "source": [
    "## Rolling a fair 6-sided die and 4-sided die"
   ]
  },
  {
   "cell_type": "code",
   "execution_count": 13,
   "metadata": {
    "collapsed": false,
    "deletable": true,
    "editable": true
   },
   "outputs": [],
   "source": [
    "def get_possible_die_outcomes():\n",
    "    \"\"\"\n",
    "    returns a list of tuples of two die outcomes (six sided_outcome, four_sided_outcome)\n",
    "    rolled simultaneously\n",
    "    \"\"\"\n",
    "    die_rolls = []\n",
    "    for i in range(1,7):\n",
    "        for j in range (1,5):\n",
    "            die_rolls.append((i,j))\n",
    "    return die_rolls"
   ]
  },
  {
   "cell_type": "code",
   "execution_count": 14,
   "metadata": {
    "collapsed": false,
    "deletable": true,
    "editable": true
   },
   "outputs": [
    {
     "name": "stdout",
     "output_type": "stream",
     "text": [
      "14 24\n"
     ]
    }
   ],
   "source": [
    "sum_of_six_or_more = 0\n",
    "for dice in get_possible_die_outcomes():\n",
    "    if dice[0] + dice[1] >= 6:\n",
    "        sum_of_six_or_more += 1\n",
    "print(sum_of_six_or_more,len(get_possible_die_outcomes()))"
   ]
  },
  {
   "cell_type": "code",
   "execution_count": 15,
   "metadata": {
    "collapsed": false,
    "deletable": true,
    "editable": true
   },
   "outputs": [
    {
     "data": {
      "text/plain": [
       "7.0"
      ]
     },
     "execution_count": 15,
     "metadata": {},
     "output_type": "execute_result"
    }
   ],
   "source": [
    "14/2"
   ]
  },
  {
   "cell_type": "code",
   "execution_count": 16,
   "metadata": {
    "collapsed": false,
    "deletable": true,
    "editable": true
   },
   "outputs": [
    {
     "data": {
      "text/plain": [
       "12.0"
      ]
     },
     "execution_count": 16,
     "metadata": {},
     "output_type": "execute_result"
    }
   ],
   "source": [
    "24/2"
   ]
  },
  {
   "cell_type": "markdown",
   "metadata": {
    "deletable": true,
    "editable": true
   },
   "source": [
    "## Flipping a coin OR rolling an odd number on a fair 6-sided die"
   ]
  },
  {
   "cell_type": "code",
   "execution_count": 17,
   "metadata": {
    "collapsed": false,
    "deletable": true,
    "editable": true
   },
   "outputs": [
    {
     "name": "stdout",
     "output_type": "stream",
     "text": [
      "9 12\n"
     ]
    }
   ],
   "source": [
    "counter = 0\n",
    "total_events = 0\n",
    "for i in range(2):\n",
    "    for j in range(1,7):\n",
    "        total_events += 1\n",
    "        if not j % 2 != 0 or i == 0:\n",
    "            counter += 1\n",
    "print(counter,total_events)\n"
   ]
  },
  {
   "cell_type": "markdown",
   "metadata": {
    "deletable": true,
    "editable": true
   },
   "source": [
    "## Markov Chains\n",
    "\n",
    "### Bobo The Amoeba\n",
    "\n",
    "Bobo has the following odds of reproduction\n",
    "* P(0 offspring) = 0.25\n",
    "* P(1 offspring) = 0.25\n",
    "* P(2 offspring) = 0.5\n",
    "\n",
    "What are the odds that Bobo's lineage dies out, given that each amoeba has the same odds to reproduce has Bobo?"
   ]
  },
  {
   "cell_type": "markdown",
   "metadata": {
    "deletable": true,
    "editable": true
   },
   "source": [
    "### Simulation\n",
    "Bobo's lineage either explodes, or, it dies out immediately."
   ]
  },
  {
   "cell_type": "code",
   "execution_count": 25,
   "metadata": {
    "collapsed": false,
    "deletable": true,
    "editable": true
   },
   "outputs": [],
   "source": [
    "import random\n",
    "import os\n",
    "import sys\n",
    "\n",
    "n_amoeba = 1\n",
    "\n",
    "def reproduce(n):\n",
    "    '''\n",
    "    Given a population of n ameobas, returns the number of offspring, with each amoeba having\n",
    "    the following chances to produce offspring:\n",
    "    0: 0.25\n",
    "    1: 0.25\n",
    "    2: 0.5\n",
    "    '''\n",
    "    new_population = 0\n",
    "    for i in range(0,n):\n",
    "        rand_int = random.randint(1,4)\n",
    "        if rand_int == 2:\n",
    "            new_population += 1\n",
    "        if rand_int > 2:\n",
    "            new_population += 2\n",
    "    return new_population\n",
    "\n",
    "def simulate_bobo(population):\n",
    "    '''\n",
    "    Given an initial population of amoebas (all named bobo), count the number of generations \n",
    "    it takes for bobo's lineage to die off. Bobo is considered effectively immortal if his \n",
    "    lineage makes it to 30 generations. Returns whether or not bobo's lineage is immortal\n",
    "    '''\n",
    "    n_amoeba = population\n",
    "    number_of_generations = 0\n",
    "    is_immortal = False\n",
    "    while n_amoeba > 0:\n",
    "        n_amoeba = reproduce(n_amoeba)\n",
    "        number_of_generations+=1\n",
    "        if number_of_generations == 30:\n",
    "            print(\"Bobo lives forever.\")\n",
    "            print(number_of_generations,n_amoeba)\n",
    "            is_immortal = True\n",
    "    return is_immortal\n",
    "\n",
    "\n"
   ]
  },
  {
   "cell_type": "markdown",
   "metadata": {
    "collapsed": true,
    "deletable": true,
    "editable": true
   },
   "source": [
    "## Determine Bias Of Coin, Given Series of Flips\n",
    "We are given an array of coin-flips, i.e. ['H','T','H','H','H'....] and need an algorithm which determines if the data set came from a fair, or unfair coin, and if so, calculating the bias of that coin."
   ]
  },
  {
   "cell_type": "code",
   "execution_count": 19,
   "metadata": {
    "collapsed": false,
    "deletable": true,
    "editable": true
   },
   "outputs": [],
   "source": [
    "import random\n",
    "def generate_coin_flips(n_flips,h_bias):\n",
    "    flip_set = []\n",
    "    for flip in range(n_flips):\n",
    "        if random.random() < h_bias:\n",
    "            flip_set.append('H')\n",
    "        else:\n",
    "            flip_set.append('T')\n",
    "    return flip_set\n",
    "    "
   ]
  },
  {
   "cell_type": "code",
   "execution_count": 20,
   "metadata": {
    "collapsed": false,
    "deletable": true,
    "editable": true
   },
   "outputs": [],
   "source": [
    "flips = generate_coin_flips(1000,0.9)"
   ]
  },
  {
   "cell_type": "code",
   "execution_count": 21,
   "metadata": {
    "collapsed": true,
    "deletable": true,
    "editable": true
   },
   "outputs": [],
   "source": [
    "def get_coin_bias(flips):\n",
    "    heads = 0.\n",
    "    tails = 0.\n",
    "    for flip in flips:\n",
    "        if flip == 'H':\n",
    "            heads+=1.\n",
    "        else:\n",
    "            tails+=1.\n",
    "    print('Raw dataset:')\n",
    "    print('N:',len(flips))\n",
    "    print('heads:',heads,heads/(heads+tails),'%')\n",
    "    print('tails:',tails,tails/(heads+tails),'%')\n",
    "    print('Probability coin is fair:')\n",
    "    print('Probability coin is not fair:')    \n",
    "    # Next steps - generate the uncertainty of this calculation\n",
    "    # using the p-value (Z-score?)"
   ]
  },
  {
   "cell_type": "code",
   "execution_count": 22,
   "metadata": {
    "collapsed": false,
    "deletable": true,
    "editable": true
   },
   "outputs": [
    {
     "name": "stdout",
     "output_type": "stream",
     "text": [
      "Raw dataset:\n",
      "N: 1000\n",
      "heads: 907.0 0.907 %\n",
      "tails: 93.0 0.093 %\n",
      "Probability coin is fair:\n",
      "Probability coin is not fair:\n",
      "Uncertait\n"
     ]
    }
   ],
   "source": [
    "get_coin_bias(flips)"
   ]
  },
  {
   "cell_type": "code",
   "execution_count": null,
   "metadata": {
    "collapsed": true,
    "deletable": true,
    "editable": true
   },
   "outputs": [],
   "source": []
  }
 ],
 "metadata": {
  "kernelspec": {
   "display_name": "Python 3",
   "language": "python",
   "name": "python3"
  },
  "language_info": {
   "codemirror_mode": {
    "name": "ipython",
    "version": 3
   },
   "file_extension": ".py",
   "mimetype": "text/x-python",
   "name": "python",
   "nbconvert_exporter": "python",
   "pygments_lexer": "ipython3",
   "version": "3.5.2"
  }
 },
 "nbformat": 4,
 "nbformat_minor": 0
}
