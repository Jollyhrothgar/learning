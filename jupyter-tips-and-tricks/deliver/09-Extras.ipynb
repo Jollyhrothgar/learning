{
 "cells": [
  {
   "cell_type": "markdown",
   "metadata": {},
   "source": [
    "## Learn the standard library to at least know what's there\n",
    "\n",
    "### itertools and collections have very useful features\n",
    "\n",
    " - chain\n",
    " - product\n",
    " - permutations\n",
    " - combinations\n",
    " - izip"
   ]
  },
  {
   "cell_type": "code",
   "execution_count": 1,
   "metadata": {
    "collapsed": false
   },
   "outputs": [
    {
     "name": "stderr",
     "output_type": "stream",
     "text": [
      "/Users/jonathan/miniconda2/envs/insight_py/lib/python2.7/site-packages/matplotlib/__init__.py:872: UserWarning: axes.color_cycle is deprecated and replaced with axes.prop_cycle; please use the latter.\n",
      "  warnings.warn(self.msg_depr % (key, alt_key))\n"
     ]
    }
   ],
   "source": [
    "%matplotlib inline\n",
    "%config InlineBackend.figure_format='retina'\n",
    "\n",
    "import matplotlib.pyplot as plt\n",
    "import seaborn as sns\n",
    "sns.set_context('talk')\n",
    "sns.set_style('darkgrid') \n",
    "plt.rcParams['figure.figsize'] = 12, 8  # plotsize \n",
    "\n",
    "import numpy as np\n",
    "import pandas as pd"
   ]
  },
  {
   "cell_type": "code",
   "execution_count": 2,
   "metadata": {
    "collapsed": true
   },
   "outputs": [],
   "source": [
    "# plot residuals"
   ]
  },
  {
   "cell_type": "code",
   "execution_count": 3,
   "metadata": {
    "collapsed": false
   },
   "outputs": [],
   "source": [
    "from itertools import groupby # NOT REGULAR GROUPBY\n",
    "from itertools import product, cycle, izip\n",
    "import re # regular expressions"
   ]
  },
  {
   "cell_type": "markdown",
   "metadata": {},
   "source": [
    "## Challenge (Easy)\n",
    "\n",
    "Write a function to return the total number of digits in a given string, and those digits. "
   ]
  },
  {
   "cell_type": "code",
   "execution_count": 4,
   "metadata": {
    "collapsed": true
   },
   "outputs": [],
   "source": [
    "test_string = \"\"\"de3456yghj87654edfghuio908ujhgyuY^YHJUi8ytgh gtyujnh y7\"\"\""
   ]
  },
  {
   "cell_type": "code",
   "execution_count": 5,
   "metadata": {
    "collapsed": false
   },
   "outputs": [
    {
     "name": "stdout",
     "output_type": "stream",
     "text": [
      "Number of digits: 14;\n",
      "They are: [3, 4, 5, 6, 8, 7, 6, 5, 4, 9, 0, 8, 8, 7]\n"
     ]
    }
   ],
   "source": [
    "count = 0\n",
    "digits = []\n",
    "for x in test_string:\n",
    "    try: \n",
    "        int(x)\n",
    "        count += 1\n",
    "        digits.append(int(x))\n",
    "    except:\n",
    "        pass\n",
    "    \n",
    "print \"Number of digits:\", str(count) + \";\"\n",
    "print \"They are:\", digits"
   ]
  },
  {
   "cell_type": "markdown",
   "metadata": {},
   "source": [
    "## Challenge (Tricky)\n",
    "\n",
    "Same as above -- but were consecutive digits are available, return as a single number. \n",
    "\n",
    "Ex. \"2a78b123\" returns \"3 numbers, they are: 2, 78, 123\""
   ]
  },
  {
   "cell_type": "code",
   "execution_count": 6,
   "metadata": {
    "collapsed": false
   },
   "outputs": [
    {
     "data": {
      "text/plain": [
       "'de3456yghj87654edfghuio908ujhgyuY^YHJUi8ytgh gtyujnh y7'"
      ]
     },
     "execution_count": 6,
     "metadata": {},
     "output_type": "execute_result"
    }
   ],
   "source": [
    "test_string"
   ]
  },
  {
   "cell_type": "code",
   "execution_count": 7,
   "metadata": {
    "collapsed": false
   },
   "outputs": [],
   "source": [
    "groups = []\n",
    "uniquekeys = []\n",
    "for k, g in groupby(test_string, lambda x: x.isdigit()):\n",
    "    groups.append(list(g))\n",
    "    uniquekeys.append(k) "
   ]
  },
  {
   "cell_type": "code",
   "execution_count": 8,
   "metadata": {
    "collapsed": false
   },
   "outputs": [
    {
     "name": "stdout",
     "output_type": "stream",
     "text": [
      "[['d', 'e'], ['3', '4', '5', '6'], ['y', 'g', 'h', 'j'], ['8', '7', '6', '5', '4'], ['e', 'd', 'f', 'g', 'h', 'u', 'i', 'o'], ['9', '0', '8'], ['u', 'j', 'h', 'g', 'y', 'u', 'Y', '^', 'Y', 'H', 'J', 'U', 'i'], ['8'], ['y', 't', 'g', 'h', ' ', 'g', 't', 'y', 'u', 'j', 'n', 'h', ' ', 'y'], ['7']]\n",
      "[False, True, False, True, False, True, False, True, False, True]\n"
     ]
    }
   ],
   "source": [
    "print(groups)\n",
    "print(uniquekeys)"
   ]
  },
  {
   "cell_type": "code",
   "execution_count": 9,
   "metadata": {
    "collapsed": false
   },
   "outputs": [
    {
     "name": "stdout",
     "output_type": "stream",
     "text": [
      "Number: 5\n",
      "They are: [3456, 87654, 908, 8, 7]\n"
     ]
    }
   ],
   "source": [
    "numbers = []\n",
    "for x, y in izip(groups, uniquekeys):\n",
    "    if y:\n",
    "        numbers.append(int(''.join([j for j in x])))\n",
    "print \"Number:\", np.sum(uniquekeys)\n",
    "print \"They are:\", numbers"
   ]
  },
  {
   "cell_type": "code",
   "execution_count": 10,
   "metadata": {
    "collapsed": false
   },
   "outputs": [
    {
     "name": "stdout",
     "output_type": "stream",
     "text": [
      "(5, [3456, 87654, 908, 8, 7])\n"
     ]
    }
   ],
   "source": [
    "# In one cell\n",
    "\n",
    "def solution_2(test_string):\n",
    "    groups = []\n",
    "    uniquekeys = []\n",
    "    for k, g in groupby(test_string, lambda x: x.isdigit()):\n",
    "        if k:\n",
    "            groups.append(int(''.join([j for j in g])))\n",
    "\n",
    "    return len(groups), groups\n",
    "    \n",
    "print solution_2(test_string) "
   ]
  },
  {
   "cell_type": "markdown",
   "metadata": {},
   "source": [
    "## Challenge (Tricky)\n",
    "\n",
    "Same as above, but do it a second way.\n"
   ]
  },
  {
   "cell_type": "code",
   "execution_count": 11,
   "metadata": {
    "collapsed": false
   },
   "outputs": [
    {
     "data": {
      "text/plain": [
       "(5, [3456, 87654, 908, 8, 7])"
      ]
     },
     "execution_count": 11,
     "metadata": {},
     "output_type": "execute_result"
    }
   ],
   "source": [
    "def solution_3(test_string):\n",
    "    \"\"\"Regular expressions can be a very powerful and useful tool.\"\"\"\n",
    "    groups = [int(j) for j in re.findall(r'\\d+', test_string)]\n",
    "    return len(groups), groups\n",
    "\n",
    "solution_3(test_string)"
   ]
  },
  {
   "cell_type": "markdown",
   "metadata": {},
   "source": [
    "## Challenge (Hard)\n",
    "\n",
    "Same as above, but all valid numbers expressed in digits, commas, and decimal points. \n",
    "\n",
    "Ex. \"a23.42dx9,331nm87,55\" -> 4; 23.42, 9331, 87, 55\n",
    "\n",
    "Left as an exercise :) \n",
    "\n",
    "Don't spend much time on this one."
   ]
  },
  {
   "cell_type": "markdown",
   "metadata": {
    "collapsed": true
   },
   "source": [
    "## Generators"
   ]
  },
  {
   "cell_type": "code",
   "execution_count": 12,
   "metadata": {
    "collapsed": false
   },
   "outputs": [],
   "source": [
    "def ex1(num):\n",
    "    \"\"\"A stupid example generator to prove a point.\"\"\"\n",
    "    while num > 1:\n",
    "        num += 1\n",
    "        yield num "
   ]
  },
  {
   "cell_type": "code",
   "execution_count": 13,
   "metadata": {
    "collapsed": true
   },
   "outputs": [],
   "source": [
    "hey = ex1(5)"
   ]
  },
  {
   "cell_type": "code",
   "execution_count": 16,
   "metadata": {
    "collapsed": false
   },
   "outputs": [
    {
     "data": {
      "text/plain": [
       "8"
      ]
     },
     "execution_count": 16,
     "metadata": {},
     "output_type": "execute_result"
    }
   ],
   "source": [
    "hey.next()"
   ]
  },
  {
   "cell_type": "code",
   "execution_count": 17,
   "metadata": {
    "collapsed": false
   },
   "outputs": [
    {
     "data": {
      "text/plain": [
       "9"
      ]
     },
     "execution_count": 17,
     "metadata": {},
     "output_type": "execute_result"
    }
   ],
   "source": [
    "hey.next()"
   ]
  },
  {
   "cell_type": "markdown",
   "metadata": {},
   "source": [
    "# Gotchas\n",
    "\n",
    "Modifying a dictionary's keys while iterating over it. \n",
    "\n",
    "```python\n",
    "for key in dictionary:\n",
    "    if key == \"bat\":\n",
    "        del dictionary[key]\n",
    "```\n",
    "\n",
    "If you have to do someeven_better_name like this: \n",
    "\n",
    "```python\n",
    "list_of_keys = dictionary.keys()\n",
    "for key in list_of_keys:\n",
    "    if key == \"bat\":\n",
    "        del dictionary[key]\n",
    "```"
   ]
  },
  {
   "cell_type": "code",
   "execution_count": 18,
   "metadata": {
    "collapsed": true
   },
   "outputs": [],
   "source": [
    "even_better_name = 5"
   ]
  },
  {
   "cell_type": "code",
   "execution_count": 18,
   "metadata": {
    "collapsed": true
   },
   "outputs": [],
   "source": [
    "even_better_name = 5"
   ]
  },
  {
   "cell_type": "code",
   "execution_count": 18,
   "metadata": {
    "collapsed": true
   },
   "outputs": [],
   "source": [
    "even_better_name = 5"
   ]
  },
  {
   "cell_type": "code",
   "execution_count": 18,
   "metadata": {
    "collapsed": true
   },
   "outputs": [],
   "source": [
    "even_better_name = 5"
   ]
  },
  {
   "cell_type": "code",
   "execution_count": 18,
   "metadata": {
    "collapsed": true
   },
   "outputs": [],
   "source": [
    "even_better_name = 5"
   ]
  },
  {
   "cell_type": "code",
   "execution_count": 18,
   "metadata": {
    "collapsed": true
   },
   "outputs": [],
   "source": [
    "even_better_name = 5"
   ]
  },
  {
   "cell_type": "code",
   "execution_count": null,
   "metadata": {
    "collapsed": true
   },
   "outputs": [],
   "source": []
  }
 ],
 "metadata": {
  "celltoolbar": "Slideshow",
  "kernelspec": {
   "display_name": "Python 2",
   "language": "python",
   "name": "python2"
  },
  "language_info": {
   "codemirror_mode": {
    "name": "ipython",
    "version": 2
   },
   "file_extension": ".py",
   "mimetype": "text/x-python",
   "name": "python",
   "nbconvert_exporter": "python",
   "pygments_lexer": "ipython2",
   "version": "2.7.11"
  }
 },
 "nbformat": 4,
 "nbformat_minor": 0
}
