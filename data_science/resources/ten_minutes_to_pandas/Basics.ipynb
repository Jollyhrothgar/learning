{
 "cells": [
  {
   "cell_type": "code",
   "execution_count": 3,
   "metadata": {
    "collapsed": true
   },
   "outputs": [],
   "source": [
    "from pandas import *\n",
    "import pandas\n",
    "import numpy as np\n",
    "import matplotlib.pyplot as plt\n",
    "\n",
    "def side_by_side(*objs, **kwds):\n",
    "    from pandas.core.common import adjoin\n",
    "    space = kwds.get('space', 4)\n",
    "    reprs = [repr(obj).split('\\n') for obj in objs]\n",
    "    print adjoin(space, *reprs)\n",
    "\n",
    "plt.rc('figure', figsize=(10, 6))\n",
    "# pandas.set_printoptions(notebook_repr_html=False)"
   ]
  },
  {
   "cell_type": "code",
   "execution_count": 4,
   "metadata": {
    "collapsed": false
   },
   "outputs": [
    {
     "ename": "NameError",
     "evalue": "name 'plot' is not defined",
     "output_type": "error",
     "traceback": [
      "\u001b[1;31m---------------------------------------------------------------------------\u001b[0m",
      "\u001b[1;31mNameError\u001b[0m                                 Traceback (most recent call last)",
      "\u001b[1;32m<ipython-input-4-353c92d67d6b>\u001b[0m in \u001b[0;36m<module>\u001b[1;34m()\u001b[0m\n\u001b[1;32m----> 1\u001b[1;33m \u001b[0mplot\u001b[0m\u001b[1;33m(\u001b[0m\u001b[0marange\u001b[0m\u001b[1;33m(\u001b[0m\u001b[1;36m10\u001b[0m\u001b[1;33m)\u001b[0m\u001b[1;33m)\u001b[0m\u001b[1;33m\u001b[0m\u001b[0m\n\u001b[0m",
      "\u001b[1;31mNameError\u001b[0m: name 'plot' is not defined"
     ]
    }
   ],
   "source": [
    "plot(arange(10))"
   ]
  },
  {
   "cell_type": "markdown",
   "metadata": {},
   "source": [
    "Series\n",
    "======"
   ]
  },
  {
   "cell_type": "code",
   "execution_count": 5,
   "metadata": {
    "collapsed": false
   },
   "outputs": [
    {
     "ename": "NameError",
     "evalue": "name 'randn' is not defined",
     "output_type": "error",
     "traceback": [
      "\u001b[1;31m---------------------------------------------------------------------------\u001b[0m",
      "\u001b[1;31mNameError\u001b[0m                                 Traceback (most recent call last)",
      "\u001b[1;32m<ipython-input-5-b1e1e9626ea6>\u001b[0m in \u001b[0;36m<module>\u001b[1;34m()\u001b[0m\n\u001b[1;32m----> 1\u001b[1;33m \u001b[0mrandn\u001b[0m\u001b[1;33m(\u001b[0m\u001b[1;36m5\u001b[0m\u001b[1;33m)\u001b[0m\u001b[1;33m\u001b[0m\u001b[0m\n\u001b[0m",
      "\u001b[1;31mNameError\u001b[0m: name 'randn' is not defined"
     ]
    }
   ],
   "source": [
    "randn(5)"
   ]
  },
  {
   "cell_type": "code",
   "execution_count": 9,
   "metadata": {
    "collapsed": false
   },
   "outputs": [
    {
     "data": {
      "text/plain": [
       "a   -0.139871\n",
       "b   -0.580239\n",
       "c    1.280341\n",
       "d   -1.299564\n",
       "e   -0.360330"
      ]
     },
     "execution_count": 9,
     "metadata": {},
     "output_type": "execute_result"
    }
   ],
   "source": [
    "labels = ['a', 'b', 'c', 'd', 'e']\n",
    "s = Series(randn(5), index=labels)\n",
    "s"
   ]
  },
  {
   "cell_type": "code",
   "execution_count": 10,
   "metadata": {
    "collapsed": false
   },
   "outputs": [
    {
     "data": {
      "text/plain": [
       "True"
      ]
     },
     "execution_count": 10,
     "metadata": {},
     "output_type": "execute_result"
    }
   ],
   "source": [
    "'b' in s"
   ]
  },
  {
   "cell_type": "code",
   "execution_count": 12,
   "metadata": {
    "collapsed": false
   },
   "outputs": [
    {
     "data": {
      "text/plain": [
       "-0.58023865919519868"
      ]
     },
     "execution_count": 12,
     "metadata": {},
     "output_type": "execute_result"
    }
   ],
   "source": [
    "s['b']"
   ]
  },
  {
   "cell_type": "code",
   "execution_count": 11,
   "metadata": {
    "collapsed": false
   },
   "outputs": [
    {
     "data": {
      "text/plain": [
       "Index([a, b, c, d, e], dtype=object)"
      ]
     },
     "execution_count": 11,
     "metadata": {},
     "output_type": "execute_result"
    }
   ],
   "source": [
    "s.index"
   ]
  },
  {
   "cell_type": "code",
   "execution_count": 13,
   "metadata": {
    "collapsed": false
   },
   "outputs": [
    {
     "data": {
      "text/plain": [
       "a   -0.139871\n",
       "b   -0.580239\n",
       "c    1.280341\n",
       "d   -1.299564\n",
       "e   -0.360330"
      ]
     },
     "execution_count": 13,
     "metadata": {},
     "output_type": "execute_result"
    }
   ],
   "source": [
    "s"
   ]
  },
  {
   "cell_type": "code",
   "execution_count": 14,
   "metadata": {
    "collapsed": false
   },
   "outputs": [
    {
     "data": {
      "text/plain": [
       "{'a': -0.13987069666249202,\n",
       " 'b': -0.58023865919519868,\n",
       " 'c': 1.2803413944255728,\n",
       " 'd': -1.2995637798105613,\n",
       " 'e': -0.36033048832567999}"
      ]
     },
     "execution_count": 14,
     "metadata": {},
     "output_type": "execute_result"
    }
   ],
   "source": [
    "mapping = s.to_dict()\n",
    "mapping"
   ]
  },
  {
   "cell_type": "code",
   "execution_count": 16,
   "metadata": {
    "collapsed": false
   },
   "outputs": [
    {
     "data": {
      "text/plain": [
       "b   -0.580239\n",
       "e   -0.360330\n",
       "a   -0.139871\n",
       "d   -1.299564\n",
       "f         NaN"
      ]
     },
     "execution_count": 16,
     "metadata": {},
     "output_type": "execute_result"
    }
   ],
   "source": [
    "s = Series(mapping, index=['b', 'e', 'a', 'd', 'f'])\n",
    "s"
   ]
  },
  {
   "cell_type": "code",
   "execution_count": 20,
   "metadata": {
    "collapsed": false
   },
   "outputs": [
    {
     "data": {
      "text/plain": [
       "b   -0.580239\n",
       "e   -0.360330\n",
       "a   -0.139871\n",
       "d   -1.299564"
      ]
     },
     "execution_count": 20,
     "metadata": {},
     "output_type": "execute_result"
    }
   ],
   "source": [
    "s[notnull(s)]"
   ]
  },
  {
   "cell_type": "code",
   "execution_count": 21,
   "metadata": {
    "collapsed": false
   },
   "outputs": [
    {
     "data": {
      "text/plain": [
       "b   -0.580239\n",
       "e   -0.360330\n",
       "a   -0.139871\n",
       "d   -1.299564"
      ]
     },
     "execution_count": 21,
     "metadata": {},
     "output_type": "execute_result"
    }
   ],
   "source": [
    "s.dropna()"
   ]
  },
  {
   "cell_type": "code",
   "execution_count": 22,
   "metadata": {
    "collapsed": false
   },
   "outputs": [
    {
     "data": {
      "text/plain": [
       "b   -1.160477\n",
       "e   -0.720661\n",
       "a   -0.279741\n",
       "d   -2.599128\n",
       "f         NaN"
      ]
     },
     "execution_count": 22,
     "metadata": {},
     "output_type": "execute_result"
    }
   ],
   "source": [
    "s * 2"
   ]
  },
  {
   "cell_type": "code",
   "execution_count": 23,
   "metadata": {
    "collapsed": false
   },
   "outputs": [
    {
     "data": {
      "text/plain": [
       "b   -0.580239\n",
       "e   -0.360330\n",
       "a   -0.139871"
      ]
     },
     "execution_count": 23,
     "metadata": {},
     "output_type": "execute_result"
    }
   ],
   "source": [
    "s[:3]"
   ]
  },
  {
   "cell_type": "code",
   "execution_count": 24,
   "metadata": {
    "collapsed": false
   },
   "outputs": [
    {
     "data": {
      "text/plain": [
       "Index([b, e, a, d, f], dtype=object)"
      ]
     },
     "execution_count": 24,
     "metadata": {},
     "output_type": "execute_result"
    }
   ],
   "source": [
    "s.index"
   ]
  },
  {
   "cell_type": "markdown",
   "metadata": {},
   "source": [
    "DataFrame: 2D collection of Series\n",
    "=================================="
   ]
  },
  {
   "cell_type": "code",
   "execution_count": 27,
   "metadata": {
    "collapsed": false
   },
   "outputs": [
    {
     "data": {
      "text/html": [
       "<div style=\"max-height:1000px;max-width:1500px;overflow:auto;\">\n",
       "<table border=\"1\">\n",
       "  <thead>\n",
       "    <tr>\n",
       "      <th></th>\n",
       "      <th>a</th>\n",
       "      <th>b</th>\n",
       "      <th>c</th>\n",
       "      <th>d</th>\n",
       "    </tr>\n",
       "  </thead>\n",
       "  <tbody>\n",
       "    <tr>\n",
       "      <td><strong>0</strong></td>\n",
       "      <td>-0.497943</td>\n",
       "      <td> foo</td>\n",
       "      <td> 0.542663</td>\n",
       "      <td> 0</td>\n",
       "    </tr>\n",
       "    <tr>\n",
       "      <td><strong>1</strong></td>\n",
       "      <td>-1.308615</td>\n",
       "      <td> bar</td>\n",
       "      <td>-0.274153</td>\n",
       "      <td> 1</td>\n",
       "    </tr>\n",
       "    <tr>\n",
       "      <td><strong>2</strong></td>\n",
       "      <td>-1.394336</td>\n",
       "      <td> foo</td>\n",
       "      <td> 0.198010</td>\n",
       "      <td> 2</td>\n",
       "    </tr>\n",
       "    <tr>\n",
       "      <td><strong>3</strong></td>\n",
       "      <td> 1.004886</td>\n",
       "      <td> bar</td>\n",
       "      <td>-2.211485</td>\n",
       "      <td> 3</td>\n",
       "    </tr>\n",
       "    <tr>\n",
       "      <td><strong>4</strong></td>\n",
       "      <td>-1.183105</td>\n",
       "      <td> foo</td>\n",
       "      <td>-0.923296</td>\n",
       "      <td> 4</td>\n",
       "    </tr>\n",
       "    <tr>\n",
       "      <td><strong>5</strong></td>\n",
       "      <td> 1.007496</td>\n",
       "      <td> bar</td>\n",
       "      <td>-1.349994</td>\n",
       "      <td> 5</td>\n",
       "    </tr>\n",
       "  </tbody>\n",
       "</table>\n",
       "</div>"
      ],
      "text/plain": [
       "          a    b         c  d\n",
       "0 -0.497943  foo  0.542663  0\n",
       "1 -1.308615  bar -0.274153  1\n",
       "2 -1.394336  foo  0.198010  2\n",
       "3  1.004886  bar -2.211485  3\n",
       "4 -1.183105  foo -0.923296  4\n",
       "5  1.007496  bar -1.349994  5"
      ]
     },
     "execution_count": 27,
     "metadata": {},
     "output_type": "execute_result"
    }
   ],
   "source": [
    "df = DataFrame({'a': np.random.randn(6),\n",
    "                'b': ['foo', 'bar'] * 3,\n",
    "                'c': np.random.randn(6)})\n",
    "df['d'] = range(6)\n",
    "df"
   ]
  },
  {
   "cell_type": "code",
   "execution_count": 33,
   "metadata": {
    "collapsed": false
   },
   "outputs": [
    {
     "data": {
      "text/plain": [
       "0    foo\n",
       "1    bar\n",
       "2    foo\n",
       "3    bar\n",
       "4    foo\n",
       "5    bar\n",
       "Name: b"
      ]
     },
     "execution_count": 33,
     "metadata": {},
     "output_type": "execute_result"
    }
   ],
   "source": [
    "df['b']    # by column"
   ]
  },
  {
   "cell_type": "code",
   "execution_count": 28,
   "metadata": {
    "collapsed": false
   },
   "outputs": [
    {
     "data": {
      "text/html": [
       "<div style=\"max-height:1000px;max-width:1500px;overflow:auto;\">\n",
       "<table border=\"1\">\n",
       "  <thead>\n",
       "    <tr>\n",
       "      <th></th>\n",
       "      <th>a</th>\n",
       "      <th>b</th>\n",
       "      <th>c</th>\n",
       "      <th>d</th>\n",
       "    </tr>\n",
       "  </thead>\n",
       "  <tbody>\n",
       "    <tr>\n",
       "      <td><strong>0</strong></td>\n",
       "      <td>-0.497943</td>\n",
       "      <td> foo</td>\n",
       "      <td> 0.542663</td>\n",
       "      <td> 0</td>\n",
       "    </tr>\n",
       "    <tr>\n",
       "      <td><strong>1</strong></td>\n",
       "      <td>-1.308615</td>\n",
       "      <td> bar</td>\n",
       "      <td>-0.274153</td>\n",
       "      <td> 1</td>\n",
       "    </tr>\n",
       "    <tr>\n",
       "      <td><strong>2</strong></td>\n",
       "      <td>-1.394336</td>\n",
       "      <td> foo</td>\n",
       "      <td> 0.198010</td>\n",
       "      <td> 2</td>\n",
       "    </tr>\n",
       "  </tbody>\n",
       "</table>\n",
       "</div>"
      ],
      "text/plain": [
       "          a    b         c  d\n",
       "0 -0.497943  foo  0.542663  0\n",
       "1 -1.308615  bar -0.274153  1\n",
       "2 -1.394336  foo  0.198010  2"
      ]
     },
     "execution_count": 28,
     "metadata": {},
     "output_type": "execute_result"
    }
   ],
   "source": [
    "df[:3]"
   ]
  },
  {
   "cell_type": "code",
   "execution_count": 29,
   "metadata": {
    "collapsed": false
   },
   "outputs": [
    {
     "data": {
      "text/html": [
       "<div style=\"max-height:1000px;max-width:1500px;overflow:auto;\">\n",
       "<table border=\"1\">\n",
       "  <thead>\n",
       "    <tr>\n",
       "      <th></th>\n",
       "      <th>a</th>\n",
       "      <th>b</th>\n",
       "      <th>c</th>\n",
       "      <th>d</th>\n",
       "    </tr>\n",
       "  </thead>\n",
       "  <tbody>\n",
       "    <tr>\n",
       "      <td><strong>0</strong></td>\n",
       "      <td>-0.497943</td>\n",
       "      <td> foo</td>\n",
       "      <td> 0.542663</td>\n",
       "      <td> 0</td>\n",
       "    </tr>\n",
       "    <tr>\n",
       "      <td><strong>1</strong></td>\n",
       "      <td>-1.308615</td>\n",
       "      <td> bar</td>\n",
       "      <td>-0.274153</td>\n",
       "      <td> 1</td>\n",
       "    </tr>\n",
       "    <tr>\n",
       "      <td><strong>2</strong></td>\n",
       "      <td>-1.394336</td>\n",
       "      <td> foo</td>\n",
       "      <td> 0.198010</td>\n",
       "      <td> 2</td>\n",
       "    </tr>\n",
       "    <tr>\n",
       "      <td><strong>3</strong></td>\n",
       "      <td> 1.004886</td>\n",
       "      <td> bar</td>\n",
       "      <td>-2.211485</td>\n",
       "      <td> 3</td>\n",
       "    </tr>\n",
       "  </tbody>\n",
       "</table>\n",
       "</div>"
      ],
      "text/plain": [
       "          a    b         c  d\n",
       "0 -0.497943  foo  0.542663  0\n",
       "1 -1.308615  bar -0.274153  1\n",
       "2 -1.394336  foo  0.198010  2\n",
       "3  1.004886  bar -2.211485  3"
      ]
     },
     "execution_count": 29,
     "metadata": {},
     "output_type": "execute_result"
    }
   ],
   "source": [
    "df[:-2]"
   ]
  },
  {
   "cell_type": "code",
   "execution_count": 30,
   "metadata": {
    "collapsed": false
   },
   "outputs": [
    {
     "data": {
      "text/html": [
       "<div style=\"max-height:1000px;max-width:1500px;overflow:auto;\">\n",
       "<table border=\"1\">\n",
       "  <thead>\n",
       "    <tr>\n",
       "      <th></th>\n",
       "      <th>a</th>\n",
       "      <th>b</th>\n",
       "      <th>c</th>\n",
       "      <th>d</th>\n",
       "    </tr>\n",
       "  </thead>\n",
       "  <tbody>\n",
       "    <tr>\n",
       "      <td><strong>4</strong></td>\n",
       "      <td>-1.183105</td>\n",
       "      <td> foo</td>\n",
       "      <td>-0.923296</td>\n",
       "      <td> 4</td>\n",
       "    </tr>\n",
       "    <tr>\n",
       "      <td><strong>5</strong></td>\n",
       "      <td> 1.007496</td>\n",
       "      <td> bar</td>\n",
       "      <td>-1.349994</td>\n",
       "      <td> 5</td>\n",
       "    </tr>\n",
       "  </tbody>\n",
       "</table>\n",
       "</div>"
      ],
      "text/plain": [
       "          a    b         c  d\n",
       "4 -1.183105  foo -0.923296  4\n",
       "5  1.007496  bar -1.349994  5"
      ]
     },
     "execution_count": 30,
     "metadata": {},
     "output_type": "execute_result"
    }
   ],
   "source": [
    "df[-2:]   # the last 2 rows"
   ]
  },
  {
   "cell_type": "code",
   "execution_count": 31,
   "metadata": {
    "collapsed": false
   },
   "outputs": [
    {
     "data": {
      "text/plain": [
       "array(['foo', 'bar', 'foo', 'bar', 'foo', 'bar'], \n",
       "      dtype='|S3')"
      ]
     },
     "execution_count": 31,
     "metadata": {},
     "output_type": "execute_result"
    }
   ],
   "source": [
    "np.tile(['foo', 'bar'], 3)   # in numpy"
   ]
  },
  {
   "cell_type": "code",
   "execution_count": 32,
   "metadata": {
    "collapsed": false
   },
   "outputs": [
    {
     "data": {
      "text/plain": [
       "a   -0.4979432\n",
       "b          foo\n",
       "c    0.5426634\n",
       "d            0\n",
       "Name: 0"
      ]
     },
     "execution_count": 32,
     "metadata": {},
     "output_type": "execute_result"
    }
   ],
   "source": [
    "df.xs(0)   # returning the first row"
   ]
  },
  {
   "cell_type": "code",
   "execution_count": 35,
   "metadata": {
    "collapsed": false
   },
   "outputs": [
    {
     "data": {
      "text/plain": [
       "a    -1.394336\n",
       "b          foo\n",
       "c    0.1980095\n",
       "d            2\n",
       "Name: 2"
      ]
     },
     "execution_count": 35,
     "metadata": {},
     "output_type": "execute_result"
    }
   ],
   "source": [
    "df.ix[2]    # does equal thing as above. In this case, 3rd row. "
   ]
  },
  {
   "cell_type": "code",
   "execution_count": 36,
   "metadata": {
    "collapsed": false
   },
   "outputs": [
    {
     "data": {
      "text/plain": [
       "'foo'"
      ]
     },
     "execution_count": 36,
     "metadata": {},
     "output_type": "execute_result"
    }
   ],
   "source": [
    "df.ix[2, 'b']"
   ]
  },
  {
   "cell_type": "code",
   "execution_count": 38,
   "metadata": {
    "collapsed": false
   },
   "outputs": [
    {
     "data": {
      "text/plain": [
       "'foo'"
      ]
     },
     "execution_count": 38,
     "metadata": {},
     "output_type": "execute_result"
    }
   ],
   "source": [
    "df.get_value(2, 'b')"
   ]
  },
  {
   "cell_type": "code",
   "execution_count": 39,
   "metadata": {
    "collapsed": false
   },
   "outputs": [
    {
     "name": "stdout",
     "output_type": "stream",
     "text": [
      "100000 loops, best of 3: 2.93 us per loop\n"
     ]
    }
   ],
   "source": [
    "timeit df.ix[2, 'b']"
   ]
  },
  {
   "cell_type": "code",
   "execution_count": 41,
   "metadata": {
    "collapsed": false
   },
   "outputs": [
    {
     "name": "stdout",
     "output_type": "stream",
     "text": [
      "1000000 loops, best of 3: 1.6 us per loop\n"
     ]
    }
   ],
   "source": [
    "timeit df.get_value(2, 'b')"
   ]
  },
  {
   "cell_type": "code",
   "execution_count": 42,
   "metadata": {
    "collapsed": false
   },
   "outputs": [
    {
     "data": {
      "text/plain": [
       "2    foo\n",
       "3    bar\n",
       "4    foo\n",
       "Name: b"
      ]
     },
     "execution_count": 42,
     "metadata": {},
     "output_type": "execute_result"
    }
   ],
   "source": [
    "df.ix[2:4, 'b']"
   ]
  },
  {
   "cell_type": "code",
   "execution_count": 44,
   "metadata": {
    "collapsed": false
   },
   "outputs": [
    {
     "data": {
      "text/html": [
       "<div style=\"max-height:1000px;max-width:1500px;overflow:auto;\">\n",
       "<table border=\"1\">\n",
       "  <thead>\n",
       "    <tr>\n",
       "      <th></th>\n",
       "      <th>b</th>\n",
       "      <th>c</th>\n",
       "    </tr>\n",
       "  </thead>\n",
       "  <tbody>\n",
       "    <tr>\n",
       "      <td><strong>2</strong></td>\n",
       "      <td> foo</td>\n",
       "      <td> 0.198010</td>\n",
       "    </tr>\n",
       "    <tr>\n",
       "      <td><strong>3</strong></td>\n",
       "      <td> bar</td>\n",
       "      <td>-2.211485</td>\n",
       "    </tr>\n",
       "    <tr>\n",
       "      <td><strong>4</strong></td>\n",
       "      <td> foo</td>\n",
       "      <td>-0.923296</td>\n",
       "    </tr>\n",
       "  </tbody>\n",
       "</table>\n",
       "</div>"
      ],
      "text/plain": [
       "     b         c\n",
       "2  foo  0.198010\n",
       "3  bar -2.211485\n",
       "4  foo -0.923296"
      ]
     },
     "execution_count": 44,
     "metadata": {},
     "output_type": "execute_result"
    }
   ],
   "source": [
    "df.ix[2:4, ['b', 'c']]"
   ]
  },
  {
   "cell_type": "code",
   "execution_count": 45,
   "metadata": {
    "collapsed": false
   },
   "outputs": [
    {
     "data": {
      "text/html": [
       "<div style=\"max-height:1000px;max-width:1500px;overflow:auto;\">\n",
       "<table border=\"1\">\n",
       "  <thead>\n",
       "    <tr>\n",
       "      <th></th>\n",
       "      <th>b</th>\n",
       "      <th>c</th>\n",
       "    </tr>\n",
       "  </thead>\n",
       "  <tbody>\n",
       "    <tr>\n",
       "      <td><strong>2</strong></td>\n",
       "      <td> foo</td>\n",
       "      <td> 0.198010</td>\n",
       "    </tr>\n",
       "    <tr>\n",
       "      <td><strong>3</strong></td>\n",
       "      <td> bar</td>\n",
       "      <td>-2.211485</td>\n",
       "    </tr>\n",
       "    <tr>\n",
       "      <td><strong>4</strong></td>\n",
       "      <td> foo</td>\n",
       "      <td>-0.923296</td>\n",
       "    </tr>\n",
       "  </tbody>\n",
       "</table>\n",
       "</div>"
      ],
      "text/plain": [
       "     b         c\n",
       "2  foo  0.198010\n",
       "3  bar -2.211485\n",
       "4  foo -0.923296"
      ]
     },
     "execution_count": 45,
     "metadata": {},
     "output_type": "execute_result"
    }
   ],
   "source": [
    "df.ix[2:4, 'b':'c']   # slices by column - essentially the same as above."
   ]
  },
  {
   "cell_type": "code",
   "execution_count": 47,
   "metadata": {
    "collapsed": false
   },
   "outputs": [
    {
     "data": {
      "text/html": [
       "<div style=\"max-height:1000px;max-width:1500px;overflow:auto;\">\n",
       "<table border=\"1\">\n",
       "  <thead>\n",
       "    <tr>\n",
       "      <th></th>\n",
       "      <th>b</th>\n",
       "      <th>c</th>\n",
       "      <th>d</th>\n",
       "    </tr>\n",
       "  </thead>\n",
       "  <tbody>\n",
       "    <tr>\n",
       "      <td><strong>0</strong></td>\n",
       "      <td> foo</td>\n",
       "      <td> 0.542663</td>\n",
       "      <td> 0</td>\n",
       "    </tr>\n",
       "    <tr>\n",
       "      <td><strong>2</strong></td>\n",
       "      <td> foo</td>\n",
       "      <td> 0.198010</td>\n",
       "      <td> 2</td>\n",
       "    </tr>\n",
       "    <tr>\n",
       "      <td><strong>4</strong></td>\n",
       "      <td> foo</td>\n",
       "      <td>-0.923296</td>\n",
       "      <td> 4</td>\n",
       "    </tr>\n",
       "  </tbody>\n",
       "</table>\n",
       "</div>"
      ],
      "text/plain": [
       "     b         c  d\n",
       "0  foo  0.542663  0\n",
       "2  foo  0.198010  2\n",
       "4  foo -0.923296  4"
      ]
     },
     "execution_count": 47,
     "metadata": {},
     "output_type": "execute_result"
    }
   ],
   "source": [
    "df.ix[[0, 2, 4], ['b', 'c', 'd']]   # pass a list of rows and columns I want to select out"
   ]
  },
  {
   "cell_type": "code",
   "execution_count": 48,
   "metadata": {
    "collapsed": false
   },
   "outputs": [
    {
     "data": {
      "text/plain": [
       "0     True\n",
       "1    False\n",
       "2     True\n",
       "3    False\n",
       "4    False\n",
       "5    False\n",
       "Name: c"
      ]
     },
     "execution_count": 48,
     "metadata": {},
     "output_type": "execute_result"
    }
   ],
   "source": [
    "df['c'] > 0"
   ]
  },
  {
   "cell_type": "code",
   "execution_count": 49,
   "metadata": {
    "collapsed": false
   },
   "outputs": [
    {
     "data": {
      "text/html": [
       "<div style=\"max-height:1000px;max-width:1500px;overflow:auto;\">\n",
       "<table border=\"1\">\n",
       "  <thead>\n",
       "    <tr>\n",
       "      <th></th>\n",
       "      <th>a</th>\n",
       "      <th>b</th>\n",
       "      <th>c</th>\n",
       "      <th>d</th>\n",
       "    </tr>\n",
       "  </thead>\n",
       "  <tbody>\n",
       "    <tr>\n",
       "      <td><strong>0</strong></td>\n",
       "      <td>-0.497943</td>\n",
       "      <td> foo</td>\n",
       "      <td> 0.542663</td>\n",
       "      <td> 0</td>\n",
       "    </tr>\n",
       "    <tr>\n",
       "      <td><strong>2</strong></td>\n",
       "      <td>-1.394336</td>\n",
       "      <td> foo</td>\n",
       "      <td> 0.198010</td>\n",
       "      <td> 2</td>\n",
       "    </tr>\n",
       "  </tbody>\n",
       "</table>\n",
       "</div>"
      ],
      "text/plain": [
       "          a    b         c  d\n",
       "0 -0.497943  foo  0.542663  0\n",
       "2 -1.394336  foo  0.198010  2"
      ]
     },
     "execution_count": 49,
     "metadata": {},
     "output_type": "execute_result"
    }
   ],
   "source": [
    "df.ix[df['c'] > 0]   # boolean arrays"
   ]
  },
  {
   "cell_type": "code",
   "execution_count": 50,
   "metadata": {
    "collapsed": false
   },
   "outputs": [
    {
     "data": {
      "text/plain": [
       "Int64Index([0, 1, 2, 3, 4, 5])"
      ]
     },
     "execution_count": 50,
     "metadata": {},
     "output_type": "execute_result"
    }
   ],
   "source": [
    "df.index"
   ]
  },
  {
   "cell_type": "code",
   "execution_count": 51,
   "metadata": {
    "collapsed": false
   },
   "outputs": [
    {
     "data": {
      "text/plain": [
       "Index([a, b, c, d], dtype=object)"
      ]
     },
     "execution_count": 51,
     "metadata": {},
     "output_type": "execute_result"
    }
   ],
   "source": [
    "df.columns"
   ]
  },
  {
   "cell_type": "code",
   "execution_count": 53,
   "metadata": {
    "collapsed": false
   },
   "outputs": [
    {
     "name": "stderr",
     "output_type": "stream",
     "text": [
      "/usr/local/Cellar/python/2.7.2/Frameworks/Python.framework/Versions/2.7/lib/python2.7/site-packages/pandas-0.8.1-py2.7-macosx-10.5-intel.egg/pandas/core/daterange.py:21: FutureWarning: DateRange is deprecated, use DatetimeIndex instead\n",
      "  FutureWarning)\n"
     ]
    },
    {
     "data": {
      "text/html": [
       "<div style=\"max-height:1000px;max-width:1500px;overflow:auto;\">\n",
       "<table border=\"1\">\n",
       "  <thead>\n",
       "    <tr>\n",
       "      <th></th>\n",
       "      <th>a</th>\n",
       "      <th>b</th>\n",
       "      <th>c</th>\n",
       "    </tr>\n",
       "  </thead>\n",
       "  <tbody>\n",
       "    <tr>\n",
       "      <td><strong>2000-01-03 00:00:00</strong></td>\n",
       "      <td> 1.926781</td>\n",
       "      <td> foo</td>\n",
       "      <td>-0.904502</td>\n",
       "    </tr>\n",
       "    <tr>\n",
       "      <td><strong>2000-01-04 00:00:00</strong></td>\n",
       "      <td> 0.678309</td>\n",
       "      <td> bar</td>\n",
       "      <td> 2.140457</td>\n",
       "    </tr>\n",
       "    <tr>\n",
       "      <td><strong>2000-01-05 00:00:00</strong></td>\n",
       "      <td>-0.846715</td>\n",
       "      <td> foo</td>\n",
       "      <td> 0.620089</td>\n",
       "    </tr>\n",
       "    <tr>\n",
       "      <td><strong>2000-01-06 00:00:00</strong></td>\n",
       "      <td> 0.462977</td>\n",
       "      <td> bar</td>\n",
       "      <td> 1.282020</td>\n",
       "    </tr>\n",
       "    <tr>\n",
       "      <td><strong>2000-01-07 00:00:00</strong></td>\n",
       "      <td>-0.704591</td>\n",
       "      <td> foo</td>\n",
       "      <td> 1.366704</td>\n",
       "    </tr>\n",
       "    <tr>\n",
       "      <td><strong>2000-01-10 00:00:00</strong></td>\n",
       "      <td> 0.465697</td>\n",
       "      <td> bar</td>\n",
       "      <td>-0.575587</td>\n",
       "    </tr>\n",
       "  </tbody>\n",
       "</table>\n",
       "</div>"
      ],
      "text/plain": [
       "                   a    b         c\n",
       "2000-01-03  1.926781  foo -0.904502\n",
       "2000-01-04  0.678309  bar  2.140457\n",
       "2000-01-05 -0.846715  foo  0.620089\n",
       "2000-01-06  0.462977  bar  1.282020\n",
       "2000-01-07 -0.704591  foo  1.366704\n",
       "2000-01-10  0.465697  bar -0.575587"
      ]
     },
     "execution_count": 53,
     "metadata": {},
     "output_type": "execute_result"
    }
   ],
   "source": [
    "df = DataFrame({'a': np.random.randn(6),\n",
    "                'b': ['foo', 'bar'] * 3,\n",
    "                'c': np.random.randn(6)},\n",
    "               index=DateRange('1/1/2000', periods=6))\n",
    "df"
   ]
  },
  {
   "cell_type": "code",
   "execution_count": 54,
   "metadata": {
    "collapsed": false
   },
   "outputs": [
    {
     "data": {
      "text/html": [
       "<div style=\"max-height:1000px;max-width:1500px;overflow:auto;\">\n",
       "<table border=\"1\">\n",
       "  <thead>\n",
       "    <tr>\n",
       "      <th></th>\n",
       "      <th>a</th>\n",
       "      <th>b</th>\n",
       "      <th>c</th>\n",
       "      <th>d</th>\n",
       "    </tr>\n",
       "  </thead>\n",
       "  <tbody>\n",
       "    <tr>\n",
       "      <td><strong>0</strong></td>\n",
       "      <td> 0.598279</td>\n",
       "      <td> foo</td>\n",
       "      <td> 1.155302</td>\n",
       "      <td>NaN</td>\n",
       "    </tr>\n",
       "    <tr>\n",
       "      <td><strong>1</strong></td>\n",
       "      <td> 0.491108</td>\n",
       "      <td> bar</td>\n",
       "      <td>-1.693307</td>\n",
       "      <td>NaN</td>\n",
       "    </tr>\n",
       "    <tr>\n",
       "      <td><strong>2</strong></td>\n",
       "      <td>-0.529175</td>\n",
       "      <td> foo</td>\n",
       "      <td>-2.867020</td>\n",
       "      <td>NaN</td>\n",
       "    </tr>\n",
       "    <tr>\n",
       "      <td><strong>3</strong></td>\n",
       "      <td>-0.758212</td>\n",
       "      <td> bar</td>\n",
       "      <td> 0.615492</td>\n",
       "      <td>NaN</td>\n",
       "    </tr>\n",
       "    <tr>\n",
       "      <td><strong>4</strong></td>\n",
       "      <td> 0.977810</td>\n",
       "      <td> foo</td>\n",
       "      <td> 1.549035</td>\n",
       "      <td>NaN</td>\n",
       "    </tr>\n",
       "    <tr>\n",
       "      <td><strong>5</strong></td>\n",
       "      <td>-2.104020</td>\n",
       "      <td> bar</td>\n",
       "      <td>-2.671483</td>\n",
       "      <td>NaN</td>\n",
       "    </tr>\n",
       "  </tbody>\n",
       "</table>\n",
       "</div>"
      ],
      "text/plain": [
       "          a    b         c   d\n",
       "0  0.598279  foo  1.155302 NaN\n",
       "1  0.491108  bar -1.693307 NaN\n",
       "2 -0.529175  foo -2.867020 NaN\n",
       "3 -0.758212  bar  0.615492 NaN\n",
       "4  0.977810  foo  1.549035 NaN\n",
       "5 -2.104020  bar -2.671483 NaN"
      ]
     },
     "execution_count": 54,
     "metadata": {},
     "output_type": "execute_result"
    }
   ],
   "source": [
    "df = DataFrame({'a': np.random.randn(6),\n",
    "                'b': ['foo', 'bar'] * 3,\n",
    "                'c': np.random.randn(6)},\n",
    "               columns=['a', 'b', 'c', 'd'])\n",
    "df"
   ]
  },
  {
   "cell_type": "code",
   "execution_count": 55,
   "metadata": {
    "collapsed": false
   },
   "outputs": [
    {
     "data": {
      "text/html": [
       "<div style=\"max-height:1000px;max-width:1500px;overflow:auto;\">\n",
       "<table border=\"1\">\n",
       "  <thead>\n",
       "    <tr>\n",
       "      <th></th>\n",
       "      <th>a</th>\n",
       "      <th>b</th>\n",
       "      <th>c</th>\n",
       "      <th>d</th>\n",
       "    </tr>\n",
       "  </thead>\n",
       "  <tbody>\n",
       "    <tr>\n",
       "      <td><strong>0</strong></td>\n",
       "      <td> False</td>\n",
       "      <td> False</td>\n",
       "      <td> False</td>\n",
       "      <td> True</td>\n",
       "    </tr>\n",
       "    <tr>\n",
       "      <td><strong>1</strong></td>\n",
       "      <td> False</td>\n",
       "      <td> False</td>\n",
       "      <td> False</td>\n",
       "      <td> True</td>\n",
       "    </tr>\n",
       "    <tr>\n",
       "      <td><strong>2</strong></td>\n",
       "      <td> False</td>\n",
       "      <td> False</td>\n",
       "      <td> False</td>\n",
       "      <td> True</td>\n",
       "    </tr>\n",
       "    <tr>\n",
       "      <td><strong>3</strong></td>\n",
       "      <td> False</td>\n",
       "      <td> False</td>\n",
       "      <td> False</td>\n",
       "      <td> True</td>\n",
       "    </tr>\n",
       "    <tr>\n",
       "      <td><strong>4</strong></td>\n",
       "      <td> False</td>\n",
       "      <td> False</td>\n",
       "      <td> False</td>\n",
       "      <td> True</td>\n",
       "    </tr>\n",
       "    <tr>\n",
       "      <td><strong>5</strong></td>\n",
       "      <td> False</td>\n",
       "      <td> False</td>\n",
       "      <td> False</td>\n",
       "      <td> True</td>\n",
       "    </tr>\n",
       "  </tbody>\n",
       "</table>\n",
       "</div>"
      ],
      "text/plain": [
       "       a      b      c     d\n",
       "0  False  False  False  True\n",
       "1  False  False  False  True\n",
       "2  False  False  False  True\n",
       "3  False  False  False  True\n",
       "4  False  False  False  True\n",
       "5  False  False  False  True"
      ]
     },
     "execution_count": 55,
     "metadata": {},
     "output_type": "execute_result"
    }
   ],
   "source": [
    "isnull(df)"
   ]
  },
  {
   "cell_type": "markdown",
   "metadata": {},
   "source": [
    "Creation from nested dicts\n",
    "--------------------------\n",
    "\n",
    "These arise naturally in Python code"
   ]
  },
  {
   "cell_type": "code",
   "execution_count": 64,
   "metadata": {
    "collapsed": false
   },
   "outputs": [
    {
     "data": {
      "text/plain": [
       "{'bar': {'a': 0.9295182780071557,\n",
       "  'b': 0.629167406292866,\n",
       "  'c': 0.7481003106804884,\n",
       "  'd': -0.7406144327794744},\n",
       " 'baz': {'a': -0.47898235355732777,\n",
       "  'b': 1.3748698924766567,\n",
       "  'c': -0.35506751008916465,\n",
       "  'd': 0.6257300406561229},\n",
       " 'foo': {'a': 1.1424385903258707,\n",
       "  'b': -1.7092715082842402,\n",
       "  'c': 0.6934118811100397,\n",
       "  'd': 0.1536432266628359}}"
      ]
     },
     "execution_count": 64,
     "metadata": {},
     "output_type": "execute_result"
    }
   ],
   "source": [
    "data = {}\n",
    "for col in ['foo', 'bar', 'baz']:\n",
    "    for row in ['a', 'b', 'c', 'd']:\n",
    "        data.setdefault(col, {})[row] = randn()   # sorted cols: bar, baz, foo\n",
    "data"
   ]
  },
  {
   "cell_type": "code",
   "execution_count": 65,
   "metadata": {
    "collapsed": false
   },
   "outputs": [],
   "source": [
    "del data ['foo']['c']   # delete an entry by index key (col) and row."
   ]
  },
  {
   "cell_type": "code",
   "execution_count": 66,
   "metadata": {
    "collapsed": false
   },
   "outputs": [
    {
     "data": {
      "text/html": [
       "<div style=\"max-height:1000px;max-width:1500px;overflow:auto;\">\n",
       "<table border=\"1\">\n",
       "  <thead>\n",
       "    <tr>\n",
       "      <th></th>\n",
       "      <th>bar</th>\n",
       "      <th>baz</th>\n",
       "      <th>foo</th>\n",
       "    </tr>\n",
       "  </thead>\n",
       "  <tbody>\n",
       "    <tr>\n",
       "      <td><strong>a</strong></td>\n",
       "      <td> 0.929518</td>\n",
       "      <td>-0.478982</td>\n",
       "      <td> 1.142439</td>\n",
       "    </tr>\n",
       "    <tr>\n",
       "      <td><strong>b</strong></td>\n",
       "      <td> 0.629167</td>\n",
       "      <td> 1.374870</td>\n",
       "      <td>-1.709272</td>\n",
       "    </tr>\n",
       "    <tr>\n",
       "      <td><strong>c</strong></td>\n",
       "      <td> 0.748100</td>\n",
       "      <td>-0.355068</td>\n",
       "      <td>      NaN</td>\n",
       "    </tr>\n",
       "    <tr>\n",
       "      <td><strong>d</strong></td>\n",
       "      <td>-0.740614</td>\n",
       "      <td> 0.625730</td>\n",
       "      <td> 0.153643</td>\n",
       "    </tr>\n",
       "  </tbody>\n",
       "</table>\n",
       "</div>"
      ],
      "text/plain": [
       "        bar       baz       foo\n",
       "a  0.929518 -0.478982  1.142439\n",
       "b  0.629167  1.374870 -1.709272\n",
       "c  0.748100 -0.355068       NaN\n",
       "d -0.740614  0.625730  0.153643"
      ]
     },
     "execution_count": 66,
     "metadata": {},
     "output_type": "execute_result"
    }
   ],
   "source": [
    "DataFrame(data)   # pass a dict "
   ]
  },
  {
   "cell_type": "markdown",
   "metadata": {},
   "source": [
    "Data alignment\n",
    "=============="
   ]
  },
  {
   "cell_type": "code",
   "execution_count": 5,
   "metadata": {
    "collapsed": true
   },
   "outputs": [],
   "source": [
    "close_px = read_csv('stock_data.csv', index_col=0, parse_dates=True)"
   ]
  },
  {
   "cell_type": "code",
   "execution_count": 2,
   "metadata": {
    "collapsed": false
   },
   "outputs": [
    {
     "name": "stdout",
     "output_type": "stream",
     "text": [
      ",AA,AAPL,GE,IBM,JNJ,MSFT,PEP,SPX,XOM\r\n",
      "2007-10-29 00:00:00,37.41,185.09,34.46,106.78,57.13,31.78,65.67,1540.98,85.51\r\n",
      "2007-10-30 00:00:00,36.43,187.0,34.39,106.15,56.99,32.7,65.8,1531.02,83.25\r\n",
      "2007-10-31 00:00:00,36.79,189.95,34.97,108.01,57.3,33.84,65.69,1549.38,84.03\r\n",
      "2007-11-01 00:00:00,35.22,187.44,34.27,105.72,56.85,34.07,64.51,1508.44,80.84\r\n",
      "2007-11-02 00:00:00,35.83,187.87,34.27,106.59,56.95,34.07,65.03,1509.65,80.32\r\n",
      "2007-11-05 00:00:00,35.22,186.18,34.15,105.48,56.7,33.77,64.84,1502.17,80.07\r\n",
      "2007-11-06 00:00:00,35.84,191.79,34.14,105.27,56.8,33.47,65.49,1520.27,82.56\r\n",
      "2007-11-07 00:00:00,34.76,186.3,33.2,103.69,56.19,32.65,64.46,1475.62,79.96\r\n",
      "2007-11-08 00:00:00,35.0,175.47,33.15,99.05,56.79,31.94,65.5,1474.77,82.0\r\n"
     ]
    }
   ],
   "source": [
    "!head -n 10 stock_data.csv"
   ]
  },
  {
   "cell_type": "code",
   "execution_count": 6,
   "metadata": {
    "collapsed": false
   },
   "outputs": [
    {
     "data": {
      "text/plain": [
       "<class 'pandas.core.frame.DataFrame'>\n",
       "DatetimeIndex: 1000 entries, 2007-10-29 00:00:00 to 2011-10-14 00:00:00\n",
       "Data columns:\n",
       "AA      1000  non-null values\n",
       "AAPL    1000  non-null values\n",
       "GE      1000  non-null values\n",
       "IBM     1000  non-null values\n",
       "JNJ     1000  non-null values\n",
       "MSFT    1000  non-null values\n",
       "PEP     1000  non-null values\n",
       "SPX     1000  non-null values\n",
       "XOM     1000  non-null values\n",
       "dtypes: float64(9)"
      ]
     },
     "execution_count": 6,
     "metadata": {},
     "output_type": "execute_result"
    }
   ],
   "source": [
    "close_px"
   ]
  },
  {
   "cell_type": "code",
   "execution_count": 5,
   "metadata": {
    "collapsed": false
   },
   "outputs": [
    {
     "name": "stdout",
     "output_type": "stream",
     "text": [
      "2011-09-19    411.63    2011-09-12    379.94\n",
      "2011-09-20    413.45    2011-09-13    384.62\n",
      "2011-09-21    412.14    2011-09-14    389.30\n",
      "2011-09-22    401.82    2011-09-15    392.96\n",
      "2011-09-23    404.30    2011-09-16    400.50\n",
      "2011-09-26    403.17    2011-09-19    411.63\n",
      "2011-09-27    399.26    2011-09-20    413.45\n",
      "2011-09-28    397.01    2011-09-21    412.14\n",
      "2011-09-29    390.57    2011-09-22    401.82\n",
      "2011-09-30    381.32    2011-09-23    404.30\n",
      "2011-10-03    374.60    2011-09-26    403.17\n",
      "2011-10-04    372.50    2011-09-27    399.26\n",
      "2011-10-05    378.25    2011-09-28    397.01\n",
      "2011-10-06    377.37    2011-09-29    390.57\n",
      "2011-10-07    369.80    2011-09-30    381.32\n",
      "2011-10-10    388.81    Name: AAPL          \n",
      "2011-10-11    400.29                        \n",
      "2011-10-12    402.19                        \n",
      "2011-10-13    408.43                        \n",
      "2011-10-14    422.00                        \n",
      "Name: AAPL                                  \n"
     ]
    }
   ],
   "source": [
    "s1 = close_px['AAPL'][-20:]      # the last 20 rows\n",
    "s2 = close_px['AAPL'][-25:-10]   # the last 25 - last 10 = 15 rows.\n",
    "side_by_side(s1, s2)"
   ]
  },
  {
   "cell_type": "code",
   "execution_count": 8,
   "metadata": {
    "collapsed": false
   },
   "outputs": [
    {
     "data": {
      "text/plain": [
       "2011-09-12       NaN\n",
       "2011-09-13       NaN\n",
       "2011-09-14       NaN\n",
       "2011-09-15       NaN\n",
       "2011-09-16       NaN\n",
       "2011-09-19    823.26\n",
       "2011-09-20    826.90\n",
       "2011-09-21    824.28\n",
       "2011-09-22    803.64\n",
       "2011-09-23    808.60\n",
       "2011-09-26    806.34\n",
       "2011-09-27    798.52\n",
       "2011-09-28    794.02\n",
       "2011-09-29    781.14\n",
       "2011-09-30    762.64\n",
       "2011-10-03       NaN\n",
       "2011-10-04       NaN\n",
       "2011-10-05       NaN\n",
       "2011-10-06       NaN\n",
       "2011-10-07       NaN\n",
       "2011-10-10       NaN\n",
       "2011-10-11       NaN\n",
       "2011-10-12       NaN\n",
       "2011-10-13       NaN\n",
       "2011-10-14       NaN\n",
       "Name: AAPL"
      ]
     },
     "execution_count": 8,
     "metadata": {},
     "output_type": "execute_result"
    }
   ],
   "source": [
    "s1 + s2"
   ]
  },
  {
   "cell_type": "code",
   "execution_count": 9,
   "metadata": {
    "collapsed": false
   },
   "outputs": [
    {
     "data": {
      "text/plain": [
       "2011-09-12    379.94\n",
       "2011-09-13    384.62\n",
       "2011-09-14    389.30\n",
       "2011-09-15    392.96\n",
       "2011-09-16    400.50\n",
       "2011-09-19    823.26\n",
       "2011-09-20    826.90\n",
       "2011-09-21    824.28\n",
       "2011-09-22    803.64\n",
       "2011-09-23    808.60\n",
       "2011-09-26    806.34\n",
       "2011-09-27    798.52\n",
       "2011-09-28    794.02\n",
       "2011-09-29    781.14\n",
       "2011-09-30    762.64\n",
       "2011-10-03    374.60\n",
       "2011-10-04    372.50\n",
       "2011-10-05    378.25\n",
       "2011-10-06    377.37\n",
       "2011-10-07    369.80\n",
       "2011-10-10    388.81\n",
       "2011-10-11    400.29\n",
       "2011-10-12    402.19\n",
       "2011-10-13    408.43\n",
       "2011-10-14    422.00\n",
       "Name: AAPL"
      ]
     },
     "execution_count": 9,
     "metadata": {},
     "output_type": "execute_result"
    }
   ],
   "source": [
    "s1.add(s2, fill_value=0)"
   ]
  },
  {
   "cell_type": "code",
   "execution_count": 7,
   "metadata": {
    "collapsed": false
   },
   "outputs": [
    {
     "data": {
      "text/plain": [
       "2011-09-19    823.26\n",
       "2011-09-20    826.90\n",
       "2011-09-21    824.28\n",
       "2011-09-22    803.64\n",
       "2011-09-23    808.60\n",
       "2011-09-26    806.34\n",
       "2011-09-27    798.52\n",
       "2011-09-28    794.02\n",
       "2011-09-29    781.14\n",
       "2011-09-30    762.64\n",
       "Name: AAPL"
      ]
     },
     "execution_count": 7,
     "metadata": {},
     "output_type": "execute_result"
    }
   ],
   "source": [
    "(s1 + s2).dropna()"
   ]
  },
  {
   "cell_type": "code",
   "execution_count": 21,
   "metadata": {
    "collapsed": false
   },
   "outputs": [],
   "source": [
    "df = close_px.ix[-10:, :3]\n",
    "df"
   ]
  },
  {
   "cell_type": "code",
   "execution_count": 22,
   "metadata": {
    "collapsed": false
   },
   "outputs": [],
   "source": [
    "side_by_side(s1.reindex(s2.index), s2)   # align indexes of s1 and s2. Print 2 objects alongside each other."
   ]
  },
  {
   "cell_type": "code",
   "execution_count": 6,
   "metadata": {
    "collapsed": false
   },
   "outputs": [
    {
     "name": "stdout",
     "output_type": "stream",
     "text": [
      "2011-09-12       NaN    2011-09-12    379.94\n",
      "2011-09-13       NaN    2011-09-13    384.62\n",
      "2011-09-14       NaN    2011-09-14    389.30\n",
      "2011-09-15       NaN    2011-09-15    392.96\n",
      "2011-09-16       NaN    2011-09-16    400.50\n",
      "2011-09-19    411.63    2011-09-19    411.63\n",
      "2011-09-20    413.45    2011-09-20    413.45\n",
      "2011-09-21    412.14    2011-09-21    412.14\n",
      "2011-09-22    401.82    2011-09-22    401.82\n",
      "2011-09-23    404.30    2011-09-23    404.30\n",
      "2011-09-26    403.17    2011-09-26    403.17\n",
      "2011-09-27    399.26    2011-09-27    399.26\n",
      "2011-09-28    397.01    2011-09-28    397.01\n",
      "2011-09-29    390.57    2011-09-29    390.57\n",
      "2011-09-30    381.32    2011-09-30    381.32\n",
      "Name: AAPL              Name: AAPL          \n"
     ]
    }
   ],
   "source": [
    "side_by_side(s1.ix[s2.index], s2)   # same as above, supported in newer version of 0.12 ipython."
   ]
  },
  {
   "cell_type": "code",
   "execution_count": 23,
   "metadata": {
    "collapsed": false
   },
   "outputs": [],
   "source": [
    "b, c  = s1.align(s2, join='inner')\n",
    "side_by_side(b, c)"
   ]
  },
  {
   "cell_type": "code",
   "execution_count": 24,
   "metadata": {
    "collapsed": false
   },
   "outputs": [],
   "source": [
    "b, c  = s1.align(s2, join='outer')\n",
    "side_by_side(b, c)"
   ]
  },
  {
   "cell_type": "code",
   "execution_count": 25,
   "metadata": {
    "collapsed": false
   },
   "outputs": [],
   "source": [
    "b, c  = s1.align(s2, join='right')\n",
    "side_by_side(b, c)"
   ]
  },
  {
   "cell_type": "code",
   "execution_count": 7,
   "metadata": {
    "collapsed": false
   },
   "outputs": [
    {
     "data": {
      "text/html": [
       "<div style=\"max-height:1000px;max-width:1500px;overflow:auto;\">\n",
       "<table border=\"1\">\n",
       "  <thead>\n",
       "    <tr>\n",
       "      <th></th>\n",
       "      <th>AAPL</th>\n",
       "      <th>IBM</th>\n",
       "      <th>MSFT</th>\n",
       "    </tr>\n",
       "  </thead>\n",
       "  <tbody>\n",
       "    <tr>\n",
       "      <td><strong>2011-10-03 00:00:00</strong></td>\n",
       "      <td> 374.60</td>\n",
       "      <td> 173.29</td>\n",
       "      <td> 24.53</td>\n",
       "    </tr>\n",
       "    <tr>\n",
       "      <td><strong>2011-10-04 00:00:00</strong></td>\n",
       "      <td> 372.50</td>\n",
       "      <td> 174.74</td>\n",
       "      <td> 25.34</td>\n",
       "    </tr>\n",
       "    <tr>\n",
       "      <td><strong>2011-10-05 00:00:00</strong></td>\n",
       "      <td> 378.25</td>\n",
       "      <td> 176.85</td>\n",
       "      <td> 25.89</td>\n",
       "    </tr>\n",
       "    <tr>\n",
       "      <td><strong>2011-10-06 00:00:00</strong></td>\n",
       "      <td> 377.37</td>\n",
       "      <td> 181.69</td>\n",
       "      <td> 26.34</td>\n",
       "    </tr>\n",
       "    <tr>\n",
       "      <td><strong>2011-10-07 00:00:00</strong></td>\n",
       "      <td> 369.80</td>\n",
       "      <td> 182.39</td>\n",
       "      <td> 26.25</td>\n",
       "    </tr>\n",
       "    <tr>\n",
       "      <td><strong>2011-10-10 00:00:00</strong></td>\n",
       "      <td> 388.81</td>\n",
       "      <td> 186.62</td>\n",
       "      <td> 26.94</td>\n",
       "    </tr>\n",
       "    <tr>\n",
       "      <td><strong>2011-10-11 00:00:00</strong></td>\n",
       "      <td> 400.29</td>\n",
       "      <td> 185.00</td>\n",
       "      <td> 27.00</td>\n",
       "    </tr>\n",
       "    <tr>\n",
       "      <td><strong>2011-10-12 00:00:00</strong></td>\n",
       "      <td> 402.19</td>\n",
       "      <td> 186.12</td>\n",
       "      <td> 26.96</td>\n",
       "    </tr>\n",
       "    <tr>\n",
       "      <td><strong>2011-10-13 00:00:00</strong></td>\n",
       "      <td> 408.43</td>\n",
       "      <td> 186.82</td>\n",
       "      <td> 27.18</td>\n",
       "    </tr>\n",
       "    <tr>\n",
       "      <td><strong>2011-10-14 00:00:00</strong></td>\n",
       "      <td> 422.00</td>\n",
       "      <td> 190.53</td>\n",
       "      <td> 27.27</td>\n",
       "    </tr>\n",
       "  </tbody>\n",
       "</table>\n",
       "</div>"
      ],
      "text/plain": [
       "              AAPL     IBM   MSFT\n",
       "2011-10-03  374.60  173.29  24.53\n",
       "2011-10-04  372.50  174.74  25.34\n",
       "2011-10-05  378.25  176.85  25.89\n",
       "2011-10-06  377.37  181.69  26.34\n",
       "2011-10-07  369.80  182.39  26.25\n",
       "2011-10-10  388.81  186.62  26.94\n",
       "2011-10-11  400.29  185.00  27.00\n",
       "2011-10-12  402.19  186.12  26.96\n",
       "2011-10-13  408.43  186.82  27.18\n",
       "2011-10-14  422.00  190.53  27.27"
      ]
     },
     "execution_count": 7,
     "metadata": {},
     "output_type": "execute_result"
    }
   ],
   "source": [
    "df = close_px.ix[-10:, ['AAPL', 'IBM', 'MSFT']]\n",
    "df"
   ]
  },
  {
   "cell_type": "code",
   "execution_count": 8,
   "metadata": {
    "collapsed": false
   },
   "outputs": [
    {
     "name": "stdout",
     "output_type": "stream",
     "text": [
      "              AAPL     IBM   MSFT                   IBM   MSFT\n",
      "2011-10-03  374.60  173.29  24.53    2011-10-03  173.29  24.53\n",
      "2011-10-04  372.50  174.74  25.34    2011-10-05  176.85  25.89\n",
      "2011-10-05  378.25  176.85  25.89    2011-10-07  182.39  26.25\n",
      "2011-10-06  377.37  181.69  26.34    2011-10-11  185.00  27.00\n",
      "2011-10-07  369.80  182.39  26.25    2011-10-13  186.82  27.18\n",
      "2011-10-10  388.81  186.62  26.94                             \n",
      "2011-10-11  400.29  185.00  27.00                             \n",
      "2011-10-12  402.19  186.12  26.96                             \n",
      "2011-10-13  408.43  186.82  27.18                             \n",
      "2011-10-14  422.00  190.53  27.27                             \n"
     ]
    }
   ],
   "source": [
    "df2 = df.ix[::2, ['IBM', 'MSFT']]\n",
    "side_by_side(df, df2)"
   ]
  },
  {
   "cell_type": "code",
   "execution_count": 28,
   "metadata": {
    "collapsed": false
   },
   "outputs": [],
   "source": [
    "df + df2"
   ]
  },
  {
   "cell_type": "code",
   "execution_count": 29,
   "metadata": {
    "collapsed": false
   },
   "outputs": [],
   "source": [
    "b, c = df.align(df2, join='inner')\n",
    "side_by_side(b, c) "
   ]
  },
  {
   "cell_type": "markdown",
   "metadata": {},
   "source": [
    "Transposing: no copy if all columns are same type\n",
    "-------------------------------------------------"
   ]
  },
  {
   "cell_type": "code",
   "execution_count": 9,
   "metadata": {
    "collapsed": false
   },
   "outputs": [
    {
     "data": {
      "text/html": [
       "<div style=\"max-height:1000px;max-width:1500px;overflow:auto;\">\n",
       "<table border=\"1\">\n",
       "  <thead>\n",
       "    <tr>\n",
       "      <th></th>\n",
       "      <th>2011-10-03 00:00:00</th>\n",
       "      <th>2011-10-04 00:00:00</th>\n",
       "      <th>2011-10-05 00:00:00</th>\n",
       "      <th>2011-10-06 00:00:00</th>\n",
       "      <th>2011-10-07 00:00:00</th>\n",
       "    </tr>\n",
       "  </thead>\n",
       "  <tbody>\n",
       "    <tr>\n",
       "      <td><strong>AAPL</strong></td>\n",
       "      <td> 374.60</td>\n",
       "      <td> 372.50</td>\n",
       "      <td> 378.25</td>\n",
       "      <td> 377.37</td>\n",
       "      <td> 369.80</td>\n",
       "    </tr>\n",
       "    <tr>\n",
       "      <td><strong>IBM</strong></td>\n",
       "      <td> 173.29</td>\n",
       "      <td> 174.74</td>\n",
       "      <td> 176.85</td>\n",
       "      <td> 181.69</td>\n",
       "      <td> 182.39</td>\n",
       "    </tr>\n",
       "    <tr>\n",
       "      <td><strong>MSFT</strong></td>\n",
       "      <td>  24.53</td>\n",
       "      <td>  25.34</td>\n",
       "      <td>  25.89</td>\n",
       "      <td>  26.34</td>\n",
       "      <td>  26.25</td>\n",
       "    </tr>\n",
       "  </tbody>\n",
       "</table>\n",
       "</div>"
      ],
      "text/plain": [
       "      2011-10-03  2011-10-04  2011-10-05  2011-10-06  2011-10-07\n",
       "AAPL      374.60      372.50      378.25      377.37      369.80\n",
       "IBM       173.29      174.74      176.85      181.69      182.39\n",
       "MSFT       24.53       25.34       25.89       26.34       26.25"
      ]
     },
     "execution_count": 9,
     "metadata": {},
     "output_type": "execute_result"
    }
   ],
   "source": [
    "df[:5].T"
   ]
  },
  {
   "cell_type": "markdown",
   "metadata": {},
   "source": [
    "Columns can be any type\n",
    "-----------------------"
   ]
  },
  {
   "cell_type": "code",
   "execution_count": 10,
   "metadata": {
    "collapsed": false
   },
   "outputs": [
    {
     "name": "stderr",
     "output_type": "stream",
     "text": [
      "/usr/local/Cellar/python/2.7.2/Frameworks/Python.framework/Versions/2.7/lib/python2.7/site-packages/pandas-0.8.1-py2.7-macosx-10.5-intel.egg/pandas/core/daterange.py:21: FutureWarning: DateRange is deprecated, use DatetimeIndex instead\n",
      "  FutureWarning)\n"
     ]
    },
    {
     "data": {
      "text/html": [
       "<div style=\"max-height:1000px;max-width:1500px;overflow:auto;\">\n",
       "<table border=\"1\">\n",
       "  <thead>\n",
       "    <tr>\n",
       "      <th></th>\n",
       "      <th>floats</th>\n",
       "      <th>ints</th>\n",
       "      <th>strings</th>\n",
       "      <th>bools</th>\n",
       "      <th>objects</th>\n",
       "    </tr>\n",
       "  </thead>\n",
       "  <tbody>\n",
       "    <tr>\n",
       "      <td><strong>0</strong></td>\n",
       "      <td>-0.585959</td>\n",
       "      <td> 0</td>\n",
       "      <td> foo</td>\n",
       "      <td> False</td>\n",
       "      <td>2000-01-03 00:00:00</td>\n",
       "    </tr>\n",
       "    <tr>\n",
       "      <td><strong>1</strong></td>\n",
       "      <td> 0.675488</td>\n",
       "      <td> 1</td>\n",
       "      <td> bar</td>\n",
       "      <td>  True</td>\n",
       "      <td>2000-01-04 00:00:00</td>\n",
       "    </tr>\n",
       "    <tr>\n",
       "      <td><strong>2</strong></td>\n",
       "      <td> 1.801818</td>\n",
       "      <td> 2</td>\n",
       "      <td> foo</td>\n",
       "      <td>  True</td>\n",
       "      <td>2000-01-05 00:00:00</td>\n",
       "    </tr>\n",
       "    <tr>\n",
       "      <td><strong>3</strong></td>\n",
       "      <td> 0.665562</td>\n",
       "      <td> 3</td>\n",
       "      <td> bar</td>\n",
       "      <td>  True</td>\n",
       "      <td>2000-01-06 00:00:00</td>\n",
       "    </tr>\n",
       "    <tr>\n",
       "      <td><strong>4</strong></td>\n",
       "      <td>-1.089721</td>\n",
       "      <td> 4</td>\n",
       "      <td> foo</td>\n",
       "      <td> False</td>\n",
       "      <td>2000-01-07 00:00:00</td>\n",
       "    </tr>\n",
       "    <tr>\n",
       "      <td><strong>5</strong></td>\n",
       "      <td>-0.298291</td>\n",
       "      <td> 5</td>\n",
       "      <td> bar</td>\n",
       "      <td> False</td>\n",
       "      <td>2000-01-10 00:00:00</td>\n",
       "    </tr>\n",
       "    <tr>\n",
       "      <td><strong>6</strong></td>\n",
       "      <td> 0.657715</td>\n",
       "      <td> 6</td>\n",
       "      <td> foo</td>\n",
       "      <td>  True</td>\n",
       "      <td>2000-01-11 00:00:00</td>\n",
       "    </tr>\n",
       "    <tr>\n",
       "      <td><strong>7</strong></td>\n",
       "      <td>-0.182239</td>\n",
       "      <td> 7</td>\n",
       "      <td> bar</td>\n",
       "      <td> False</td>\n",
       "      <td>2000-01-12 00:00:00</td>\n",
       "    </tr>\n",
       "    <tr>\n",
       "      <td><strong>8</strong></td>\n",
       "      <td>-0.145589</td>\n",
       "      <td> 8</td>\n",
       "      <td> foo</td>\n",
       "      <td> False</td>\n",
       "      <td>2000-01-13 00:00:00</td>\n",
       "    </tr>\n",
       "    <tr>\n",
       "      <td><strong>9</strong></td>\n",
       "      <td> 0.551702</td>\n",
       "      <td> 9</td>\n",
       "      <td> bar</td>\n",
       "      <td>  True</td>\n",
       "      <td>2000-01-14 00:00:00</td>\n",
       "    </tr>\n",
       "  </tbody>\n",
       "</table>\n",
       "</div>"
      ],
      "text/plain": [
       "     floats  ints strings  bools             objects\n",
       "0 -0.585959     0     foo  False 2000-01-03 00:00:00\n",
       "1  0.675488     1     bar   True 2000-01-04 00:00:00\n",
       "2  1.801818     2     foo   True 2000-01-05 00:00:00\n",
       "3  0.665562     3     bar   True 2000-01-06 00:00:00\n",
       "4 -1.089721     4     foo  False 2000-01-07 00:00:00\n",
       "5 -0.298291     5     bar  False 2000-01-10 00:00:00\n",
       "6  0.657715     6     foo   True 2000-01-11 00:00:00\n",
       "7 -0.182239     7     bar  False 2000-01-12 00:00:00\n",
       "8 -0.145589     8     foo  False 2000-01-13 00:00:00\n",
       "9  0.551702     9     bar   True 2000-01-14 00:00:00"
      ]
     },
     "execution_count": 10,
     "metadata": {},
     "output_type": "execute_result"
    }
   ],
   "source": [
    "n = 10\n",
    "foo = DataFrame(index=range(n))\n",
    "foo['floats'] = np.random.randn(n)\n",
    "foo['ints'] = np.arange(n)\n",
    "foo['strings'] = ['foo', 'bar'] * (n / 2)\n",
    "foo['bools'] = foo['floats'] > 0\n",
    "foo['objects'] = DateRange('1/1/2000', periods=n)\n",
    "foo"
   ]
  },
  {
   "cell_type": "code",
   "execution_count": 11,
   "metadata": {
    "collapsed": false
   },
   "outputs": [
    {
     "data": {
      "text/plain": [
       "floats            float64\n",
       "ints                int64\n",
       "strings            object\n",
       "bools                bool\n",
       "objects    datetime64[ns]"
      ]
     },
     "execution_count": 11,
     "metadata": {},
     "output_type": "execute_result"
    }
   ],
   "source": [
    "foo.dtypes"
   ]
  },
  {
   "cell_type": "markdown",
   "metadata": {},
   "source": [
    "N.B. transposing is not roundtrippable in this case (column-oriented data structure)"
   ]
  },
  {
   "cell_type": "code",
   "execution_count": 12,
   "metadata": {
    "collapsed": false
   },
   "outputs": [
    {
     "data": {
      "text/html": [
       "<div style=\"max-height:1000px;max-width:1500px;overflow:auto;\">\n",
       "<table border=\"1\">\n",
       "  <thead>\n",
       "    <tr>\n",
       "      <th></th>\n",
       "      <th>floats</th>\n",
       "      <th>ints</th>\n",
       "      <th>strings</th>\n",
       "      <th>bools</th>\n",
       "      <th>objects</th>\n",
       "    </tr>\n",
       "  </thead>\n",
       "  <tbody>\n",
       "    <tr>\n",
       "      <td><strong>0</strong></td>\n",
       "      <td>-0.5859591</td>\n",
       "      <td> 0</td>\n",
       "      <td> foo</td>\n",
       "      <td> False</td>\n",
       "      <td> 2000-01-03 00:00:00</td>\n",
       "    </tr>\n",
       "    <tr>\n",
       "      <td><strong>1</strong></td>\n",
       "      <td>  0.675488</td>\n",
       "      <td> 1</td>\n",
       "      <td> bar</td>\n",
       "      <td>  True</td>\n",
       "      <td> 2000-01-04 00:00:00</td>\n",
       "    </tr>\n",
       "    <tr>\n",
       "      <td><strong>2</strong></td>\n",
       "      <td>  1.801818</td>\n",
       "      <td> 2</td>\n",
       "      <td> foo</td>\n",
       "      <td>  True</td>\n",
       "      <td> 2000-01-05 00:00:00</td>\n",
       "    </tr>\n",
       "    <tr>\n",
       "      <td><strong>3</strong></td>\n",
       "      <td> 0.6655621</td>\n",
       "      <td> 3</td>\n",
       "      <td> bar</td>\n",
       "      <td>  True</td>\n",
       "      <td> 2000-01-06 00:00:00</td>\n",
       "    </tr>\n",
       "    <tr>\n",
       "      <td><strong>4</strong></td>\n",
       "      <td> -1.089721</td>\n",
       "      <td> 4</td>\n",
       "      <td> foo</td>\n",
       "      <td> False</td>\n",
       "      <td> 2000-01-07 00:00:00</td>\n",
       "    </tr>\n",
       "    <tr>\n",
       "      <td><strong>5</strong></td>\n",
       "      <td>-0.2982908</td>\n",
       "      <td> 5</td>\n",
       "      <td> bar</td>\n",
       "      <td> False</td>\n",
       "      <td> 2000-01-10 00:00:00</td>\n",
       "    </tr>\n",
       "    <tr>\n",
       "      <td><strong>6</strong></td>\n",
       "      <td> 0.6577153</td>\n",
       "      <td> 6</td>\n",
       "      <td> foo</td>\n",
       "      <td>  True</td>\n",
       "      <td> 2000-01-11 00:00:00</td>\n",
       "    </tr>\n",
       "    <tr>\n",
       "      <td><strong>7</strong></td>\n",
       "      <td> -0.182239</td>\n",
       "      <td> 7</td>\n",
       "      <td> bar</td>\n",
       "      <td> False</td>\n",
       "      <td> 2000-01-12 00:00:00</td>\n",
       "    </tr>\n",
       "    <tr>\n",
       "      <td><strong>8</strong></td>\n",
       "      <td>-0.1455885</td>\n",
       "      <td> 8</td>\n",
       "      <td> foo</td>\n",
       "      <td> False</td>\n",
       "      <td> 2000-01-13 00:00:00</td>\n",
       "    </tr>\n",
       "    <tr>\n",
       "      <td><strong>9</strong></td>\n",
       "      <td> 0.5517019</td>\n",
       "      <td> 9</td>\n",
       "      <td> bar</td>\n",
       "      <td>  True</td>\n",
       "      <td> 2000-01-14 00:00:00</td>\n",
       "    </tr>\n",
       "  </tbody>\n",
       "</table>\n",
       "</div>"
      ],
      "text/plain": [
       "      floats ints strings  bools              objects\n",
       "0 -0.5859591    0     foo  False  2000-01-03 00:00:00\n",
       "1   0.675488    1     bar   True  2000-01-04 00:00:00\n",
       "2   1.801818    2     foo   True  2000-01-05 00:00:00\n",
       "3  0.6655621    3     bar   True  2000-01-06 00:00:00\n",
       "4  -1.089721    4     foo  False  2000-01-07 00:00:00\n",
       "5 -0.2982908    5     bar  False  2000-01-10 00:00:00\n",
       "6  0.6577153    6     foo   True  2000-01-11 00:00:00\n",
       "7  -0.182239    7     bar  False  2000-01-12 00:00:00\n",
       "8 -0.1455885    8     foo  False  2000-01-13 00:00:00\n",
       "9  0.5517019    9     bar   True  2000-01-14 00:00:00"
      ]
     },
     "execution_count": 12,
     "metadata": {},
     "output_type": "execute_result"
    }
   ],
   "source": [
    "foo.T.T"
   ]
  },
  {
   "cell_type": "code",
   "execution_count": 34,
   "metadata": {
    "collapsed": false
   },
   "outputs": [],
   "source": [
    "foo.T.T.dtypes"
   ]
  },
  {
   "cell_type": "markdown",
   "metadata": {},
   "source": [
    "Function application\n",
    "====================\n",
    "\n",
    "You can apply arbitrary functions to the rows or columns of a DataFrame"
   ]
  },
  {
   "cell_type": "code",
   "execution_count": 13,
   "metadata": {
    "collapsed": false
   },
   "outputs": [
    {
     "data": {
      "text/plain": [
       "AAPL    389.424\n",
       "IBM     182.405\n",
       "MSFT     26.370"
      ]
     },
     "execution_count": 13,
     "metadata": {},
     "output_type": "execute_result"
    }
   ],
   "source": [
    "df.apply(np.mean)"
   ]
  },
  {
   "cell_type": "code",
   "execution_count": 14,
   "metadata": {
    "collapsed": false
   },
   "outputs": [
    {
     "data": {
      "text/plain": [
       "AAPL    389.424\n",
       "IBM     182.405\n",
       "MSFT     26.370"
      ]
     },
     "execution_count": 14,
     "metadata": {},
     "output_type": "execute_result"
    }
   ],
   "source": [
    "df.mean()   # same as above.   df.mean? to look up the function usage."
   ]
  },
  {
   "cell_type": "code",
   "execution_count": 15,
   "metadata": {
    "collapsed": false
   },
   "outputs": [
    {
     "data": {
      "text/plain": [
       "2011-10-03    190.806667\n",
       "2011-10-04    190.860000\n",
       "2011-10-05    193.663333\n",
       "2011-10-06    195.133333\n",
       "2011-10-07    192.813333\n",
       "2011-10-10    200.790000\n",
       "2011-10-11    204.096667\n",
       "2011-10-12    205.090000\n",
       "2011-10-13    207.476667\n",
       "2011-10-14    213.266667"
      ]
     },
     "execution_count": 15,
     "metadata": {},
     "output_type": "execute_result"
    }
   ],
   "source": [
    "df.mean(1)   # get the mean of the rows based on a column. Also excludes missing data (NaN: not a number)."
   ]
  },
  {
   "cell_type": "code",
   "execution_count": 17,
   "metadata": {
    "collapsed": false
   },
   "outputs": [
    {
     "data": {
      "text/plain": [
       "2011-10-03    190.806667\n",
       "2011-10-04    190.860000\n",
       "2011-10-05    193.663333\n",
       "2011-10-06    195.133333\n",
       "2011-10-07    192.813333\n",
       "2011-10-10    200.790000\n",
       "2011-10-11    204.096667\n",
       "2011-10-12    205.090000\n",
       "2011-10-13    207.476667\n",
       "2011-10-14    213.266667"
      ]
     },
     "execution_count": 17,
     "metadata": {},
     "output_type": "execute_result"
    }
   ],
   "source": [
    "df.mean(1, skipna=False)   # flag skipna: to include NaN. In this data, no NaN."
   ]
  },
  {
   "cell_type": "code",
   "execution_count": 16,
   "metadata": {
    "collapsed": false
   },
   "outputs": [
    {
     "data": {
      "text/plain": [
       "2011-10-03    190.806667\n",
       "2011-10-04    190.860000\n",
       "2011-10-05    193.663333\n",
       "2011-10-06    195.133333\n",
       "2011-10-07    192.813333\n",
       "2011-10-10    200.790000\n",
       "2011-10-11    204.096667\n",
       "2011-10-12    205.090000\n",
       "2011-10-13    207.476667\n",
       "2011-10-14    213.266667"
      ]
     },
     "execution_count": 16,
     "metadata": {},
     "output_type": "execute_result"
    }
   ],
   "source": [
    "df.apply(np.mean, axis=1)   # same as above."
   ]
  },
  {
   "cell_type": "markdown",
   "metadata": {},
   "source": [
    "You can get as fancy as you want"
   ]
  },
  {
   "cell_type": "code",
   "execution_count": 18,
   "metadata": {
    "collapsed": false
   },
   "outputs": [
    {
     "data": {
      "text/plain": [
       "<class 'pandas.core.frame.DataFrame'>\n",
       "DatetimeIndex: 1000 entries, 2007-10-29 00:00:00 to 2011-10-14 00:00:00\n",
       "Data columns:\n",
       "AA      1000  non-null values\n",
       "AAPL    1000  non-null values\n",
       "GE      1000  non-null values\n",
       "IBM     1000  non-null values\n",
       "JNJ     1000  non-null values\n",
       "MSFT    1000  non-null values\n",
       "PEP     1000  non-null values\n",
       "SPX     1000  non-null values\n",
       "XOM     1000  non-null values\n",
       "dtypes: float64(9)"
      ]
     },
     "execution_count": 18,
     "metadata": {},
     "output_type": "execute_result"
    }
   ],
   "source": [
    "close_px    # Output: 1000 rows."
   ]
  },
  {
   "cell_type": "code",
   "execution_count": 19,
   "metadata": {
    "collapsed": false
   },
   "outputs": [
    {
     "data": {
      "text/plain": [
       "2007-10-29    185.09\n",
       "2007-10-30    187.00\n",
       "2007-10-31    189.95\n",
       "2007-11-01    187.44\n",
       "2007-11-02    187.87\n",
       "2007-11-05    186.18\n",
       "2007-11-06    191.79\n",
       "2007-11-07    186.30\n",
       "2007-11-08    175.47\n",
       "2007-11-09    165.37\n",
       "2007-11-12    153.76\n",
       "2007-11-13    169.96\n",
       "2007-11-14    166.11\n",
       "2007-11-15    164.30\n",
       "2007-11-16    166.39\n",
       "...\n",
       "2011-09-26    403.17\n",
       "2011-09-27    399.26\n",
       "2011-09-28    397.01\n",
       "2011-09-29    390.57\n",
       "2011-09-30    381.32\n",
       "2011-10-03    374.60\n",
       "2011-10-04    372.50\n",
       "2011-10-05    378.25\n",
       "2011-10-06    377.37\n",
       "2011-10-07    369.80\n",
       "2011-10-10    388.81\n",
       "2011-10-11    400.29\n",
       "2011-10-12    402.19\n",
       "2011-10-13    408.43\n",
       "2011-10-14    422.00\n",
       "Name: AAPL, Length: 1000"
      ]
     },
     "execution_count": 19,
     "metadata": {},
     "output_type": "execute_result"
    }
   ],
   "source": [
    "close_px.AAPL     # For easier typing, after dot ., use tab to select the name of the stock."
   ]
  },
  {
   "cell_type": "code",
   "execution_count": 21,
   "metadata": {
    "collapsed": false
   },
   "outputs": [
    {
     "data": {
      "text/plain": [
       "<Timestamp: 2011-10-14 00:00:00>"
      ]
     },
     "execution_count": 21,
     "metadata": {},
     "output_type": "execute_result"
    }
   ],
   "source": [
    "close_px.AAPL.idxmax() # gives index of its maximum value."
   ]
  },
  {
   "cell_type": "code",
   "execution_count": 22,
   "metadata": {
    "collapsed": false
   },
   "outputs": [
    {
     "data": {
      "text/plain": [
       "<Timestamp: 2011-10-14 00:00:00>"
      ]
     },
     "execution_count": 22,
     "metadata": {},
     "output_type": "execute_result"
    }
   ],
   "source": [
    "close_px.AAPL.index[close_px.AAPL.argmax()]    # If you are numpy aficionado, does the same thing."
   ]
  },
  {
   "cell_type": "code",
   "execution_count": 23,
   "metadata": {
    "collapsed": false
   },
   "outputs": [
    {
     "data": {
      "text/plain": [
       "AA      2008-05-19 00:00:00\n",
       "AAPL    2011-10-14 00:00:00\n",
       "GE      2007-10-31 00:00:00\n",
       "IBM     2011-10-14 00:00:00\n",
       "JNJ     2011-07-07 00:00:00\n",
       "MSFT    2007-11-01 00:00:00\n",
       "PEP     2008-01-10 00:00:00\n",
       "SPX     2007-10-31 00:00:00\n",
       "XOM     2008-05-20 00:00:00"
      ]
     },
     "execution_count": 23,
     "metadata": {},
     "output_type": "execute_result"
    }
   ],
   "source": [
    "def peak_date(series):\n",
    "    return series.index[series.argmax()]    # new method: series.idxmax()\n",
    "close_px.apply(peak_date)"
   ]
  },
  {
   "cell_type": "code",
   "execution_count": 24,
   "metadata": {
    "collapsed": false
   },
   "outputs": [
    {
     "data": {
      "text/plain": [
       "AAPL    52.20\n",
       "IBM     17.24\n",
       "MSFT     2.74"
      ]
     },
     "execution_count": 24,
     "metadata": {},
     "output_type": "execute_result"
    }
   ],
   "source": [
    "df.apply(lambda x: x.max() - x.min()) # np.ptp"
   ]
  },
  {
   "cell_type": "code",
   "execution_count": 25,
   "metadata": {
    "collapsed": false
   },
   "outputs": [
    {
     "data": {
      "text/plain": [
       "<class 'pandas.core.frame.DataFrame'>\n",
       "DatetimeIndex: 1000 entries, 2007-10-29 00:00:00 to 2011-10-14 00:00:00\n",
       "Data columns:\n",
       "AA      1000  non-null values\n",
       "AAPL    1000  non-null values\n",
       "GE      1000  non-null values\n",
       "IBM     1000  non-null values\n",
       "JNJ     1000  non-null values\n",
       "MSFT    1000  non-null values\n",
       "PEP     1000  non-null values\n",
       "SPX     1000  non-null values\n",
       "XOM     1000  non-null values\n",
       "dtypes: float64(9)"
      ]
     },
     "execution_count": 25,
     "metadata": {},
     "output_type": "execute_result"
    }
   ],
   "source": [
    "np.log(close_px)"
   ]
  },
  {
   "cell_type": "markdown",
   "metadata": {},
   "source": [
    "Plotting\n",
    "========\n",
    "\n",
    "Some basic plotting integration with matplotlib in Series / DataFrame"
   ]
  },
  {
   "cell_type": "code",
   "execution_count": 26,
   "metadata": {
    "collapsed": false
   },
   "outputs": [
    {
     "data": {
      "text/plain": [
       "<class 'pandas.core.frame.DataFrame'>\n",
       "DatetimeIndex: 1000 entries, 2007-10-29 00:00:00 to 2011-10-14 00:00:00\n",
       "Data columns:\n",
       "AAPL    1000  non-null values\n",
       "IBM     1000  non-null values\n",
       "MSFT    1000  non-null values\n",
       "XOM     1000  non-null values\n",
       "dtypes: float64(4)"
      ]
     },
     "execution_count": 26,
     "metadata": {},
     "output_type": "execute_result"
    }
   ],
   "source": [
    "close_px[['AAPL', 'IBM', 'MSFT', 'XOM']]#.plot()    # Can pass a list of col names to get items, so you don't have to use ix."
   ]
  },
  {
   "cell_type": "code",
   "execution_count": 27,
   "metadata": {
    "collapsed": false
   },
   "outputs": [
    {
     "data": {
      "text/plain": [
       "<matplotlib.axes.AxesSubplot at 0x1068ab190>"
      ]
     },
     "execution_count": 27,
     "metadata": {},
     "output_type": "execute_result"
    },
    {
     "data": {
      "image/png": "[encoded data removed]"
     },
     "metadata": {},
     "output_type": "display_data"
    }
   ],
   "source": [
    "close_px[['AAPL', 'IBM', 'MSFT', 'XOM']].plot() "
   ]
  },
  {
   "cell_type": "code",
   "execution_count": 30,
   "metadata": {
    "collapsed": false
   },
   "outputs": [
    {
     "data": {
      "text/plain": [
       "AA        10.26\n",
       "AAPL     422.00\n",
       "GE        16.60\n",
       "IBM      190.53\n",
       "JNJ       64.72\n",
       "MSFT      27.27\n",
       "PEP       62.24\n",
       "SPX     1224.58\n",
       "XOM       78.11\n",
       "Name: 2011-10-14 00:00:00"
      ]
     },
     "execution_count": 30,
     "metadata": {},
     "output_type": "execute_result"
    }
   ],
   "source": [
    "close_px.ix[-1]"
   ]
  },
  {
   "cell_type": "code",
   "execution_count": 29,
   "metadata": {
    "collapsed": false
   },
   "outputs": [
    {
     "data": {
      "text/plain": [
       "<matplotlib.lines.Line2D at 0x107675c90>"
      ]
     },
     "execution_count": 29,
     "metadata": {},
     "output_type": "execute_result"
    },
    {
     "data": {
      "image/png": "[encoded data removed]"
     },
     "metadata": {},
     "output_type": "display_data"
    }
   ],
   "source": [
    "close_px.ix[-1].plot(kind='bar')    # the last row of the data.\n",
    "title('Prices on %s' % close_px.index[-1])\n",
    "axhline(0)"
   ]
  },
  {
   "cell_type": "markdown",
   "metadata": {},
   "source": [
    "Hierarchical indexing\n",
    "---------------------"
   ]
  },
  {
   "cell_type": "code",
   "execution_count": 44,
   "metadata": {
    "collapsed": false
   },
   "outputs": [],
   "source": [
    "index = MultiIndex(levels=[['foo', 'bar', 'baz', 'qux'],\n",
    "                                   ['one', 'two', 'three']],\n",
    "                           labels=[[0, 0, 0, 1, 1, 2, 2, 3, 3, 3],\n",
    "                                   [0, 1, 2, 0, 1, 1, 2, 0, 1, 2]])\n",
    "hdf = DataFrame(np.random.randn(10, 3), index=index,\n",
    "                columns=['A', 'B', 'C'])\n",
    "hdf"
   ]
  },
  {
   "cell_type": "code",
   "execution_count": 45,
   "metadata": {
    "collapsed": false
   },
   "outputs": [],
   "source": [
    "hdf.ix['foo']"
   ]
  },
  {
   "cell_type": "code",
   "execution_count": 46,
   "metadata": {
    "collapsed": false
   },
   "outputs": [],
   "source": [
    "hdf.ix['foo'] = 0\n",
    "hdf"
   ]
  },
  {
   "cell_type": "code",
   "execution_count": 47,
   "metadata": {
    "collapsed": false
   },
   "outputs": [],
   "source": [
    "hdf.ix['foo', 'three']"
   ]
  },
  {
   "cell_type": "markdown",
   "metadata": {},
   "source": [
    "Stacking and unstacking\n",
    "-----------------------"
   ]
  },
  {
   "cell_type": "code",
   "execution_count": 48,
   "metadata": {
    "collapsed": false
   },
   "outputs": [],
   "source": [
    "tuples = zip(*[['bar', 'bar', 'baz', 'baz',\n",
    "                'foo', 'foo', 'qux', 'qux'],\n",
    "               ['one', 'two', 'one', 'two',\n",
    "                'one', 'two', 'one', 'two']])\n",
    "index = MultiIndex.from_tuples(tuples)\n",
    "columns = MultiIndex.from_tuples([('A', 'cat'), ('B', 'dog'),\n",
    "                                  ('B', 'cat'), ('A', 'dog')])\n",
    "df = DataFrame(randn(8, 4), index=index, columns=columns)\n",
    "df"
   ]
  },
  {
   "cell_type": "code",
   "execution_count": 49,
   "metadata": {
    "collapsed": false
   },
   "outputs": [],
   "source": [
    "df2 = df.ix[[0, 1, 2, 4, 5, 7]]\n",
    "df2"
   ]
  },
  {
   "cell_type": "code",
   "execution_count": 50,
   "metadata": {
    "collapsed": false
   },
   "outputs": [],
   "source": [
    "df.unstack()['B']"
   ]
  },
  {
   "cell_type": "markdown",
   "metadata": {},
   "source": [
    "GroupBy\n",
    "======="
   ]
  },
  {
   "cell_type": "code",
   "execution_count": 51,
   "metadata": {
    "collapsed": false
   },
   "outputs": [],
   "source": [
    "df = DataFrame({'A' : ['foo', 'bar', 'foo', 'bar',\n",
    "                       'foo', 'bar', 'foo', 'foo'],\n",
    "                'B' : ['one', 'one', 'two', 'three',\n",
    "                       'two', 'two', 'one', 'three'],\n",
    "                'C' : np.random.randn(8),\n",
    "                'D' : np.random.randn(8)})\n",
    "df"
   ]
  },
  {
   "cell_type": "code",
   "execution_count": 52,
   "metadata": {
    "collapsed": false
   },
   "outputs": [],
   "source": [
    "for key, group in df.groupby('A'):\n",
    "    print key\n",
    "    print group"
   ]
  },
  {
   "cell_type": "code",
   "execution_count": 53,
   "metadata": {
    "collapsed": false
   },
   "outputs": [],
   "source": [
    "df.groupby('A')['C'].describe().T"
   ]
  },
  {
   "cell_type": "code",
   "execution_count": 54,
   "metadata": {
    "collapsed": false
   },
   "outputs": [],
   "source": [
    "df.groupby('A').mean()"
   ]
  },
  {
   "cell_type": "code",
   "execution_count": 55,
   "metadata": {
    "collapsed": false
   },
   "outputs": [],
   "source": [
    "for key, group in df.groupby('A'):\n",
    "    print key\n",
    "    print group"
   ]
  },
  {
   "cell_type": "code",
   "execution_count": 56,
   "metadata": {
    "collapsed": false
   },
   "outputs": [],
   "source": [
    "df.groupby(['A', 'B']).mean()"
   ]
  },
  {
   "cell_type": "code",
   "execution_count": 57,
   "metadata": {
    "collapsed": false
   },
   "outputs": [],
   "source": [
    "df.groupby(['A', 'B'], as_index=False).mean()"
   ]
  },
  {
   "cell_type": "markdown",
   "metadata": {},
   "source": [
    "GroupBy example: linear regression by group\n",
    "-------------------------------------------"
   ]
  },
  {
   "cell_type": "code",
   "execution_count": 58,
   "metadata": {
    "collapsed": false
   },
   "outputs": [],
   "source": [
    "import scikits.statsmodels.api as sm\n",
    "rets = close_px / close_px.shift(1) - 1\n",
    "\n",
    "def get_beta(rets):\n",
    "    rets = rets.dropna()\n",
    "    rets['intercept'] = 1.\n",
    "    model = sm.OLS(rets['MSFT'], rets.ix[:, ['AAPL', 'intercept']]).fit()\n",
    "    return model.params\n",
    "\n",
    "get_beta(rets)"
   ]
  },
  {
   "cell_type": "code",
   "execution_count": 59,
   "metadata": {
    "collapsed": false
   },
   "outputs": [],
   "source": [
    "grouped = rets.groupby([lambda x: x.year, lambda x: x.month])\n",
    "beta_by_ym = grouped.apply(get_beta)\n",
    "beta_by_ym"
   ]
  },
  {
   "cell_type": "code",
   "execution_count": 60,
   "metadata": {
    "collapsed": false
   },
   "outputs": [],
   "source": [
    "beta_by_ym.unstack(0)['AAPL']"
   ]
  },
  {
   "cell_type": "markdown",
   "metadata": {},
   "source": [
    "GroupBy with hierarchical indexing\n",
    "----------------------------------"
   ]
  },
  {
   "cell_type": "code",
   "execution_count": 61,
   "metadata": {
    "collapsed": false
   },
   "outputs": [],
   "source": [
    "tuples = zip(*[['bar', 'bar', 'baz', 'baz',\n",
    "                'foo', 'foo', 'qux', 'qux'],\n",
    "               ['one', 'two', 'one', 'two',\n",
    "                'one', 'two', 'one', 'two']])\n",
    "index = MultiIndex.from_tuples(tuples)\n",
    "columns = MultiIndex.from_tuples([('A', 'cat'), ('B', 'dog'),\n",
    "                                  ('B', 'cat'), ('A', 'dog')])\n",
    "df = DataFrame(randn(8, 4), index=index, columns=columns)\n",
    "df"
   ]
  },
  {
   "cell_type": "code",
   "execution_count": 62,
   "metadata": {
    "collapsed": false
   },
   "outputs": [],
   "source": [
    "df.groupby(level=0, axis=0).mean()"
   ]
  },
  {
   "cell_type": "code",
   "execution_count": 63,
   "metadata": {
    "collapsed": false
   },
   "outputs": [],
   "source": [
    "df.stack()"
   ]
  },
  {
   "cell_type": "code",
   "execution_count": 64,
   "metadata": {
    "collapsed": false
   },
   "outputs": [],
   "source": [
    "df.stack().mean(1).unstack()"
   ]
  },
  {
   "cell_type": "code",
   "execution_count": 65,
   "metadata": {
    "collapsed": false
   },
   "outputs": [],
   "source": [
    "# could also have done\n",
    "df.groupby(level=1, axis=1).mean()"
   ]
  },
  {
   "cell_type": "code",
   "execution_count": null,
   "metadata": {
    "collapsed": true
   },
   "outputs": [],
   "source": []
  }
 ],
 "metadata": {
  "kernelspec": {
   "display_name": "Python 2",
   "language": "python",
   "name": "python2"
  },
  "language_info": {
   "codemirror_mode": {
    "name": "ipython",
    "version": 2
   },
   "file_extension": ".py",
   "mimetype": "text/x-python",
   "name": "python",
   "nbconvert_exporter": "python",
   "pygments_lexer": "ipython2",
   "version": "2.7.10"
  }
 },
 "nbformat": 4,
 "nbformat_minor": 0
}
