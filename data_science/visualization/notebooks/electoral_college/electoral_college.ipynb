{
 "cells": [
  {
   "cell_type": "code",
   "execution_count": 1,
   "metadata": {
    "collapsed": true
   },
   "outputs": [],
   "source": [
    "import numpy as np\n",
    "import matplotlib.pyplot as plt\n",
    "import pandas as pd"
   ]
  },
  {
   "cell_type": "code",
   "execution_count": 2,
   "metadata": {
    "collapsed": false
   },
   "outputs": [
    {
     "data": {
      "text/html": [
       "<div>\n",
       "<table border=\"1\" class=\"dataframe\">\n",
       "  <thead>\n",
       "    <tr style=\"text-align: right;\">\n",
       "      <th></th>\n",
       "      <th>Year</th>\n",
       "      <th>Winner</th>\n",
       "      <th>Electors (c)</th>\n",
       "      <th>Votes cast for winner (w)</th>\n",
       "      <th>Votes cast for runner-up (r)</th>\n",
       "      <th>Normalized margin of victory</th>\n",
       "      <th>Percentage</th>\n",
       "    </tr>\n",
       "    <tr>\n",
       "      <th>Rank</th>\n",
       "      <th></th>\n",
       "      <th></th>\n",
       "      <th></th>\n",
       "      <th></th>\n",
       "      <th></th>\n",
       "      <th></th>\n",
       "      <th></th>\n",
       "    </tr>\n",
       "  </thead>\n",
       "  <tbody>\n",
       "    <tr>\n",
       "      <th>1.0</th>\n",
       "      <td>1824</td>\n",
       "      <td>draw: Andrew Jackson, John Quincy Adams, Willi...</td>\n",
       "      <td>261</td>\n",
       "      <td>84</td>\n",
       "      <td>99</td>\n",
       "      <td>0.000</td>\n",
       "      <td>32.18%</td>\n",
       "    </tr>\n",
       "    <tr>\n",
       "      <th>1.0</th>\n",
       "      <td>1800</td>\n",
       "      <td>draw: Thomas Jefferson, Aaron Burr [b]</td>\n",
       "      <td>138</td>\n",
       "      <td>73</td>\n",
       "      <td>73</td>\n",
       "      <td>0.000</td>\n",
       "      <td>52.90%</td>\n",
       "    </tr>\n",
       "    <tr>\n",
       "      <th>2.0</th>\n",
       "      <td>1876</td>\n",
       "      <td>Rutherford B. Hayes</td>\n",
       "      <td>369</td>\n",
       "      <td>185</td>\n",
       "      <td>184</td>\n",
       "      <td>0.003</td>\n",
       "      <td>50.14%</td>\n",
       "    </tr>\n",
       "    <tr>\n",
       "      <th>3.0</th>\n",
       "      <td>2000</td>\n",
       "      <td>George W. Bush</td>\n",
       "      <td>538</td>\n",
       "      <td>271</td>\n",
       "      <td>266</td>\n",
       "      <td>0.009</td>\n",
       "      <td>50.37%</td>\n",
       "    </tr>\n",
       "    <tr>\n",
       "      <th>4.0</th>\n",
       "      <td>1796</td>\n",
       "      <td>John Adams</td>\n",
       "      <td>138</td>\n",
       "      <td>71</td>\n",
       "      <td>68</td>\n",
       "      <td>0.029</td>\n",
       "      <td>51.45%</td>\n",
       "    </tr>\n",
       "  </tbody>\n",
       "</table>\n",
       "</div>"
      ],
      "text/plain": [
       "      Year                                             Winner  Electors (c)  \\\n",
       "Rank                                                                          \n",
       "1.0   1824  draw: Andrew Jackson, John Quincy Adams, Willi...           261   \n",
       "1.0   1800             draw: Thomas Jefferson, Aaron Burr [b]           138   \n",
       "2.0   1876                                Rutherford B. Hayes           369   \n",
       "3.0   2000                                     George W. Bush           538   \n",
       "4.0   1796                                         John Adams           138   \n",
       "\n",
       "     Votes cast for winner (w) Votes cast for runner-up (r)  \\\n",
       "Rank                                                          \n",
       "1.0                         84                           99   \n",
       "1.0                         73                           73   \n",
       "2.0                        185                          184   \n",
       "3.0                        271                          266   \n",
       "4.0                         71                           68   \n",
       "\n",
       "     Normalized margin of victory Percentage  \n",
       "Rank                                          \n",
       "1.0                         0.000     32.18%  \n",
       "1.0                         0.000     52.90%  \n",
       "2.0                         0.003     50.14%  \n",
       "3.0                         0.009     50.37%  \n",
       "4.0                         0.029     51.45%  "
      ]
     },
     "execution_count": 2,
     "metadata": {},
     "output_type": "execute_result"
    }
   ],
   "source": [
    "df = pd.DataFrame.from_csv(\"electoral_college.csv\")\n",
    "df.head()"
   ]
  },
  {
   "cell_type": "code",
   "execution_count": null,
   "metadata": {
    "collapsed": true
   },
   "outputs": [],
   "source": []
  },
  {
   "cell_type": "code",
   "execution_count": null,
   "metadata": {
    "collapsed": true
   },
   "outputs": [],
   "source": []
  }
 ],
 "metadata": {
  "kernelspec": {
   "display_name": "Python 3",
   "language": "python",
   "name": "python3"
  },
  "language_info": {
   "codemirror_mode": {
    "name": "ipython",
    "version": 3
   },
   "file_extension": ".py",
   "mimetype": "text/x-python",
   "name": "python",
   "nbconvert_exporter": "python",
   "pygments_lexer": "ipython3",
   "version": "3.5.2"
  }
 },
 "nbformat": 4,
 "nbformat_minor": 1
}
