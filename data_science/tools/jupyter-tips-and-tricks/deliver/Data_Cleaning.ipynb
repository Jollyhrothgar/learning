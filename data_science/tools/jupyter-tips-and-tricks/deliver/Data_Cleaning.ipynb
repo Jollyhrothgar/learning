{
 "cells": [
  {
   "cell_type": "markdown",
   "metadata": {},
   "source": [
    "# Clean data\n",
    "\n",
    "Coal mining data from [eia.gov](http://www.eia.gov/coal/data.cfm#prices)\n",
    "\n",
    "Combining and cleaning the raw csv files into a cleaned data set and coherent database. \n",
    "\n",
    "Generally a good idea to have a separate data folder with the raw data.\n",
    "\n",
    "When you clean the raw data, leave the raw in place, and create cleaned version with the steps included (ideal situation for Notebook)."
   ]
  },
  {
   "cell_type": "code",
   "execution_count": 1,
   "metadata": {
    "collapsed": false
   },
   "outputs": [
    {
     "data": {
      "application/json": {
       "Software versions": [
        {
         "module": "Python",
         "version": "2.7.10 64bit [GCC 4.2.1 (Apple Inc. build 5577)]"
        },
        {
         "module": "IPython",
         "version": "3.1.0"
        },
        {
         "module": "OS",
         "version": "Darwin 14.3.0 x86_64 i386 64bit"
        },
        {
         "module": "numpy",
         "version": "1.9.2"
        },
        {
         "module": "scipy",
         "version": "0.15.1"
        },
        {
         "module": "matplotlib",
         "version": "1.4.3"
        },
        {
         "module": "pandas",
         "version": "0.16.1"
        }
       ]
      },
      "text/html": [
       "<table><tr><th>Software</th><th>Version</th></tr><tr><td>Python</td><td>2.7.10 64bit [GCC 4.2.1 (Apple Inc. build 5577)]</td></tr><tr><td>IPython</td><td>3.1.0</td></tr><tr><td>OS</td><td>Darwin 14.3.0 x86_64 i386 64bit</td></tr><tr><td>numpy</td><td>1.9.2</td></tr><tr><td>scipy</td><td>0.15.1</td></tr><tr><td>matplotlib</td><td>1.4.3</td></tr><tr><td>pandas</td><td>0.16.1</td></tr><tr><td colspan='2'>Tue Jun 02 19:34:55 2015 PDT</td></tr></table>"
      ],
      "text/latex": [
       "\\begin{tabular}{|l|l|}\\hline\n",
       "{\\bf Software} & {\\bf Version} \\\\ \\hline\\hline\n",
       "Python & 2.7.10 64bit [GCC 4.2.1 (Apple Inc. build 5577)] \\\\ \\hline\n",
       "IPython & 3.1.0 \\\\ \\hline\n",
       "OS & Darwin 14.3.0 x86\\_64 i386 64bit \\\\ \\hline\n",
       "numpy & 1.9.2 \\\\ \\hline\n",
       "scipy & 0.15.1 \\\\ \\hline\n",
       "matplotlib & 1.4.3 \\\\ \\hline\n",
       "pandas & 0.16.1 \\\\ \\hline\n",
       "\\hline \\multicolumn{2}{|l|}{Tue Jun 02 19:34:55 2015 PDT} \\\\ \\hline\n",
       "\\end{tabular}\n"
      ],
      "text/plain": [
       "Software versions\n",
       "Python 2.7.10 64bit [GCC 4.2.1 (Apple Inc. build 5577)]\n",
       "IPython 3.1.0\n",
       "OS Darwin 14.3.0 x86_64 i386 64bit\n",
       "numpy 1.9.2\n",
       "scipy 0.15.1\n",
       "matplotlib 1.4.3\n",
       "pandas 0.16.1\n",
       "Tue Jun 02 19:34:55 2015 PDT"
      ]
     },
     "execution_count": 1,
     "metadata": {},
     "output_type": "execute_result"
    }
   ],
   "source": [
    "# %install_ext http://raw.github.com/jrjohansson/version_information/master/version_information.py\n",
    "%load_ext version_information\n",
    "%reload_ext version_information\n",
    "%version_information numpy, scipy, matplotlib, pandas"
   ]
  },
  {
   "cell_type": "code",
   "execution_count": 2,
   "metadata": {
    "collapsed": true
   },
   "outputs": [],
   "source": [
    "import numpy as np\n",
    "import pandas as pd"
   ]
  },
  {
   "cell_type": "code",
   "execution_count": 3,
   "metadata": {
    "collapsed": false
   },
   "outputs": [
    {
     "name": "stdout",
     "output_type": "stream",
     "text": [
      "/Users/jonathan/github/jupyter-best-practices/notebooks\r\n"
     ]
    }
   ],
   "source": [
    "!pwd"
   ]
  },
  {
   "cell_type": "code",
   "execution_count": 4,
   "metadata": {
    "collapsed": true
   },
   "outputs": [],
   "source": [
    "# The cleaned data file is saved here:\n",
    "output_file = \"../data/coal_prod_cleaned.csv\""
   ]
  },
  {
   "cell_type": "code",
   "execution_count": 5,
   "metadata": {
    "collapsed": true
   },
   "outputs": [],
   "source": [
    "df1 = pd.read_csv(\"../data/coal_prod_2002.csv\", index_col=\"MSHA_ID\")\n",
    "df2 = pd.read_csv(\"../data/coal_prod_2003.csv\", index_col=\"MSHA_ID\")\n",
    "df3 = pd.read_csv(\"../data/coal_prod_2004.csv\", index_col=\"MSHA_ID\")\n",
    "df4 = pd.read_csv(\"../data/coal_prod_2005.csv\", index_col=\"MSHA_ID\")\n",
    "df5 = pd.read_csv(\"../data/coal_prod_2006.csv\", index_col=\"MSHA_ID\")\n",
    "df6 = pd.read_csv(\"../data/coal_prod_2007.csv\", index_col=\"MSHA_ID\")\n",
    "df7 = pd.read_csv(\"../data/coal_prod_2008.csv\", index_col=\"MSHA_ID\")\n",
    "df8 = pd.read_csv(\"../data/coal_prod_2009.csv\", index_col=\"MSHA_ID\")\n",
    "df9 = pd.read_csv(\"../data/coal_prod_2010.csv\", index_col=\"MSHA_ID\")\n",
    "df10 = pd.read_csv(\"../data/coal_prod_2011.csv\", index_col=\"MSHA_ID\")\n",
    "df11 = pd.read_csv(\"../data/coal_prod_2012.csv\", index_col=\"MSHA_ID\")"
   ]
  },
  {
   "cell_type": "code",
   "execution_count": 6,
   "metadata": {
    "collapsed": false
   },
   "outputs": [],
   "source": [
    "dframe = pd.concat((df1, df2, df3, df4, df5, df6, df7, df8, df9, df10, df11))"
   ]
  },
  {
   "cell_type": "code",
   "execution_count": 7,
   "metadata": {
    "collapsed": false
   },
   "outputs": [
    {
     "data": {
      "text/plain": [
       "array(['Indepedent Producer Operator', 'Operating Subsidiary', 'Contractor'], dtype=object)"
      ]
     },
     "execution_count": 7,
     "metadata": {},
     "output_type": "execute_result"
    }
   ],
   "source": [
    "# Noticed a probable typo in the data set: \n",
    "dframe['Company_Type'].unique()"
   ]
  },
  {
   "cell_type": "code",
   "execution_count": 8,
   "metadata": {
    "collapsed": false
   },
   "outputs": [
    {
     "data": {
      "text/html": [
       "<div style=\"max-height:1000px;max-width:1500px;overflow:auto;\">\n",
       "<table border=\"1\" class=\"dataframe\">\n",
       "  <thead>\n",
       "    <tr style=\"text-align: right;\">\n",
       "      <th></th>\n",
       "      <th>Average_Employees</th>\n",
       "      <th>Company_Type</th>\n",
       "      <th>Labor_Hours</th>\n",
       "      <th>Mine_Basin</th>\n",
       "      <th>Mine_County</th>\n",
       "      <th>Mine_Name</th>\n",
       "      <th>Mine_State</th>\n",
       "      <th>Mine_Status</th>\n",
       "      <th>Mine_Type</th>\n",
       "      <th>Operating_Company</th>\n",
       "      <th>Operating_Company_Address</th>\n",
       "      <th>Operation_Type</th>\n",
       "      <th>Production_short_tons</th>\n",
       "      <th>Union_Code</th>\n",
       "      <th>Year</th>\n",
       "    </tr>\n",
       "    <tr>\n",
       "      <th>MSHA_ID</th>\n",
       "      <th></th>\n",
       "      <th></th>\n",
       "      <th></th>\n",
       "      <th></th>\n",
       "      <th></th>\n",
       "      <th></th>\n",
       "      <th></th>\n",
       "      <th></th>\n",
       "      <th></th>\n",
       "      <th></th>\n",
       "      <th></th>\n",
       "      <th></th>\n",
       "      <th></th>\n",
       "      <th></th>\n",
       "      <th></th>\n",
       "    </tr>\n",
       "  </thead>\n",
       "  <tbody>\n",
       "    <tr>\n",
       "      <th>102838</th>\n",
       "      <td>4</td>\n",
       "      <td>Independent Producer Operator</td>\n",
       "      <td>2712</td>\n",
       "      <td>Appalachia Southern</td>\n",
       "      <td>Bibb</td>\n",
       "      <td>Hebron Mine</td>\n",
       "      <td>Alabama</td>\n",
       "      <td>Permanently abandoned</td>\n",
       "      <td>Surface</td>\n",
       "      <td>Birmingham Coal &amp; Coke Company</td>\n",
       "      <td>2477 Valleydale Rd. S. B3, Birmingham, AL 35244</td>\n",
       "      <td>Mine only</td>\n",
       "      <td>10572</td>\n",
       "      <td>NaN</td>\n",
       "      <td>2002</td>\n",
       "    </tr>\n",
       "    <tr>\n",
       "      <th>103184</th>\n",
       "      <td>5</td>\n",
       "      <td>Independent Producer Operator</td>\n",
       "      <td>2480</td>\n",
       "      <td>Appalachia Southern</td>\n",
       "      <td>Fayette</td>\n",
       "      <td>Berry Mine</td>\n",
       "      <td>Alabama</td>\n",
       "      <td>Temporarily closed</td>\n",
       "      <td>Surface</td>\n",
       "      <td>Midas Coal Company Incorporate</td>\n",
       "      <td>401 10th Avenue, S. E, Cullman, AL 35055</td>\n",
       "      <td>Mine only</td>\n",
       "      <td>9725</td>\n",
       "      <td>NaN</td>\n",
       "      <td>2002</td>\n",
       "    </tr>\n",
       "    <tr>\n",
       "      <th>100329</th>\n",
       "      <td>55</td>\n",
       "      <td>Operating Subsidiary</td>\n",
       "      <td>123618</td>\n",
       "      <td>Appalachia Southern</td>\n",
       "      <td>Jefferson</td>\n",
       "      <td>Concord Mine</td>\n",
       "      <td>Alabama</td>\n",
       "      <td>Active</td>\n",
       "      <td>Underground</td>\n",
       "      <td>U S Steel Mining Company Llc</td>\n",
       "      <td>8800 Oak Grove Mine Road, Adger, AL 35006</td>\n",
       "      <td>Preparation Plant</td>\n",
       "      <td>0</td>\n",
       "      <td>United Mine Workers of America</td>\n",
       "      <td>2002</td>\n",
       "    </tr>\n",
       "    <tr>\n",
       "      <th>100851</th>\n",
       "      <td>331</td>\n",
       "      <td>Operating Subsidiary</td>\n",
       "      <td>748182</td>\n",
       "      <td>Appalachia Southern</td>\n",
       "      <td>Jefferson</td>\n",
       "      <td>Oak Grove Mine</td>\n",
       "      <td>Alabama</td>\n",
       "      <td>Active</td>\n",
       "      <td>Underground</td>\n",
       "      <td>U S Steel Mining Company Llc</td>\n",
       "      <td>8800 Oak Grove Mine Rd, Adger, AL 35006</td>\n",
       "      <td>Mine only</td>\n",
       "      <td>1942153</td>\n",
       "      <td>United Mine Workers of America</td>\n",
       "      <td>2002</td>\n",
       "    </tr>\n",
       "    <tr>\n",
       "      <th>102354</th>\n",
       "      <td>28</td>\n",
       "      <td>Independent Producer Operator</td>\n",
       "      <td>55306</td>\n",
       "      <td>Appalachia Southern</td>\n",
       "      <td>Jefferson</td>\n",
       "      <td>Lindbergh</td>\n",
       "      <td>Alabama</td>\n",
       "      <td>Active</td>\n",
       "      <td>Surface</td>\n",
       "      <td>C &amp; H Mining Company Inc</td>\n",
       "      <td>P.O. Box 70250, Tuscaloosa, AL 35407</td>\n",
       "      <td>Mine only</td>\n",
       "      <td>168446</td>\n",
       "      <td>NaN</td>\n",
       "      <td>2002</td>\n",
       "    </tr>\n",
       "  </tbody>\n",
       "</table>\n",
       "</div>"
      ],
      "text/plain": [
       "         Average_Employees                   Company_Type  Labor_Hours  \\\n",
       "MSHA_ID                                                                  \n",
       "102838                   4  Independent Producer Operator         2712   \n",
       "103184                   5  Independent Producer Operator         2480   \n",
       "100329                  55           Operating Subsidiary       123618   \n",
       "100851                 331           Operating Subsidiary       748182   \n",
       "102354                  28  Independent Producer Operator        55306   \n",
       "\n",
       "                  Mine_Basin Mine_County       Mine_Name Mine_State  \\\n",
       "MSHA_ID                                                               \n",
       "102838   Appalachia Southern        Bibb     Hebron Mine    Alabama   \n",
       "103184   Appalachia Southern     Fayette      Berry Mine    Alabama   \n",
       "100329   Appalachia Southern   Jefferson    Concord Mine    Alabama   \n",
       "100851   Appalachia Southern   Jefferson  Oak Grove Mine    Alabama   \n",
       "102354   Appalachia Southern   Jefferson       Lindbergh    Alabama   \n",
       "\n",
       "                   Mine_Status    Mine_Type               Operating_Company  \\\n",
       "MSHA_ID                                                                       \n",
       "102838   Permanently abandoned      Surface  Birmingham Coal & Coke Company   \n",
       "103184      Temporarily closed      Surface  Midas Coal Company Incorporate   \n",
       "100329                  Active  Underground    U S Steel Mining Company Llc   \n",
       "100851                  Active  Underground    U S Steel Mining Company Llc   \n",
       "102354                  Active      Surface        C & H Mining Company Inc   \n",
       "\n",
       "                               Operating_Company_Address     Operation_Type  \\\n",
       "MSHA_ID                                                                       \n",
       "102838   2477 Valleydale Rd. S. B3, Birmingham, AL 35244          Mine only   \n",
       "103184          401 10th Avenue, S. E, Cullman, AL 35055          Mine only   \n",
       "100329         8800 Oak Grove Mine Road, Adger, AL 35006  Preparation Plant   \n",
       "100851           8800 Oak Grove Mine Rd, Adger, AL 35006          Mine only   \n",
       "102354              P.O. Box 70250, Tuscaloosa, AL 35407          Mine only   \n",
       "\n",
       "         Production_short_tons                      Union_Code  Year  \n",
       "MSHA_ID                                                               \n",
       "102838                   10572                             NaN  2002  \n",
       "103184                    9725                             NaN  2002  \n",
       "100329                       0  United Mine Workers of America  2002  \n",
       "100851                 1942153  United Mine Workers of America  2002  \n",
       "102354                  168446                             NaN  2002  "
      ]
     },
     "execution_count": 8,
     "metadata": {},
     "output_type": "execute_result"
    }
   ],
   "source": [
    "# Correcting the Company_Type\n",
    "dframe.loc[dframe['Company_Type'] == 'Indepedent Producer Operator', 'Company_Type'] = 'Independent Producer Operator'\n",
    "dframe.head()"
   ]
  },
  {
   "cell_type": "code",
   "execution_count": 9,
   "metadata": {
    "collapsed": false
   },
   "outputs": [
    {
     "data": {
      "text/html": [
       "<div style=\"max-height:1000px;max-width:1500px;overflow:auto;\">\n",
       "<table border=\"1\" class=\"dataframe\">\n",
       "  <thead>\n",
       "    <tr style=\"text-align: right;\">\n",
       "      <th></th>\n",
       "      <th>Average_Employees</th>\n",
       "      <th>Company_Type</th>\n",
       "      <th>Labor_Hours</th>\n",
       "      <th>Mine_Basin</th>\n",
       "      <th>Mine_County</th>\n",
       "      <th>Mine_Name</th>\n",
       "      <th>Mine_State</th>\n",
       "      <th>Mine_Status</th>\n",
       "      <th>Mine_Type</th>\n",
       "      <th>Operating_Company</th>\n",
       "      <th>Operating_Company_Address</th>\n",
       "      <th>Operation_Type</th>\n",
       "      <th>Production_short_tons</th>\n",
       "      <th>Union_Code</th>\n",
       "      <th>Year</th>\n",
       "    </tr>\n",
       "    <tr>\n",
       "      <th>MSHA_ID</th>\n",
       "      <th></th>\n",
       "      <th></th>\n",
       "      <th></th>\n",
       "      <th></th>\n",
       "      <th></th>\n",
       "      <th></th>\n",
       "      <th></th>\n",
       "      <th></th>\n",
       "      <th></th>\n",
       "      <th></th>\n",
       "      <th></th>\n",
       "      <th></th>\n",
       "      <th></th>\n",
       "      <th></th>\n",
       "      <th></th>\n",
       "    </tr>\n",
       "  </thead>\n",
       "  <tbody>\n",
       "    <tr>\n",
       "      <th>103117</th>\n",
       "      <td>50</td>\n",
       "      <td>Independent Producer Operator</td>\n",
       "      <td>67199</td>\n",
       "      <td>Appalachia Southern</td>\n",
       "      <td>Cullman</td>\n",
       "      <td>Mine #2</td>\n",
       "      <td>Alabama</td>\n",
       "      <td>Active</td>\n",
       "      <td>Surface</td>\n",
       "      <td>Twin Pines Coal Company Inc</td>\n",
       "      <td>1874 County Road 15, Bremen, AL 35503</td>\n",
       "      <td>Mine only</td>\n",
       "      <td>177381</td>\n",
       "      <td>NaN</td>\n",
       "      <td>2003</td>\n",
       "    </tr>\n",
       "    <tr>\n",
       "      <th>103246</th>\n",
       "      <td>4</td>\n",
       "      <td>Independent Producer Operator</td>\n",
       "      <td>11075</td>\n",
       "      <td>Appalachia Southern</td>\n",
       "      <td>Franklin</td>\n",
       "      <td>Bear Creek</td>\n",
       "      <td>Alabama</td>\n",
       "      <td>Active</td>\n",
       "      <td>Surface</td>\n",
       "      <td>Birmingham Coal &amp; Coke Co., In</td>\n",
       "      <td>P.O. Box 354, Lynn, AL 35575</td>\n",
       "      <td>Mine only</td>\n",
       "      <td>46049</td>\n",
       "      <td>NaN</td>\n",
       "      <td>2003</td>\n",
       "    </tr>\n",
       "    <tr>\n",
       "      <th>103006</th>\n",
       "      <td>3</td>\n",
       "      <td>Independent Producer Operator</td>\n",
       "      <td>5161</td>\n",
       "      <td>Appalachia Southern</td>\n",
       "      <td>Jackson</td>\n",
       "      <td>Bledsoe Mine No 1</td>\n",
       "      <td>Alabama</td>\n",
       "      <td>Mine closed by MSHA</td>\n",
       "      <td>Underground</td>\n",
       "      <td>A L Select Inc</td>\n",
       "      <td>P.O. Box 864, Stevenson, AL 35772</td>\n",
       "      <td>Mine only</td>\n",
       "      <td>500</td>\n",
       "      <td>NaN</td>\n",
       "      <td>2003</td>\n",
       "    </tr>\n",
       "    <tr>\n",
       "      <th>103183</th>\n",
       "      <td>8</td>\n",
       "      <td>Independent Producer Operator</td>\n",
       "      <td>19348</td>\n",
       "      <td>Appalachia Southern</td>\n",
       "      <td>Jackson</td>\n",
       "      <td>Henager</td>\n",
       "      <td>Alabama</td>\n",
       "      <td>Active</td>\n",
       "      <td>Surface</td>\n",
       "      <td>Gtm Mining Corporation</td>\n",
       "      <td>15693 Alabama Highway 71, Pisgah, AL 35765</td>\n",
       "      <td>Mine only</td>\n",
       "      <td>55187</td>\n",
       "      <td>NaN</td>\n",
       "      <td>2003</td>\n",
       "    </tr>\n",
       "    <tr>\n",
       "      <th>100329</th>\n",
       "      <td>23</td>\n",
       "      <td>Operating Subsidiary</td>\n",
       "      <td>52009</td>\n",
       "      <td>Appalachia Southern</td>\n",
       "      <td>Jefferson</td>\n",
       "      <td>Concord Mine</td>\n",
       "      <td>Alabama</td>\n",
       "      <td>Active</td>\n",
       "      <td>Surface</td>\n",
       "      <td>Oak Grove Resources, Llc</td>\n",
       "      <td>8800 Oak Grove Mine Road, Adger, AL 35006</td>\n",
       "      <td>Preparation Plant</td>\n",
       "      <td>0</td>\n",
       "      <td>United Mine Workers of America</td>\n",
       "      <td>2003</td>\n",
       "    </tr>\n",
       "  </tbody>\n",
       "</table>\n",
       "</div>"
      ],
      "text/plain": [
       "         Average_Employees                   Company_Type  Labor_Hours  \\\n",
       "MSHA_ID                                                                  \n",
       "103117                  50  Independent Producer Operator        67199   \n",
       "103246                   4  Independent Producer Operator        11075   \n",
       "103006                   3  Independent Producer Operator         5161   \n",
       "103183                   8  Independent Producer Operator        19348   \n",
       "100329                  23           Operating Subsidiary        52009   \n",
       "\n",
       "                  Mine_Basin Mine_County          Mine_Name Mine_State  \\\n",
       "MSHA_ID                                                                  \n",
       "103117   Appalachia Southern     Cullman            Mine #2    Alabama   \n",
       "103246   Appalachia Southern    Franklin         Bear Creek    Alabama   \n",
       "103006   Appalachia Southern     Jackson  Bledsoe Mine No 1    Alabama   \n",
       "103183   Appalachia Southern     Jackson            Henager    Alabama   \n",
       "100329   Appalachia Southern   Jefferson       Concord Mine    Alabama   \n",
       "\n",
       "                 Mine_Status    Mine_Type               Operating_Company  \\\n",
       "MSHA_ID                                                                     \n",
       "103117                Active      Surface     Twin Pines Coal Company Inc   \n",
       "103246                Active      Surface  Birmingham Coal & Coke Co., In   \n",
       "103006   Mine closed by MSHA  Underground                  A L Select Inc   \n",
       "103183                Active      Surface          Gtm Mining Corporation   \n",
       "100329                Active      Surface        Oak Grove Resources, Llc   \n",
       "\n",
       "                          Operating_Company_Address     Operation_Type  \\\n",
       "MSHA_ID                                                                  \n",
       "103117        1874 County Road 15, Bremen, AL 35503          Mine only   \n",
       "103246                 P.O. Box 354, Lynn, AL 35575          Mine only   \n",
       "103006            P.O. Box 864, Stevenson, AL 35772          Mine only   \n",
       "103183   15693 Alabama Highway 71, Pisgah, AL 35765          Mine only   \n",
       "100329    8800 Oak Grove Mine Road, Adger, AL 35006  Preparation Plant   \n",
       "\n",
       "         Production_short_tons                      Union_Code  Year  \n",
       "MSHA_ID                                                               \n",
       "103117                  177381                             NaN  2003  \n",
       "103246                   46049                             NaN  2003  \n",
       "103006                     500                             NaN  2003  \n",
       "103183                   55187                             NaN  2003  \n",
       "100329                       0  United Mine Workers of America  2003  "
      ]
     },
     "execution_count": 9,
     "metadata": {},
     "output_type": "execute_result"
    }
   ],
   "source": [
    "dframe[dframe.Year == 2003].head()"
   ]
  },
  {
   "cell_type": "markdown",
   "metadata": {},
   "source": [
    "# Final Cleaned Data Product"
   ]
  },
  {
   "cell_type": "code",
   "execution_count": 10,
   "metadata": {
    "collapsed": true
   },
   "outputs": [],
   "source": [
    "dframe.to_csv(output_file, )"
   ]
  },
  {
   "cell_type": "code",
   "execution_count": null,
   "metadata": {
    "collapsed": true
   },
   "outputs": [],
   "source": []
  }
 ],
 "metadata": {
  "kernelspec": {
   "display_name": "Python 2",
   "language": "python",
   "name": "python2"
  },
  "language_info": {
   "codemirror_mode": {
    "name": "ipython",
    "version": 2
   },
   "file_extension": ".py",
   "mimetype": "text/x-python",
   "name": "python",
   "nbconvert_exporter": "python",
   "pygments_lexer": "ipython2",
   "version": "2.7.11"
  }
 },
 "nbformat": 4,
 "nbformat_minor": 0
}
