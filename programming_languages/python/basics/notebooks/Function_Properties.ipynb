{
 "cells": [
  {
   "cell_type": "markdown",
   "metadata": {},
   "source": [
    "# Function Properties\n",
    "Python functions can be insepected with python's 'inspect' module. Inspect allows us to understand what the attributes of the function are, in cases where, for example, functions are passed as an argument, but the user is not certain of what the functions' properties are."
   ]
  },
  {
   "cell_type": "code",
   "execution_count": 3,
   "metadata": {
    "collapsed": false
   },
   "outputs": [],
   "source": [
    "import inspect\n",
    "\n",
    "def f1(*args, **kwargs):\n",
    "    \"\"\" \n",
    "    A doc string\n",
    "    \"\"\"\n",
    "    print (\"Hey\")\n",
    "    val = 27\n",
    "    return val\n",
    "\n",
    "def f2(arg1:str, arg2, arg3):\n",
    "    \"\"\"\n",
    "    A doc string\n",
    "    \"\"\"\n",
    "    print(\"There\")\n",
    "    \n",
    "def f3(arg1:int, arg2:str, arg3:dict):\n",
    "    \"\"\"\n",
    "    A doc string\n",
    "    \"\"\"\n",
    "    print(\"Mike\")\n",
    "    \n",
    "def f4(arg1:'x', arg2:'y', arg3:int) -> int:\n",
    "    return 10"
   ]
  },
  {
   "cell_type": "code",
   "execution_count": 4,
   "metadata": {
    "collapsed": false
   },
   "outputs": [
    {
     "name": "stdout",
     "output_type": "stream",
     "text": [
      "********************************************************************************\n",
      "FUNCTION:  f1\n",
      "Parameters: args kwargs\n",
      "Return Signature: <class 'inspect._empty'>\n",
      "__annotations__ {}\n",
      "********************************************************************************\n",
      "********************************************************************************\n",
      "FUNCTION:  f2\n",
      "Parameters: arg1 arg2 arg3\n",
      "Return Signature: <class 'inspect._empty'>\n",
      "__annotations__ {'arg1': <class 'str'>}\n",
      "********************************************************************************\n",
      "********************************************************************************\n",
      "FUNCTION:  f3\n",
      "Parameters: arg1 arg2 arg3\n",
      "Return Signature: <class 'inspect._empty'>\n",
      "__annotations__ {'arg1': <class 'int'>, 'arg3': <class 'dict'>, 'arg2': <class 'str'>}\n",
      "********************************************************************************\n",
      "********************************************************************************\n",
      "FUNCTION:  f4\n",
      "Parameters: arg1 arg2 arg3\n",
      "Return Signature: <class 'int'>\n",
      "__annotations__ {'arg1': 'x', 'return': <class 'int'>, 'arg3': <class 'int'>, 'arg2': 'y'}\n",
      "********************************************************************************\n"
     ]
    }
   ],
   "source": [
    "functions = [f1, f2, f3, f4]\n",
    "\n",
    "for f in functions:\n",
    "    m = dict(inspect.getmembers(f))\n",
    "    s = inspect.signature(f)\n",
    "    print(80*\"*\")\n",
    "    print(\"FUNCTION: \",m['__name__'])\n",
    "    print(\"Parameters:\", *s.parameters )\n",
    "    print(\"Return Signature:\", s.return_annotation)\n",
    "    print(\"__annotations__\",m['__annotations__'])\n",
    "    print(80*\"*\")"
   ]
  },
  {
   "cell_type": "markdown",
   "metadata": {},
   "source": [
    "Note that annotations do not neccessarily reflect the whole of the functions' arguments."
   ]
  },
  {
   "cell_type": "markdown",
   "metadata": {
    "collapsed": true
   },
   "source": [
    "# Gotchas\n",
    "\n",
    "Functions with default arguments are only evaluated once. This means, if a function takes a mutable argument which is given as a mutable, it persists past function calls.\n",
    "\n",
    "This is a problem with lists, dicts, and other mutable objects."
   ]
  },
  {
   "cell_type": "code",
   "execution_count": 9,
   "metadata": {
    "collapsed": false
   },
   "outputs": [
    {
     "name": "stdout",
     "output_type": "stream",
     "text": [
      "[1]\n",
      "[1, 1]\n",
      "[1, 1, 1]\n",
      "{1: 1}\n",
      "{1: 1, 2: 2}\n",
      "{1: 1, 2: 2, 3: 3}\n"
     ]
    }
   ],
   "source": [
    "def bad_f(a,L = []):\n",
    "    L.append(a)\n",
    "    print(L)\n",
    "    \n",
    "def bad_f2(a, d = {}):\n",
    "    d[a] = a\n",
    "    print(d)\n",
    "    \n",
    "bad_f(1)\n",
    "bad_f(1)\n",
    "bad_f(1)\n",
    "bad_f2(1)\n",
    "bad_f2(2)\n",
    "bad_f2(3)"
   ]
  },
  {
   "cell_type": "code",
   "execution_count": null,
   "metadata": {
    "collapsed": true
   },
   "outputs": [],
   "source": []
  }
 ],
 "metadata": {
  "kernelspec": {
   "display_name": "Python 3",
   "language": "python",
   "name": "python3"
  },
  "language_info": {
   "codemirror_mode": {
    "name": "ipython",
    "version": 3
   },
   "file_extension": ".py",
   "mimetype": "text/x-python",
   "name": "python",
   "nbconvert_exporter": "python",
   "pygments_lexer": "ipython3",
   "version": "3.5.2"
  }
 },
 "nbformat": 4,
 "nbformat_minor": 1
}
