{
 "cells": [
  {
   "cell_type": "markdown",
   "metadata": {},
   "source": [
    "# Introduction and Outline\n",
    "\n",
    "This notebook is designed as a tutorial to show how to wrangle and handle various different\n",
    "kinds of data. There are several actions which one takes all the time with data sets which \n",
    "must be mastered. These include, in no particular order:\n",
    "\n",
    "- Loading/Serializing Data\n",
    "- Splitting Data Into Chunks for parallel processing\n",
    "- Handling missing data\n",
    "- Time Manipulation\n",
    "    - datetime conversion\n",
    "    - hours since x\n",
    "    - days since x\n",
    "    - minutes since x\n",
    "    - seconds since x\n",
    "    - Cyclical time feature generation (like cosine similarity between two times, ie. 12 noon on one day vs another day)\n",
    "    - unixtime to human readable time\n",
    "- Fast test/train split\n",
    "- Feature normalization\n",
    "- Feature transformation to be used in sklearn\n",
    "- Feature addition\n",
    "- Dataframe manipulation\n",
    "    - Group\n",
    "    - Slice\n",
    "    - Summarize\n",
    "    - Transpose\n",
    "    - Generate new columns dynamically\n",
    "    - Dump to sklearn fit\n",
    "- sklearn\n",
    "    - Test / Train models\n",
    "    - Visualizing Model Accuracy\n",
    "        - Regression\n",
    "        - Classification\n",
    "        - Clustering\n",
    "        - Other unsupervised approaches?\n",
    "- Data Set, Model Selection\n",
    "    - How to choose model based on shape of data\n",
    "    - Pros/Cons of model selection given data size"
   ]
  },
  {
   "cell_type": "markdown",
   "metadata": {},
   "source": [
    "# 10 Minutes to Pandas\n",
    "\n",
    "## Data Structures\n",
    "\n",
    "The core data structures supported in Pandas are the 'Series' data structure, and the 'DataFrame' data structure. Series handles 1D data, while DataFrame handles 2D data, which covers most if not all use-cases in industry, finance, etc. The fundamental behaviors of data structures in pandas are related to indexing, strong data types, axis labeling/alignment. \n",
    "\n",
    "### Series\n",
    "The Series is a 1D data structure which is ordered by an index. A series can be generated from 'data', which could be alternatively a python dictionary, an ndarray, or even a scaler! The passed indexis a list of axis labels.\n",
    "\n",
    "### Example"
   ]
  },
  {
   "cell_type": "code",
   "execution_count": null,
   "metadata": {
    "collapsed": true
   },
   "outputs": [],
   "source": []
  },
  {
   "cell_type": "markdown",
   "metadata": {
    "collapsed": true
   },
   "source": [
    "## Object Creation"
   ]
  }
 ],
 "metadata": {
  "kernelspec": {
   "display_name": "Python 3",
   "language": "python",
   "name": "python3"
  },
  "language_info": {
   "codemirror_mode": {
    "name": "ipython",
    "version": 3
   },
   "file_extension": ".py",
   "mimetype": "text/x-python",
   "name": "python",
   "nbconvert_exporter": "python",
   "pygments_lexer": "ipython3",
   "version": "3.6.0"
  },
  "toc": {
   "colors": {
    "hover_highlight": "#DAA520",
    "running_highlight": "#FF0000",
    "selected_highlight": "#FFD700"
   },
   "moveMenuLeft": true,
   "nav_menu": {
    "height": "30px",
    "width": "252px"
   },
   "navigate_menu": true,
   "number_sections": true,
   "sideBar": true,
   "threshold": 4,
   "toc_cell": false,
   "toc_section_display": "block",
   "toc_window_display": true,
   "widenNotebook": false
  }
 },
 "nbformat": 4,
 "nbformat_minor": 2
}
