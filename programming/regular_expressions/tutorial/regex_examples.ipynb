{
 "cells": [
  {
   "cell_type": "code",
   "execution_count": 5,
   "metadata": {
    "collapsed": false
   },
   "outputs": [
    {
     "data": {
      "application/javascript": [
       "$.getScript('https://kmahelona.github.io/ipython_notebook_goodies/ipython_notebook_toc.js')"
      ],
      "text/plain": [
       "<IPython.core.display.Javascript object>"
      ]
     },
     "metadata": {},
     "output_type": "display_data"
    }
   ],
   "source": [
    "%%javascript\n",
    "$.getScript('https://kmahelona.github.io/ipython_notebook_goodies/ipython_notebook_toc.js')"
   ]
  },
  {
   "cell_type": "markdown",
   "metadata": {},
   "source": [
    "<h1 id=\"tcheading\">Table Of Contents</h1>\n",
    "<div id =\"toc\"></div>"
   ]
  },
  {
   "cell_type": "markdown",
   "metadata": {},
   "source": [
    "# Regular Expressions\n",
    "\n",
    "Regular expressions are a general text procedding tool which have a myriad of implimentations. Some common places you might find an implementation:\n",
    "* The command line tool, \"grep\"\n",
    "* Perl\n",
    "* Python \n",
    "* awk/sed\n",
    "* Your favorite text editor, e.g. vim, sublime, emacs, ipython notebooks\n",
    "\n",
    "## Syntax\n",
    "\n",
    "A regular expression, at its core, is about matching text characters in a stream or text file or string to a 'template' string. This 'template' string is called a regular expression.\n",
    "\n",
    "I call regular expressions 'template strings' because it allows you to abstract the structure and/or contents of a string.\n",
    "\n",
    "For example, say you want to match every instance of a string containing numbers in some text file or string, but you don't know the length of the string, or where the numbers are. A regular expression can be a good choice for this.\n",
    "\n",
    "Any literal character can be inside of a regular expression. Additionall, some characters are special, and can be used to create a representation of groups of characters.\n",
    "\n",
    "A regular expression always matches, starting from the first character in the expression, the first possible match in the body of text. It proceedes with matching, one at a time, until it succeedes in matching your whole expression to a chunk of text.\n",
    "\n",
    "## Special Characters\n",
    "\n",
    "The following are a selection of the most commonly used special characters in basic regular expressions.\n",
    "\n",
    "Subject to special cases, when matching unicode strings, these rules apply to standard ascii strings.\n",
    "\n",
    "<table>\n",
    "<tr><th>Special Character</th><th>What Does it Do?</th></tr>\n",
    "<tr> <td> . </td> <td> Matches any character except for newline</td> </tr> \n",
    "<tr> <td> ^ </td> <td> Matches the beginning of the string, immediately after a newline </td> </tr> \n",
    "<tr> <td> $ </td> <td> Matches the end of the string just before the newline at the end of the string </td> </tr> \n",
    "<tr> <td> * </td> <td> Matches the previous regex 0 or more times </td> </tr> \n",
    "<tr> <td> + </td> <td> Matches the previous regex 1 or more times </td> </tr> \n",
    "<tr> <td> ? </td> <td> Matches the previous regex 0 or 1 times </td> </tr> \n",
    "<tr> <td> {m} </td> <td> Matches the previous regex exactly m times </td> </tr> \n",
    "<tr> <td> {m,n} </td> <td>matches the previous regex m times, up to n times, attempting to match as few times as possible </td>  </tr> \n",
    "<tr> <td> [] </td> <td>Indicates a set of characters which are matched to a single character  </td> </tr> \n",
    "<tr> <td> \\ </td> <td> The escape character, permitting matches on characters that are otherwise special characters, i.e. \\* or \\? or \\^ </td> </tr> \n",
    "<tr> <td> | </td> <td>Matches A or B --> A|B where A or B are regular expressions </td>  </tr> \n",
    "<tr> <td> () </td> <td> Matches whatever regex is inside of the parenthesis </td> </tr> \n",
    "<tr> <td> \\A </td> <td> Matches only at the start of the string.</td> \n",
    " </tr> \n",
    "<tr> <td> \\b </td> <td>Matches an empty string, but only at teh beginning or end of a word. A word is defined as a sequence of alphanumeric and underscore  </td>  </tr> \n",
    "<tr> <td> \\B </td> <td> Matches the empty string, but only when it is not at the beginning or end of a word. </td> </tr> \n",
    "<tr> <td> \\d </td> <td> Matches any digit, equivalent to [0-9] </td> </tr> \n",
    "<tr> <td> \\D </td> <td> Matches any non-digit, equivalent to [^0-9]</td>  </tr> \n",
    "<tr> <td> \\s </td> <td>Matches any whitespace character, equivalent to [ \\t\\n\\r\\f\\v] </td> </tr> \n",
    "<tr> <td> \\S </td> <td> Matches any non-whitespace character, equivalent to [^ \\t\\n\\r\\f\\v] </td> </tr> \n",
    "<tr> <td> \\w </td> <td> Matches any alphanumeric character including the underscore, equivalent to [a-zA-Z0-9_]</td> </tr> \n",
    "<tr> <td> \\W </td> <td>The inverse of \\w, equivalent to [^a-zA-Z0-9] </td> </tr> \n",
    "<tr> <td> \\Z </td> <td>Matches the string </td>  </tr> \n",
    "</table>\n",
    "\n",
    "## Resources\n",
    "* http://www.regex101.com - An excellent online regex debugger, which includes detailed descriptions of what you're matching.\n",
    "* http://regexone.com/ - an interactive tutorial to take you through the basics\n",
    "* http://regexr.com/\n"
   ]
  },
  {
   "cell_type": "markdown",
   "metadata": {},
   "source": [
    "## Examples\n",
    "\n",
    "### Character Sequences\n",
    "\n",
    "Extract a string which has abc in sequence, followed by any character except for z, followed by 3 to 5 numbers.\n",
    "\n",
    "<pre>\n",
    "29iilamm2oi1=09sabcz221$291\n",
    "021kkllabc_2016--20s092\n",
    "poqwma,acz20199\n",
    "powls1babcd09932-apwok\n",
    "</pre>\n",
    "\n",
    "### Phone Numbers\n",
    "\n",
    "Extract and group user names with phone numbers. We want to clean the data so that when we add phone numbers to our database of users, the number is clean.\n",
    "\n",
    "<pre>\n",
    "Jollyhrothgar (951)-756-9024\n",
    "Foobar 1029 West Crud Street, Stupid, CA 99223 202-113-4980\n",
    "Jason 2235909231\n",
    "Lucifer 666-666-6666"
   ]
  },
  {
   "cell_type": "markdown",
   "metadata": {},
   "source": [
    "### Apache Log File\n",
    "1. Write a regular expression that extracts all IP addresses from the log file.\n",
    "2. Write a regular expression that extracts the browser name and verion from the log file.\n",
    "3. Write a regular expression which extracts the resource which was requested from the server\n",
    "4. Write a regular expression whcih tokenizes the line into ten components.\n",
    "5. Challenge Question: How many unique visitors below?\n",
    "<pre>\n",
    "54.80.70.27 - - [10/Feb/2016:00:50:04 +0000] \"HEAD / HTTP/1.1\" 200 126 \"-\" \"Cloud mapping experiment. Contact research@pdrlabs.net\"\n",
    "141.212.122.177 - - [10/Feb/2016:01:27:10 +0000] \"GET / HTTP/1.1\" 200 930 \"-\" \"Mozilla/5.0 zgrab/0.x\"\n",
    "54.81.158.232 - - [10/Feb/2016:03:12:59 +0000] \"HEAD / HTTP/1.1\" 200 126 \"-\" \"Cloud mapping experiment. Contact research@pdrlabs.net\"\n",
    "180.109.139.172 - - [10/Feb/2016:05:33:46 +0000] \"GET http://61.139.50.46/a.html HTTP/1.1\" 404 441 \"-\" \"-\"\n",
    "180.109.139.172 - - [10/Feb/2016:05:33:47 +0000] \"GET http://61.139.50.46/a.html HTTP/1.1\" 404 441 \"-\" \"-\"\n",
    "180.109.139.172 - - [10/Feb/2016:05:33:49 +0000] \"GET http://61.139.50.46/a.html HTTP/1.1\" 404 441 \"-\" \"-\"\n",
    "180.109.139.172 - - [10/Feb/2016:05:33:56 +0000] \"GET http://61.139.50.46/a.html HTTP/1.1\" 404 441 \"-\" \"-\"\n",
    "119.188.4.3 - - [10/Feb/2016:08:10:11 +0000] \"GET /muieblackcat HTTP/1.1\" 404 465 \"-\" \"-\"\n",
    "119.188.4.3 - - [10/Feb/2016:08:10:11 +0000] \"GET //phpMyAdmin/scripts/setup.php HTTP/1.1\" 404 481 \"-\" \"-\"\n",
    "119.188.4.3 - - [10/Feb/2016:08:10:12 +0000] \"GET //phpmyadmin/scripts/setup.php HTTP/1.1\" 404 481 \"-\" \"-\"\n",
    "119.188.4.3 - - [10/Feb/2016:08:10:13 +0000] \"GET //myadmin/scripts/setup.php HTTP/1.1\" 404 478 \"-\" \"-\"\n",
    "119.188.4.3 - - [10/Feb/2016:08:10:13 +0000] \"GET //mysqladmin/scripts/setup.php HTTP/1.1\" 404 481 \"-\" \"-\"\n",
    "119.188.4.3 - - [10/Feb/2016:08:10:14 +0000] \"GET //mysql/scripts/setup.php HTTP/1.1\" 404 476 \"-\" \"-\"\n",
    "119.188.4.3 - - [10/Feb/2016:08:10:14 +0000] \"GET //websql/scripts/setup.php HTTP/1.1\" 404 477 \"-\" \"-\"\n",
    "119.188.4.3 - - [10/Feb/2016:08:10:15 +0000] \"GET //web/scripts/setup.php HTTP/1.1\" 404 474 \"-\" \"-\"\n",
    "28.232.110.28 - - [10/Feb/2016:12:01:36 +0000] \"GET / HTTP/1.1\" 200 930 \"-\" \"Mozilla/5.0 zgrab/0.x\"\n",
    "91.196.50.33 - - [10/Feb/2016:12:28:52 +0000] \"GET http://testp2.czar.bielawa.pl/testproxy.php HTTP/1.1\" 404 458 \"-\" \"Mozilla/5.0 (Windows NT 5.1; rv:32.0) Gecko/20100101 Firefox/31.0\"\n",
    "208.42.251.123 - - [10/Feb/2016:15:58:02 +0000] \"GET / HTTP/1.1\" 200 664 \"-\" \"Mozilla/5.0 (Macintosh; Intel Mac OS X 10_10_5) AppleWebKit/537.36 (KHTML, like Gecko) Chrome/45.0.2454.99 Safari/537.36\"\n",
    "91.196.50.33 - - [10/Feb/2016:19:28:49 +0000] \"GET http://testp3.pospr.waw.pl/testproxy.php HTTP/1.1\" 404 455 \"-\" \"Mozilla/5.0 (Windows NT 5.1; rv:32.0) Gecko/20100101 Firefox/31.0\"\n",
    "185.35.62.11 - - [10/Feb/2016:20:57:39 +0000] \"GET / HTTP/1.1\" 200 930 \"-\" \"Mozilla/5.0 zgrab/0.x\"\n",
    "66.249.66.8 - - [10/Feb/2016:20:59:55 +0000] \"GET /robots.txt HTTP/1.1\" 404 500 \"-\" \"Mozilla/5.0 (compatible; Googlebot/2.1; +http://www.google.com/bot.html)\"\n",
    "66.249.66.15 - - [10/Feb/2016:20:59:55 +0000] \"GET /comment-faire-pour-ne-plus-etre-celibataire.html HTTP/1.1\" 404 538 \"-\" \"Mozilla/5.0 (compatible; Googlebot/2.1; +http://www.google.com/bot.html)\"\n",
    "66.249.66.8 - - [10/Feb/2016:21:39:30 +0000] \"GET /site-de-belle-image-d'amour.html HTTP/1.1\" 404 522 \"-\" \"Mozilla/5.0 (iPhone; CPU iPhone OS 8_3 like Mac OS X) AppleWebKit/600.1.4 (KHTML, like Gecko) Ver    sion/8.0 Mobile/12F70 Safari/600.1.4 (compatible; Googlebot/2.1; +http://www.google.com/bot.html)\"\n",
    "95.220.91.94 - - [10/Feb/2016:22:40:44 +0000] \"GET / HTTP/1.1\" 200 627 \"http://yandex.ru/clck/jsredir?from=yandex.ru%3Bsearch%3Bweb%3B%3B&text=&etext=960.IwG_PJmkitiS658WmMo45Ge3zBtxmW_vO_zEgPfyGKoTRbCbaZ    BIRoZOPNQntUbe.eb7d9ab5d00813f56f4667f799900cb627f5e96a&uuid=&state=AiuY0DBWFJ4ePaEse6rgeAjgs2pI3DW9J0KiE5XNXd0dp0ZMwFHoviUoYa6nzP7MFsomsouu4qdpe912Y12qG6NC7-CSe-BB6RNHQASUmwfsSAJWuBT3gn7igpsUbSZ6BihYzVVx    fdfqKR9p0I4VJ-wFg2dzH6_sNZCT-l4WnRdEw9oeDasbGL4zo5HyICffkgOnZA3TnoChakY3GooJ3Q&data=UlNrNmk5WktYejR0eWJFYk1Ldmtxdk1taHdCc3ZsUVgyWUd1bnFVZkZHUEdtNU1rSGJ0dzI2cUs2SlJlMHoteXYwNlRHWHh6RVdXVUlDVXFaVzNyUWJiRVUy    QVB1QW1Qb01Udko4ZkR2QUk&b64e=2&sign=22d279db2288f913cd1186c3b182434f&keyno=0&l10n=ru&cts=1455143607704&mc=5.33544762508\" \"Mozilla/5.0 (Windows NT 6.1) AppleWebKit/537.36 (KHTML, like Gecko) Chrome/31.0.16    50.57 Safari/537.36 OPR/18.0.1284.49\"\n",
    "</pre>"
   ]
  },
  {
   "cell_type": "markdown",
   "metadata": {},
   "source": [
    "## Solutions"
   ]
  },
  {
   "cell_type": "code",
   "execution_count": 28,
   "metadata": {
    "collapsed": false
   },
   "outputs": [
    {
     "name": "stdout",
     "output_type": "stream",
     "text": [
      "abc_2016\n",
      "abcd09932\n"
     ]
    }
   ],
   "source": [
    "import re\n",
    "# Extract a string which has abc in sequence, \n",
    "# followed by any character except for z, \n",
    "# followed by 3 to 5 numbers.\n",
    "match_strings = ['29iilamm2oi1=09sabcz221$291','021kkllabc_2016--20s092','poqwma,acz20199',\n",
    "'powls1babcd09932-apwok']\n",
    "\n",
    "regex = 'abc[^z]\\d{3,5}'\n",
    "\n",
    "for test in match_strings:\n",
    "    match = re.search(regex,test)\n",
    "    if match:\n",
    "        print match.group(0)"
   ]
  },
  {
   "cell_type": "code",
   "execution_count": 30,
   "metadata": {
    "collapsed": false
   },
   "outputs": [
    {
     "name": "stdout",
     "output_type": "stream",
     "text": [
      "Jollyhrothgar 9517569024\n",
      "Foobar 2021134980\n",
      "Jason 2235909231\n",
      "Lucifer 6666666666\n"
     ]
    }
   ],
   "source": [
    "import re\n",
    "\n",
    "# Get/Clean the phone numbers\n",
    "\n",
    "match_strings = ['Jollyhrothgar (951)-756-9024',\n",
    "'Foobar 1029 West Crud Street, Stupid, CA 99223 202-113-4980',\n",
    "'Jason 2235909231',\n",
    "'Lucifer 666-666-6666']\n",
    "\n",
    "regex = '([a-zA-Z]+) ?.* ?[\\(]?(\\d{3})[\\)-]?\\-?(\\d{3})[-]?(\\d{4})'\n",
    "\n",
    "for test in match_strings:\n",
    "    match = re.search(regex,test)\n",
    "    if match:\n",
    "        print match.group(1),match.group(2)+match.group(3)+match.group(4)"
   ]
  },
  {
   "cell_type": "code",
   "execution_count": null,
   "metadata": {
    "collapsed": true
   },
   "outputs": [],
   "source": []
  }
 ],
 "metadata": {
  "kernelspec": {
   "display_name": "Python 2",
   "language": "python",
   "name": "python2"
  },
  "language_info": {
   "codemirror_mode": {
    "name": "ipython",
    "version": 2
   },
   "file_extension": ".py",
   "mimetype": "text/x-python",
   "name": "python",
   "nbconvert_exporter": "python",
   "pygments_lexer": "ipython2",
   "version": "2.7.11"
  }
 },
 "nbformat": 4,
 "nbformat_minor": 0
}
