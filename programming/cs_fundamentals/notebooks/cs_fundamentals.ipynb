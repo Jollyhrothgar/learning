{
 "cells": [
  {
   "cell_type": "code",
   "execution_count": 60,
   "metadata": {
    "collapsed": false
   },
   "outputs": [
    {
     "data": {
      "application/javascript": [
       "$.getScript('https://kmahelona.github.io/ipython_notebook_goodies/ipython_notebook_toc.js')"
      ],
      "text/plain": [
       "<IPython.core.display.Javascript object>"
      ]
     },
     "metadata": {},
     "output_type": "display_data"
    }
   ],
   "source": [
    "%%javascript\n",
    "$.getScript('https://kmahelona.github.io/ipython_notebook_goodies/ipython_notebook_toc.js')"
   ]
  },
  {
   "cell_type": "markdown",
   "metadata": {},
   "source": [
    "<h1 id=\"tcheading\">Table Of Contents</h1>\n",
    "<div id =\"toc\"></div>"
   ]
  },
  {
   "cell_type": "markdown",
   "metadata": {},
   "source": [
    "# CSS Fundamentals"
   ]
  },
  {
   "cell_type": "markdown",
   "metadata": {},
   "source": [
    "## Linked Lists"
   ]
  },
  {
   "cell_type": "markdown",
   "metadata": {},
   "source": [
    "### What are they\n",
    "A linked list is a data structure, consisting of the following features:\n",
    "* A Node\n",
    "* A \"data packet\"\n",
    "* A link to another node\n",
    "\n",
    "A group of linked lists represent a sequence\n",
    "\n",
    "A linked list can be the data structure primative, which can be used to build several other data structures, including"
   ]
  },
  {
   "cell_type": "code",
   "execution_count": 2,
   "metadata": {
    "collapsed": false
   },
   "outputs": [],
   "source": [
    "class Node(object):\n",
    "\n",
    "    def __init__(self, data=None, next_node=None):\n",
    "        self.data = data\n",
    "        self.next_node = next_node\n",
    "\n",
    "    def get_data(self):\n",
    "        return self.data\n",
    "\n",
    "    def get_next(self):\n",
    "        return self.next_node\n",
    "\n",
    "    def set_next(self, new_next):\n",
    "        self.next_node = new_next\n",
    "\n",
    "class LinkedList(object):\n",
    "    def __init__(self, head=None):\n",
    "        self.head = head\n",
    "    def insert(self, data):\n",
    "        new_node = Node(data)\n",
    "        new_node.set_next(self.head)\n",
    "        self.head = new_node\n",
    "    def size(self):\n",
    "        current = self.head\n",
    "        count = 0\n",
    "        while current:\n",
    "            count += 1\n",
    "            print current.get_data()\n",
    "            current = current.get_next()\n",
    "        return count\n",
    "    \n",
    "    def search(self, data):\n",
    "        current = self.head\n",
    "        found = False\n",
    "        while current and found is False:\n",
    "            if current.get_data() == data:\n",
    "                found = True\n",
    "            else:\n",
    "                current = current.get_next()\n",
    "        if current is None:\n",
    "            raise ValueError(\"Data not in list\")\n",
    "        return current\n",
    "\n",
    "    def delete(self, data):\n",
    "        current = self.head\n",
    "        previous = None\n",
    "        found = False\n",
    "        while current and found is False:\n",
    "            if current.get_data() == data:\n",
    "                found = True\n",
    "            else:\n",
    "                previous = current\n",
    "                current = current.get_next()\n",
    "        if current is None:\n",
    "            raise ValueError(\"Data not in list\")\n",
    "        if previous is None:\n",
    "            self.head = current.get_next()\n",
    "        else:\n",
    "            previous.set_next(current.get_next())"
   ]
  },
  {
   "cell_type": "markdown",
   "metadata": {},
   "source": [
    "## Sorting Algorithms\n",
    "Sorting stability is an important consideration with regards to how to choose what you use. A stable sort always returns things in the same order - maintaining relative order of equal 'phase'."
   ]
  },
  {
   "cell_type": "markdown",
   "metadata": {},
   "source": [
    "### Use this to obtain unsorted lists:"
   ]
  },
  {
   "cell_type": "code",
   "execution_count": 3,
   "metadata": {
    "collapsed": true
   },
   "outputs": [],
   "source": [
    "import random\n",
    "\n",
    "def make_list(size,min_range,max_range):\n",
    "    random_list = []\n",
    "    for x in range(size):\n",
    "        random_list.append(random.randint(min_range,max_range))\n",
    "    return random_list"
   ]
  },
  {
   "cell_type": "code",
   "execution_count": 23,
   "metadata": {
    "collapsed": false
   },
   "outputs": [
    {
     "name": "stdout",
     "output_type": "stream",
     "text": [
      "[97, 49, 38, 43, 4, 17, 4, 26, 25, 20]\n"
     ]
    }
   ],
   "source": [
    "print make_list(10,0,100)"
   ]
  },
  {
   "cell_type": "markdown",
   "metadata": {},
   "source": [
    "### Merge\n",
    "The merge sort algorithm is of order $\\mathcal{O}(n log(n))$ complexity. The basic idea is that we split the list into many pairs, which are ordered, then re-merge. Merge sort uses order n of memory, but is ultra-parallelizable. Memory complexity $\\mathcal{O}(n)$ \n",
    "\n",
    "Merge sort is \"stable\""
   ]
  },
  {
   "cell_type": "markdown",
   "metadata": {},
   "source": [
    "### Quick\n",
    "Not as quick as merge, in worst case. Complexity $\\mathcal{O}(n log (n)) $ Basically a divide and conquor method. You choose a pivot point, everything smaller than pivot goes on one side, everything larger goes on the other. If you were lucky and picked the median, this would be as quick as merge-sort. Each time you call a funciton in memory, you add memory, Memory complexity: $\\mathcal{O} log (n) $\n",
    "\n",
    "Quick sort is not \"stable\""
   ]
  },
  {
   "cell_type": "markdown",
   "metadata": {},
   "source": [
    "### Heap\n"
   ]
  },
  {
   "cell_type": "markdown",
   "metadata": {},
   "source": [
    "### Bubble Sort\n",
    "\n",
    "The bubble sort algorithm is of order $\\mathcal{O}(n^2)$ complexity, and can be done in constant memory. The algorithm goes:"
   ]
  },
  {
   "cell_type": "code",
   "execution_count": 4,
   "metadata": {
    "collapsed": false
   },
   "outputs": [
    {
     "name": "stdout",
     "output_type": "stream",
     "text": [
      "[81, 29, 41, 33, 9, 7, 88, 81, 70, 62]\n",
      "[7, 9, 29, 33, 41, 62, 70, 81, 81, 88]\n"
     ]
    }
   ],
   "source": [
    "def bubble_sort(my_list):\n",
    "    number_of_iterations = 0\n",
    "    unsorted = True\n",
    "    while(unsorted == True):\n",
    "        unsorted = False\n",
    "        for index in range(len(unsorted_list)-1):\n",
    "            current_entry = my_list[index]\n",
    "            next_entry = my_list[index+1]\n",
    "            if  next_entry < current_entry:\n",
    "                my_list[index] = next_entry\n",
    "                my_list[index+1] = current_entry\n",
    "                unsorted = True\n",
    "        number_of_iterations += 1\n",
    "    return my_list\n",
    "\n",
    "unsorted_list = make_list(10,0,100)\n",
    "print unsorted_list\n",
    "print bubble_sort(unsorted_list)"
   ]
  },
  {
   "cell_type": "markdown",
   "metadata": {},
   "source": [
    "### Selection Sort\n",
    "\n",
    "The selection sort, depending on order, will select the highest(lowest) item in a list, and then continue to fill the list according to the next highest(lowest) members. Memory is constant, as we pop items off the list to be sorted, and then organize it while sorting"
   ]
  },
  {
   "cell_type": "code",
   "execution_count": 6,
   "metadata": {
    "collapsed": false
   },
   "outputs": [
    {
     "name": "stdout",
     "output_type": "stream",
     "text": [
      "test selection sort input: [18, 74, 62, 82, 50, 24, 80, 16, 89, 84]\n",
      "test selection sort output: [16, 18, 24, 50, 62, 74, 80, 82, 84, 89]\n",
      "test selection sort input: [86, 66, 13, 62, 32, 82, 74, 90, 50, 100]\n",
      "test selection sort output: [13, 32, 50, 62, 66, 74, 82, 86, 90, 100]\n"
     ]
    }
   ],
   "source": [
    "# This is not technically selection sort, because we use 2N memory, and there is no \n",
    "# swapping happening. \n",
    "def test_selection_sort(a_list):\n",
    "    '''\n",
    "    test_selection_sort will find the global minimum in a list, and copy it to a sorted list. \n",
    "    This function takes as an argument any list for which the \"<\" \">\" or \"==\" operators\n",
    "    are defined, and sorts it, in ascending order, from smallest to greatest.\n",
    "    \n",
    "    This implementation requires N memory, since we remove entries from the input array.\n",
    "    \n",
    "    This implimentation seems to be more of an insert sort type of thing.\n",
    "    \n",
    "    The original list is destroyed, and a new list is returned, but the handle of the \n",
    "    original list is set to the new list, so the user need not set any external variables\n",
    "    with the output.\n",
    "    '''\n",
    "    final_list = []\n",
    "    while len(a_list) > 0:\n",
    "        # index of global minimum, value of global minimum\n",
    "        global_minimum = (0,a_list[0])\n",
    "        for i in range(len(a_list)):\n",
    "            if a_list[i] < global_minimum[1]:\n",
    "                global_minimum = (i,a_list[i])\n",
    "        a_list.pop(global_minimum[0])\n",
    "        final_list.append(global_minimum[1])\n",
    "        #print a_list\n",
    "    a_list = final_list\n",
    "    return final_list\n",
    "\n",
    "\n",
    "unsorted_1 = make_list(10,0,100)\n",
    "print \"test selection sort input:\",unsorted_1\n",
    "sorted_1 = test_selection_sort(unsorted_1)\n",
    "print \"test selection sort output:\",sorted_1\n",
    "\n",
    "\n",
    "# This is the correct implementation of selection sort. It uses swapping of indicies.\n",
    "def real_selection_sort(a):\n",
    "    \"\"\" \n",
    "    This is the wikipedia implementation of selection sort. It does not require additional \n",
    "    memory, and uses swapping. This doesn't return a list, since the input list is sorted.\n",
    "    \"\"\"\n",
    "    # advance through array\n",
    "    for j in range(len(a)-1):\n",
    "        # find teh minimum element in unsorted a[j...n-1]\n",
    "        # assume that minimum is first element\n",
    "        iMin = j\n",
    "        # Test minimum against elements after j to find the smallest\n",
    "        for i in range(j+1,len(a)):\n",
    "            if (a[i] < a[iMin]):\n",
    "                # found new minimum, remember the index\n",
    "                iMin = i\n",
    "        if iMin != j:\n",
    "            # swap\n",
    "            first = a[j]\n",
    "            second = a[iMin]\n",
    "            a[j] = second\n",
    "            a[iMin] = first\n",
    "            \n",
    "unsorted_2 = make_list(10,0,100)\n",
    "print \"test selection sort input:\",unsorted_2\n",
    "sorted_2 = test_selection_sort(unsorted_2)\n",
    "print \"test selection sort output:\",sorted_2\n",
    "\n"
   ]
  },
  {
   "cell_type": "markdown",
   "metadata": {},
   "source": [
    "### Insertion Sort\n",
    "'''Insertion sort''' is a simple sorting algorithm that builds the final sorted array (or list) one item at a time. It is much less efficient on large lists than more advanced algorithms such as quicksort, heapsort, or erge sort. However, insertion sort provides several advantages:\n",
    "\n",
    "* Simple to impliment\n",
    "* Efficient for (quite) small data sets, much like other quadratic sorting algorithms\n",
    "* More efficient in practice than most other simple quadratic algorithms such as selection or bubble sort \n",
    "* Does not change the relative order of elements with equal keys\n",
    "* Only requires a constant amount O(1) of additional memory space\n",
    "* Can sort a list as it receives it\n",
    "\n",
    "Sorting is typically done in-place, by iterating up the array, growing the sorted list behind it. At each array-position, it checks the value there against the largest value in the sorted list (which happens to be next to it, in the previous array-position checked). If larger, it leaves the element in place and moves to the next. If smaller, it finds the correct position within the sorted list, shifts all the larger values up to make a space, and inserts into that correct position."
   ]
  },
  {
   "cell_type": "code",
   "execution_count": 15,
   "metadata": {
    "collapsed": false
   },
   "outputs": [],
   "source": [
    "def insert_sort(a):\n",
    "    for i in range(1,len(a)):\n",
    "        j = i\n",
    "        while j > 0 and a[j-1] > a[j]:\n",
    "            temp = a[j]\n",
    "            a[j] = a[j-1]\n",
    "            a[j-1] = temp\n",
    "            j = j - 1\n",
    "    return a\n"
   ]
  },
  {
   "cell_type": "code",
   "execution_count": 22,
   "metadata": {
    "collapsed": false
   },
   "outputs": [
    {
     "name": "stdout",
     "output_type": "stream",
     "text": [
      "[38, 24, 80, 15, 29, 80, 54, 3, 44, 50]\n",
      "[3, 15, 24, 29, 38, 44, 50, 54, 80, 80]\n"
     ]
    }
   ],
   "source": [
    "random_list_3 = make_list(10,0,100)\n",
    "print random_list_3\n",
    "print wiki_insert_sort(random_list_3)"
   ]
  },
  {
   "cell_type": "code",
   "execution_count": 10,
   "metadata": {
    "collapsed": false
   },
   "outputs": [
    {
     "name": "stdout",
     "output_type": "stream",
     "text": [
      "0 4\n",
      "1 3\n"
     ]
    }
   ],
   "source": [
    "a = [0,1,2,3,4]\n",
    "print a.pop(0),len(a)\n",
    "print a.pop(0),len(a)"
   ]
  },
  {
   "cell_type": "markdown",
   "metadata": {
    "collapsed": true
   },
   "source": [
    "# Dynamic Programming Problems\n",
    "* Typical Categories:\n",
    "* Binary search tree, or Binary Tree\n",
    "* DFS, BFS Graph Algorithms\n",
    "* recursion. \n",
    "    * Stack, Queue, Heap\n",
    "* Dynamic Programming\n",
    "    * min, max, etc\n",
    "\n",
    "Goal: solve a complex problem by breaking it down into several sub-solutions. Calculate small solutions exactly once, store in memory to avoid repeated calculation."
   ]
  },
  {
   "cell_type": "markdown",
   "metadata": {
    "collapsed": true
   },
   "source": [
    "## Simple Example - Fibonnaci Sequence"
   ]
  },
  {
   "cell_type": "code",
   "execution_count": null,
   "metadata": {
    "collapsed": true
   },
   "outputs": [],
   "source": [
    "# Recursive Solution:\n",
    "def fib_r(n):\n",
    "    if n <= 2:\n",
    "        return 1\n",
    "    else:\n",
    "        return fib(n-1) + fib(n-2)"
   ]
  },
  {
   "cell_type": "code",
   "execution_count": null,
   "metadata": {
    "collapsed": false
   },
   "outputs": [],
   "source": [
    "print fib_r(1000)"
   ]
  },
  {
   "cell_type": "markdown",
   "metadata": {},
   "source": [
    "### Create a table\n",
    "* n = \n",
    "* n+1 = \n",
    "* n+2 = "
   ]
  },
  {
   "cell_type": "code",
   "execution_count": null,
   "metadata": {
    "collapsed": false
   },
   "outputs": [],
   "source": [
    "def fib_dp(n):\n",
    "    fibValues = [0,1]\n",
    "    for i in range(2,n+1):\n",
    "        fibValues.append(fibValues[i-1] + fibValues[i-2])\n",
    "    return fibValues[n]"
   ]
  },
  {
   "cell_type": "code",
   "execution_count": null,
   "metadata": {
    "collapsed": false
   },
   "outputs": [],
   "source": [
    "print fib_dp(1000)"
   ]
  },
  {
   "cell_type": "markdown",
   "metadata": {},
   "source": [
    "### Keys to programming\n",
    "* know your base case\n",
    "* know the relationships between the problem and the sample"
   ]
  },
  {
   "cell_type": "markdown",
   "metadata": {},
   "source": [
    "## Longest Increasing Subsequence - Return Length\n",
    "* Subarray: continuous sequence in array\n",
    "* Subsequence:\n",
    "* Use case: stock market, when to buy and sell"
   ]
  },
  {
   "cell_type": "code",
   "execution_count": null,
   "metadata": {
    "collapsed": true
   },
   "outputs": [],
   "source": [
    "test_list = [10,9,2,5,3,7,101,18]"
   ]
  },
  {
   "cell_type": "markdown",
   "metadata": {},
   "source": [
    "### Base Case:\n",
    "* [] - Empty list\n",
    "* [5] - One entry in list\n",
    "\n",
    "### Leetcode Problems:\n",
    "* 300\n",
    "* 96"
   ]
  },
  {
   "cell_type": "markdown",
   "metadata": {
    "collapsed": true
   },
   "source": [
    "# Graph Search Programming Problems"
   ]
  },
  {
   "cell_type": "markdown",
   "metadata": {},
   "source": [
    "## Breadth First Search"
   ]
  },
  {
   "cell_type": "markdown",
   "metadata": {},
   "source": [
    "## Depth First Search"
   ]
  },
  {
   "cell_type": "markdown",
   "metadata": {},
   "source": [
    "## Trie"
   ]
  },
  {
   "cell_type": "markdown",
   "metadata": {},
   "source": [
    "## Binary Tree"
   ]
  },
  {
   "cell_type": "markdown",
   "metadata": {},
   "source": [
    "# Dynamic Programming"
   ]
  },
  {
   "cell_type": "markdown",
   "metadata": {},
   "source": [
    "## The Robber Problem\n",
    "You are a professional robber planning to rob houses along a street. Each house has a certain amount of money stashed, the only constraint stopping you from robbing each of them is that adjacent houses have security system connected and it will automatically contact the police if two adjacent houses were broken into on the same night.\n",
    "\n",
    "Given a list of non-negative integers representing the amount of money of each house, determine the maximum amount of money you can rob tonight without alerting the police.\n",
    "\n",
    "Credits:\n",
    "Special thanks to @ifanchu for adding this problem and creating all test cases. Also thanks to @ts for adding additional test cases.\n",
    "\n",
    "Subscribe to see which companies asked this question"
   ]
  },
  {
   "cell_type": "code",
   "execution_count": 22,
   "metadata": {
    "collapsed": true
   },
   "outputs": [],
   "source": [
    "## Solution\n",
    "class Solution(object):\n",
    "    def rob(self, nums):\n",
    "        \"\"\"\n",
    "        :type nums: List[int]\n",
    "        :rtype: int\n",
    "        \"\"\"\n",
    "        if len(nums) == 0:\n",
    "            return 0\n",
    "        total = [0]*(len(nums))\n",
    "        for i in range (len(nums)):\n",
    "            if i == 0:\n",
    "                total[0] = nums[0]\n",
    "            elif i == 1:\n",
    "                total[1] = nums[1]\n",
    "            elif i == 2:\n",
    "                total[2] = nums[0] + nums[2]\n",
    "            else:\n",
    "                total[i] = max(total[i-2], total[i-3]) + nums[i]\n",
    "            print total\n",
    "\n",
    "        return max(total[-1],total[-2]) "
   ]
  },
  {
   "cell_type": "code",
   "execution_count": 24,
   "metadata": {
    "collapsed": false
   },
   "outputs": [
    {
     "name": "stdout",
     "output_type": "stream",
     "text": [
      "[0, 0, 0, 0, 0]\n",
      "[0, 0, 0, 0, 0]\n",
      "[0, 0, 0, 0, 0]\n",
      "[0, 0, 0, 0, 0]\n",
      "[0, 0, 0, 0, 0]\n",
      "0\n",
      "[1, 0, 0, 0, 0, 0]\n",
      "[1, 2, 0, 0, 0, 0]\n",
      "[1, 2, 4, 0, 0, 0]\n",
      "[1, 2, 4, 6, 0, 0]\n",
      "[1, 2, 4, 6, 9, 0]\n",
      "[1, 2, 4, 6, 9, 12]\n",
      "12\n",
      "[0, 0, 0, 0, 0]\n",
      "[0, 2, 0, 0, 0]\n",
      "[0, 2, 2, 0, 0]\n",
      "[0, 2, 2, 5, 0]\n",
      "[0, 2, 2, 5, 2]\n",
      "5\n",
      "[0, 0, 0, 0, 0]\n",
      "[0, 2, 0, 0, 0]\n",
      "[0, 2, 3, 0, 0]\n",
      "[0, 2, 3, 4, 0]\n",
      "[0, 2, 3, 4, 3]\n",
      "4\n",
      "[0, 0, 0, 0, 0, 0]\n",
      "[0, 5000, 0, 0, 0, 0]\n",
      "[0, 5000, 2000, 0, 0, 0]\n",
      "[0, 5000, 2000, 6000, 0, 0]\n",
      "[0, 5000, 2000, 6000, 6000, 0]\n",
      "[0, 5000, 2000, 6000, 6000, 6010]\n",
      "6010\n"
     ]
    }
   ],
   "source": [
    "## Test Cases\n",
    "case_1 = [0,0,0,0,0]\n",
    "case_2 = [1,2,3,4,5,6]\n",
    "case_3 = [0,2,2,3,0]\n",
    "case_4 = [0,2,3,2,0]\n",
    "case_5 = [0,5000,2000,1000,1000,10]\n",
    "s = Solution()\n",
    "print s.rob(case_1)\n",
    "print s.rob(case_2)\n",
    "print s.rob(case_3)\n",
    "print s.rob(case_4)\n",
    "print s.rob(case_5)"
   ]
  },
  {
   "cell_type": "markdown",
   "metadata": {},
   "source": [
    "## The Stair Climbing Problem / Generating the Fibonacci Sequence\n",
    "\n",
    "You are climbing a stair case. It takes n steps to reach to the top.\n",
    "\n",
    "Each time you can either climb 1 or 2 steps. In how many distinct ways can you climb to the top?\n",
    "\n",
    "Turns out that the number of ways to climb a stairway with 1 or 2 steps is the fibonacci sequence"
   ]
  },
  {
   "cell_type": "code",
   "execution_count": 30,
   "metadata": {
    "collapsed": true
   },
   "outputs": [],
   "source": [
    "class Solution(object):\n",
    "    def climbStairs(self, n):\n",
    "        \"\"\"\n",
    "        :type n: int\n",
    "        :rtype: int\n",
    "        \"\"\"\n",
    "        \n",
    "        # The dynamic appoach will be to solve the subsets of \n",
    "        # number of ways to climb n-1, n-2... etc and then \n",
    "        # sum at the end\n",
    "        \n",
    "        if n == 0:\n",
    "            return 0\n",
    "        number_of_ways = [0]*n\n",
    "        \n",
    "        if n == 1:\n",
    "            return 1\n",
    "        if n == 2:\n",
    "            return 2\n",
    "        \n",
    "        for i in range(n):\n",
    "            # 1 stair:\n",
    "            if i == 0:\n",
    "                number_of_ways[0] = 1\n",
    "            # 2 stair\n",
    "            if i == 1:\n",
    "                number_of_ways[1] = 2\n",
    "            if i > 1:\n",
    "                # 3rd star or higher\n",
    "                number_of_ways[i] = number_of_ways[i-2] + number_of_ways[i-1] \n",
    "        return number_of_ways[n-1]"
   ]
  },
  {
   "cell_type": "code",
   "execution_count": 33,
   "metadata": {
    "collapsed": false
   },
   "outputs": [
    {
     "name": "stdout",
     "output_type": "stream",
     "text": [
      "number of steps: 0 ways to climb: 0\n",
      "number of steps: 1 ways to climb: 1\n",
      "number of steps: 2 ways to climb: 2\n",
      "number of steps: 3 ways to climb: 3\n",
      "number of steps: 4 ways to climb: 5\n",
      "number of steps: 5 ways to climb: 8\n",
      "number of steps: 6 ways to climb: 13\n",
      "number of steps: 7 ways to climb: 21\n",
      "number of steps: 8 ways to climb: 34\n",
      "number of steps: 9 ways to climb: 55\n"
     ]
    },
    {
     "data": {
      "text/plain": [
       "573147844013817084101L"
      ]
     },
     "execution_count": 33,
     "metadata": {},
     "output_type": "execute_result"
    }
   ],
   "source": [
    "s = Solution()\n",
    "steps = range(10)\n",
    "for step in steps:\n",
    "    print 'number of steps:',step,'ways to climb:',s.climbStairs(step)\n",
    "    \n",
    "s.climbStairs(100)"
   ]
  },
  {
   "cell_type": "markdown",
   "metadata": {},
   "source": [
    "# Graph Search\n",
    "We have the graph, which looks like: \n",
    "<img src='http://eddmann.com/uploads/depth-first-search-and-breadth-first-search-in-python/graph.png'>\n",
    "\n",
    "There is a internal cycle between nodes. \n",
    "\n",
    "This graph can be abstracted with:\n",
    "<pre>\n",
    "graph = {'A': set(['B', 'C']),\n",
    "         'B': set(['A', 'D', 'E']),\n",
    "         'C': set(['A', 'F']),\n",
    "         'D': set(['B']),\n",
    "         'E': set(['B', 'F']),\n",
    "         'F': set(['C', 'E'])}\n",
    "</pre>"
   ]
  },
  {
   "cell_type": "markdown",
   "metadata": {},
   "source": [
    "## Depth First Search"
   ]
  },
  {
   "cell_type": "code",
   "execution_count": 55,
   "metadata": {
    "collapsed": false
   },
   "outputs": [],
   "source": [
    "# first implementation\n",
    "def dfs_1(graph, start):\n",
    "    visited, stack = set(), [start]\n",
    "    print start\n",
    "    while stack:\n",
    "        vertex = stack.pop()\n",
    "        print vertex\n",
    "        if vertex not in visited:\n",
    "            visited.add(vertex)\n",
    "            stack.extend(graph[vertex] - visited)\n",
    "    return visited\n",
    "\n",
    "# second implementation - recursive\n",
    "def dfs_2(graph, start, visited=None):\n",
    "    if visited is None:\n",
    "        visited = set()\n",
    "    visited.add(start)\n",
    "    for next in graph[start] - visited:\n",
    "        dfs_2(graph, next, visited)\n",
    "    return visited\n",
    "\n",
    "# finding paths to goal, using generators\n",
    "def dfs_paths_1(graph, start, goal):\n",
    "    stack = [(start, [start])]\n",
    "    while stack:\n",
    "        (vertex, path) = stack.pop()\n",
    "        for next in graph[vertex] - set(path):\n",
    "            if next == goal:\n",
    "                yield path + [next]\n",
    "            else:\n",
    "                stack.append((next, path + [next]))\n",
    "\n",
    "# finding paths to goal - recursive, using generators\n",
    "def dfs_paths_2(graph, start, goal, path=None):\n",
    "    if path is None:\n",
    "        path = [start]\n",
    "    if start == goal:\n",
    "        yield path\n",
    "    for next in graph[start] - set(path):\n",
    "        yield dfs_paths_2(graph, next, goal, path + [next])\n"
   ]
  },
  {
   "cell_type": "markdown",
   "metadata": {},
   "source": [
    "## Breadth First Search"
   ]
  },
  {
   "cell_type": "markdown",
   "metadata": {},
   "source": [
    "## Tests"
   ]
  },
  {
   "cell_type": "code",
   "execution_count": 56,
   "metadata": {
    "collapsed": true
   },
   "outputs": [],
   "source": [
    "graph = {'A': set(['B', 'C']),\n",
    "         'B': set(['A', 'D', 'E']),\n",
    "         'C': set(['A', 'F']),\n",
    "         'D': set(['B']),\n",
    "         'E': set(['B', 'F']),\n",
    "         'F': set(['C', 'E'])}"
   ]
  },
  {
   "cell_type": "code",
   "execution_count": 57,
   "metadata": {
    "collapsed": false
   },
   "outputs": [],
   "source": [
    "my_list = list(dfs_paths_2(graph, 'A', 'F'))"
   ]
  },
  {
   "cell_type": "code",
   "execution_count": 58,
   "metadata": {
    "collapsed": false
   },
   "outputs": [
    {
     "name": "stdout",
     "output_type": "stream",
     "text": [
      "<generator object dfs_paths_2 at 0x7f63d8071370>\n",
      "<generator object dfs_paths_2 at 0x7f63d8071140>\n"
     ]
    }
   ],
   "source": [
    "for item in my_list:\n",
    "    print item"
   ]
  },
  {
   "cell_type": "code",
   "execution_count": 59,
   "metadata": {
    "collapsed": false
   },
   "outputs": [
    {
     "name": "stdout",
     "output_type": "stream",
     "text": [
      "A\n",
      "A\n",
      "B\n",
      "D\n",
      "E\n",
      "F\n",
      "C\n",
      "C\n"
     ]
    },
    {
     "data": {
      "text/plain": [
       "{'A', 'B', 'C', 'D', 'E', 'F'}"
      ]
     },
     "execution_count": 59,
     "metadata": {},
     "output_type": "execute_result"
    }
   ],
   "source": [
    "dfs_1(graph,'A')"
   ]
  },
  {
   "cell_type": "code",
   "execution_count": null,
   "metadata": {
    "collapsed": true
   },
   "outputs": [],
   "source": []
  }
 ],
 "metadata": {
  "kernelspec": {
   "display_name": "Python 2",
   "language": "python",
   "name": "python2"
  },
  "language_info": {
   "codemirror_mode": {
    "name": "ipython",
    "version": 2
   },
   "file_extension": ".py",
   "mimetype": "text/x-python",
   "name": "python",
   "nbconvert_exporter": "python",
   "pygments_lexer": "ipython2",
   "version": "2.7.11"
  }
 },
 "nbformat": 4,
 "nbformat_minor": 0
}
