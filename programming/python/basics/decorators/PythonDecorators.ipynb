{
 "cells": [
  {
   "cell_type": "markdown",
   "metadata": {},
   "source": [
    "# What are Decorators\n",
    "\n",
    "### Notes/Interactively Running Examples From: http://thecodeship.com/patterns/guide-to-python-function-decorators/\n",
    "Decorators are nothing more than syntactic sugar, but they provide a powerful functionality. They can dynamically alter the functionality of a function, method, or class without using subclasses or sub-functions.\n",
    "\n",
    "Before we can discuss what decorators are, it might be useful to show what they accomplish using good old python.\n",
    "\n",
    "Decorators are special wrappers which modify the behavior of a piece of code before, and after the target code's execution, but no modification is needed to the original function itself. Thus, a function is 'decorated'."
   ]
  },
  {
   "cell_type": "markdown",
   "metadata": {},
   "source": [
    "# Some Background On Functions\n",
    "\n",
    "In python, functions themseles are 'first-class' citizens, they can be passed around like variables.\n",
    "\n",
    "## Setting a Function to A Variable"
   ]
  },
  {
   "cell_type": "code",
   "execution_count": 1,
   "metadata": {
    "collapsed": false
   },
   "outputs": [
    {
     "name": "stdout",
     "output_type": "stream",
     "text": [
      "hello John\n",
      "hello Mike\n"
     ]
    }
   ],
   "source": [
    "def greet(name):\n",
    "    \"\"\"\n",
    "    Takes a string, 'name' and returns a greeting string using that name.\n",
    "    \"\"\"\n",
    "    return \"hello {}\".format(str(name))\n",
    "# Look, we're assigning greet to a function!\n",
    "greet_someone = greet\n",
    "print(greet_someone(\"John\"))\n",
    "print(greet(\"Mike\"))"
   ]
  },
  {
   "cell_type": "markdown",
   "metadata": {},
   "source": [
    "## Defining Functions Inside of Functions"
   ]
  },
  {
   "cell_type": "code",
   "execution_count": 2,
   "metadata": {
    "collapsed": false
   },
   "outputs": [
    {
     "name": "stdout",
     "output_type": "stream",
     "text": [
      "Hello Kathy\n"
     ]
    }
   ],
   "source": [
    "def greet_2(name):\n",
    "    def get_message():\n",
    "        return \"Hello\"\n",
    "    result = get_message() + \" \" + name\n",
    "    return result\n",
    "\n",
    "print(greet_2(\"Kathy\"))"
   ]
  },
  {
   "cell_type": "markdown",
   "metadata": {},
   "source": [
    "## Passing a Function as a Parameter to Other Functions"
   ]
  },
  {
   "cell_type": "code",
   "execution_count": 3,
   "metadata": {
    "collapsed": false
   },
   "outputs": [
    {
     "name": "stdout",
     "output_type": "stream",
     "text": [
      "hello Jill\n"
     ]
    }
   ],
   "source": [
    "def call_func(func, name):\n",
    "    return func(name)\n",
    "\n",
    "print(call_func(greet,\"Jill\"))"
   ]
  },
  {
   "cell_type": "markdown",
   "metadata": {},
   "source": [
    "## Return a Function"
   ]
  },
  {
   "cell_type": "code",
   "execution_count": 4,
   "metadata": {
    "collapsed": false
   },
   "outputs": [
    {
     "name": "stdout",
     "output_type": "stream",
     "text": [
      "Hello there!\n"
     ]
    }
   ],
   "source": [
    "def compose_greet_func():\n",
    "    def get_message():\n",
    "        return \"Hello there!\"\n",
    "    return get_message\n",
    "\n",
    "greet = compose_greet_func()\n",
    "print(greet())"
   ]
  },
  {
   "cell_type": "markdown",
   "metadata": {},
   "source": [
    "## A Few Notes on Scope: Decorators/Closures\n",
    "Decorators are one expression of a __design pattern__ known as a __closure__. A closure is a design pattern where functions are 'aware' of the local enclosing environment when they are created.  "
   ]
  },
  {
   "cell_type": "code",
   "execution_count": 5,
   "metadata": {
    "collapsed": false
   },
   "outputs": [
    {
     "name": "stdout",
     "output_type": "stream",
     "text": [
      "Hello there, John!\n"
     ]
    }
   ],
   "source": [
    "def compose_greet_func(name):\n",
    "    def get_message():\n",
    "        return \"Hello there, {}!\".format(name)\n",
    "    return get_message\n",
    "\n",
    "greet = compose_greet_func(\"John\")\n",
    "print(greet())"
   ]
  },
  {
   "cell_type": "markdown",
   "metadata": {},
   "source": [
    "## Composing A Decorator\n",
    "Note how get_message was wrapped inside of compose_greet_function. Note too that get_message (as seen directly above) has awareness of the scope in which it was created - i.e. it knows about 'name' without having to be explicitly told. We created a closure around get_message. \n",
    "\n",
    "Function decorators wrap exisitng functions. Putting the above ideas together, we can build a decorator. For example, consider a function that wraps the output of a string with paragraph tag \"&lt;p&gt; text &lt;/p&gt;\"."
   ]
  },
  {
   "cell_type": "code",
   "execution_count": 6,
   "metadata": {
    "collapsed": false
   },
   "outputs": [
    {
     "name": "stdout",
     "output_type": "stream",
     "text": [
      "<p>lorem ipsum, John dolor sit amet</p>\n"
     ]
    }
   ],
   "source": [
    "def get_text(name):\n",
    "    return \"lorem ipsum, {0} dolor sit amet\".format(name)\n",
    "\n",
    "def p_decorate(func):\n",
    "    def func_wrapper(name):\n",
    "        return \"<p>{0}</p>\".format(func(name))\n",
    "    return func_wrapper\n",
    "text_gen = p_decorate(get_text)\n",
    "print(text_gen(\"John\"))"
   ]
  },
  {
   "cell_type": "markdown",
   "metadata": {},
   "source": [
    "See how we have 'decorated' get_text by writing a wrapper? We accomplished this by creating a wrapper inside p_decorate which called the func argument passed in, and inserted the output into the string.\n",
    "\n",
    "A function that takes another function as an argument, generates a new function while augmenting the work of the original. The function p_decorate is LITERALLY a decorator pattern.\n",
    "\n",
    "We can make get_text be decorated by p_decorate itself by assigning get_text to the result of p_decorate itself.}"
   ]
  },
  {
   "cell_type": "code",
   "execution_count": 7,
   "metadata": {
    "collapsed": false
   },
   "outputs": [
    {
     "name": "stdout",
     "output_type": "stream",
     "text": [
      "<p>lorem ipsum, John dolor sit amet</p>\n"
     ]
    }
   ],
   "source": [
    "# in a Jupyter Notebook Kernel, this can lead to recursively decorated results. Be Careful!\n",
    "# This syntax is a little confusing - since p_decorate takes 'func' which is called as a function\n",
    "# yet get_text expects a string-y argument.\n",
    "get_text = p_decorate(get_text) \n",
    "print(get_text(\"John\"))"
   ]
  },
  {
   "cell_type": "markdown",
   "metadata": {},
   "source": [
    "Note that get_text takes an argument 'name' but the decorator itself does not take any name argument. It is passed in through the wrapper, func_wrapper.\n",
    "\n",
    "While we can still use this formalism to create decorators, python has added some syntactic sugar which makes the process a bit easier, so that we don't need the <pre> get_text = p_decorator(get_text) </pre> syntax. Instead we can create a short-cut for that, with the @ modifier."
   ]
  },
  {
   "cell_type": "code",
   "execution_count": 8,
   "metadata": {
    "collapsed": false
   },
   "outputs": [
    {
     "name": "stdout",
     "output_type": "stream",
     "text": [
      "<p>lorem ipsum John dolor sit amet</p>\n"
     ]
    }
   ],
   "source": [
    "import functools\n",
    "def p_decorate(func):\n",
    "    def func_wrapper(name):\n",
    "        \"\"\" \n",
    "        wrapper for the function to be modified\n",
    "        \"\"\"\n",
    "        return \"<p>{0}</p>\".format(func(name))\n",
    "    return func_wrapper\n",
    "\n",
    "# same as later doing: get_text = p_decorator(get_text)\n",
    "@p_decorate\n",
    "def get_text(name):\n",
    "    return \"lorem ipsum {0} dolor sit amet\".format(name)\n",
    "\n",
    "print(get_text(\"John\"))\n"
   ]
  },
  {
   "cell_type": "markdown",
   "metadata": {},
   "source": [
    "The order of setting decorators matters, FYI.\n",
    "\n",
    "## Decorating Methods\n",
    "Methods in python are just a special class of functions which must have at least one argument - a pointer to the class that they belong to - i.e. 'self'. Decorators can be built for methods, taking 'self' into account."
   ]
  },
  {
   "cell_type": "code",
   "execution_count": 9,
   "metadata": {
    "collapsed": false
   },
   "outputs": [
    {
     "name": "stdout",
     "output_type": "stream",
     "text": [
      "<p>John Doe</p>\n"
     ]
    }
   ],
   "source": [
    "def p_decorate(func):\n",
    "    def func_wrapper(self): # note that here we give the argument self\n",
    "        return \"<p>{0}</p>\".format(func(self))\n",
    "    return func_wrapper\n",
    "\n",
    "class Person(object):\n",
    "    def __init__(self):\n",
    "        self.name = \"John\"\n",
    "        self.family = \"Doe\"\n",
    "    \n",
    "    # or method = p_decorate(method)\n",
    "    @p_decorate\n",
    "    def get_fullname(self):\n",
    "        return self.name+\" \"+self.family\n",
    "    \n",
    "my_person = Person()\n",
    "print(my_person.get_fullname())    "
   ]
  },
  {
   "cell_type": "markdown",
   "metadata": {},
   "source": [
    "What if we wanted to make a decorator that could handle functions _or_ methods? It can be done using &#42;args and &#42;&#42;kwargs. Previously, a decorator function needed to know something about the arguments to be supplied to the function it would decorate. However, &#42;args and &#42;&#42;kwargs allow us to essentially handle any number of arguments (and they are implicitly the arguments passed to every function anyway). &#42;args is simply a tuple of unnamed arguments in the order that they were received.  &#42;kwargs stands for 'key-word' arguments and is a dict of key-value pairs. The key is cast as a string internally."
   ]
  },
  {
   "cell_type": "code",
   "execution_count": 10,
   "metadata": {
    "collapsed": false
   },
   "outputs": [
    {
     "name": "stdout",
     "output_type": "stream",
     "text": [
      "<class 'tuple'> (1, 2, 3, 4)\n",
      "<class 'dict'> {}\n",
      "arg: 1\n",
      "arg: 2\n",
      "arg: 3\n",
      "arg: 4\n",
      "<class 'tuple'> ()\n",
      "<class 'dict'> {'one': 1, 'four': 4, 'three': 3, 'two': 2}\n",
      "kw: one arg: 1\n",
      "kw: four arg: 4\n",
      "kw: three arg: 3\n",
      "kw: two arg: 2\n"
     ]
    }
   ],
   "source": [
    "def show_me(*args,**kwargs):\n",
    "    print(type(args),args)\n",
    "    print(type(kwargs),kwargs)\n",
    "    for arg in args:\n",
    "        print(\"arg:\",arg)\n",
    "    for kw,arg in kwargs.items():\n",
    "        print(\"kw:\",kw,\"arg:\",arg)\n",
    "    return\n",
    "show_me(1,2,3,4)\n",
    "show_me(one=1, two=2, three=3, four=4)"
   ]
  },
  {
   "cell_type": "code",
   "execution_count": 11,
   "metadata": {
    "collapsed": false
   },
   "outputs": [
    {
     "name": "stdout",
     "output_type": "stream",
     "text": [
      "<p>John Doe</p>\n"
     ]
    }
   ],
   "source": [
    "def p_decorate(func):\n",
    "    def func_wrapper(*args, **kwargs):\n",
    "        return \"<p>{0}</p>\".format(func(*args, **kwargs))\n",
    "    return func_wrapper\n",
    "\n",
    "class Person(object):\n",
    "    def __init__(self):\n",
    "        self.name = \"John\"\n",
    "        self.family = \"Doe\"\n",
    "    @p_decorate\n",
    "    def get_fullname(self):\n",
    "        return self.name+\" \"+self.family\n",
    "    \n",
    "my_person = Person()\n",
    "\n",
    "print(my_person.get_fullname())"
   ]
  },
  {
   "cell_type": "markdown",
   "metadata": {},
   "source": [
    "## Modifying Decorators With Arguments\n",
    "Just like any other function, decorators can be given arguments as well. This might be useful in the case where we wanted to simply abstract doing a similar thing under different conditions. For example, in this case, we have been playing with using decorators to add HTML tags to strings. Why should we have a 'p_decorator' to apply &gt;p^&lt; tags when we could generalize this decorator to add any tag we might want?"
   ]
  },
  {
   "cell_type": "code",
   "execution_count": 17,
   "metadata": {
    "collapsed": false
   },
   "outputs": [
    {
     "name": "stdout",
     "output_type": "stream",
     "text": [
      "<p>Hello John</p>\n",
      "<strong>Hello Mike</strong>\n",
      "<poop>27</poop>\n"
     ]
    }
   ],
   "source": [
    "def tag_decorate(tag_name): # supply the decorator argument one level up\n",
    "    def tags_decorator(func): # take the outer function as an argument here\n",
    "        def func_wrapper(*args, **kwargs): # any arguments the inner function may need here\n",
    "            return \"<{0}>{1}</{0}>\".format(tag_name, func(*args,**kwargs))\n",
    "        return func_wrapper\n",
    "    return tags_decorator\n",
    "\n",
    "# decorate with 'p'\n",
    "@tag_decorate(\"p\")\n",
    "def get_text(name):\n",
    "    return \"Hello \"+name\n",
    "\n",
    "print(get_text(\"John\"))\n",
    "\n",
    "@tag_decorate(\"strong\")\n",
    "def get_text(name):\n",
    "    return \"Hello \"+name\n",
    "\n",
    "print(get_text(\"Mike\"))\n",
    "\n",
    "@tag_decorate(\"poop\")\n",
    "def twenty_seven():\n",
    "    return 27\n",
    "\n",
    "print(twenty_seven())"
   ]
  },
  {
   "cell_type": "markdown",
   "metadata": {},
   "source": [
    "## Debugging\n",
    "Decorators wrap the function, so debugging a decorated function can be problematic. Functools.wraps can elp with this for updating the attributes of the original function."
   ]
  },
  {
   "cell_type": "code",
   "execution_count": 6,
   "metadata": {
    "collapsed": false
   },
   "outputs": [
    {
     "name": "stdout",
     "output_type": "stream",
     "text": [
      "********************************************************************************\n",
      "UNPROTECTED\n",
      "func_wrapper\n",
      "None\n",
      "__main__\n",
      "********************************************************************************\n",
      "PROTECTED\n",
      "get_text_protected\n",
      "returns some text\n",
      "__main__\n",
      "********************************************************************************\n",
      "fun_ction\n",
      "returns some text\n",
      "__main__\n",
      "<poo>Hello, Mike</poo>\n"
     ]
    }
   ],
   "source": [
    "from functools import wraps\n",
    "\n",
    "def tags(tag_name):\n",
    "    def tags_decorator(func):\n",
    "        def func_wrapper(name):\n",
    "            return \"<{0}>{1}</{0}>\".format(tag_name,func(name))\n",
    "        return func_wrapper\n",
    "    return tags_decorator\n",
    "\n",
    "def tags_protected(tag_name):\n",
    "    def tags_decorator(func):\n",
    "        @wraps(func)\n",
    "        # changes the function, and returns the decorator after \n",
    "        # passing in the funciton's argument.\n",
    "        def func_wrapper(name):\n",
    "            return \"<{0}>{1}</{0}>\".format(tag_name,func(name))\n",
    "        return func_wrapper\n",
    "    return tags_decorator\n",
    "\n",
    "\n",
    "@tags(\"p\")\n",
    "def get_text(name):\n",
    "    \"\"\"returns some text\"\"\"\n",
    "    return \"Hello \"+name\n",
    "\n",
    "@tags_protected(\"p\")\n",
    "def get_text_protected(name):\n",
    "    \"\"\"returns some text\"\"\"\n",
    "    return \"Hello \"+name\n",
    "\n",
    "# manual decoration\n",
    "def fun_ction(name):\n",
    "    \"\"\"returns some text\"\"\"\n",
    "    return \"Hello, \"+name\n",
    "print(80*\"*\")\n",
    "print( \"UNPROTECTED\" )\n",
    "print( get_text.__name__ )\n",
    "print( get_text.__doc__ )\n",
    "print( get_text.__module__ )\n",
    "print(80*\"*\")\n",
    "print( \"PROTECTED\" )\n",
    "print( get_text_protected.__name__ )\n",
    "print( get_text_protected.__doc__ )\n",
    "print( get_text_protected.__module__ )\n",
    "print(80*\"*\")\n",
    "# manually decorate:\n",
    "decorator_function = tags_protected(\"poo\")\n",
    "decorator_function(fun_ction)\n",
    "print(caller.__name__)\n",
    "print(caller.__doc__)\n",
    "print(caller.__module__)\n",
    "print(caller(\"Mike\"))"
   ]
  },
  {
   "cell_type": "markdown",
   "metadata": {},
   "source": [
    "# Next Steps\n",
    "Some useful links:\n",
    "\n",
    "- <a href = \"https://wiki.python.org/moin/PythonDecoratorLibrary\"> Python Decorator Library </a>\n",
    "- <a href = \"https://wiki.python.org/moin/PythonDecorators#What_is_a_Decorator\"> Definition of a Decorator </a>\n",
    "- <a href = \"http://www.artima.com/weblogs/viewpost.jsp?thread=240808\"> Introduction to Decorators </a>\n",
    "- <a href = \"http://www.artima.com/weblogs/viewpost.jsp?thread=240845\"> Decorator Arguements </a>\n",
    "- <a href = \"http://www.artima.com/weblogs/viewpost.jsp?thread=241209\"> Decorator Build System </a>"
   ]
  },
  {
   "cell_type": "code",
   "execution_count": null,
   "metadata": {
    "collapsed": true
   },
   "outputs": [],
   "source": []
  }
 ],
 "metadata": {
  "kernelspec": {
   "display_name": "Python 3",
   "language": "python",
   "name": "python3"
  },
  "language_info": {
   "codemirror_mode": {
    "name": "ipython",
    "version": 3
   },
   "file_extension": ".py",
   "mimetype": "text/x-python",
   "name": "python",
   "nbconvert_exporter": "python",
   "pygments_lexer": "ipython3",
   "version": "3.5.2"
  }
 },
 "nbformat": 4,
 "nbformat_minor": 1
}
