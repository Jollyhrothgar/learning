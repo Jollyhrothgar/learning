{
 "cells": [
  {
   "cell_type": "markdown",
   "metadata": {},
   "source": [
    "# Chapter 1: Manipulating Numpy Arrays\n",
    "\n",
    "This notebook follows along with the sci-py lecture notes <a href=\"http://www.scipy-lectures.org/intro/numpy/array_object.html\">here.</a>.\n",
    "Arrays at the core are lists, but they are heavily optimized. Additionally, these arrays can represent more complicated objects, such as tensors, matricies, etc."
   ]
  },
  {
   "cell_type": "code",
   "execution_count": 1,
   "metadata": {
    "collapsed": false
   },
   "outputs": [],
   "source": [
    "# special notebook mode plots\n",
    "% matplotlib notebook \n",
    "\n",
    "import numpy as np\n",
    "import matplotlib.pyplot as plt"
   ]
  },
  {
   "cell_type": "code",
   "execution_count": 2,
   "metadata": {
    "collapsed": false
   },
   "outputs": [
    {
     "data": {
      "text/plain": [
       "array([0, 1, 2, 3, 4, 5, 6, 7, 8, 9])"
      ]
     },
     "execution_count": 2,
     "metadata": {},
     "output_type": "execute_result"
    }
   ],
   "source": [
    "a = np.array(list(range(10)))\n",
    "a"
   ]
  },
  {
   "cell_type": "markdown",
   "metadata": {},
   "source": [
    "## Memory Efficient  Speedy Operations\n",
    "Numpy arrays are written in C, and thus are memory efficient and fast. As an example, see vanilla iteration below:\n",
    "\n",
    "Vanilla list iteration using python3 and magic commands:"
   ]
  },
  {
   "cell_type": "code",
   "execution_count": 3,
   "metadata": {
    "collapsed": false
   },
   "outputs": [
    {
     "name": "stdout",
     "output_type": "stream",
     "text": [
      "The slowest run took 4.13 times longer than the fastest. This could mean that an intermediate result is being cached.\n",
      "10000 loops, best of 3: 61.5 µs per loop\n"
     ]
    }
   ],
   "source": [
    "# An example of timing operations in python\n",
    "L1 = list(range(1000))\n",
    "%timeit [i**2 for i in L1]"
   ]
  },
  {
   "cell_type": "markdown",
   "metadata": {},
   "source": [
    "### An Aside - Notebook Magic\n",
    "Jupyter notebooks is a descendent of the iPython shell, which is somewhat similar to the ROOT CINT environment. The iPython shell is a beefy python interpreter with a lot of extra functionality not found in the vanilla python shell. One function is the concept of <a href=\"https://ipython.org/ipython-doc/3/interactive/magics.html\">'magic commands'</a>, which allows for extra functionality, such as switching directories, timing a process, etc. Thus, '%timeit' is one such functionality - it times whatever follows (I assume on one line)?"
   ]
  },
  {
   "cell_type": "markdown",
   "metadata": {},
   "source": [
    "## Now observe timing with Numpy\n",
    "similar to python's range, numpy's arange generates a list of values. Although in python3, range switched from returning a list to returning an iterable, which offers better performance for things like <pre> if my_num in range(10**10) </pre> Numpy's arange also supports more advanced options, such as specifying beginnings, ends, step sizes, etc to really customize the range of numbers generated.\n",
    "\n",
    "<pre>\n",
    "numpy.arange([start, ]stop, [step, ]dtype=None)\n",
    "</pre>"
   ]
  },
  {
   "cell_type": "code",
   "execution_count": 4,
   "metadata": {
    "collapsed": false
   },
   "outputs": [
    {
     "name": "stdout",
     "output_type": "stream",
     "text": [
      "('numpy.arange(10)', array([0, 1, 2, 3, 4, 5, 6, 7, 8, 9]))\n",
      "('numpy.arange(start=0,stop=2.5,step=0.25)', array([ 0.  ,  0.25,  0.5 ,  0.75,  1.  ,  1.25,  1.5 ,  1.75,  2.  ,  2.25]))\n",
      "('numpy.arange(start=5, stop=15)', array([ 5,  6,  7,  8,  9, 10, 11, 12, 13, 14]))\n"
     ]
    }
   ],
   "source": [
    "# An Example of timing operations in python with numpy\n",
    "# a range is like 'range' but it returns an array. It has additional features as well:\n",
    "\n",
    "# Examples\n",
    "print(\"numpy.arange(10)\",np.arange(10))\n",
    "print(\"numpy.arange(start=0,stop=2.5,step=0.25)\",np.arange(start=0,stop=2.5,step=0.25))\n",
    "print(\"numpy.arange(start=5, stop=15)\", np.arange(5,15))"
   ]
  },
  {
   "cell_type": "code",
   "execution_count": 5,
   "metadata": {
    "collapsed": false
   },
   "outputs": [
    {
     "name": "stdout",
     "output_type": "stream",
     "text": [
      "1000 loops, best of 3: 170 µs per loop\n"
     ]
    }
   ],
   "source": [
    "# An example of timing with numpy\n",
    "L2 = np.arange(1000)\n",
    "%timeit [i**2 for i in L2]"
   ]
  },
  {
   "cell_type": "markdown",
   "metadata": {},
   "source": [
    "## Documentation Features\n",
    "Of course, numpy is fully documented at <a href=\"http://docs.scipy.org\">docs.scipy.org</a>, but one can access help interactively:"
   ]
  },
  {
   "cell_type": "code",
   "execution_count": 6,
   "metadata": {
    "collapsed": false
   },
   "outputs": [
    {
     "name": "stdout",
     "output_type": "stream",
     "text": [
      "Search results for 'create array'\n",
      "---------------------------------\n",
      "numpy.array\n",
      "    Create an array.\n",
      "numpy.memmap\n",
      "    Create a memory-map to an array stored in a *binary* file on disk.\n",
      "numpy.diagflat\n",
      "    Create a two-dimensional array with the flattened input as a diagonal.\n",
      "numpy.fromiter\n",
      "    Create a new 1-dimensional array from an iterable object.\n",
      "numpy.partition\n",
      "    Return a partitioned copy of an array.\n",
      "numpy.ma.diagflat\n",
      "    Create a two-dimensional array with the flattened input as a diagonal.\n",
      "numpy.ctypeslib.as_array\n",
      "    Create a numpy array from a ctypes array or a ctypes POINTER.\n",
      "numpy.ma.make_mask\n",
      "    Create a boolean mask from an array.\n",
      "numpy.ctypeslib.as_ctypes\n",
      "    Create and return a ctypes object from a numpy array.  Actually\n",
      "numpy.ma.mrecords.fromarrays\n",
      "    Creates a mrecarray from a (flat) list of masked arrays.\n",
      "numpy.lib.format.open_memmap\n",
      "    Open a .npy file as a memory-mapped array.\n",
      "numpy.ma.MaskedArray.__new__\n",
      "    Create a new masked array from scratch.\n",
      "numpy.lib.arrayterator.Arrayterator\n",
      "    Buffered iterator for big arrays.\n",
      "numpy.ma.mrecords.fromtextfile\n",
      "    Creates a mrecarray from data stored in the file `filename`.\n",
      "numpy.asarray\n",
      "    Convert the input to an array.\n",
      "numpy.ndarray\n",
      "    ndarray(shape, dtype=float, buffer=None, offset=0,\n",
      "numpy.recarray\n",
      "    Construct an ndarray that allows field access using attributes.\n",
      "numpy.chararray\n",
      "    chararray(shape, itemsize=1, unicode=False, buffer=None, offset=0,\n",
      "numpy.pad\n",
      "    Pads an array.\n",
      "numpy.asanyarray\n",
      "    Convert the input to an ndarray, but pass ndarray subclasses through.\n",
      "numpy.copy\n",
      "    Return an array copy of the given object.\n",
      "numpy.diag\n",
      "    Extract a diagonal or construct a diagonal array.\n",
      "numpy.load\n",
      "    Load arrays or pickled objects from ``.npy``, ``.npz`` or pickled files.\n",
      "numpy.sort\n",
      "    Return a sorted copy of an array.\n",
      "numpy.array_equiv\n",
      "    Returns True if input arrays are shape consistent and all elements equal.\n",
      "numpy.dtype\n",
      "    Create a data type object.\n",
      "numpy.choose\n",
      "    Construct an array from an index array and a set of arrays to choose from.\n",
      "numpy.nditer\n",
      "    Efficient multi-dimensional iterator object to iterate over arrays.\n",
      "numpy.swapaxes\n",
      "    Interchange two axes of an array.\n",
      "numpy.full_like\n",
      "    Return a full array with the same shape and type as a given array.\n",
      "numpy.ones_like\n",
      "    Return an array of ones with the same shape and type as a given array.\n",
      "numpy.empty_like\n",
      "    Return a new array with the same shape and type as a given array.\n",
      "numpy.zeros_like\n",
      "    Return an array of zeros with the same shape and type as a given array.\n",
      "numpy.asarray_chkfinite\n",
      "    Convert the input to an array, checking for NaNs or Infs.\n",
      "numpy.diag_indices\n",
      "    Return the indices to access the main diagonal of an array.\n",
      "numpy.ma.choose\n",
      "    Use an index array to construct a new array from a set of choices.\n",
      "numpy.chararray.tolist\n",
      "    a.tolist()\n",
      "numpy.matlib.rand\n",
      "    Return a matrix of random values with given shape.\n",
      "numpy.savez_compressed\n",
      "    Save several arrays into a single file in compressed ``.npz`` format.\n",
      "numpy.ma.empty_like\n",
      "    Return a new array with the same shape and type as a given array.\n",
      "numpy.ma.make_mask_none\n",
      "    Return a boolean mask of the given shape, filled with False.\n",
      "numpy.ma.mrecords.fromrecords\n",
      "    Creates a MaskedRecords from a list of records.\n",
      "numpy.around\n",
      "    Evenly round to the given number of decimals.\n",
      "numpy.source\n",
      "    Print or write to a file the source code for a Numpy object.\n",
      "numpy.diagonal\n",
      "    Return specified diagonals.\n",
      "numpy.histogram2d\n",
      "    Compute the bi-dimensional histogram of two data samples.\n",
      "numpy.fft.ifft\n",
      "    Compute the one-dimensional inverse discrete Fourier Transform.\n",
      "numpy.fft.ifftn\n",
      "    Compute the N-dimensional inverse discrete Fourier Transform.\n",
      "numpy.busdaycalendar\n",
      "    A business day calendar object that efficiently stores information"
     ]
    }
   ],
   "source": [
    "np.lookfor(\"create array\")\n",
    "np.array?"
   ]
  },
  {
   "cell_type": "code",
   "execution_count": 7,
   "metadata": {
    "collapsed": false
   },
   "outputs": [],
   "source": [
    "# support for wildcards, too!\n",
    "np.con*?"
   ]
  },
  {
   "cell_type": "markdown",
   "metadata": {},
   "source": [
    "## Creating Numpy Arrays In Arbitrary Dimensions, Plus Shape\n",
    "### Manually\n",
    "np.array.ndim: gives the dimensionality of the array - i.e. does it contain 1D objects, 2D objects, etc?\n",
    "np.array.shape: gives the 'shape' of an array - i.e. how many 'rows' and 'columns' does it have? For 1D arrays, the shape only has one dimension, so the output will look like <pre> <#rows>, </pre> with no entry for columns. For higher dimension, you get the overall 'shape' i.e. the number of rows per dimension.\n",
    "\n",
    "For mixed dimensional np.arrays, it seems that the arrays are treated as 1D objects."
   ]
  },
  {
   "cell_type": "code",
   "execution_count": 8,
   "metadata": {
    "collapsed": false
   },
   "outputs": [
    {
     "name": "stdout",
     "output_type": "stream",
     "text": [
      "1D Operations:\n",
      "('a.ndim', 1)\n",
      "('a.shape', (4,))\n",
      "\n",
      "\n",
      "2D Operations\n",
      "('b.ndim', 2)\n",
      "('b.shape', (3, 2))\n",
      "('Transposition is supported for b, before:\\n', array([[1, 2],\n",
      "       [3, 4],\n",
      "       [5, 6]]))\n",
      "('After:\\n', array([[1, 3, 5],\n",
      "       [2, 4, 6]]))\n",
      "\n",
      "\n",
      "Mixed 1/2 Dimensions\n",
      "('d.ndim', 1)\n",
      "('d.shape', (3,))\n",
      "('Transposition is supported for d, before:\\n', array([[2, 3], [1, 6, 12], [4, 5]], dtype=object))\n",
      "('After:\\n', array([[2, 3], [1, 6, 12], [4, 5]], dtype=object))\n",
      "\n",
      "\n",
      "3D Operations\n",
      "('f', array([[[1],\n",
      "        [2]],\n",
      "\n",
      "       [[3],\n",
      "        [4]]]))\n",
      "('f.ndim', 3)\n",
      "('f.shape', (2, 2, 1))\n",
      "(4, (4,))\n",
      "(3, (3, 2))\n",
      "(2, (2, 3))\n",
      "(3, (3,))\n",
      "(2, (2, 2, 1))\n"
     ]
    }
   ],
   "source": [
    "# One Dimension\n",
    "print(\"1D Operations:\")\n",
    "a = np.array([0,1,2,3])\n",
    "print(\"a.ndim\",a.ndim )\n",
    "print(\"a.shape\",a.shape)\n",
    "print(\"\\n\")\n",
    "\n",
    "# Two Dimensions\n",
    "print(\"2D Operations\")\n",
    "b = np.array([[1,2],[3,4],[5,6]]) # 3 x 2 array\n",
    "print(\"b.ndim\", b.ndim)\n",
    "print(\"b.shape\", b.shape)\n",
    "print(\"Transposition is supported for b, before:\\n\",b)\n",
    "c = b.transpose()\n",
    "print(\"After:\\n\",c)\n",
    "print(\"\\n\")\n",
    "\n",
    "# What about mixed dimensions?\n",
    "print(\"Mixed 1/2 Dimensions\")\n",
    "d = np.array([[2,3],[1,6,12],[4,5]])\n",
    "print(\"d.ndim\", d.ndim)\n",
    "print(\"d.shape\", d.shape)\n",
    "print(\"Transposition is supported for d, before:\\n\",d)\n",
    "e = d.transpose()\n",
    "print(\"After:\\n\",e)\n",
    "print(\"\\n\")\n",
    "\n",
    "# 3D \n",
    "print(\"3D Operations\")\n",
    "f = np.array([[[1], [2]], [[3], [4]]])\n",
    "print(\"f\",f)\n",
    "print(\"f.ndim\",f.ndim)\n",
    "print(\"f.shape\",f.shape)\n",
    "\n",
    "# Exploration\n",
    "# len vs shape\n",
    "print(len(a),a.shape)\n",
    "print(len(b),b.shape)\n",
    "print(len(c),c.shape)\n",
    "print(len(d),d.shape)\n",
    "print(len(f),f.shape)"
   ]
  },
  {
   "cell_type": "markdown",
   "metadata": {},
   "source": [
    "#### Exercises\n",
    "1. Create 2D array. Odd numbers on top row, even number on the second number.\n",
    "2. Use len() and numpy.array.shape on this array. What is the relationship between len(), numpy.array.shape and numpy.array.ndim?"
   ]
  },
  {
   "cell_type": "code",
   "execution_count": 9,
   "metadata": {
    "collapsed": false
   },
   "outputs": [
    {
     "name": "stdout",
     "output_type": "stream",
     "text": [
      "[[1 3 5 7 9]\n",
      " [0 2 4 6 8]]\n",
      "('len: ', 2, 'shape:', (2, 5), 'ndim:', 2)\n",
      "[[1 2 3]\n",
      " [4 5 6]\n",
      " [7 8 9]]\n",
      "('len: ', 3, 'shape:', (3, 3), 'ndim:', 2)\n"
     ]
    }
   ],
   "source": [
    "# Solution 1\n",
    "arr_solution_1 = np.array([[n for n in range(10) if n %2 != 0],[n for n in range(10) if n%2 == 0]])\n",
    "\n",
    "def compare(arr):\n",
    "    \"\"\"\n",
    "    for a numpy array arr, compare python's build in len, \n",
    "    numpy.array.shape and numpy.array.ndim\n",
    "    \"\"\"\n",
    "    print(arr)\n",
    "    print(\"len: \", len(arr), \"shape:\", arr.shape, \"ndim:\", arr.ndim)\n",
    "    return\n",
    "compare(arr_solution_1)\n",
    "arr_solution_2 = np.array([[n for n in range(1,4)],[n for n in range(4,7)],[n for n in range(7,10)]])\n",
    "compare(arr_solution_2)"
   ]
  },
  {
   "cell_type": "markdown",
   "metadata": {},
   "source": [
    "### Functions for Creating Arrays"
   ]
  },
  {
   "cell_type": "markdown",
   "metadata": {},
   "source": [
    "##### Evenly Spaced Arrays"
   ]
  },
  {
   "cell_type": "code",
   "execution_count": 10,
   "metadata": {
    "collapsed": false
   },
   "outputs": [
    {
     "data": {
      "text/plain": [
       "array([0, 1, 2, 3, 4, 5, 6, 7, 8, 9])"
      ]
     },
     "execution_count": 10,
     "metadata": {},
     "output_type": "execute_result"
    }
   ],
   "source": [
    "a = np.arange(10)\n",
    "a"
   ]
  },
  {
   "cell_type": "markdown",
   "metadata": {},
   "source": [
    "##### Create Arrays with Specific Number of Points"
   ]
  },
  {
   "cell_type": "code",
   "execution_count": 11,
   "metadata": {
    "collapsed": false
   },
   "outputs": [
    {
     "data": {
      "text/plain": [
       "array([ 0. ,  0.2,  0.4,  0.6,  0.8,  1. ])"
      ]
     },
     "execution_count": 11,
     "metadata": {},
     "output_type": "execute_result"
    }
   ],
   "source": [
    "b = np.linspace(0,1,6)\n",
    "b"
   ]
  },
  {
   "cell_type": "markdown",
   "metadata": {},
   "source": [
    "##### Common Arrays"
   ]
  },
  {
   "cell_type": "code",
   "execution_count": 12,
   "metadata": {
    "collapsed": false
   },
   "outputs": [
    {
     "data": {
      "text/plain": [
       "array([[ 1.,  1.,  1.],\n",
       "       [ 1.,  1.,  1.],\n",
       "       [ 1.,  1.,  1.]])"
      ]
     },
     "execution_count": 12,
     "metadata": {},
     "output_type": "execute_result"
    }
   ],
   "source": [
    "a = np.ones((3,3)) # from tuple!\n",
    "a"
   ]
  },
  {
   "cell_type": "code",
   "execution_count": 13,
   "metadata": {
    "collapsed": false
   },
   "outputs": [
    {
     "data": {
      "text/plain": [
       "array([[ 0.,  0.],\n",
       "       [ 0.,  0.]])"
      ]
     },
     "execution_count": 13,
     "metadata": {},
     "output_type": "execute_result"
    }
   ],
   "source": [
    "b = np.zeros((2,2))\n",
    "b"
   ]
  },
  {
   "cell_type": "markdown",
   "metadata": {},
   "source": [
    "##### Diagonal Unit Matrix"
   ]
  },
  {
   "cell_type": "code",
   "execution_count": 14,
   "metadata": {
    "collapsed": false
   },
   "outputs": [
    {
     "data": {
      "text/plain": [
       "array([[ 1.,  0.,  0.],\n",
       "       [ 0.,  1.,  0.],\n",
       "       [ 0.,  0.,  1.]])"
      ]
     },
     "execution_count": 14,
     "metadata": {},
     "output_type": "execute_result"
    }
   ],
   "source": [
    "c = np.eye(3)\n",
    "c"
   ]
  },
  {
   "cell_type": "markdown",
   "metadata": {},
   "source": [
    "##### Diagonal Matricies With Array specifying Diagonals"
   ]
  },
  {
   "cell_type": "code",
   "execution_count": 15,
   "metadata": {
    "collapsed": false
   },
   "outputs": [
    {
     "data": {
      "text/plain": [
       "array([[0, 0, 0, 0, 0],\n",
       "       [0, 1, 0, 0, 0],\n",
       "       [0, 0, 2, 0, 0],\n",
       "       [0, 0, 0, 3, 0],\n",
       "       [0, 0, 0, 0, 4]])"
      ]
     },
     "execution_count": 15,
     "metadata": {},
     "output_type": "execute_result"
    }
   ],
   "source": [
    "d = np.diag(np.arange(0,5)) # create with arange\n",
    "d"
   ]
  },
  {
   "cell_type": "markdown",
   "metadata": {},
   "source": [
    "##### Random Numbers"
   ]
  },
  {
   "cell_type": "code",
   "execution_count": 16,
   "metadata": {
    "collapsed": false
   },
   "outputs": [
    {
     "data": {
      "text/plain": [
       "array([ 0.22952234,  0.69206563,  0.71770153,  0.04065798])"
      ]
     },
     "execution_count": 16,
     "metadata": {},
     "output_type": "execute_result"
    }
   ],
   "source": [
    "a = np.random.rand(4) # Uniform in [0,1]\n",
    "a"
   ]
  },
  {
   "cell_type": "markdown",
   "metadata": {},
   "source": [
    "##### Show with Histogram Plot!"
   ]
  },
  {
   "cell_type": "code",
   "execution_count": 28,
   "metadata": {
    "collapsed": false
   },
   "outputs": [
    {
     "data": {
      "application/javascript": [
       "/* Put everything inside the global mpl namespace */\n",
       "window.mpl = {};\n",
       "\n",
       "mpl.get_websocket_type = function() {\n",
       "    if (typeof(WebSocket) !== 'undefined') {\n",
       "        return WebSocket;\n",
       "    } else if (typeof(MozWebSocket) !== 'undefined') {\n",
       "        return MozWebSocket;\n",
       "    } else {\n",
       "        alert('Your browser does not have WebSocket support.' +\n",
       "              'Please try Chrome, Safari or Firefox ≥ 6. ' +\n",
       "              'Firefox 4 and 5 are also supported but you ' +\n",
       "              'have to enable WebSockets in about:config.');\n",
       "    };\n",
       "}\n",
       "\n",
       "mpl.figure = function(figure_id, websocket, ondownload, parent_element) {\n",
       "    this.id = figure_id;\n",
       "\n",
       "    this.ws = websocket;\n",
       "\n",
       "    this.supports_binary = (this.ws.binaryType != undefined);\n",
       "\n",
       "    if (!this.supports_binary) {\n",
       "        var warnings = document.getElementById(\"mpl-warnings\");\n",
       "        if (warnings) {\n",
       "            warnings.style.display = 'block';\n",
       "            warnings.textContent = (\n",
       "                \"This browser does not support binary websocket messages. \" +\n",
       "                    \"Performance may be slow.\");\n",
       "        }\n",
       "    }\n",
       "\n",
       "    this.imageObj = new Image();\n",
       "\n",
       "    this.context = undefined;\n",
       "    this.message = undefined;\n",
       "    this.canvas = undefined;\n",
       "    this.rubberband_canvas = undefined;\n",
       "    this.rubberband_context = undefined;\n",
       "    this.format_dropdown = undefined;\n",
       "\n",
       "    this.image_mode = 'full';\n",
       "\n",
       "    this.root = $('<div/>');\n",
       "    this._root_extra_style(this.root)\n",
       "    this.root.attr('style', 'display: inline-block');\n",
       "\n",
       "    $(parent_element).append(this.root);\n",
       "\n",
       "    this._init_header(this);\n",
       "    this._init_canvas(this);\n",
       "    this._init_toolbar(this);\n",
       "\n",
       "    var fig = this;\n",
       "\n",
       "    this.waiting = false;\n",
       "\n",
       "    this.ws.onopen =  function () {\n",
       "            fig.send_message(\"supports_binary\", {value: fig.supports_binary});\n",
       "            fig.send_message(\"send_image_mode\", {});\n",
       "            fig.send_message(\"refresh\", {});\n",
       "        }\n",
       "\n",
       "    this.imageObj.onload = function() {\n",
       "            if (fig.image_mode == 'full') {\n",
       "                // Full images could contain transparency (where diff images\n",
       "                // almost always do), so we need to clear the canvas so that\n",
       "                // there is no ghosting.\n",
       "                fig.context.clearRect(0, 0, fig.canvas.width, fig.canvas.height);\n",
       "            }\n",
       "            fig.context.drawImage(fig.imageObj, 0, 0);\n",
       "        };\n",
       "\n",
       "    this.imageObj.onunload = function() {\n",
       "        this.ws.close();\n",
       "    }\n",
       "\n",
       "    this.ws.onmessage = this._make_on_message_function(this);\n",
       "\n",
       "    this.ondownload = ondownload;\n",
       "}\n",
       "\n",
       "mpl.figure.prototype._init_header = function() {\n",
       "    var titlebar = $(\n",
       "        '<div class=\"ui-dialog-titlebar ui-widget-header ui-corner-all ' +\n",
       "        'ui-helper-clearfix\"/>');\n",
       "    var titletext = $(\n",
       "        '<div class=\"ui-dialog-title\" style=\"width: 100%; ' +\n",
       "        'text-align: center; padding: 3px;\"/>');\n",
       "    titlebar.append(titletext)\n",
       "    this.root.append(titlebar);\n",
       "    this.header = titletext[0];\n",
       "}\n",
       "\n",
       "\n",
       "\n",
       "mpl.figure.prototype._canvas_extra_style = function(canvas_div) {\n",
       "\n",
       "}\n",
       "\n",
       "\n",
       "mpl.figure.prototype._root_extra_style = function(canvas_div) {\n",
       "\n",
       "}\n",
       "\n",
       "mpl.figure.prototype._init_canvas = function() {\n",
       "    var fig = this;\n",
       "\n",
       "    var canvas_div = $('<div/>');\n",
       "\n",
       "    canvas_div.attr('style', 'position: relative; clear: both; outline: 0');\n",
       "\n",
       "    function canvas_keyboard_event(event) {\n",
       "        return fig.key_event(event, event['data']);\n",
       "    }\n",
       "\n",
       "    canvas_div.keydown('key_press', canvas_keyboard_event);\n",
       "    canvas_div.keyup('key_release', canvas_keyboard_event);\n",
       "    this.canvas_div = canvas_div\n",
       "    this._canvas_extra_style(canvas_div)\n",
       "    this.root.append(canvas_div);\n",
       "\n",
       "    var canvas = $('<canvas/>');\n",
       "    canvas.addClass('mpl-canvas');\n",
       "    canvas.attr('style', \"left: 0; top: 0; z-index: 0; outline: 0\")\n",
       "\n",
       "    this.canvas = canvas[0];\n",
       "    this.context = canvas[0].getContext(\"2d\");\n",
       "\n",
       "    var rubberband = $('<canvas/>');\n",
       "    rubberband.attr('style', \"position: absolute; left: 0; top: 0; z-index: 1;\")\n",
       "\n",
       "    var pass_mouse_events = true;\n",
       "\n",
       "    canvas_div.resizable({\n",
       "        start: function(event, ui) {\n",
       "            pass_mouse_events = false;\n",
       "        },\n",
       "        resize: function(event, ui) {\n",
       "            fig.request_resize(ui.size.width, ui.size.height);\n",
       "        },\n",
       "        stop: function(event, ui) {\n",
       "            pass_mouse_events = true;\n",
       "            fig.request_resize(ui.size.width, ui.size.height);\n",
       "        },\n",
       "    });\n",
       "\n",
       "    function mouse_event_fn(event) {\n",
       "        if (pass_mouse_events)\n",
       "            return fig.mouse_event(event, event['data']);\n",
       "    }\n",
       "\n",
       "    rubberband.mousedown('button_press', mouse_event_fn);\n",
       "    rubberband.mouseup('button_release', mouse_event_fn);\n",
       "    // Throttle sequential mouse events to 1 every 20ms.\n",
       "    rubberband.mousemove('motion_notify', mouse_event_fn);\n",
       "\n",
       "    rubberband.mouseenter('figure_enter', mouse_event_fn);\n",
       "    rubberband.mouseleave('figure_leave', mouse_event_fn);\n",
       "\n",
       "    canvas_div.on(\"wheel\", function (event) {\n",
       "        event = event.originalEvent;\n",
       "        event['data'] = 'scroll'\n",
       "        if (event.deltaY < 0) {\n",
       "            event.step = 1;\n",
       "        } else {\n",
       "            event.step = -1;\n",
       "        }\n",
       "        mouse_event_fn(event);\n",
       "    });\n",
       "\n",
       "    canvas_div.append(canvas);\n",
       "    canvas_div.append(rubberband);\n",
       "\n",
       "    this.rubberband = rubberband;\n",
       "    this.rubberband_canvas = rubberband[0];\n",
       "    this.rubberband_context = rubberband[0].getContext(\"2d\");\n",
       "    this.rubberband_context.strokeStyle = \"#000000\";\n",
       "\n",
       "    this._resize_canvas = function(width, height) {\n",
       "        // Keep the size of the canvas, canvas container, and rubber band\n",
       "        // canvas in synch.\n",
       "        canvas_div.css('width', width)\n",
       "        canvas_div.css('height', height)\n",
       "\n",
       "        canvas.attr('width', width);\n",
       "        canvas.attr('height', height);\n",
       "\n",
       "        rubberband.attr('width', width);\n",
       "        rubberband.attr('height', height);\n",
       "    }\n",
       "\n",
       "    // Set the figure to an initial 600x600px, this will subsequently be updated\n",
       "    // upon first draw.\n",
       "    this._resize_canvas(600, 600);\n",
       "\n",
       "    // Disable right mouse context menu.\n",
       "    $(this.rubberband_canvas).bind(\"contextmenu\",function(e){\n",
       "        return false;\n",
       "    });\n",
       "\n",
       "    function set_focus () {\n",
       "        canvas.focus();\n",
       "        canvas_div.focus();\n",
       "    }\n",
       "\n",
       "    window.setTimeout(set_focus, 100);\n",
       "}\n",
       "\n",
       "mpl.figure.prototype._init_toolbar = function() {\n",
       "    var fig = this;\n",
       "\n",
       "    var nav_element = $('<div/>')\n",
       "    nav_element.attr('style', 'width: 100%');\n",
       "    this.root.append(nav_element);\n",
       "\n",
       "    // Define a callback function for later on.\n",
       "    function toolbar_event(event) {\n",
       "        return fig.toolbar_button_onclick(event['data']);\n",
       "    }\n",
       "    function toolbar_mouse_event(event) {\n",
       "        return fig.toolbar_button_onmouseover(event['data']);\n",
       "    }\n",
       "\n",
       "    for(var toolbar_ind in mpl.toolbar_items) {\n",
       "        var name = mpl.toolbar_items[toolbar_ind][0];\n",
       "        var tooltip = mpl.toolbar_items[toolbar_ind][1];\n",
       "        var image = mpl.toolbar_items[toolbar_ind][2];\n",
       "        var method_name = mpl.toolbar_items[toolbar_ind][3];\n",
       "\n",
       "        if (!name) {\n",
       "            // put a spacer in here.\n",
       "            continue;\n",
       "        }\n",
       "        var button = $('<button/>');\n",
       "        button.addClass('ui-button ui-widget ui-state-default ui-corner-all ' +\n",
       "                        'ui-button-icon-only');\n",
       "        button.attr('role', 'button');\n",
       "        button.attr('aria-disabled', 'false');\n",
       "        button.click(method_name, toolbar_event);\n",
       "        button.mouseover(tooltip, toolbar_mouse_event);\n",
       "\n",
       "        var icon_img = $('<span/>');\n",
       "        icon_img.addClass('ui-button-icon-primary ui-icon');\n",
       "        icon_img.addClass(image);\n",
       "        icon_img.addClass('ui-corner-all');\n",
       "\n",
       "        var tooltip_span = $('<span/>');\n",
       "        tooltip_span.addClass('ui-button-text');\n",
       "        tooltip_span.html(tooltip);\n",
       "\n",
       "        button.append(icon_img);\n",
       "        button.append(tooltip_span);\n",
       "\n",
       "        nav_element.append(button);\n",
       "    }\n",
       "\n",
       "    var fmt_picker_span = $('<span/>');\n",
       "\n",
       "    var fmt_picker = $('<select/>');\n",
       "    fmt_picker.addClass('mpl-toolbar-option ui-widget ui-widget-content');\n",
       "    fmt_picker_span.append(fmt_picker);\n",
       "    nav_element.append(fmt_picker_span);\n",
       "    this.format_dropdown = fmt_picker[0];\n",
       "\n",
       "    for (var ind in mpl.extensions) {\n",
       "        var fmt = mpl.extensions[ind];\n",
       "        var option = $(\n",
       "            '<option/>', {selected: fmt === mpl.default_extension}).html(fmt);\n",
       "        fmt_picker.append(option)\n",
       "    }\n",
       "\n",
       "    // Add hover states to the ui-buttons\n",
       "    $( \".ui-button\" ).hover(\n",
       "        function() { $(this).addClass(\"ui-state-hover\");},\n",
       "        function() { $(this).removeClass(\"ui-state-hover\");}\n",
       "    );\n",
       "\n",
       "    var status_bar = $('<span class=\"mpl-message\"/>');\n",
       "    nav_element.append(status_bar);\n",
       "    this.message = status_bar[0];\n",
       "}\n",
       "\n",
       "mpl.figure.prototype.request_resize = function(x_pixels, y_pixels) {\n",
       "    // Request matplotlib to resize the figure. Matplotlib will then trigger a resize in the client,\n",
       "    // which will in turn request a refresh of the image.\n",
       "    this.send_message('resize', {'width': x_pixels, 'height': y_pixels});\n",
       "}\n",
       "\n",
       "mpl.figure.prototype.send_message = function(type, properties) {\n",
       "    properties['type'] = type;\n",
       "    properties['figure_id'] = this.id;\n",
       "    this.ws.send(JSON.stringify(properties));\n",
       "}\n",
       "\n",
       "mpl.figure.prototype.send_draw_message = function() {\n",
       "    if (!this.waiting) {\n",
       "        this.waiting = true;\n",
       "        this.ws.send(JSON.stringify({type: \"draw\", figure_id: this.id}));\n",
       "    }\n",
       "}\n",
       "\n",
       "\n",
       "mpl.figure.prototype.handle_save = function(fig, msg) {\n",
       "    var format_dropdown = fig.format_dropdown;\n",
       "    var format = format_dropdown.options[format_dropdown.selectedIndex].value;\n",
       "    fig.ondownload(fig, format);\n",
       "}\n",
       "\n",
       "\n",
       "mpl.figure.prototype.handle_resize = function(fig, msg) {\n",
       "    var size = msg['size'];\n",
       "    if (size[0] != fig.canvas.width || size[1] != fig.canvas.height) {\n",
       "        fig._resize_canvas(size[0], size[1]);\n",
       "        fig.send_message(\"refresh\", {});\n",
       "    };\n",
       "}\n",
       "\n",
       "mpl.figure.prototype.handle_rubberband = function(fig, msg) {\n",
       "    var x0 = msg['x0'];\n",
       "    var y0 = fig.canvas.height - msg['y0'];\n",
       "    var x1 = msg['x1'];\n",
       "    var y1 = fig.canvas.height - msg['y1'];\n",
       "    x0 = Math.floor(x0) + 0.5;\n",
       "    y0 = Math.floor(y0) + 0.5;\n",
       "    x1 = Math.floor(x1) + 0.5;\n",
       "    y1 = Math.floor(y1) + 0.5;\n",
       "    var min_x = Math.min(x0, x1);\n",
       "    var min_y = Math.min(y0, y1);\n",
       "    var width = Math.abs(x1 - x0);\n",
       "    var height = Math.abs(y1 - y0);\n",
       "\n",
       "    fig.rubberband_context.clearRect(\n",
       "        0, 0, fig.canvas.width, fig.canvas.height);\n",
       "\n",
       "    fig.rubberband_context.strokeRect(min_x, min_y, width, height);\n",
       "}\n",
       "\n",
       "mpl.figure.prototype.handle_figure_label = function(fig, msg) {\n",
       "    // Updates the figure title.\n",
       "    fig.header.textContent = msg['label'];\n",
       "}\n",
       "\n",
       "mpl.figure.prototype.handle_cursor = function(fig, msg) {\n",
       "    var cursor = msg['cursor'];\n",
       "    switch(cursor)\n",
       "    {\n",
       "    case 0:\n",
       "        cursor = 'pointer';\n",
       "        break;\n",
       "    case 1:\n",
       "        cursor = 'default';\n",
       "        break;\n",
       "    case 2:\n",
       "        cursor = 'crosshair';\n",
       "        break;\n",
       "    case 3:\n",
       "        cursor = 'move';\n",
       "        break;\n",
       "    }\n",
       "    fig.rubberband_canvas.style.cursor = cursor;\n",
       "}\n",
       "\n",
       "mpl.figure.prototype.handle_message = function(fig, msg) {\n",
       "    fig.message.textContent = msg['message'];\n",
       "}\n",
       "\n",
       "mpl.figure.prototype.handle_draw = function(fig, msg) {\n",
       "    // Request the server to send over a new figure.\n",
       "    fig.send_draw_message();\n",
       "}\n",
       "\n",
       "mpl.figure.prototype.handle_image_mode = function(fig, msg) {\n",
       "    fig.image_mode = msg['mode'];\n",
       "}\n",
       "\n",
       "mpl.figure.prototype.updated_canvas_event = function() {\n",
       "    // Called whenever the canvas gets updated.\n",
       "    this.send_message(\"ack\", {});\n",
       "}\n",
       "\n",
       "// A function to construct a web socket function for onmessage handling.\n",
       "// Called in the figure constructor.\n",
       "mpl.figure.prototype._make_on_message_function = function(fig) {\n",
       "    return function socket_on_message(evt) {\n",
       "        if (evt.data instanceof Blob) {\n",
       "            /* FIXME: We get \"Resource interpreted as Image but\n",
       "             * transferred with MIME type text/plain:\" errors on\n",
       "             * Chrome.  But how to set the MIME type?  It doesn't seem\n",
       "             * to be part of the websocket stream */\n",
       "            evt.data.type = \"image/png\";\n",
       "\n",
       "            /* Free the memory for the previous frames */\n",
       "            if (fig.imageObj.src) {\n",
       "                (window.URL || window.webkitURL).revokeObjectURL(\n",
       "                    fig.imageObj.src);\n",
       "            }\n",
       "\n",
       "            fig.imageObj.src = (window.URL || window.webkitURL).createObjectURL(\n",
       "                evt.data);\n",
       "            fig.updated_canvas_event();\n",
       "            fig.waiting = false;\n",
       "            return;\n",
       "        }\n",
       "        else if (typeof evt.data === 'string' && evt.data.slice(0, 21) == \"data:image/png;base64\") {\n",
       "            fig.imageObj.src = evt.data;\n",
       "            fig.updated_canvas_event();\n",
       "            fig.waiting = false;\n",
       "            return;\n",
       "        }\n",
       "\n",
       "        var msg = JSON.parse(evt.data);\n",
       "        var msg_type = msg['type'];\n",
       "\n",
       "        // Call the  \"handle_{type}\" callback, which takes\n",
       "        // the figure and JSON message as its only arguments.\n",
       "        try {\n",
       "            var callback = fig[\"handle_\" + msg_type];\n",
       "        } catch (e) {\n",
       "            console.log(\"No handler for the '\" + msg_type + \"' message type: \", msg);\n",
       "            return;\n",
       "        }\n",
       "\n",
       "        if (callback) {\n",
       "            try {\n",
       "                // console.log(\"Handling '\" + msg_type + \"' message: \", msg);\n",
       "                callback(fig, msg);\n",
       "            } catch (e) {\n",
       "                console.log(\"Exception inside the 'handler_\" + msg_type + \"' callback:\", e, e.stack, msg);\n",
       "            }\n",
       "        }\n",
       "    };\n",
       "}\n",
       "\n",
       "// from http://stackoverflow.com/questions/1114465/getting-mouse-location-in-canvas\n",
       "mpl.findpos = function(e) {\n",
       "    //this section is from http://www.quirksmode.org/js/events_properties.html\n",
       "    var targ;\n",
       "    if (!e)\n",
       "        e = window.event;\n",
       "    if (e.target)\n",
       "        targ = e.target;\n",
       "    else if (e.srcElement)\n",
       "        targ = e.srcElement;\n",
       "    if (targ.nodeType == 3) // defeat Safari bug\n",
       "        targ = targ.parentNode;\n",
       "\n",
       "    // jQuery normalizes the pageX and pageY\n",
       "    // pageX,Y are the mouse positions relative to the document\n",
       "    // offset() returns the position of the element relative to the document\n",
       "    var x = e.pageX - $(targ).offset().left;\n",
       "    var y = e.pageY - $(targ).offset().top;\n",
       "\n",
       "    return {\"x\": x, \"y\": y};\n",
       "};\n",
       "\n",
       "/*\n",
       " * return a copy of an object with only non-object keys\n",
       " * we need this to avoid circular references\n",
       " * http://stackoverflow.com/a/24161582/3208463\n",
       " */\n",
       "function simpleKeys (original) {\n",
       "  return Object.keys(original).reduce(function (obj, key) {\n",
       "    if (typeof original[key] !== 'object')\n",
       "        obj[key] = original[key]\n",
       "    return obj;\n",
       "  }, {});\n",
       "}\n",
       "\n",
       "mpl.figure.prototype.mouse_event = function(event, name) {\n",
       "    var canvas_pos = mpl.findpos(event)\n",
       "\n",
       "    if (name === 'button_press')\n",
       "    {\n",
       "        this.canvas.focus();\n",
       "        this.canvas_div.focus();\n",
       "    }\n",
       "\n",
       "    var x = canvas_pos.x;\n",
       "    var y = canvas_pos.y;\n",
       "\n",
       "    this.send_message(name, {x: x, y: y, button: event.button,\n",
       "                             step: event.step,\n",
       "                             guiEvent: simpleKeys(event)});\n",
       "\n",
       "    /* This prevents the web browser from automatically changing to\n",
       "     * the text insertion cursor when the button is pressed.  We want\n",
       "     * to control all of the cursor setting manually through the\n",
       "     * 'cursor' event from matplotlib */\n",
       "    event.preventDefault();\n",
       "    return false;\n",
       "}\n",
       "\n",
       "mpl.figure.prototype._key_event_extra = function(event, name) {\n",
       "    // Handle any extra behaviour associated with a key event\n",
       "}\n",
       "\n",
       "mpl.figure.prototype.key_event = function(event, name) {\n",
       "\n",
       "    // Prevent repeat events\n",
       "    if (name == 'key_press')\n",
       "    {\n",
       "        if (event.which === this._key)\n",
       "            return;\n",
       "        else\n",
       "            this._key = event.which;\n",
       "    }\n",
       "    if (name == 'key_release')\n",
       "        this._key = null;\n",
       "\n",
       "    var value = '';\n",
       "    if (event.ctrlKey && event.which != 17)\n",
       "        value += \"ctrl+\";\n",
       "    if (event.altKey && event.which != 18)\n",
       "        value += \"alt+\";\n",
       "    if (event.shiftKey && event.which != 16)\n",
       "        value += \"shift+\";\n",
       "\n",
       "    value += 'k';\n",
       "    value += event.which.toString();\n",
       "\n",
       "    this._key_event_extra(event, name);\n",
       "\n",
       "    this.send_message(name, {key: value,\n",
       "                             guiEvent: simpleKeys(event)});\n",
       "    return false;\n",
       "}\n",
       "\n",
       "mpl.figure.prototype.toolbar_button_onclick = function(name) {\n",
       "    if (name == 'download') {\n",
       "        this.handle_save(this, null);\n",
       "    } else {\n",
       "        this.send_message(\"toolbar_button\", {name: name});\n",
       "    }\n",
       "};\n",
       "\n",
       "mpl.figure.prototype.toolbar_button_onmouseover = function(tooltip) {\n",
       "    this.message.textContent = tooltip;\n",
       "};\n",
       "mpl.toolbar_items = [[\"Home\", \"Reset original view\", \"fa fa-home icon-home\", \"home\"], [\"Back\", \"Back to  previous view\", \"fa fa-arrow-left icon-arrow-left\", \"back\"], [\"Forward\", \"Forward to next view\", \"fa fa-arrow-right icon-arrow-right\", \"forward\"], [\"\", \"\", \"\", \"\"], [\"Pan\", \"Pan axes with left mouse, zoom with right\", \"fa fa-arrows icon-move\", \"pan\"], [\"Zoom\", \"Zoom to rectangle\", \"fa fa-square-o icon-check-empty\", \"zoom\"], [\"\", \"\", \"\", \"\"], [\"Download\", \"Download plot\", \"fa fa-floppy-o icon-save\", \"download\"]];\n",
       "\n",
       "mpl.extensions = [\"eps\", \"jpeg\", \"pdf\", \"png\", \"ps\", \"raw\", \"svg\", \"tif\"];\n",
       "\n",
       "mpl.default_extension = \"png\";var comm_websocket_adapter = function(comm) {\n",
       "    // Create a \"websocket\"-like object which calls the given IPython comm\n",
       "    // object with the appropriate methods. Currently this is a non binary\n",
       "    // socket, so there is still some room for performance tuning.\n",
       "    var ws = {};\n",
       "\n",
       "    ws.close = function() {\n",
       "        comm.close()\n",
       "    };\n",
       "    ws.send = function(m) {\n",
       "        //console.log('sending', m);\n",
       "        comm.send(m);\n",
       "    };\n",
       "    // Register the callback with on_msg.\n",
       "    comm.on_msg(function(msg) {\n",
       "        //console.log('receiving', msg['content']['data'], msg);\n",
       "        // Pass the mpl event to the overriden (by mpl) onmessage function.\n",
       "        ws.onmessage(msg['content']['data'])\n",
       "    });\n",
       "    return ws;\n",
       "}\n",
       "\n",
       "mpl.mpl_figure_comm = function(comm, msg) {\n",
       "    // This is the function which gets called when the mpl process\n",
       "    // starts-up an IPython Comm through the \"matplotlib\" channel.\n",
       "\n",
       "    var id = msg.content.data.id;\n",
       "    // Get hold of the div created by the display call when the Comm\n",
       "    // socket was opened in Python.\n",
       "    var element = $(\"#\" + id);\n",
       "    var ws_proxy = comm_websocket_adapter(comm)\n",
       "\n",
       "    function ondownload(figure, format) {\n",
       "        window.open(figure.imageObj.src);\n",
       "    }\n",
       "\n",
       "    var fig = new mpl.figure(id, ws_proxy,\n",
       "                           ondownload,\n",
       "                           element.get(0));\n",
       "\n",
       "    // Call onopen now - mpl needs it, as it is assuming we've passed it a real\n",
       "    // web socket which is closed, not our websocket->open comm proxy.\n",
       "    ws_proxy.onopen();\n",
       "\n",
       "    fig.parent_element = element.get(0);\n",
       "    fig.cell_info = mpl.find_output_cell(\"<div id='\" + id + \"'></div>\");\n",
       "    if (!fig.cell_info) {\n",
       "        console.error(\"Failed to find cell for figure\", id, fig);\n",
       "        return;\n",
       "    }\n",
       "\n",
       "    var output_index = fig.cell_info[2]\n",
       "    var cell = fig.cell_info[0];\n",
       "\n",
       "};\n",
       "\n",
       "mpl.figure.prototype.handle_close = function(fig, msg) {\n",
       "    fig.root.unbind('remove')\n",
       "\n",
       "    // Update the output cell to use the data from the current canvas.\n",
       "    fig.push_to_output();\n",
       "    var dataURL = fig.canvas.toDataURL();\n",
       "    // Re-enable the keyboard manager in IPython - without this line, in FF,\n",
       "    // the notebook keyboard shortcuts fail.\n",
       "    IPython.keyboard_manager.enable()\n",
       "    $(fig.parent_element).html('<img src=\"' + dataURL + '\">');\n",
       "    fig.close_ws(fig, msg);\n",
       "}\n",
       "\n",
       "mpl.figure.prototype.close_ws = function(fig, msg){\n",
       "    fig.send_message('closing', msg);\n",
       "    // fig.ws.close()\n",
       "}\n",
       "\n",
       "mpl.figure.prototype.push_to_output = function(remove_interactive) {\n",
       "    // Turn the data on the canvas into data in the output cell.\n",
       "    var dataURL = this.canvas.toDataURL();\n",
       "    this.cell_info[1]['text/html'] = '<img src=\"' + dataURL + '\">';\n",
       "}\n",
       "\n",
       "mpl.figure.prototype.updated_canvas_event = function() {\n",
       "    // Tell IPython that the notebook contents must change.\n",
       "    IPython.notebook.set_dirty(true);\n",
       "    this.send_message(\"ack\", {});\n",
       "    var fig = this;\n",
       "    // Wait a second, then push the new image to the DOM so\n",
       "    // that it is saved nicely (might be nice to debounce this).\n",
       "    setTimeout(function () { fig.push_to_output() }, 1000);\n",
       "}\n",
       "\n",
       "mpl.figure.prototype._init_toolbar = function() {\n",
       "    var fig = this;\n",
       "\n",
       "    var nav_element = $('<div/>')\n",
       "    nav_element.attr('style', 'width: 100%');\n",
       "    this.root.append(nav_element);\n",
       "\n",
       "    // Define a callback function for later on.\n",
       "    function toolbar_event(event) {\n",
       "        return fig.toolbar_button_onclick(event['data']);\n",
       "    }\n",
       "    function toolbar_mouse_event(event) {\n",
       "        return fig.toolbar_button_onmouseover(event['data']);\n",
       "    }\n",
       "\n",
       "    for(var toolbar_ind in mpl.toolbar_items){\n",
       "        var name = mpl.toolbar_items[toolbar_ind][0];\n",
       "        var tooltip = mpl.toolbar_items[toolbar_ind][1];\n",
       "        var image = mpl.toolbar_items[toolbar_ind][2];\n",
       "        var method_name = mpl.toolbar_items[toolbar_ind][3];\n",
       "\n",
       "        if (!name) { continue; };\n",
       "\n",
       "        var button = $('<button class=\"btn btn-default\" href=\"#\" title=\"' + name + '\"><i class=\"fa ' + image + ' fa-lg\"></i></button>');\n",
       "        button.click(method_name, toolbar_event);\n",
       "        button.mouseover(tooltip, toolbar_mouse_event);\n",
       "        nav_element.append(button);\n",
       "    }\n",
       "\n",
       "    // Add the status bar.\n",
       "    var status_bar = $('<span class=\"mpl-message\" style=\"text-align:right; float: right;\"/>');\n",
       "    nav_element.append(status_bar);\n",
       "    this.message = status_bar[0];\n",
       "\n",
       "    // Add the close button to the window.\n",
       "    var buttongrp = $('<div class=\"btn-group inline pull-right\"></div>');\n",
       "    var button = $('<button class=\"btn btn-mini btn-primary\" href=\"#\" title=\"Stop Interaction\"><i class=\"fa fa-power-off icon-remove icon-large\"></i></button>');\n",
       "    button.click(function (evt) { fig.handle_close(fig, {}); } );\n",
       "    button.mouseover('Stop Interaction', toolbar_mouse_event);\n",
       "    buttongrp.append(button);\n",
       "    var titlebar = this.root.find($('.ui-dialog-titlebar'));\n",
       "    titlebar.prepend(buttongrp);\n",
       "}\n",
       "\n",
       "mpl.figure.prototype._root_extra_style = function(el){\n",
       "    var fig = this\n",
       "    el.on(\"remove\", function(){\n",
       "\tfig.close_ws(fig, {});\n",
       "    });\n",
       "}\n",
       "\n",
       "mpl.figure.prototype._canvas_extra_style = function(el){\n",
       "    // this is important to make the div 'focusable\n",
       "    el.attr('tabindex', 0)\n",
       "    // reach out to IPython and tell the keyboard manager to turn it's self\n",
       "    // off when our div gets focus\n",
       "\n",
       "    // location in version 3\n",
       "    if (IPython.notebook.keyboard_manager) {\n",
       "        IPython.notebook.keyboard_manager.register_events(el);\n",
       "    }\n",
       "    else {\n",
       "        // location in version 2\n",
       "        IPython.keyboard_manager.register_events(el);\n",
       "    }\n",
       "\n",
       "}\n",
       "\n",
       "mpl.figure.prototype._key_event_extra = function(event, name) {\n",
       "    var manager = IPython.notebook.keyboard_manager;\n",
       "    if (!manager)\n",
       "        manager = IPython.keyboard_manager;\n",
       "\n",
       "    // Check for shift+enter\n",
       "    if (event.shiftKey && event.which == 13) {\n",
       "        this.canvas_div.blur();\n",
       "        // select the cell after this one\n",
       "        var index = IPython.notebook.find_cell_index(this.cell_info[0]);\n",
       "        IPython.notebook.select(index + 1);\n",
       "    }\n",
       "}\n",
       "\n",
       "mpl.figure.prototype.handle_save = function(fig, msg) {\n",
       "    fig.ondownload(fig, null);\n",
       "}\n",
       "\n",
       "\n",
       "mpl.find_output_cell = function(html_output) {\n",
       "    // Return the cell and output element which can be found *uniquely* in the notebook.\n",
       "    // Note - this is a bit hacky, but it is done because the \"notebook_saving.Notebook\"\n",
       "    // IPython event is triggered only after the cells have been serialised, which for\n",
       "    // our purposes (turning an active figure into a static one), is too late.\n",
       "    var cells = IPython.notebook.get_cells();\n",
       "    var ncells = cells.length;\n",
       "    for (var i=0; i<ncells; i++) {\n",
       "        var cell = cells[i];\n",
       "        if (cell.cell_type === 'code'){\n",
       "            for (var j=0; j<cell.output_area.outputs.length; j++) {\n",
       "                var data = cell.output_area.outputs[j];\n",
       "                if (data.data) {\n",
       "                    // IPython >= 3 moved mimebundle to data attribute of output\n",
       "                    data = data.data;\n",
       "                }\n",
       "                if (data['text/html'] == html_output) {\n",
       "                    return [cell, data, j];\n",
       "                }\n",
       "            }\n",
       "        }\n",
       "    }\n",
       "}\n",
       "\n",
       "// Register the function which deals with the matplotlib target/channel.\n",
       "// The kernel may be null if the page has been refreshed.\n",
       "if (IPython.notebook.kernel != null) {\n",
       "    IPython.notebook.kernel.comm_manager.register_target('matplotlib', mpl.mpl_figure_comm);\n",
       "}\n"
      ],
      "text/plain": [
       "<IPython.core.display.Javascript object>"
      ]
     },
     "metadata": {},
     "output_type": "display_data"
    },
    {
     "data": {
      "text/html": [
       "<img src=\"data:image/png;base64,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\">"
      ],
      "text/plain": [
       "<IPython.core.display.HTML object>"
      ]
     },
     "metadata": {},
     "output_type": "display_data"
    }
   ],
   "source": [
    "a = np.random.rand(100000) # 1000 random numbers between 0 and 1 using Mersenne Twister PRNG\n",
    "bins = 20\n",
    "plt.hist(a, bins=20)  # plt.hist passes it's arguments to np.histogram\n",
    "plt.title(\"Histogram bins: {}, entries: {}\".format(bins,len(a)))\n",
    "plt.show()"
   ]
  },
  {
   "cell_type": "markdown",
   "metadata": {},
   "source": [
    "#### Exercises\n",
    "1. Experiment with arange, linspace, ones, zeros, eye and diag.\n",
    "2. Create different kinds of arrays with random numbers.\n",
    "3. Try setting the seed before creating an array with random values. Look at the function np.empty. What does it do? When might this be useful?"
   ]
  },
  {
   "cell_type": "code",
   "execution_count": 33,
   "metadata": {
    "collapsed": false
   },
   "outputs": [
    {
     "data": {
      "text/plain": [
       "array([[ 0.,  0.,  0.,  0.,  0.,  0.,  0.,  0.,  0.,  0.],\n",
       "       [ 0.,  0.,  0.,  0.,  0.,  0.,  0.,  0.,  0.,  0.],\n",
       "       [ 0.,  0.,  0.,  0.,  0.,  0.,  0.,  0.,  0.,  0.],\n",
       "       [ 0.,  0.,  0.,  0.,  0.,  0.,  0.,  0.,  0.,  0.]])"
      ]
     },
     "execution_count": 33,
     "metadata": {},
     "output_type": "execute_result"
    }
   ],
   "source": [
    "np.zeros((4,10))"
   ]
  },
  {
   "cell_type": "markdown",
   "metadata": {},
   "source": [
    "##### Notes\n",
    "<pre>np.empty()</pre> creates an empty array, without initialization. Whatever was in memory is cast as a number and dumped into an array, if you call print. Zeros initializes everything to zero, but may be slightly slower than empty()."
   ]
  },
  {
   "cell_type": "markdown",
   "metadata": {},
   "source": [
    "##### linspace\n",
    "Linspace is like arange, except it creates numbers from start to stop, with a default number of points of 50. The range is subdivided over start and stop. If endpoint (argument) is false, it is not included in the set, but the default is true."
   ]
  },
  {
   "cell_type": "code",
   "execution_count": 48,
   "metadata": {
    "collapsed": false
   },
   "outputs": [
    {
     "data": {
      "text/plain": [
       "array([ 1. ,  1.9,  2.8,  3.7,  4.6,  5.5,  6.4,  7.3,  8.2,  9.1])"
      ]
     },
     "execution_count": 48,
     "metadata": {},
     "output_type": "execute_result"
    }
   ],
   "source": [
    "np.linspace(start=1,stop=10,num=10,endpoint=False)"
   ]
  },
  {
   "cell_type": "code",
   "execution_count": 49,
   "metadata": {
    "collapsed": false
   },
   "outputs": [
    {
     "data": {
      "text/plain": [
       "array([  1.,   2.,   3.,   4.,   5.,   6.,   7.,   8.,   9.,  10.])"
      ]
     },
     "execution_count": 49,
     "metadata": {},
     "output_type": "execute_result"
    }
   ],
   "source": [
    "np.linspace(start=1,stop=10,num=10,endpoint=True)"
   ]
  },
  {
   "cell_type": "code",
   "execution_count": 51,
   "metadata": {
    "collapsed": false
   },
   "outputs": [
    {
     "data": {
      "text/plain": [
       "(array([  1.,   2.,   3.,   4.,   5.,   6.,   7.,   8.,   9.,  10.]), 1.0)"
      ]
     },
     "execution_count": 51,
     "metadata": {},
     "output_type": "execute_result"
    }
   ],
   "source": [
    "np.linspace(start=1,stop=10,num=10,endpoint=True,retstep=True)\n",
    "# now returns a tuple of the np array and the step size"
   ]
  },
  {
   "cell_type": "code",
   "execution_count": null,
   "metadata": {
    "collapsed": true
   },
   "outputs": [],
   "source": []
  }
 ],
 "metadata": {
  "kernelspec": {
   "display_name": "Python 2",
   "language": "python",
   "name": "python2"
  },
  "language_info": {
   "codemirror_mode": {
    "name": "ipython",
    "version": 2
   },
   "file_extension": ".py",
   "mimetype": "text/x-python",
   "name": "python",
   "nbconvert_exporter": "python",
   "pygments_lexer": "ipython2",
   "version": "2.7.12"
  }
 },
 "nbformat": 4,
 "nbformat_minor": 1
}
