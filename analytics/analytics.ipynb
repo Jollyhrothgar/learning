{
 "cells": [
  {
   "cell_type": "code",
   "execution_count": 3,
   "metadata": {
    "collapsed": false
   },
   "outputs": [
    {
     "data": {
      "application/javascript": [
       "$.getScript('https://kmahelona.github.io/ipython_notebook_goodies/ipython_notebook_toc.js')"
      ],
      "text/plain": [
       "<IPython.core.display.Javascript object>"
      ]
     },
     "metadata": {},
     "output_type": "display_data"
    }
   ],
   "source": [
    "%%javascript\n",
    "$.getScript('https://kmahelona.github.io/ipython_notebook_goodies/ipython_notebook_toc.js')"
   ]
  },
  {
   "cell_type": "markdown",
   "metadata": {},
   "source": [
    "<h1 id=\"tcheading\">Table Of Contents</h1>\n",
    "<div id =\"toc\"></div>"
   ]
  },
  {
   "cell_type": "markdown",
   "metadata": {},
   "source": [
    "# A/B Testing"
   ]
  },
  {
   "cell_type": "markdown",
   "metadata": {},
   "source": [
    "##  Motivation\n",
    "Why should we do A/B tests: if you can isolate a variable in scenario A or B you can determine some causal effect. Normally, we just have correlations. A/B testing can determine which features which maximize the quantity of interest between the control, A sample, and the test B sample.\n",
    "\n",
    "So, the major idea is: does item A cause item B. So, you have to use random sampling.\n",
    "\n",
    "Pitfall - you do a manipulation, and you see an effect between groups. What if something else affected both groups, and caused this? Then you need to do an A/A test.\n",
    "\n",
    "The whole point is to make a comparison:\n",
    "\n",
    "* A $\\rightarrow$ A'\n",
    "    * Expect no difference\n",
    "* A $\\rightarrow$ B\n",
    "    * Expect a difference\n",
    "    \n",
    "We essentially are doing a null-hypothesis significance test. We need to prespecifiy this, since every decision we make along the way in the experiment, means that we can change the false positive rate. So, the experiment has to be designed in totality ahead of time.\n",
    "\n",
    "You define the asumptions of an A/B test apriori.\n",
    "\n",
    "How do you design experiments when you have social networks where A and B may be corellated? Its very difficult. Sometimes, you cannot keep things independent. Problem is that subjects might communicate with each-other.\n",
    "\n",
    "The whole point of A/B testing is the design. T-tests, ANOVA, etc all come at the end. Once you have a really complex problem, you then examine sampling methods. Again, the point is that you design the experiment ahead of time.\n",
    "\n",
    "### Null Hypothesis Significance Testing\n",
    "* What is null hypothesis?\n",
    "    * Manipulation B will not have any affect\n",
    "    * A is control condition\n",
    "* What is significance test?\n",
    "* What is the effect size?\n",
    "* T-test: likelihood you'd get the same results if you ran the experiment twice\n",
    "    * From T-test, you get a P-value: how likely you would get result if you ran the experiment an infinite number of times.\n",
    "\n",
    "### Power Analysis - Making an A/B test decision\n",
    "You can determine the power of the analysis after an experiment.\n",
    "* How many tests do we need to run in order to estimate the size of the effect\n",
    "* Take into affect sample size (N), effect size, $\\alpha$\n",
    "* Decide # of subjects to run through\n",
    "* Predetermine what data you will throw out\n",
    "* If you don't get a lot of participants in A, B, how will you deal with this?\n",
    "* Once you see your data, and make decisions, you can make decisions that affect your false positive rate\n",
    "\n",
    "Effect size is almost always going to be more important in industry, as compared to the P-Value.\n",
    "\n",
    "\n",
    "### T-Test\n",
    "For all participants in condition A, you have values, for condition B, you have values. You now have a two-column table.\n",
    "\n",
    "<table>\n",
    "<tr> <td>Side A</td> <td>A </td>     <td>Side B</td> <td>B </td> </tr>\n",
    "<tr> <td>1     </td> <td>0 </td>     <td>101   </td> <td>5 </td> </tr>\n",
    "<tr> <td>2     </td> <td>10</td>     <td>102   </td> <td>6 </td> </tr>\n",
    "<tr> <td>3     </td> <td>10</td>     <td>103   </td> <td>10</td> </tr>\n",
    "<tr> <td>4     </td> <td>19</td>     <td>104   </td> <td>9 </td> </tr>\n",
    "<tr> <td>5     </td> <td>  </td>     <td>105   </td> <td>  </td> </tr>\n",
    "</table>\n",
    "\n",
    "Look at means, while taking into account the variance. Look at means, subtract them, divide by the standard deviation. You probably have different standard deviations, so you use the pooled standard deviation.\n",
    "\n",
    "$$T_{test} = {{x_1-x_2}\\over{\\sqrt{{\\sigma_1^2+\\sigma_2^2}\\over{n}}}}$$\n",
    "\n",
    "So, what do we do with the T-value from the T-Test? The higher the T-Value, the larger the difference between two outcomes. So, you look up the T-value given a specific $\\alpha$, many people use a cutoff for P < 0.05 (look up P-value) 1 in 20.\n",
    "\n",
    "You can determine the effect size after you run the test.\n",
    "\n",
    "### P-Value\n",
    "\n",
    "### Descriptive Statistics - Central Tendancies\n",
    "* Mean: arithmetic average, but heavily effected by average\n",
    "    * Can be compared to standard deviation\n",
    "* Median: member of final outcome set, half of values above, half of values below\n",
    "    * Assume that we have ranked values, even number of values, median is average of middle two\n",
    "* Mode: most common value of outcome set\n",
    "    * Mode tells you \"most common item\" you buy\n",
    "    * Multi modal items\n",
    "    * Might be an outlier, so it isn't a 'central tendency'\n",
    "* Dispersion\n",
    "    * What is the range of my data? Not just absolute range\n",
    "    * Standard Deviation: mean deviation from the mean!\n",
    "        * $\\sigma = {\\sqrt{{\\Sigma(x-\\bar{x})^2}\\over{N}}}$\n",
    "    * Range\n",
    "## Example - Depression \n",
    "Depression and sleeplessness are highly corellated. But maybe it is that there is a hidden third cause. \n",
    "\n",
    "## Example - Lemons\n",
    "Lemon imports to US from Mexico is correllated highly to highway fatalities.\n",
    "\n",
    "## Example - Facebook: Does icon A increase engagement?\n",
    "* Randomly assign people to groups."
   ]
  },
  {
   "cell_type": "markdown",
   "metadata": {},
   "source": [
    "# A/A Testing\n",
    "\n",
    "Split up groups of people, but don't change anything. If you get different results from both groups, then your A/B test is probably a failure. An A/A test is for testing for randomization \"goodness\"."
   ]
  },
  {
   "cell_type": "markdown",
   "metadata": {},
   "source": [
    "# ANOVA\n",
    "\n",
    "** Clicks Per Subject ** \n",
    "<table>\n",
    "<tr><td>A</td><td>NOT A (B) </td><td>Some other condition (C)</td></tr>\n",
    "<tr><td>6</td><td>6 </td><td>7</td></tr>\n",
    "<tr><td>10</td><td>19</td><td>0</td></tr>\n",
    "<tr><td>94</td><td>6</td><td>100</td></tr>\n",
    "</table>\n",
    "\n",
    "You get a bunch of data for each subject, lets say clicks per subject. The question we ask is \"what proportion of the varience is explained by the conditions\"? We get variance and mean for A, B, and C, as well as means for A, B and C, as well as global mean and global varience.\n",
    "\n",
    "* $SS_W$ - Sum of squares within - varience within the group\n",
    "* $SS_B$ - Sum of squares between\n",
    "* B = $SS_B$/$(number of groups-1)$\n",
    "* W = $SS_W$/$(number of samples - number of groups)$\n",
    "\n",
    "There are one-way ANOVAs, and two-way ANOVAs\n",
    "\n",
    "Final statistics is F. F = (Varience Between Groups)/(Varience Within Groups)\n",
    "\n",
    "An ANOVA and an F test are very similar. \n",
    "\n",
    "When F = 1, then the overall varience is the same as the varience between each of the groups."
   ]
  },
  {
   "cell_type": "code",
   "execution_count": null,
   "metadata": {
    "collapsed": true
   },
   "outputs": [],
   "source": []
  }
 ],
 "metadata": {
  "kernelspec": {
   "display_name": "Python 2",
   "language": "python",
   "name": "python2"
  },
  "language_info": {
   "codemirror_mode": {
    "name": "ipython",
    "version": 2
   },
   "file_extension": ".py",
   "mimetype": "text/x-python",
   "name": "python",
   "nbconvert_exporter": "python",
   "pygments_lexer": "ipython2",
   "version": "2.7.11"
  }
 },
 "nbformat": 4,
 "nbformat_minor": 0
}
