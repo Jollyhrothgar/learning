{
 "cells": [
  {
   "cell_type": "markdown",
   "metadata": {},
   "source": [
    "# Introduction\n",
    "This notebook series covers using python + numpy + matplotlib + pandas and other data analytic tools for doing analysis. I will update the chapters with examples and tutorials which I either generate myself, or pull from around the web. Generally, this will be my notebook, for myself to work up my chops in my free time.\n",
    "\n",
    "Since I already have a good familiarity with programming concepts like object oriented programming, etc, these tutorials will first cover the stuff I'm weakest on, and then I'll add in stuff I have in other repos.\n",
    "\n",
    "# Table of Contents\n",
    "\n",
    "[Chapter 1: The Basics w/numpy ](Chapter_1.ipynb)\n"
   ]
  },
  {
   "cell_type": "code",
   "execution_count": null,
   "metadata": {
    "collapsed": true
   },
   "outputs": [],
   "source": []
  }
 ],
 "metadata": {
  "kernelspec": {
   "display_name": "Python 3",
   "language": "python",
   "name": "python3"
  },
  "language_info": {
   "codemirror_mode": {
    "name": "ipython",
    "version": 3
   },
   "file_extension": ".py",
   "mimetype": "text/x-python",
   "name": "python",
   "nbconvert_exporter": "python",
   "pygments_lexer": "ipython3",
   "version": "3.5.2"
  }
 },
 "nbformat": 4,
 "nbformat_minor": 1
}
