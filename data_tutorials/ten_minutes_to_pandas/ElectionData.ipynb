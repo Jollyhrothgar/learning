{
 "metadata": {
  "name": "ElectionData"
 },
 "nbformat": 3,
 "nbformat_minor": 0,
 "worksheets": [
  {
   "cells": [
    {
     "cell_type": "code",
     "collapsed": true,
     "input": [
      "from pandas import *\n",
      "import matplotlib as mpl\n",
      "mpl.rc('figure', figsize=(12, 6))\n",
      "set_printoptions(max_columns=18)\n",
      "months = {'JAN' : 1, 'FEB' : 2, 'MAR' : 3, 'APR' : 4, 'MAY' : 5, 'JUN' : 6,\n",
      "          'JUL' : 7, 'AUG' : 8, 'SEP' : 9, 'OCT': 10, 'NOV': 11, 'DEC' : 12}\n",
      "of_interest = ['Obama, Barack', 'Romney, Mitt', 'Santorum, Rick', \n",
      "               'Paul, Ron', 'Gingrich, Newt']\n",
      "parties = {\n",
      "  'Bachmann, Michelle': 'Republican',\n",
      "  'Romney, Mitt': 'Republican',\n",
      "  'Obama, Barack': 'Democrat',\n",
      "  \"Roemer, Charles E. 'Buddy' III\": 'Reform',\n",
      "  'Pawlenty, Timothy': 'Republican',\n",
      "  'Johnson, Gary Earl': 'Libertarian',\n",
      "  'Paul, Ron': 'Republican',\n",
      "  'Santorum, Rick': 'Republican',\n",
      "  'Cain, Herman': 'Republican',\n",
      "  'Gingrich, Newt': 'Republican',\n",
      "  'McCotter, Thaddeus G': 'Republican',\n",
      "  'Huntsman, Jon': 'Republican',\n",
      "  'Perry, Rick': 'Republican'           \n",
      " }"
     ],
     "language": "python",
     "metadata": {},
     "outputs": [],
     "prompt_number": 1
    },
    {
     "cell_type": "code",
     "collapsed": true,
     "input": [
      "fec = read_csv('P00000001-ALL.txt')"
     ],
     "language": "python",
     "metadata": {},
     "outputs": [],
     "prompt_number": 2
    },
    {
     "cell_type": "code",
     "collapsed": false,
     "input": [
      "fec"
     ],
     "language": "python",
     "metadata": {},
     "outputs": [
      {
       "output_type": "pyout",
       "prompt_number": 3,
       "text": [
        "<class 'pandas.core.frame.DataFrame'>\n",
        "Int64Index: 536041 entries, 0 to 536040\n",
        "Data columns:\n",
        "cmte_id              536041  non-null values\n",
        "cand_id              536041  non-null values\n",
        "cand_nm              536041  non-null values\n",
        "contbr_nm            536041  non-null values\n",
        "contbr_city          536026  non-null values\n",
        "contbr_st            536040  non-null values\n",
        "contbr_zip           535973  non-null values\n",
        "contbr_employer      531417  non-null values\n",
        "contbr_occupation    531448  non-null values\n",
        "contb_receipt_amt    536041  non-null values\n",
        "contb_receipt_dt     536041  non-null values\n",
        "receipt_desc         8479  non-null values\n",
        "memo_cd              49718  non-null values\n",
        "memo_text            52740  non-null values\n",
        "form_tp              536041  non-null values\n",
        "file_num             536041  non-null values\n",
        "dtypes: float64(1), int64(1), object(14)"
       ]
      }
     ],
     "prompt_number": 3
    },
    {
     "cell_type": "code",
     "collapsed": true,
     "input": [
      "parties    # dictionary"
     ],
     "language": "python",
     "metadata": {},
     "outputs": [
      {
       "output_type": "pyout",
       "prompt_number": 4,
       "text": [
        "{'Bachmann, Michelle': 'Republican',\n",
        " 'Cain, Herman': 'Republican',\n",
        " 'Gingrich, Newt': 'Republican',\n",
        " 'Huntsman, Jon': 'Republican',\n",
        " 'Johnson, Gary Earl': 'Libertarian',\n",
        " 'McCotter, Thaddeus G': 'Republican',\n",
        " 'Obama, Barack': 'Democrat',\n",
        " 'Paul, Ron': 'Republican',\n",
        " 'Pawlenty, Timothy': 'Republican',\n",
        " 'Perry, Rick': 'Republican',\n",
        " \"Roemer, Charles E. 'Buddy' III\": 'Reform',\n",
        " 'Romney, Mitt': 'Republican',\n",
        " 'Santorum, Rick': 'Republican'}"
       ]
      }
     ],
     "prompt_number": 4
    },
    {
     "cell_type": "code",
     "collapsed": false,
     "input": [
      "fec.cand_nm"
     ],
     "language": "python",
     "metadata": {},
     "outputs": [
      {
       "output_type": "pyout",
       "prompt_number": 5,
       "text": [
        "0     Bachmann, Michelle\n",
        "1     Bachmann, Michelle\n",
        "2     Bachmann, Michelle\n",
        "3     Bachmann, Michelle\n",
        "4     Bachmann, Michelle\n",
        "5     Bachmann, Michelle\n",
        "6     Bachmann, Michelle\n",
        "7     Bachmann, Michelle\n",
        "8     Bachmann, Michelle\n",
        "9     Bachmann, Michelle\n",
        "10    Bachmann, Michelle\n",
        "11    Bachmann, Michelle\n",
        "12    Bachmann, Michelle\n",
        "13    Bachmann, Michelle\n",
        "14    Bachmann, Michelle\n",
        "...\n",
        "536026    Perry, Rick\n",
        "536027    Perry, Rick\n",
        "536028    Perry, Rick\n",
        "536029    Perry, Rick\n",
        "536030    Perry, Rick\n",
        "536031    Perry, Rick\n",
        "536032    Perry, Rick\n",
        "536033    Perry, Rick\n",
        "536034    Perry, Rick\n",
        "536035    Perry, Rick\n",
        "536036    Perry, Rick\n",
        "536037    Perry, Rick\n",
        "536038    Perry, Rick\n",
        "536039    Perry, Rick\n",
        "536040    Perry, Rick\n",
        "Name: cand_nm, Length: 536041"
       ]
      }
     ],
     "prompt_number": 5
    },
    {
     "cell_type": "code",
     "collapsed": false,
     "input": [
      "fec['party'] = fec.cand_nm.map(parties)  # map can take dictionary, series... \n",
      "                                         # Alternatively, use list comprehension: [parties[x] for x in fec.cand_nm]"
     ],
     "language": "python",
     "metadata": {},
     "outputs": [],
     "prompt_number": 6
    },
    {
     "cell_type": "code",
     "collapsed": false,
     "input": [
      "fec.ix[0]    # A single record."
     ],
     "language": "python",
     "metadata": {},
     "outputs": [
      {
       "output_type": "pyout",
       "prompt_number": 8,
       "text": [
        "cmte_id                       C00410118\n",
        "cand_id                       P20002978\n",
        "cand_nm              Bachmann, Michelle\n",
        "contbr_nm               HARVEY, WILLIAM\n",
        "contbr_city                      MOBILE\n",
        "contbr_st                            AL\n",
        "contbr_zip                    366010290\n",
        "contbr_employer                 RETIRED\n",
        "contbr_occupation               RETIRED\n",
        "contb_receipt_amt                   250\n",
        "contb_receipt_dt              20-JUN-11\n",
        "receipt_desc                        NaN\n",
        "memo_cd                             NaN\n",
        "memo_text                           NaN\n",
        "form_tp                           SA17A\n",
        "file_num                         736166\n",
        "party                        Republican\n",
        "Name: 0"
       ]
      }
     ],
     "prompt_number": 8
    },
    {
     "cell_type": "code",
     "collapsed": false,
     "input": [
      "fec.party.value_counts()   # Doing it high level way using histogram. "
     ],
     "language": "python",
     "metadata": {},
     "outputs": [
      {
       "output_type": "pyout",
       "prompt_number": 9,
       "text": [
        "Democrat       292400\n",
        "Republican     237575\n",
        "Reform           5364\n",
        "Libertarian       702"
       ]
      }
     ],
     "prompt_number": 9
    },
    {
     "cell_type": "code",
     "collapsed": false,
     "input": [
      "np.unique(fec.party)"
     ],
     "language": "python",
     "metadata": {},
     "outputs": [
      {
       "output_type": "pyout",
       "prompt_number": 10,
       "text": [
        "134010       Democrat\n",
        "361727    Libertarian\n",
        "356462         Reform\n",
        "6067       Republican\n",
        "Name: party"
       ]
      }
     ],
     "prompt_number": 10
    },
    {
     "cell_type": "code",
     "collapsed": false,
     "input": [
      "fec.groupby('party')['contb_receipt_amt'].sum()"
     ],
     "language": "python",
     "metadata": {},
     "outputs": [
      {
       "output_type": "pyout",
       "prompt_number": 12,
       "text": [
        "party\n",
        "Democrat       8.105758e+07\n",
        "Libertarian    4.132769e+05\n",
        "Reform         3.390338e+05\n",
        "Republican     1.192255e+08\n",
        "Name: contb_receipt_amt"
       ]
      }
     ],
     "prompt_number": 12
    },
    {
     "cell_type": "code",
     "collapsed": false,
     "input": [
      "fec.groupby(['party', 'contb_receipt_dt'])['contb_receipt_amt'].sum()   # Not a python date object."
     ],
     "language": "python",
     "metadata": {},
     "outputs": [
      {
       "output_type": "pyout",
       "prompt_number": 13,
       "text": [
        "party     contb_receipt_dt\n",
        "Democrat  01-AUG-11           175281.00\n",
        "          01-DEC-11           651532.82\n",
        "          01-JAN-12            58098.80\n",
        "          01-JUL-11           165961.00\n",
        "          01-JUN-11           145459.00\n",
        "          01-MAY-11            82644.00\n",
        "          01-NOV-11           122529.87\n",
        "          01-OCT-11           148977.00\n",
        "          01-SEP-11           403297.62\n",
        "          02-AUG-11           164510.11\n",
        "          02-DEC-11           216056.96\n",
        "          02-JAN-12            89743.60\n",
        "          02-JUL-11            17105.00\n",
        "          02-JUN-11           422453.00\n",
        "          02-MAY-11           396675.00\n",
        "...\n",
        "Republican  30-JUL-11             12249.04\n",
        "            30-JUN-11           2744932.63\n",
        "            30-MAR-11             50240.00\n",
        "            30-MAY-11             17803.60\n",
        "            30-NOV-11            809014.83\n",
        "            30-OCT-11             43913.16\n",
        "            30-SEP-11           4886331.76\n",
        "            31-AUG-11           1017735.02\n",
        "            31-DEC-11           1094376.72\n",
        "            31-JAN-11              6000.00\n",
        "            31-JAN-12            869890.41\n",
        "            31-JUL-11             12781.02\n",
        "            31-MAR-11             62475.00\n",
        "            31-MAY-11            301339.80\n",
        "            31-OCT-11            734601.83\n",
        "Name: contb_receipt_amt, Length: 1183"
       ]
      }
     ],
     "prompt_number": 13
    },
    {
     "cell_type": "code",
     "collapsed": false,
     "input": [
      "fec.contb_receipt_dt[0]"
     ],
     "language": "python",
     "metadata": {},
     "outputs": [
      {
       "output_type": "pyout",
       "prompt_number": 14,
       "text": [
        "'20-JUN-11'"
       ]
      }
     ],
     "prompt_number": 14
    },
    {
     "cell_type": "code",
     "collapsed": false,
     "input": [
      "print months"
     ],
     "language": "python",
     "metadata": {},
     "outputs": [
      {
       "output_type": "stream",
       "stream": "stdout",
       "text": [
        "{'FEB': 2, 'AUG': 8, 'JAN': 1, 'DEC': 12, 'OCT': 10, 'MAR': 3, 'SEP': 9, 'MAY': 5, 'JUN': 6, 'JUL': 7, 'APR': 4, 'NOV': 11}\n"
       ]
      }
     ],
     "prompt_number": 15
    },
    {
     "cell_type": "code",
     "collapsed": false,
     "input": [
      "def convert_date(val):    # function to convert date to python's date object.\n",
      "    d, m, y = val.split('-')\n",
      "    m = months[m]\n",
      "    return datetime(int ('20' + y), m, int(d))\n",
      "\n",
      "fec.contb_receipt_dt   # output a list of date (not yet in python objects).\n",
      "fec['contb_receipt_dt'] = fec.contb_receipt_dt.map(convert_date)"
     ],
     "language": "python",
     "metadata": {},
     "outputs": [],
     "prompt_number": 16
    },
    {
     "cell_type": "code",
     "collapsed": false,
     "input": [
      "fec.contb_receipt_dt[0]"
     ],
     "language": "python",
     "metadata": {},
     "outputs": [
      {
       "output_type": "pyout",
       "prompt_number": 17,
       "text": [
        "datetime.datetime(2011, 6, 20, 0, 0)"
       ]
      }
     ],
     "prompt_number": 17
    },
    {
     "cell_type": "code",
     "collapsed": false,
     "input": [
      "fec.groupby(['party', 'contb_receipt_dt'])['contb_receipt_amt'].sum() # Same as above, however, date converted to python object."
     ],
     "language": "python",
     "metadata": {},
     "outputs": [
      {
       "output_type": "pyout",
       "prompt_number": 18,
       "text": [
        "party     contb_receipt_dt\n",
        "Democrat  2011-04-04          640235.12\n",
        "          2011-04-05          307641.00\n",
        "          2011-04-06          247542.59\n",
        "          2011-04-07          252336.00\n",
        "          2011-04-08          295452.00\n",
        "          2011-04-09          105879.00\n",
        "          2011-04-10          100373.00\n",
        "          2011-04-11          360728.00\n",
        "          2011-04-12          405160.46\n",
        "          2011-04-13          382836.33\n",
        "          2011-04-14          306643.50\n",
        "          2011-04-15          408377.00\n",
        "          2011-04-16           82658.00\n",
        "          2011-04-17           70802.00\n",
        "          2011-04-18          501971.37\n",
        "...\n",
        "Republican  2012-01-17           625365.77\n",
        "            2012-01-18           888681.17\n",
        "            2012-01-19          1066250.23\n",
        "            2012-01-20           401298.03\n",
        "            2012-01-21           374261.81\n",
        "            2012-01-22           507168.71\n",
        "            2012-01-23           645477.15\n",
        "            2012-01-24           462233.66\n",
        "            2012-01-25           416931.39\n",
        "            2012-01-26           256406.86\n",
        "            2012-01-27           368441.82\n",
        "            2012-01-28            82775.80\n",
        "            2012-01-29            75220.02\n",
        "            2012-01-30           255204.80\n",
        "            2012-01-31           869890.41\n",
        "Name: contb_receipt_amt, Length: 1183"
       ]
      }
     ],
     "prompt_number": 18
    },
    {
     "cell_type": "code",
     "collapsed": false,
     "input": [
      "by_date = fec.groupby(['party', 'contb_receipt_dt'])['contb_receipt_amt'].sum()"
     ],
     "language": "python",
     "metadata": {},
     "outputs": [],
     "prompt_number": 19
    },
    {
     "cell_type": "code",
     "collapsed": false,
     "input": [
      "by_date.unstack('party')   # Indexes are dates. Columns are political parties."
     ],
     "language": "python",
     "metadata": {},
     "outputs": [
      {
       "output_type": "pyout",
       "prompt_number": 22,
       "text": [
        "<class 'pandas.core.frame.DataFrame'>\n",
        "DatetimeIndex: 376 entries, 2011-01-01 00:00:00 to 2012-01-31 00:00:00\n",
        "Data columns:\n",
        "Democrat       303  non-null values\n",
        "Libertarian    190  non-null values\n",
        "Reform         314  non-null values\n",
        "Republican     376  non-null values\n",
        "dtypes: float64(4)"
       ]
      }
     ],
     "prompt_number": 22
    },
    {
     "cell_type": "code",
     "collapsed": false,
     "input": [
      "by_date.unstack('party').cumsum().plot()"
     ],
     "language": "python",
     "metadata": {},
     "outputs": [
      {
       "output_type": "pyout",
       "prompt_number": 23,
       "text": [
        "<matplotlib.axes.AxesSubplot at 0x106e6ef90>"
       ]
      },
      {
       "output_type": "display_data",
       "png": "[encoded data removed]"
      }
     ],
     "prompt_number": 23
    },
    {
     "cell_type": "code",
     "collapsed": false,
     "input": [
      "s = by_date.unstack('party')[-5:].stack()"
     ],
     "language": "python",
     "metadata": {},
     "outputs": [],
     "prompt_number": 24
    },
    {
     "cell_type": "code",
     "collapsed": false,
     "input": [
      "s    # Note the inner level indexes. Not every date has 3 parties. Top level indexes are dates. stack() makes 1 dimensional.\n",
      "     # Labels propagated down for all 3 observations: political parties."
     ],
     "language": "python",
     "metadata": {},
     "outputs": [
      {
       "output_type": "pyout",
       "prompt_number": 25,
       "text": [
        "contb_receipt_dt  party     \n",
        "2012-01-27        Democrat       305785.47\n",
        "                  Reform           3176.37\n",
        "                  Republican     368441.82\n",
        "2012-01-28        Democrat       235492.85\n",
        "                  Reform            175.00\n",
        "                  Republican      82775.80\n",
        "2012-01-29        Democrat        93177.00\n",
        "                  Reform            200.00\n",
        "                  Republican      75220.02\n",
        "2012-01-30        Democrat       435921.72\n",
        "                  Reform            130.00\n",
        "                  Republican     255204.80\n",
        "2012-01-31        Democrat      1418410.31\n",
        "                  Reform            150.00\n",
        "                  Republican     869890.41"
       ]
      }
     ],
     "prompt_number": 25
    },
    {
     "cell_type": "code",
     "collapsed": false,
     "input": [
      "set_printoptions(notebook_repr_html=False)  # turn off html, i.e., without table.\n",
      "s.unstack()    # unstack() 2 dimensional. "
     ],
     "language": "python",
     "metadata": {},
     "outputs": [
      {
       "output_type": "pyout",
       "prompt_number": 30,
       "text": [
        "party               Democrat   Reform  Republican\n",
        "contb_receipt_dt                                 \n",
        "2012-01-27         305785.47  3176.37   368441.82\n",
        "2012-01-28         235492.85   175.00    82775.80\n",
        "2012-01-29          93177.00   200.00    75220.02\n",
        "2012-01-30         435921.72   130.00   255204.80\n",
        "2012-01-31        1418410.31   150.00   869890.41"
       ]
      }
     ],
     "prompt_number": 30
    },
    {
     "cell_type": "code",
     "collapsed": false,
     "input": [
      "s.unstack().stack()  # 2 dimensional to 1 dimensional"
     ],
     "language": "python",
     "metadata": {},
     "outputs": [
      {
       "output_type": "pyout",
       "prompt_number": 31,
       "text": [
        "contb_receipt_dt  party     \n",
        "2012-01-27        Democrat       305785.47\n",
        "                  Reform           3176.37\n",
        "                  Republican     368441.82\n",
        "2012-01-28        Democrat       235492.85\n",
        "                  Reform            175.00\n",
        "                  Republican      82775.80\n",
        "2012-01-29        Democrat        93177.00\n",
        "                  Reform            200.00\n",
        "                  Republican      75220.02\n",
        "2012-01-30        Democrat       435921.72\n",
        "                  Reform            130.00\n",
        "                  Republican     255204.80\n",
        "2012-01-31        Democrat      1418410.31\n",
        "                  Reform            150.00\n",
        "                  Republican     869890.41"
       ]
      }
     ],
     "prompt_number": 31
    },
    {
     "cell_type": "code",
     "collapsed": false,
     "input": [
      "df = s.unstack('party')   # data frame"
     ],
     "language": "python",
     "metadata": {},
     "outputs": [],
     "prompt_number": 34
    },
    {
     "cell_type": "code",
     "collapsed": false,
     "input": [
      "s.unstack('contb_receipt_dt')"
     ],
     "language": "python",
     "metadata": {},
     "outputs": [
      {
       "output_type": "pyout",
       "prompt_number": 33,
       "text": [
        "contb_receipt_dt  2012-01-27  2012-01-28  2012-01-29  2012-01-30  2012-01-31\n",
        "party                                                                       \n",
        "Democrat           305785.47   235492.85    93177.00   435921.72  1418410.31\n",
        "Reform               3176.37      175.00      200.00      130.00      150.00\n",
        "Republican         368441.82    82775.80    75220.02   255204.80   869890.41"
       ]
      }
     ],
     "prompt_number": 33
    },
    {
     "cell_type": "code",
     "collapsed": false,
     "input": [
      "concat([df, df], axis=1, keys=['A', 'B'])  # join 2 copies of data frame.\n",
      "                                           # standard hierarchical indexing stuff."
     ],
     "language": "python",
     "metadata": {},
     "outputs": [
      {
       "output_type": "pyout",
       "prompt_number": 35,
       "text": [
        "                           A                                B                     \n",
        "party               Democrat   Reform  Republican    Democrat   Reform  Republican\n",
        "contb_receipt_dt                                                                  \n",
        "2012-01-27         305785.47  3176.37   368441.82   305785.47  3176.37   368441.82\n",
        "2012-01-28         235492.85   175.00    82775.80   235492.85   175.00    82775.80\n",
        "2012-01-29          93177.00   200.00    75220.02    93177.00   200.00    75220.02\n",
        "2012-01-30         435921.72   130.00   255204.80   435921.72   130.00   255204.80\n",
        "2012-01-31        1418410.31   150.00   869890.41  1418410.31   150.00   869890.41"
       ]
      }
     ],
     "prompt_number": 35
    },
    {
     "cell_type": "code",
     "collapsed": false,
     "input": [
      "concat([df, df], axis=1, keys=['A', 'B'])['A']   # select out columns by the first key 'A'. Or select out the 'B' group.conc"
     ],
     "language": "python",
     "metadata": {},
     "outputs": [
      {
       "output_type": "pyout",
       "prompt_number": 36,
       "text": [
        "party               Democrat   Reform  Republican\n",
        "contb_receipt_dt                                 \n",
        "2012-01-27         305785.47  3176.37   368441.82\n",
        "2012-01-28         235492.85   175.00    82775.80\n",
        "2012-01-29          93177.00   200.00    75220.02\n",
        "2012-01-30         435921.72   130.00   255204.80\n",
        "2012-01-31        1418410.31   150.00   869890.41"
       ]
      }
     ],
     "prompt_number": 36
    },
    {
     "cell_type": "code",
     "collapsed": false,
     "input": [
      "concat([df, df], axis=1, keys=['A', 'B']).stack('party')"
     ],
     "language": "python",
     "metadata": {},
     "outputs": [
      {
       "output_type": "pyout",
       "prompt_number": 37,
       "text": [
        "                                      A           B\n",
        "contb_receipt_dt party                             \n",
        "2012-01-27       Democrat     305785.47   305785.47\n",
        "                 Reform         3176.37     3176.37\n",
        "                 Republican   368441.82   368441.82\n",
        "2012-01-28       Democrat     235492.85   235492.85\n",
        "                 Reform          175.00      175.00\n",
        "                 Republican    82775.80    82775.80\n",
        "2012-01-29       Democrat      93177.00    93177.00\n",
        "                 Reform          200.00      200.00\n",
        "                 Republican    75220.02    75220.02\n",
        "2012-01-30       Democrat     435921.72   435921.72\n",
        "                 Reform          130.00      130.00\n",
        "                 Republican   255204.80   255204.80\n",
        "2012-01-31       Democrat    1418410.31  1418410.31\n",
        "                 Reform          150.00      150.00\n",
        "                 Republican   869890.41   869890.41"
       ]
      }
     ],
     "prompt_number": 37
    },
    {
     "cell_type": "code",
     "collapsed": false,
     "input": [
      "concat([df, df], axis=1, keys=['A', 'B']).stack(0)  # The group indexes have no labels."
     ],
     "language": "python",
     "metadata": {},
     "outputs": [
      {
       "output_type": "pyout",
       "prompt_number": 38,
       "text": [
        "party                 Democrat   Reform  Republican\n",
        "contb_receipt_dt                                   \n",
        "2012-01-27       A   305785.47  3176.37   368441.82\n",
        "                 B   305785.47  3176.37   368441.82\n",
        "2012-01-28       A   235492.85   175.00    82775.80\n",
        "                 B   235492.85   175.00    82775.80\n",
        "2012-01-29       A    93177.00   200.00    75220.02\n",
        "                 B    93177.00   200.00    75220.02\n",
        "2012-01-30       A   435921.72   130.00   255204.80\n",
        "                 B   435921.72   130.00   255204.80\n",
        "2012-01-31       A  1418410.31   150.00   869890.41\n",
        "                 B  1418410.31   150.00   869890.41"
       ]
      }
     ],
     "prompt_number": 38
    },
    {
     "cell_type": "code",
     "collapsed": false,
     "input": [
      "result = fec.groupby(['cand_nm', 'contbr_occupation'])['contb_receipt_amt'].sum()   # Top contributors to candidates by occupation."
     ],
     "language": "python",
     "metadata": {},
     "outputs": [],
     "prompt_number": 40
    },
    {
     "cell_type": "code",
     "collapsed": false,
     "input": [
      "result  # is a data frame instead of series."
     ],
     "language": "python",
     "metadata": {},
     "outputs": [
      {
       "output_type": "pyout",
       "prompt_number": 41,
       "text": [
        "cand_nm             contbr_occupation             \n",
        "Bachmann, Michelle  100% DISABLED VETERAN              1869.50\n",
        "                    100% DISABLED VIETNAM VETERAN       236.25\n",
        "                    A/C AND HEAT                        250.00\n",
        "                    ACADEMIC EMPLOYMENT SPECIALIST       25.00\n",
        "                    ACCOUNT                              50.00\n",
        "                    ACCOUNT ANALYST                     200.00\n",
        "                    ACCOUNT EXECUTIVE                   100.00\n",
        "                    ACCOUNT MANAGER                     230.00\n",
        "                    ACCOUNTANT                        12979.00\n",
        "                    ACCOUNTANT TRAINER                  250.00\n",
        "                    ACCOUNTING                          350.00\n",
        "                    ACCOUNTING MANAGER                   50.00\n",
        "                    ACCOUNTING SPECIALIST               250.00\n",
        "                    ACCOUNTING SUPERVISOR               125.00\n",
        "                    ACCOUNTING/AUDITING                 700.00\n",
        "...\n",
        "Santorum, Rick  WILDLIFE REFUGE MANAGER       200.00\n",
        "                WIND FARM DEVELOPER           400.00\n",
        "                WINDOW CLEANER                 85.00\n",
        "                WINERY                        300.00\n",
        "                WIRELESS NETWORK ENGINEER     220.15\n",
        "                WITHHELD                     1000.00\n",
        "                WNG                           700.00\n",
        "                WORKER II                     300.00\n",
        "                WRITER                       4894.55\n",
        "                WRITER ACTIVIST              1112.00\n",
        "                WRITER EDITOR                 250.00\n",
        "                WRITER/ACCOUNT EXEC           500.00\n",
        "                WRITER/JOURNALIST             250.00\n",
        "                WRITER/LAWYER                 300.00\n",
        "                YOUTH MINISTER                250.00\n",
        "Name: contb_receipt_amt, Length: 40171"
       ]
      }
     ],
     "prompt_number": 41
    },
    {
     "cell_type": "code",
     "collapsed": false,
     "input": [
      "result[:, 'ZOMBIE SLAYER']"
     ],
     "language": "python",
     "metadata": {},
     "outputs": [
      {
       "output_type": "pyout",
       "prompt_number": 42,
       "text": [
        "cand_nm\n",
        "Paul, Ron    1556\n",
        "Name: contb_receipt_amt"
       ]
      }
     ],
     "prompt_number": 42
    },
    {
     "cell_type": "code",
     "collapsed": false,
     "input": [
      "result = fec.groupby(['cand_nm', 'contbr_occupation']).sum()  # When doing this aggregation, we don't need to select the columns as above.\n",
      "# There are columns that are not possible to sum. The code actually tries to sum them all: nuisance columns. Whenever it fails, it just silently drops them out."
     ],
     "language": "python",
     "metadata": {},
     "outputs": [
      {
       "output_type": "pyout",
       "prompt_number": 43,
       "text": [
        "<class 'pandas.core.frame.DataFrame'>\n",
        "MultiIndex: 40171 entries, ('Bachmann, Michelle', '100% DISABLED VETERAN') to ('Santorum, Rick', 'YOUTH MINISTER')\n",
        "Data columns:\n",
        "contb_receipt_amt    40171  non-null values\n",
        "file_num             40171  non-null values\n",
        "dtypes: float64(2)"
       ]
      }
     ],
     "prompt_number": 43
    },
    {
     "cell_type": "code",
     "collapsed": false,
     "input": [
      "result = result.reset_index()  # opposite of set_index(). Took 'cand_nm' and 'contbr_occupation' and set them as col indexes again, so that the indexes are just simple integer indexes."
     ],
     "language": "python",
     "metadata": {},
     "outputs": [],
     "prompt_number": 44
    },
    {
     "cell_type": "code",
     "collapsed": false,
     "input": [
      "result"
     ],
     "language": "python",
     "metadata": {},
     "outputs": [
      {
       "output_type": "pyout",
       "prompt_number": 45,
       "text": [
        "<class 'pandas.core.frame.DataFrame'>\n",
        "Int64Index: 40171 entries, 0 to 40170\n",
        "Data columns:\n",
        "cand_nm              40171  non-null values\n",
        "contbr_occupation    40171  non-null values\n",
        "contb_receipt_amt    40171  non-null values\n",
        "dtypes: float64(1), object(2)"
       ]
      }
     ],
     "prompt_number": 45
    },
    {
     "cell_type": "code",
     "collapsed": false,
     "input": [
      "# We have so far aggregated total amount donated to each political party by occupation (the first groupby).\n",
      "# Additional groupby let us split them up by candidate, sort them in descending order by total amount donated and take the top 5.\n",
      "set_printoptions(notebook_repr_html=True)\n",
      "def top5_donors(group):\n",
      "    return group.sort_index(by='contb_receipt_amt')[-5:]\n",
      "# top5_donors(result)\n",
      "result.groupby('cand_nm').apply(top5_donors)   # The retired donated the most to Barack Obama."
     ],
     "language": "python",
     "metadata": {},
     "outputs": [
      {
       "html": [
        "<div style=\"max-height:1000px;max-width:1500px;overflow:auto;\">\n",
        "<table border=\"1\">\n",
        "  <thead>\n",
        "    <tr>\n",
        "      <th></th>\n",
        "      <th></th>\n",
        "      <th>cand_nm</th>\n",
        "      <th>contbr_occupation</th>\n",
        "      <th>contb_receipt_amt</th>\n",
        "    </tr>\n",
        "    <tr>\n",
        "      <th>cand_nm</th>\n",
        "      <th>None</th>\n",
        "      <th></th>\n",
        "      <th></th>\n",
        "      <th></th>\n",
        "    </tr>\n",
        "  </thead>\n",
        "  <tbody>\n",
        "    <tr>\n",
        "      <td><strong>Bachmann, Michelle</strong></td>\n",
        "      <td><strong>921</strong></td>\n",
        "      <td>             Bachmann, Michelle</td>\n",
        "      <td>                              PRESIDENT</td>\n",
        "      <td>    68781.00</td>\n",
        "    </tr>\n",
        "    <tr>\n",
        "      <td><strong>Bachmann, Michelle</strong></td>\n",
        "      <td><strong>893</strong></td>\n",
        "      <td>             Bachmann, Michelle</td>\n",
        "      <td>                              PHYSICIAN</td>\n",
        "      <td>    76134.00</td>\n",
        "    </tr>\n",
        "    <tr>\n",
        "      <td><strong>Bachmann, Michelle</strong></td>\n",
        "      <td><strong>555</strong></td>\n",
        "      <td>             Bachmann, Michelle</td>\n",
        "      <td>                              HOMEMAKER</td>\n",
        "      <td>   102540.00</td>\n",
        "    </tr>\n",
        "    <tr>\n",
        "      <td><strong>Bachmann, Michelle</strong></td>\n",
        "      <td><strong>594</strong></td>\n",
        "      <td>             Bachmann, Michelle</td>\n",
        "      <td>                  INFORMATION REQUESTED</td>\n",
        "      <td>   147638.89</td>\n",
        "    </tr>\n",
        "    <tr>\n",
        "      <td><strong>Bachmann, Michelle</strong></td>\n",
        "      <td><strong>1059</strong></td>\n",
        "      <td>             Bachmann, Michelle</td>\n",
        "      <td>                                RETIRED</td>\n",
        "      <td>   824618.05</td>\n",
        "    </tr>\n",
        "    <tr>\n",
        "      <td><strong>Cain, Herman</strong></td>\n",
        "      <td><strong>1537</strong></td>\n",
        "      <td>                   Cain, Herman</td>\n",
        "      <td>                                    CEO</td>\n",
        "      <td>   125097.00</td>\n",
        "    </tr>\n",
        "    <tr>\n",
        "      <td><strong>Cain, Herman</strong></td>\n",
        "      <td><strong>2227</strong></td>\n",
        "      <td>                   Cain, Herman</td>\n",
        "      <td>                              PHYSICIAN</td>\n",
        "      <td>   125790.96</td>\n",
        "    </tr>\n",
        "    <tr>\n",
        "      <td><strong>Cain, Herman</strong></td>\n",
        "      <td><strong>1898</strong></td>\n",
        "      <td>                   Cain, Herman</td>\n",
        "      <td>                              HOMEMAKER</td>\n",
        "      <td>   153964.07</td>\n",
        "    </tr>\n",
        "    <tr>\n",
        "      <td><strong>Cain, Herman</strong></td>\n",
        "      <td><strong>2391</strong></td>\n",
        "      <td>                   Cain, Herman</td>\n",
        "      <td>                                RETIRED</td>\n",
        "      <td>   779635.51</td>\n",
        "    </tr>\n",
        "    <tr>\n",
        "      <td><strong>Cain, Herman</strong></td>\n",
        "      <td><strong>1929</strong></td>\n",
        "      <td>                   Cain, Herman</td>\n",
        "      <td>                  INFORMATION REQUESTED</td>\n",
        "      <td>  3838719.32</td>\n",
        "    </tr>\n",
        "    <tr>\n",
        "      <td><strong>Gingrich, Newt</strong></td>\n",
        "      <td><strong>4068</strong></td>\n",
        "      <td>                 Gingrich, Newt</td>\n",
        "      <td>                                  OWNER</td>\n",
        "      <td>   273310.00</td>\n",
        "    </tr>\n",
        "    <tr>\n",
        "      <td><strong>Gingrich, Newt</strong></td>\n",
        "      <td><strong>4222</strong></td>\n",
        "      <td>                 Gingrich, Newt</td>\n",
        "      <td>                              PRESIDENT</td>\n",
        "      <td>   332403.00</td>\n",
        "    </tr>\n",
        "    <tr>\n",
        "      <td><strong>Gingrich, Newt</strong></td>\n",
        "      <td><strong>3561</strong></td>\n",
        "      <td>                 Gingrich, Newt</td>\n",
        "      <td>                              HOMEMAKER</td>\n",
        "      <td>   426118.26</td>\n",
        "    </tr>\n",
        "    <tr>\n",
        "      <td><strong>Gingrich, Newt</strong></td>\n",
        "      <td><strong>3611</strong></td>\n",
        "      <td>                 Gingrich, Newt</td>\n",
        "      <td> INFORMATION REQUESTED PER BEST EFFORTS</td>\n",
        "      <td>   910147.00</td>\n",
        "    </tr>\n",
        "    <tr>\n",
        "      <td><strong>Gingrich, Newt</strong></td>\n",
        "      <td><strong>4484</strong></td>\n",
        "      <td>                 Gingrich, Newt</td>\n",
        "      <td>                                RETIRED</td>\n",
        "      <td>  2279602.27</td>\n",
        "    </tr>\n",
        "    <tr>\n",
        "      <td><strong>Huntsman, Jon</strong></td>\n",
        "      <td><strong>5470</strong></td>\n",
        "      <td>                  Huntsman, Jon</td>\n",
        "      <td>                              PRESIDENT</td>\n",
        "      <td>    92251.00</td>\n",
        "    </tr>\n",
        "    <tr>\n",
        "      <td><strong>Huntsman, Jon</strong></td>\n",
        "      <td><strong>4984</strong></td>\n",
        "      <td>                  Huntsman, Jon</td>\n",
        "      <td>                               ATTORNEY</td>\n",
        "      <td>   143532.50</td>\n",
        "    </tr>\n",
        "    <tr>\n",
        "      <td><strong>Huntsman, Jon</strong></td>\n",
        "      <td><strong>5288</strong></td>\n",
        "      <td>                  Huntsman, Jon</td>\n",
        "      <td>                              HOMEMAKER</td>\n",
        "      <td>   241524.79</td>\n",
        "    </tr>\n",
        "    <tr>\n",
        "      <td><strong>Huntsman, Jon</strong></td>\n",
        "      <td><strong>5563</strong></td>\n",
        "      <td>                  Huntsman, Jon</td>\n",
        "      <td>                                RETIRED</td>\n",
        "      <td>   352669.00</td>\n",
        "    </tr>\n",
        "    <tr>\n",
        "      <td><strong>Huntsman, Jon</strong></td>\n",
        "      <td><strong>5301</strong></td>\n",
        "      <td>                  Huntsman, Jon</td>\n",
        "      <td> INFORMATION REQUESTED PER BEST EFFORTS</td>\n",
        "      <td>   354500.00</td>\n",
        "    </tr>\n",
        "    <tr>\n",
        "      <td><strong>Johnson, Gary Earl</strong></td>\n",
        "      <td><strong>5773</strong></td>\n",
        "      <td>             Johnson, Gary Earl</td>\n",
        "      <td>                              HOUSEWIFE</td>\n",
        "      <td>    11000.00</td>\n",
        "    </tr>\n",
        "    <tr>\n",
        "      <td><strong>Johnson, Gary Earl</strong></td>\n",
        "      <td><strong>5855</strong></td>\n",
        "      <td>             Johnson, Gary Earl</td>\n",
        "      <td>                          SELF-EMPLOYED</td>\n",
        "      <td>    14750.00</td>\n",
        "    </tr>\n",
        "    <tr>\n",
        "      <td><strong>Johnson, Gary Earl</strong></td>\n",
        "      <td><strong>5735</strong></td>\n",
        "      <td>             Johnson, Gary Earl</td>\n",
        "      <td>                             CONSULTANT</td>\n",
        "      <td>    16767.76</td>\n",
        "    </tr>\n",
        "    <tr>\n",
        "      <td><strong>Johnson, Gary Earl</strong></td>\n",
        "      <td><strong>5853</strong></td>\n",
        "      <td>             Johnson, Gary Earl</td>\n",
        "      <td>                          SELF EMPLOYED</td>\n",
        "      <td>    18781.00</td>\n",
        "    </tr>\n",
        "    <tr>\n",
        "      <td><strong>Johnson, Gary Earl</strong></td>\n",
        "      <td><strong>5845</strong></td>\n",
        "      <td>             Johnson, Gary Earl</td>\n",
        "      <td>                                RETIRED</td>\n",
        "      <td>    85763.96</td>\n",
        "    </tr>\n",
        "    <tr>\n",
        "      <td><strong>McCotter, Thaddeus G</strong></td>\n",
        "      <td><strong>5906</strong></td>\n",
        "      <td>           McCotter, Thaddeus G</td>\n",
        "      <td>                              HOMEMAKER</td>\n",
        "      <td>     2400.00</td>\n",
        "    </tr>\n",
        "    <tr>\n",
        "      <td><strong>McCotter, Thaddeus G</strong></td>\n",
        "      <td><strong>5918</strong></td>\n",
        "      <td>           McCotter, Thaddeus G</td>\n",
        "      <td>                                RETIRED</td>\n",
        "      <td>     2450.00</td>\n",
        "    </tr>\n",
        "    <tr>\n",
        "      <td><strong>McCotter, Thaddeus G</strong></td>\n",
        "      <td><strong>5904</strong></td>\n",
        "      <td>           McCotter, Thaddeus G</td>\n",
        "      <td>                             GOVERNMENT</td>\n",
        "      <td>     2500.00</td>\n",
        "    </tr>\n",
        "    <tr>\n",
        "      <td><strong>McCotter, Thaddeus G</strong></td>\n",
        "      <td><strong>5912</strong></td>\n",
        "      <td>           McCotter, Thaddeus G</td>\n",
        "      <td>                              PHYSICIAN</td>\n",
        "      <td>     3650.00</td>\n",
        "    </tr>\n",
        "    <tr>\n",
        "      <td><strong>McCotter, Thaddeus G</strong></td>\n",
        "      <td><strong>5902</strong></td>\n",
        "      <td>           McCotter, Thaddeus G</td>\n",
        "      <td>                              EXECUTIVE</td>\n",
        "      <td>     3750.00</td>\n",
        "    </tr>\n",
        "    <tr>\n",
        "      <td><strong>Obama, Barack</strong></td>\n",
        "      <td><strong>16658</strong></td>\n",
        "      <td>                  Obama, Barack</td>\n",
        "      <td>                              PHYSICIAN</td>\n",
        "      <td>  2244445.92</td>\n",
        "    </tr>\n",
        "    <tr>\n",
        "      <td><strong>Obama, Barack</strong></td>\n",
        "      <td><strong>13527</strong></td>\n",
        "      <td>                  Obama, Barack</td>\n",
        "      <td>                  INFORMATION REQUESTED</td>\n",
        "      <td>  2647247.90</td>\n",
        "    </tr>\n",
        "    <tr>\n",
        "      <td><strong>Obama, Barack</strong></td>\n",
        "      <td><strong>13113</strong></td>\n",
        "      <td>                  Obama, Barack</td>\n",
        "      <td>                              HOMEMAKER</td>\n",
        "      <td>  2780203.60</td>\n",
        "    </tr>\n",
        "    <tr>\n",
        "      <td><strong>Obama, Barack</strong></td>\n",
        "      <td><strong>7091</strong></td>\n",
        "      <td>                  Obama, Barack</td>\n",
        "      <td>                               ATTORNEY</td>\n",
        "      <td>  7112343.35</td>\n",
        "    </tr>\n",
        "    <tr>\n",
        "      <td><strong>Obama, Barack</strong></td>\n",
        "      <td><strong>18862</strong></td>\n",
        "      <td>                  Obama, Barack</td>\n",
        "      <td>                                RETIRED</td>\n",
        "      <td> 15086766.92</td>\n",
        "    </tr>\n",
        "    <tr>\n",
        "      <td><strong>Paul, Ron</strong></td>\n",
        "      <td><strong>25806</strong></td>\n",
        "      <td>                      Paul, Ron</td>\n",
        "      <td>                              HOMEMAKER</td>\n",
        "      <td>   310823.42</td>\n",
        "    </tr>\n",
        "    <tr>\n",
        "      <td><strong>Paul, Ron</strong></td>\n",
        "      <td><strong>28349</strong></td>\n",
        "      <td>                      Paul, Ron</td>\n",
        "      <td>                              REQUESTED</td>\n",
        "      <td>   381440.72</td>\n",
        "    </tr>\n",
        "    <tr>\n",
        "      <td><strong>Paul, Ron</strong></td>\n",
        "      <td><strong>27649</strong></td>\n",
        "      <td>                      Paul, Ron</td>\n",
        "      <td>                              PHYSICIAN</td>\n",
        "      <td>   509300.85</td>\n",
        "    </tr>\n",
        "    <tr>\n",
        "      <td><strong>Paul, Ron</strong></td>\n",
        "      <td><strong>24957</strong></td>\n",
        "      <td>                      Paul, Ron</td>\n",
        "      <td>                               ENGINEER</td>\n",
        "      <td>   612693.61</td>\n",
        "    </tr>\n",
        "    <tr>\n",
        "      <td><strong>Paul, Ron</strong></td>\n",
        "      <td><strong>28461</strong></td>\n",
        "      <td>                      Paul, Ron</td>\n",
        "      <td>                                RETIRED</td>\n",
        "      <td>  1799513.76</td>\n",
        "    </tr>\n",
        "    <tr>\n",
        "      <td><strong>Pawlenty, Timothy</strong></td>\n",
        "      <td><strong>30758</strong></td>\n",
        "      <td>              Pawlenty, Timothy</td>\n",
        "      <td> INFORMATION REQUESTED PER BEST EFFORTS</td>\n",
        "      <td>   197841.18</td>\n",
        "    </tr>\n",
        "    <tr>\n",
        "      <td><strong>Pawlenty, Timothy</strong></td>\n",
        "      <td><strong>30902</strong></td>\n",
        "      <td>              Pawlenty, Timothy</td>\n",
        "      <td>                              PRESIDENT</td>\n",
        "      <td>   211708.92</td>\n",
        "    </tr>\n",
        "    <tr>\n",
        "      <td><strong>Pawlenty, Timothy</strong></td>\n",
        "      <td><strong>30517</strong></td>\n",
        "      <td>              Pawlenty, Timothy</td>\n",
        "      <td>                               ATTORNEY</td>\n",
        "      <td>   238331.10</td>\n",
        "    </tr>\n",
        "    <tr>\n",
        "      <td><strong>Pawlenty, Timothy</strong></td>\n",
        "      <td><strong>30978</strong></td>\n",
        "      <td>              Pawlenty, Timothy</td>\n",
        "      <td>                                RETIRED</td>\n",
        "      <td>   584195.00</td>\n",
        "    </tr>\n",
        "    <tr>\n",
        "      <td><strong>Pawlenty, Timothy</strong></td>\n",
        "      <td><strong>30750</strong></td>\n",
        "      <td>              Pawlenty, Timothy</td>\n",
        "      <td>                              HOMEMAKER</td>\n",
        "      <td>   769514.95</td>\n",
        "    </tr>\n",
        "    <tr>\n",
        "      <td><strong>Perry, Rick</strong></td>\n",
        "      <td><strong>31205</strong></td>\n",
        "      <td>                    Perry, Rick</td>\n",
        "      <td>                               ATTORNEY</td>\n",
        "      <td>   768778.80</td>\n",
        "    </tr>\n",
        "    <tr>\n",
        "      <td><strong>Perry, Rick</strong></td>\n",
        "      <td><strong>32352</strong></td>\n",
        "      <td>                    Perry, Rick</td>\n",
        "      <td>                              PRESIDENT</td>\n",
        "      <td>   845150.00</td>\n",
        "    </tr>\n",
        "    <tr>\n",
        "      <td><strong>Perry, Rick</strong></td>\n",
        "      <td><strong>32546</strong></td>\n",
        "      <td>                    Perry, Rick</td>\n",
        "      <td>                                RETIRED</td>\n",
        "      <td>  1091671.00</td>\n",
        "    </tr>\n",
        "    <tr>\n",
        "      <td><strong>Perry, Rick</strong></td>\n",
        "      <td><strong>31880</strong></td>\n",
        "      <td>                    Perry, Rick</td>\n",
        "      <td>                              HOMEMAKER</td>\n",
        "      <td>  1818443.00</td>\n",
        "    </tr>\n",
        "    <tr>\n",
        "      <td><strong>Perry, Rick</strong></td>\n",
        "      <td><strong>31916</strong></td>\n",
        "      <td>                    Perry, Rick</td>\n",
        "      <td> INFORMATION REQUESTED PER BEST EFFORTS</td>\n",
        "      <td>  1975508.76</td>\n",
        "    </tr>\n",
        "    <tr>\n",
        "      <td><strong>Roemer, Charles E. 'Buddy' III</strong></td>\n",
        "      <td><strong>34273</strong></td>\n",
        "      <td> Roemer, Charles E. 'Buddy' III</td>\n",
        "      <td>                                STUDENT</td>\n",
        "      <td>     6733.34</td>\n",
        "    </tr>\n",
        "    <tr>\n",
        "      <td><strong>Roemer, Charles E. 'Buddy' III</strong></td>\n",
        "      <td><strong>33538</strong></td>\n",
        "      <td> Roemer, Charles E. 'Buddy' III</td>\n",
        "      <td>                              HOMEMAKER</td>\n",
        "      <td>     8195.00</td>\n",
        "    </tr>\n",
        "    <tr>\n",
        "      <td><strong>Roemer, Charles E. 'Buddy' III</strong></td>\n",
        "      <td><strong>33004</strong></td>\n",
        "      <td> Roemer, Charles E. 'Buddy' III</td>\n",
        "      <td>                               ATTORNEY</td>\n",
        "      <td>    14186.00</td>\n",
        "    </tr>\n",
        "    <tr>\n",
        "      <td><strong>Roemer, Charles E. 'Buddy' III</strong></td>\n",
        "      <td><strong>33584</strong></td>\n",
        "      <td> Roemer, Charles E. 'Buddy' III</td>\n",
        "      <td>                  INFORMATION REQUESTED</td>\n",
        "      <td>    18707.37</td>\n",
        "    </tr>\n",
        "    <tr>\n",
        "      <td><strong>Roemer, Charles E. 'Buddy' III</strong></td>\n",
        "      <td><strong>34125</strong></td>\n",
        "      <td> Roemer, Charles E. 'Buddy' III</td>\n",
        "      <td>                                RETIRED</td>\n",
        "      <td>    73000.31</td>\n",
        "    </tr>\n",
        "    <tr>\n",
        "      <td><strong>Romney, Mitt</strong></td>\n",
        "      <td><strong>37415</strong></td>\n",
        "      <td>                   Romney, Mitt</td>\n",
        "      <td>                              PRESIDENT</td>\n",
        "      <td>  1522751.99</td>\n",
        "    </tr>\n",
        "    <tr>\n",
        "      <td><strong>Romney, Mitt</strong></td>\n",
        "      <td><strong>34633</strong></td>\n",
        "      <td>                   Romney, Mitt</td>\n",
        "      <td>                               ATTORNEY</td>\n",
        "      <td>  3662610.21</td>\n",
        "    </tr>\n",
        "    <tr>\n",
        "      <td><strong>Romney, Mitt</strong></td>\n",
        "      <td><strong>36325</strong></td>\n",
        "      <td>                   Romney, Mitt</td>\n",
        "      <td>                              HOMEMAKER</td>\n",
        "      <td>  5442013.48</td>\n",
        "    </tr>\n",
        "    <tr>\n",
        "      <td><strong>Romney, Mitt</strong></td>\n",
        "      <td><strong>36419</strong></td>\n",
        "      <td>                   Romney, Mitt</td>\n",
        "      <td> INFORMATION REQUESTED PER BEST EFFORTS</td>\n",
        "      <td>  6394753.06</td>\n",
        "    </tr>\n",
        "    <tr>\n",
        "      <td><strong>Romney, Mitt</strong></td>\n",
        "      <td><strong>37919</strong></td>\n",
        "      <td>                   Romney, Mitt</td>\n",
        "      <td>                                RETIRED</td>\n",
        "      <td>  6483596.24</td>\n",
        "    </tr>\n",
        "    <tr>\n",
        "      <td><strong>Santorum, Rick</strong></td>\n",
        "      <td><strong>38865</strong></td>\n",
        "      <td>                 Santorum, Rick</td>\n",
        "      <td>                               ATTORNEY</td>\n",
        "      <td>   107130.00</td>\n",
        "    </tr>\n",
        "    <tr>\n",
        "      <td><strong>Santorum, Rick</strong></td>\n",
        "      <td><strong>39189</strong></td>\n",
        "      <td>                 Santorum, Rick</td>\n",
        "      <td>                              EXECUTIVE</td>\n",
        "      <td>   131456.55</td>\n",
        "    </tr>\n",
        "    <tr>\n",
        "      <td><strong>Santorum, Rick</strong></td>\n",
        "      <td><strong>39350</strong></td>\n",
        "      <td>                 Santorum, Rick</td>\n",
        "      <td>   INFORMATION REQUESTED (BEST EFFORTS)</td>\n",
        "      <td>   284718.10</td>\n",
        "    </tr>\n",
        "    <tr>\n",
        "      <td><strong>Santorum, Rick</strong></td>\n",
        "      <td><strong>39314</strong></td>\n",
        "      <td>                 Santorum, Rick</td>\n",
        "      <td>                              HOMEMAKER</td>\n",
        "      <td>   350597.75</td>\n",
        "    </tr>\n",
        "    <tr>\n",
        "      <td><strong>Santorum, Rick</strong></td>\n",
        "      <td><strong>39822</strong></td>\n",
        "      <td>                 Santorum, Rick</td>\n",
        "      <td>                                RETIRED</td>\n",
        "      <td>   421952.98</td>\n",
        "    </tr>\n",
        "  </tbody>\n",
        "</table>\n",
        "</div>"
       ],
       "output_type": "pyout",
       "prompt_number": 48,
       "text": [
        "                                                             cand_nm                       contbr_occupation  contb_receipt_amt\n",
        "cand_nm                                                                                                                        \n",
        "Bachmann, Michelle             921                Bachmann, Michelle                               PRESIDENT           68781.00\n",
        "                               893                Bachmann, Michelle                               PHYSICIAN           76134.00\n",
        "                               555                Bachmann, Michelle                               HOMEMAKER          102540.00\n",
        "                               594                Bachmann, Michelle                   INFORMATION REQUESTED          147638.89\n",
        "                               1059               Bachmann, Michelle                                 RETIRED          824618.05\n",
        "Cain, Herman                   1537                     Cain, Herman                                     CEO          125097.00\n",
        "                               2227                     Cain, Herman                               PHYSICIAN          125790.96\n",
        "                               1898                     Cain, Herman                               HOMEMAKER          153964.07\n",
        "                               2391                     Cain, Herman                                 RETIRED          779635.51\n",
        "                               1929                     Cain, Herman                   INFORMATION REQUESTED         3838719.32\n",
        "Gingrich, Newt                 4068                   Gingrich, Newt                                   OWNER          273310.00\n",
        "                               4222                   Gingrich, Newt                               PRESIDENT          332403.00\n",
        "                               3561                   Gingrich, Newt                               HOMEMAKER          426118.26\n",
        "                               3611                   Gingrich, Newt  INFORMATION REQUESTED PER BEST EFFORTS          910147.00\n",
        "                               4484                   Gingrich, Newt                                 RETIRED         2279602.27\n",
        "Huntsman, Jon                  5470                    Huntsman, Jon                               PRESIDENT           92251.00\n",
        "                               4984                    Huntsman, Jon                                ATTORNEY          143532.50\n",
        "                               5288                    Huntsman, Jon                               HOMEMAKER          241524.79\n",
        "                               5563                    Huntsman, Jon                                 RETIRED          352669.00\n",
        "                               5301                    Huntsman, Jon  INFORMATION REQUESTED PER BEST EFFORTS          354500.00\n",
        "Johnson, Gary Earl             5773               Johnson, Gary Earl                               HOUSEWIFE           11000.00\n",
        "                               5855               Johnson, Gary Earl                           SELF-EMPLOYED           14750.00\n",
        "                               5735               Johnson, Gary Earl                              CONSULTANT           16767.76\n",
        "                               5853               Johnson, Gary Earl                           SELF EMPLOYED           18781.00\n",
        "                               5845               Johnson, Gary Earl                                 RETIRED           85763.96\n",
        "McCotter, Thaddeus G           5906             McCotter, Thaddeus G                               HOMEMAKER            2400.00\n",
        "                               5918             McCotter, Thaddeus G                                 RETIRED            2450.00\n",
        "                               5904             McCotter, Thaddeus G                              GOVERNMENT            2500.00\n",
        "                               5912             McCotter, Thaddeus G                               PHYSICIAN            3650.00\n",
        "                               5902             McCotter, Thaddeus G                               EXECUTIVE            3750.00\n",
        "Obama, Barack                  16658                   Obama, Barack                               PHYSICIAN         2244445.92\n",
        "                               13527                   Obama, Barack                   INFORMATION REQUESTED         2647247.90\n",
        "                               13113                   Obama, Barack                               HOMEMAKER         2780203.60\n",
        "                               7091                    Obama, Barack                                ATTORNEY         7112343.35\n",
        "                               18862                   Obama, Barack                                 RETIRED        15086766.92\n",
        "Paul, Ron                      25806                       Paul, Ron                               HOMEMAKER          310823.42\n",
        "                               28349                       Paul, Ron                               REQUESTED          381440.72\n",
        "                               27649                       Paul, Ron                               PHYSICIAN          509300.85\n",
        "                               24957                       Paul, Ron                                ENGINEER          612693.61\n",
        "                               28461                       Paul, Ron                                 RETIRED         1799513.76\n",
        "Pawlenty, Timothy              30758               Pawlenty, Timothy  INFORMATION REQUESTED PER BEST EFFORTS          197841.18\n",
        "                               30902               Pawlenty, Timothy                               PRESIDENT          211708.92\n",
        "                               30517               Pawlenty, Timothy                                ATTORNEY          238331.10\n",
        "                               30978               Pawlenty, Timothy                                 RETIRED          584195.00\n",
        "                               30750               Pawlenty, Timothy                               HOMEMAKER          769514.95\n",
        "Perry, Rick                    31205                     Perry, Rick                                ATTORNEY          768778.80\n",
        "                               32352                     Perry, Rick                               PRESIDENT          845150.00\n",
        "                               32546                     Perry, Rick                                 RETIRED         1091671.00\n",
        "                               31880                     Perry, Rick                               HOMEMAKER         1818443.00\n",
        "                               31916                     Perry, Rick  INFORMATION REQUESTED PER BEST EFFORTS         1975508.76\n",
        "Roemer, Charles E. 'Buddy' III 34273  Roemer, Charles E. 'Buddy' III                                 STUDENT            6733.34\n",
        "                               33538  Roemer, Charles E. 'Buddy' III                               HOMEMAKER            8195.00\n",
        "                               33004  Roemer, Charles E. 'Buddy' III                                ATTORNEY           14186.00\n",
        "                               33584  Roemer, Charles E. 'Buddy' III                   INFORMATION REQUESTED           18707.37\n",
        "                               34125  Roemer, Charles E. 'Buddy' III                                 RETIRED           73000.31\n",
        "Romney, Mitt                   37415                    Romney, Mitt                               PRESIDENT         1522751.99\n",
        "                               34633                    Romney, Mitt                                ATTORNEY         3662610.21\n",
        "                               36325                    Romney, Mitt                               HOMEMAKER         5442013.48\n",
        "                               36419                    Romney, Mitt  INFORMATION REQUESTED PER BEST EFFORTS         6394753.06\n",
        "                               37919                    Romney, Mitt                                 RETIRED         6483596.24\n",
        "Santorum, Rick                 38865                  Santorum, Rick                                ATTORNEY          107130.00\n",
        "                               39189                  Santorum, Rick                               EXECUTIVE          131456.55\n",
        "                               39350                  Santorum, Rick    INFORMATION REQUESTED (BEST EFFORTS)          284718.10\n",
        "                               39314                  Santorum, Rick                               HOMEMAKER          350597.75\n",
        "                               39822                  Santorum, Rick                                 RETIRED          421952.98"
       ]
      }
     ],
     "prompt_number": 48
    },
    {
     "cell_type": "code",
     "collapsed": false,
     "input": [
      "df._data   # Internal data structure. The back data frame. Having hierarchical indexing medicates a lot of the need for higher dimensional objects (because they're very sparse)."
     ],
     "language": "python",
     "metadata": {},
     "outputs": [
      {
       "output_type": "pyout",
       "prompt_number": 49,
       "text": [
        "BlockManager\n",
        "Items: array([Democrat, Reform, Republican], dtype=object)\n",
        "Axis 1: <class 'pandas.tseries.index.DatetimeIndex'>\n",
        "[2012-01-27 00:00:00, ..., 2012-01-31 00:00:00]\n",
        "Length: 5, Freq: None, Timezone: None\n",
        "FloatBlock: array([Democrat, Reform, Republican], dtype=object), 3 x 5, dtype float64"
       ]
      }
     ],
     "prompt_number": 49
    },
    {
     "cell_type": "code",
     "collapsed": false,
     "input": [
      "# Time Series for financial data will be improved next."
     ],
     "language": "python",
     "metadata": {},
     "outputs": []
    }
   ],
   "metadata": {}
  }
 ]
}