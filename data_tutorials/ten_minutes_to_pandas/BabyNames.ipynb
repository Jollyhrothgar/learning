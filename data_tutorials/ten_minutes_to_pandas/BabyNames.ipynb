{
 "cells": [
  {
   "cell_type": "code",
   "execution_count": 37,
   "metadata": {
    "collapsed": false
   },
   "outputs": [
    {
     "data": {
      "text/plain": [
       "'0.8.1'"
      ]
     },
     "execution_count": 37,
     "metadata": {},
     "output_type": "execute_result"
    }
   ],
   "source": [
    "from pandas import *\n",
    "set_printoptions(notebook_repr_html=False)  # turn off html, i.e., without table.\n",
    "set_printoptions(max_rows=500)   # getting the summary of the view versus getting everything. Terminal takes time to buffer.\n",
    "import pandas\n",
    "pandas.__version__"
   ]
  },
  {
   "cell_type": "code",
   "execution_count": 4,
   "metadata": {
    "collapsed": false
   },
   "outputs": [],
   "source": [
    "names = read_csv('baby-names2.csv')"
   ]
  },
  {
   "cell_type": "code",
   "execution_count": 17,
   "metadata": {
    "collapsed": false
   },
   "outputs": [
    {
     "data": {
      "text/plain": [
       "<class 'pandas.core.frame.DataFrame'>\n",
       "Int64Index: 258000 entries, 0 to 257999\n",
       "Data columns:\n",
       "year       258000  non-null values\n",
       "name       258000  non-null values\n",
       "prop       258000  non-null values\n",
       "sex        258000  non-null values\n",
       "soundex    258000  non-null values\n",
       "dtypes: float64(1), int64(1), object(3)"
      ]
     },
     "execution_count": 17,
     "metadata": {},
     "output_type": "execute_result"
    }
   ],
   "source": [
    "names"
   ]
  },
  {
   "cell_type": "code",
   "execution_count": 18,
   "metadata": {
    "collapsed": false
   },
   "outputs": [
    {
     "data": {
      "text/plain": [
       "   year     name      prop  sex soundex\n",
       "0  1880     John  0.081541  boy    J500\n",
       "1  1880  William  0.080511  boy    W450\n",
       "2  1880    James  0.050057  boy    J520\n",
       "3  1880  Charles  0.045167  boy    C642\n",
       "4  1880   George  0.043292  boy    G620"
      ]
     },
     "execution_count": 18,
     "metadata": {},
     "output_type": "execute_result"
    }
   ],
   "source": [
    "names.head()"
   ]
  },
  {
   "cell_type": "code",
   "execution_count": 19,
   "metadata": {
    "collapsed": false
   },
   "outputs": [
    {
     "data": {
      "text/plain": [
       "   year     name      prop  sex soundex\n",
       "0  1880     John  0.081541  boy    J500\n",
       "1  1880  William  0.080511  boy    W450\n",
       "2  1880    James  0.050057  boy    J520\n",
       "3  1880  Charles  0.045167  boy    C642\n",
       "4  1880   George  0.043292  boy    G620"
      ]
     },
     "execution_count": 19,
     "metadata": {},
     "output_type": "execute_result"
    }
   ],
   "source": [
    "names[names.year == 1880].head()    "
   ]
  },
  {
   "cell_type": "code",
   "execution_count": 14,
   "metadata": {
    "collapsed": false
   },
   "outputs": [
    {
     "data": {
      "text/plain": [
       "        year     name      prop   sex soundex\n",
       "129995  1880  Emaline  0.000041  girl    E545\n",
       "129996  1880    Ester  0.000041  girl    E236\n",
       "129997  1880    Eulah  0.000041  girl    E400\n",
       "129998  1880  Eulalie  0.000041  girl    E440\n",
       "129999  1880     Euna  0.000041  girl    E500"
      ]
     },
     "execution_count": 14,
     "metadata": {},
     "output_type": "execute_result"
    }
   ],
   "source": [
    "names[names.year == 1880].tail()"
   ]
  },
  {
   "cell_type": "code",
   "execution_count": 38,
   "metadata": {
    "collapsed": false
   },
   "outputs": [],
   "source": [
    "boys = names[names.sex == 'boy']    # segment the data into boy and girl names. We have 2 dataframes now.\n",
    "girls = names[names.sex == 'girl']"
   ]
  },
  {
   "cell_type": "code",
   "execution_count": 22,
   "metadata": {
    "collapsed": false
   },
   "outputs": [
    {
     "data": {
      "text/plain": [
       "<pandas.core.groupby.DataFrameGroupBy at 0x106eba190>"
      ]
     },
     "execution_count": 22,
     "metadata": {},
     "output_type": "execute_result"
    }
   ],
   "source": [
    "boys.groupby('year')"
   ]
  },
  {
   "cell_type": "code",
   "execution_count": 23,
   "metadata": {
    "collapsed": false
   },
   "outputs": [
    {
     "data": {
      "text/plain": [
       "year\n",
       "1880    1000\n",
       "1881    1000\n",
       "1882    1000\n",
       "1883    1000\n",
       "1884    1000\n",
       "1885    1000\n",
       "1886    1000\n",
       "1887    1000\n",
       "1888    1000\n",
       "1889    1000\n",
       "1890    1000\n",
       "1891    1000\n",
       "1892    1000\n",
       "1893    1000\n",
       "1894    1000\n",
       "1895    1000\n",
       "1896    1000\n",
       "1897    1000\n",
       "1898    1000\n",
       "1899    1000\n",
       "1900    1000\n",
       "1901    1000\n",
       "1902    1000\n",
       "1903    1000\n",
       "1904    1000\n",
       "1905    1000\n",
       "1906    1000\n",
       "1907    1000\n",
       "1908    1000\n",
       "1909    1000\n",
       "1910    1000\n",
       "1911    1000\n",
       "1912    1000\n",
       "1913    1000\n",
       "1914    1000\n",
       "1915    1000\n",
       "1916    1000\n",
       "1917    1000\n",
       "1918    1000\n",
       "1919    1000\n",
       "1920    1000\n",
       "1921    1000\n",
       "1922    1000\n",
       "1923    1000\n",
       "1924    1000\n",
       "1925    1000\n",
       "1926    1000\n",
       "1927    1000\n",
       "1928    1000\n",
       "1929    1000\n",
       "1930    1000\n",
       "1931    1000\n",
       "1932    1000\n",
       "1933    1000\n",
       "1934    1000\n",
       "1935    1000\n",
       "1936    1000\n",
       "1937    1000\n",
       "1938    1000\n",
       "1939    1000\n",
       "1940    1000\n",
       "1941    1000\n",
       "1942    1000\n",
       "1943    1000\n",
       "1944    1000\n",
       "1945    1000\n",
       "1946    1000\n",
       "1947    1000\n",
       "1948    1000\n",
       "1949    1000\n",
       "1950    1000\n",
       "1951    1000\n",
       "1952    1000\n",
       "1953    1000\n",
       "1954    1000\n",
       "1955    1000\n",
       "1956    1000\n",
       "1957    1000\n",
       "1958    1000\n",
       "1959    1000\n",
       "1960    1000\n",
       "1961    1000\n",
       "1962    1000\n",
       "1963    1000\n",
       "1964    1000\n",
       "1965    1000\n",
       "1966    1000\n",
       "1967    1000\n",
       "1968    1000\n",
       "1969    1000\n",
       "1970    1000\n",
       "1971    1000\n",
       "1972    1000\n",
       "1973    1000\n",
       "1974    1000\n",
       "1975    1000\n",
       "1976    1000\n",
       "1977    1000\n",
       "1978    1000\n",
       "1979    1000\n",
       "1980    1000\n",
       "1981    1000\n",
       "1982    1000\n",
       "1983    1000\n",
       "1984    1000\n",
       "1985    1000\n",
       "1986    1000\n",
       "1987    1000\n",
       "1988    1000\n",
       "1989    1000\n",
       "1990    1000\n",
       "1991    1000\n",
       "1992    1000\n",
       "1993    1000\n",
       "1994    1000\n",
       "1995    1000\n",
       "1996    1000\n",
       "1997    1000\n",
       "1998    1000\n",
       "1999    1000\n",
       "2000    1000\n",
       "2001    1000\n",
       "2002    1000\n",
       "2003    1000\n",
       "2004    1000\n",
       "2005    1000\n",
       "2006    1000\n",
       "2007    1000\n",
       "2008    1000\n",
       "Length: 129"
      ]
     },
     "execution_count": 23,
     "metadata": {},
     "output_type": "execute_result"
    }
   ],
   "source": [
    "boys.groupby('year').size()"
   ]
  },
  {
   "cell_type": "code",
   "execution_count": 24,
   "metadata": {
    "collapsed": false
   },
   "outputs": [
    {
     "data": {
      "text/plain": [
       "year  sex \n",
       "1880  boy     1000\n",
       "      girl    1000\n",
       "1881  boy     1000\n",
       "      girl    1000\n",
       "1882  boy     1000\n",
       "      girl    1000\n",
       "1883  boy     1000\n",
       "      girl    1000\n",
       "1884  boy     1000\n",
       "      girl    1000\n",
       "1885  boy     1000\n",
       "      girl    1000\n",
       "1886  boy     1000\n",
       "      girl    1000\n",
       "1887  boy     1000\n",
       "      girl    1000\n",
       "1888  boy     1000\n",
       "      girl    1000\n",
       "1889  boy     1000\n",
       "      girl    1000\n",
       "1890  boy     1000\n",
       "      girl    1000\n",
       "1891  boy     1000\n",
       "      girl    1000\n",
       "1892  boy     1000\n",
       "      girl    1000\n",
       "1893  boy     1000\n",
       "      girl    1000\n",
       "1894  boy     1000\n",
       "      girl    1000\n",
       "1895  boy     1000\n",
       "      girl    1000\n",
       "1896  boy     1000\n",
       "      girl    1000\n",
       "1897  boy     1000\n",
       "      girl    1000\n",
       "1898  boy     1000\n",
       "      girl    1000\n",
       "1899  boy     1000\n",
       "      girl    1000\n",
       "1900  boy     1000\n",
       "      girl    1000\n",
       "1901  boy     1000\n",
       "      girl    1000\n",
       "1902  boy     1000\n",
       "      girl    1000\n",
       "1903  boy     1000\n",
       "      girl    1000\n",
       "1904  boy     1000\n",
       "      girl    1000\n",
       "1905  boy     1000\n",
       "      girl    1000\n",
       "1906  boy     1000\n",
       "      girl    1000\n",
       "1907  boy     1000\n",
       "      girl    1000\n",
       "1908  boy     1000\n",
       "      girl    1000\n",
       "1909  boy     1000\n",
       "      girl    1000\n",
       "1910  boy     1000\n",
       "      girl    1000\n",
       "1911  boy     1000\n",
       "      girl    1000\n",
       "1912  boy     1000\n",
       "      girl    1000\n",
       "1913  boy     1000\n",
       "      girl    1000\n",
       "1914  boy     1000\n",
       "      girl    1000\n",
       "1915  boy     1000\n",
       "      girl    1000\n",
       "1916  boy     1000\n",
       "      girl    1000\n",
       "1917  boy     1000\n",
       "      girl    1000\n",
       "1918  boy     1000\n",
       "      girl    1000\n",
       "1919  boy     1000\n",
       "      girl    1000\n",
       "1920  boy     1000\n",
       "      girl    1000\n",
       "1921  boy     1000\n",
       "      girl    1000\n",
       "1922  boy     1000\n",
       "      girl    1000\n",
       "1923  boy     1000\n",
       "      girl    1000\n",
       "1924  boy     1000\n",
       "      girl    1000\n",
       "1925  boy     1000\n",
       "      girl    1000\n",
       "1926  boy     1000\n",
       "      girl    1000\n",
       "1927  boy     1000\n",
       "      girl    1000\n",
       "1928  boy     1000\n",
       "      girl    1000\n",
       "1929  boy     1000\n",
       "      girl    1000\n",
       "1930  boy     1000\n",
       "      girl    1000\n",
       "1931  boy     1000\n",
       "      girl    1000\n",
       "1932  boy     1000\n",
       "      girl    1000\n",
       "1933  boy     1000\n",
       "      girl    1000\n",
       "1934  boy     1000\n",
       "      girl    1000\n",
       "1935  boy     1000\n",
       "      girl    1000\n",
       "1936  boy     1000\n",
       "      girl    1000\n",
       "1937  boy     1000\n",
       "      girl    1000\n",
       "1938  boy     1000\n",
       "      girl    1000\n",
       "1939  boy     1000\n",
       "      girl    1000\n",
       "1940  boy     1000\n",
       "      girl    1000\n",
       "1941  boy     1000\n",
       "      girl    1000\n",
       "1942  boy     1000\n",
       "      girl    1000\n",
       "1943  boy     1000\n",
       "      girl    1000\n",
       "1944  boy     1000\n",
       "      girl    1000\n",
       "1945  boy     1000\n",
       "      girl    1000\n",
       "1946  boy     1000\n",
       "      girl    1000\n",
       "1947  boy     1000\n",
       "      girl    1000\n",
       "1948  boy     1000\n",
       "      girl    1000\n",
       "1949  boy     1000\n",
       "      girl    1000\n",
       "1950  boy     1000\n",
       "      girl    1000\n",
       "1951  boy     1000\n",
       "      girl    1000\n",
       "1952  boy     1000\n",
       "      girl    1000\n",
       "1953  boy     1000\n",
       "      girl    1000\n",
       "1954  boy     1000\n",
       "      girl    1000\n",
       "1955  boy     1000\n",
       "      girl    1000\n",
       "1956  boy     1000\n",
       "      girl    1000\n",
       "1957  boy     1000\n",
       "      girl    1000\n",
       "1958  boy     1000\n",
       "      girl    1000\n",
       "1959  boy     1000\n",
       "      girl    1000\n",
       "1960  boy     1000\n",
       "      girl    1000\n",
       "1961  boy     1000\n",
       "      girl    1000\n",
       "1962  boy     1000\n",
       "      girl    1000\n",
       "1963  boy     1000\n",
       "      girl    1000\n",
       "1964  boy     1000\n",
       "      girl    1000\n",
       "1965  boy     1000\n",
       "      girl    1000\n",
       "1966  boy     1000\n",
       "      girl    1000\n",
       "1967  boy     1000\n",
       "      girl    1000\n",
       "1968  boy     1000\n",
       "      girl    1000\n",
       "1969  boy     1000\n",
       "      girl    1000\n",
       "1970  boy     1000\n",
       "      girl    1000\n",
       "1971  boy     1000\n",
       "      girl    1000\n",
       "1972  boy     1000\n",
       "      girl    1000\n",
       "1973  boy     1000\n",
       "      girl    1000\n",
       "1974  boy     1000\n",
       "      girl    1000\n",
       "1975  boy     1000\n",
       "      girl    1000\n",
       "1976  boy     1000\n",
       "      girl    1000\n",
       "1977  boy     1000\n",
       "      girl    1000\n",
       "1978  boy     1000\n",
       "      girl    1000\n",
       "1979  boy     1000\n",
       "      girl    1000\n",
       "1980  boy     1000\n",
       "      girl    1000\n",
       "1981  boy     1000\n",
       "      girl    1000\n",
       "1982  boy     1000\n",
       "      girl    1000\n",
       "1983  boy     1000\n",
       "      girl    1000\n",
       "1984  boy     1000\n",
       "      girl    1000\n",
       "1985  boy     1000\n",
       "      girl    1000\n",
       "1986  boy     1000\n",
       "      girl    1000\n",
       "1987  boy     1000\n",
       "      girl    1000\n",
       "1988  boy     1000\n",
       "      girl    1000\n",
       "1989  boy     1000\n",
       "      girl    1000\n",
       "1990  boy     1000\n",
       "      girl    1000\n",
       "1991  boy     1000\n",
       "      girl    1000\n",
       "1992  boy     1000\n",
       "      girl    1000\n",
       "1993  boy     1000\n",
       "      girl    1000\n",
       "1994  boy     1000\n",
       "      girl    1000\n",
       "1995  boy     1000\n",
       "      girl    1000\n",
       "1996  boy     1000\n",
       "      girl    1000\n",
       "1997  boy     1000\n",
       "      girl    1000\n",
       "1998  boy     1000\n",
       "      girl    1000\n",
       "1999  boy     1000\n",
       "      girl    1000\n",
       "2000  boy     1000\n",
       "      girl    1000\n",
       "2001  boy     1000\n",
       "      girl    1000\n",
       "2002  boy     1000\n",
       "      girl    1000\n",
       "2003  boy     1000\n",
       "      girl    1000\n",
       "2004  boy     1000\n",
       "      girl    1000\n",
       "2005  boy     1000\n",
       "      girl    1000\n",
       "2006  boy     1000\n",
       "      girl    1000\n",
       "2007  boy     1000\n",
       "      girl    1000\n",
       "2008  boy     1000\n",
       "      girl    1000\n",
       "Length: 258"
      ]
     },
     "execution_count": 24,
     "metadata": {},
     "output_type": "execute_result"
    }
   ],
   "source": [
    "names.groupby(['year', 'sex']).size()"
   ]
  },
  {
   "cell_type": "code",
   "execution_count": 26,
   "metadata": {
    "collapsed": false
   },
   "outputs": [
    {
     "data": {
      "text/plain": [
       "pandas.core.series.Series"
      ]
     },
     "execution_count": 26,
     "metadata": {},
     "output_type": "execute_result"
    }
   ],
   "source": [
    "type(names.groupby(['year', 'sex']).size())"
   ]
  },
  {
   "cell_type": "code",
   "execution_count": 27,
   "metadata": {
    "collapsed": false
   },
   "outputs": [
    {
     "data": {
      "text/plain": [
       "sex\n",
       "boy     1000\n",
       "girl    1000"
      ]
     },
     "execution_count": 27,
     "metadata": {},
     "output_type": "execute_result"
    }
   ],
   "source": [
    "names.groupby(['year', 'sex']).size().ix[2000]    # select out by year: 2001, 2002. Only show the inner key."
   ]
  },
  {
   "cell_type": "code",
   "execution_count": 28,
   "metadata": {
    "collapsed": false
   },
   "outputs": [
    {
     "data": {
      "text/plain": [
       "<class 'pandas.core.frame.DataFrame'>\n",
       "Int64Index: 1000 entries, 120000 to 120999\n",
       "Data columns:\n",
       "year       1000  non-null values\n",
       "name       1000  non-null values\n",
       "prop       1000  non-null values\n",
       "sex        1000  non-null values\n",
       "soundex    1000  non-null values\n",
       "dtypes: float64(1), int64(1), object(3)"
      ]
     },
     "execution_count": 28,
     "metadata": {},
     "output_type": "execute_result"
    }
   ],
   "source": [
    "boys[boys.year == 2000]   # We would like to find out most popular boy names for each year."
   ]
  },
  {
   "cell_type": "code",
   "execution_count": 29,
   "metadata": {
    "collapsed": false
   },
   "outputs": [
    {
     "data": {
      "text/plain": [
       "120000    0.016514\n",
       "120001    0.015346\n",
       "120002    0.013695\n",
       "120003    0.013194\n",
       "120004    0.011990\n",
       "120005    0.011815\n",
       "120006    0.011324\n",
       "120007    0.010930\n",
       "120008    0.010681\n",
       "120009    0.010305\n",
       "120010    0.009896\n",
       "120011    0.009745\n",
       "120012    0.009715\n",
       "120013    0.009617\n",
       "120014    0.009516\n",
       "...\n",
       "120985    0.000072\n",
       "120986    0.000072\n",
       "120987    0.000072\n",
       "120988    0.000072\n",
       "120989    0.000071\n",
       "120990    0.000071\n",
       "120991    0.000071\n",
       "120992    0.000071\n",
       "120993    0.000071\n",
       "120994    0.000071\n",
       "120995    0.000071\n",
       "120996    0.000071\n",
       "120997    0.000071\n",
       "120998    0.000071\n",
       "120999    0.000071\n",
       "Name: prop, Length: 1000"
      ]
     },
     "execution_count": 29,
     "metadata": {},
     "output_type": "execute_result"
    }
   ],
   "source": [
    "boys[boys.year == 2000].prop"
   ]
  },
  {
   "cell_type": "code",
   "execution_count": 30,
   "metadata": {
    "collapsed": false
   },
   "outputs": [
    {
     "data": {
      "text/plain": [
       "        year         name      prop  sex soundex\n",
       "120000  2000        Jacob  0.016514  boy    J210\n",
       "120001  2000      Michael  0.015346  boy    M240\n",
       "120002  2000      Matthew  0.013695  boy    M300\n",
       "120003  2000       Joshua  0.013194  boy    J200\n",
       "120004  2000  Christopher  0.011990  boy    C623"
      ]
     },
     "execution_count": 30,
     "metadata": {},
     "output_type": "execute_result"
    }
   ],
   "source": [
    "boys[boys.year == 2000][:5]"
   ]
  },
  {
   "cell_type": "code",
   "execution_count": 31,
   "metadata": {
    "collapsed": false
   },
   "outputs": [
    {
     "data": {
      "text/plain": [
       "120000"
      ]
     },
     "execution_count": 31,
     "metadata": {},
     "output_type": "execute_result"
    }
   ],
   "source": [
    "boys[boys.year == 2000].prop.idxmax()"
   ]
  },
  {
   "cell_type": "code",
   "execution_count": 32,
   "metadata": {
    "collapsed": false
   },
   "outputs": [
    {
     "data": {
      "text/plain": [
       "year           2000\n",
       "name          Jacob\n",
       "prop       0.016514\n",
       "sex             boy\n",
       "soundex        J210\n",
       "Name: 120000"
      ]
     },
     "execution_count": 32,
     "metadata": {},
     "output_type": "execute_result"
    }
   ],
   "source": [
    "boys.ix[boys[boys.year == 2000].prop.idxmax()]  # to get the whole row."
   ]
  },
  {
   "cell_type": "code",
   "execution_count": 35,
   "metadata": {
    "collapsed": false
   },
   "outputs": [
    {
     "data": {
      "text/plain": [
       "year           1880\n",
       "name           John\n",
       "prop       0.081541\n",
       "sex             boy\n",
       "soundex        J500\n",
       "Name: 0"
      ]
     },
     "execution_count": 35,
     "metadata": {},
     "output_type": "execute_result"
    }
   ],
   "source": [
    "def get_max_record(group):\n",
    "    return group.ix[group.prop.idxmax()]\n",
    "\n",
    "get_max_record(boys)"
   ]
  },
  {
   "cell_type": "code",
   "execution_count": 49,
   "metadata": {
    "collapsed": false
   },
   "outputs": [],
   "source": [
    "def get_max_record(group):\n",
    "    return group.ix[group.prop.idxmax()]\n",
    "\n",
    "result = boys.groupby('year').apply(get_max_record)"
   ]
  },
  {
   "cell_type": "code",
   "execution_count": 53,
   "metadata": {
    "collapsed": false
   },
   "outputs": [
    {
     "data": {
      "text/plain": [
       "      year     name      prop  sex soundex\n",
       "year                                      \n",
       "1880  1880     John  0.081541  boy    J500\n",
       "1881  1881     John  0.080975  boy    J500\n",
       "1882  1882     John  0.078314  boy    J500\n",
       "1883  1883     John  0.079066  boy    J500\n",
       "1884  1884     John  0.076476  boy    J500\n",
       "1885  1885     John  0.075517  boy    J500\n",
       "1886  1886     John   0.07582  boy    J500\n",
       "1887  1887     John  0.074181  boy    J500\n",
       "1888  1888     John  0.071186  boy    J500\n",
       "1889  1889     John  0.071804  boy    J500\n",
       "1890  1890     John  0.071034  boy    J500\n",
       "1891  1891     John  0.070292  boy    J500\n",
       "1892  1892     John  0.068759  boy    J500\n",
       "1893  1893     John  0.066495  boy    J500\n",
       "1894  1894     John  0.065961  boy    J500\n",
       "1895  1895     John  0.065699  boy    J500\n",
       "1896  1896     John  0.063051  boy    J500\n",
       "1897  1897     John  0.061907  boy    J500\n",
       "1898  1898     John   0.06177  boy    J500\n",
       "1899  1899     John  0.060674  boy    J500\n",
       "1900  1900     John  0.060619  boy    J500\n",
       "1901  1901     John  0.059677  boy    J500\n",
       "1902  1902     John  0.059568  boy    J500\n",
       "1903  1903     John  0.058833  boy    J500\n",
       "1904  1904     John  0.058535  boy    J500\n",
       "1905  1905     John  0.056266  boy    J500\n",
       "1906  1906     John  0.057359  boy    J500\n",
       "1907  1907     John  0.056635  boy    J500\n",
       "1908  1908     John   0.05615  boy    J500\n",
       "1909  1909     John  0.054234  boy    J500\n",
       "1910  1910     John  0.054914  boy    J500\n",
       "1911  1911     John  0.055709  boy    J500\n",
       "1912  1912     John  0.054465  boy    J500\n",
       "1913  1913     John  0.054678  boy    J500\n",
       "1914  1914     John  0.055531  boy    J500\n",
       "1915  1915     John  0.054005  boy    J500\n",
       "1916  1916     John  0.054202  boy    J500\n",
       "1917  1917     John  0.054062  boy    J500\n",
       "1918  1918     John  0.053923  boy    J500\n",
       "1919  1919     John  0.052724  boy    J500\n",
       "1920  1920     John   0.05171  boy    J500\n",
       "1921  1921     John   0.05116  boy    J500\n",
       "1922  1922     John  0.050889  boy    J500\n",
       "1923  1923     John  0.050741  boy    J500\n",
       "1924  1924   Robert  0.052025  boy    R163\n",
       "1925  1925   Robert  0.052875  boy    R163\n",
       "1926  1926   Robert  0.053366  boy    R163\n",
       "1927  1927   Robert  0.053075  boy    R163\n",
       "1928  1928   Robert  0.053177  boy    R163\n",
       "1929  1929   Robert  0.054029  boy    R163\n",
       "1930  1930   Robert  0.055021  boy    R163\n",
       "1931  1931   Robert  0.056598  boy    R163\n",
       "1932  1932   Robert  0.055166  boy    R163\n",
       "1933  1933   Robert   0.05314  boy    R163\n",
       "1934  1934   Robert  0.052583  boy    R163\n",
       "1935  1935   Robert  0.052852  boy    R163\n",
       "1936  1936   Robert  0.054959  boy    R163\n",
       "1937  1937   Robert  0.056541  boy    R163\n",
       "1938  1938   Robert  0.054806  boy    R163\n",
       "1939  1939   Robert  0.052645  boy    R163\n",
       "1940  1940    James  0.052662  boy    J520\n",
       "1941  1941    James  0.053182  boy    J520\n",
       "1942  1942    James  0.054812  boy    J520\n",
       "1943  1943    James  0.055183  boy    J520\n",
       "1944  1944    James  0.055406  boy    J520\n",
       "1945  1945    James  0.054288  boy    J520\n",
       "1946  1946    James  0.052999  boy    J520\n",
       "1947  1947    James  0.050987  boy    J520\n",
       "1948  1948    James  0.049697  boy    J520\n",
       "1949  1949    James  0.048244  boy    J520\n",
       "1950  1950    James  0.047336  boy    J520\n",
       "1951  1951    James  0.045662  boy    J520\n",
       "1952  1952    James  0.044132  boy    J520\n",
       "1953  1953   Robert  0.043059  boy    R163\n",
       "1954  1954  Michael  0.042792  boy    M240\n",
       "1955  1955  Michael  0.042293  boy    M240\n",
       "1956  1956  Michael  0.042244  boy    M240\n",
       "1957  1957  Michael  0.042392  boy    M240\n",
       "1958  1958  Michael  0.042029  boy    M240\n",
       "1959  1959  Michael  0.039381  boy    M240\n",
       "1960  1960    David  0.039669  boy    D130\n",
       "1961  1961  Michael  0.040331  boy    M240\n",
       "1962  1962  Michael  0.040453  boy    M240\n",
       "1963  1963  Michael  0.040569  boy    M240\n",
       "1964  1964  Michael  0.040776  boy    M240\n",
       "1965  1965  Michael  0.042762  boy    M240\n",
       "1966  1966  Michael  0.043997  boy    M240\n",
       "1967  1967  Michael  0.046329  boy    M240\n",
       "1968  1968  Michael  0.046184  boy    M240\n",
       "1969  1969  Michael  0.046564  boy    M240\n",
       "1970  1970  Michael  0.044784  boy    M240\n",
       "1971  1971  Michael  0.042687  boy    M240\n",
       "1972  1972  Michael  0.042659  boy    M240\n",
       "1973  1973  Michael  0.042049  boy    M240\n",
       "1974  1974  Michael  0.041444  boy    M240\n",
       "1975  1975  Michael  0.042178  boy    M240\n",
       "1976  1976  Michael  0.041012  boy    M240\n",
       "1977  1977  Michael  0.039554  boy    M240\n",
       "1978  1978  Michael  0.039308  boy    M240\n",
       "1979  1979  Michael  0.037823  boy    M240\n",
       "1980  1980  Michael  0.037039  boy    M240\n",
       "1981  1981  Michael  0.036931  boy    M240\n",
       "1982  1982  Michael  0.036157  boy    M240\n",
       "1983  1983  Michael  0.036506  boy    M240\n",
       "1984  1984  Michael  0.036117  boy    M240\n",
       "1985  1985  Michael  0.033745  boy    M240\n",
       "1986  1986  Michael  0.033429  boy    M240\n",
       "1987  1987  Michael  0.032652  boy    M240\n",
       "1988  1988  Michael  0.032053  boy    M240\n",
       "1989  1989  Michael  0.031213  boy    M240\n",
       "1990  1990  Michael  0.030358  boy    M240\n",
       "1991  1991  Michael  0.028698  boy    M240\n",
       "1992  1992  Michael  0.025914  boy    M240\n",
       "1993  1993  Michael   0.02401  boy    M240\n",
       "1994  1994  Michael  0.021831  boy    M240\n",
       "1995  1995  Michael  0.020594  boy    M240\n",
       "1996  1996  Michael  0.019156  boy    M240\n",
       "1997  1997  Michael  0.018805  boy    M240\n",
       "1998  1998  Michael  0.018066  boy    M240\n",
       "1999  1999    Jacob  0.017346  boy    J210\n",
       "2000  2000    Jacob  0.016514  boy    J210\n",
       "2001  2001    Jacob  0.015734  boy    J210\n",
       "2002  2002    Jacob  0.014792  boy    J210\n",
       "2003  2003    Jacob  0.014104  boy    J210\n",
       "2004  2004    Jacob  0.013196  boy    J210\n",
       "2005  2005    Jacob  0.012148  boy    J210\n",
       "2006  2006    Jacob  0.011331  boy    J210\n",
       "2007  2007    Jacob  0.010948  boy    J210\n",
       "2008  2008    Jacob  0.010355  boy    J210"
      ]
     },
     "execution_count": 53,
     "metadata": {},
     "output_type": "execute_result"
    }
   ],
   "source": [
    "result   # the popularity of a certain name goes down over time."
   ]
  },
  {
   "cell_type": "code",
   "execution_count": 38,
   "metadata": {
    "collapsed": false
   },
   "outputs": [
    {
     "data": {
      "text/plain": [
       "<matplotlib.axes.AxesSubplot at 0x107afe7d0>"
      ]
     },
     "execution_count": 38,
     "metadata": {},
     "output_type": "execute_result"
    },
    {
     "data": {
      "image/png": "[encoded data removed]"
     },
     "metadata": {},
     "output_type": "display_data"
    }
   ],
   "source": [
    "result.prop.plot()"
   ]
  },
  {
   "cell_type": "code",
   "execution_count": 39,
   "metadata": {
    "collapsed": false
   },
   "outputs": [
    {
     "data": {
      "text/plain": [
       "        year    name      prop  sex soundex\n",
       "563     1880  Travis  0.000101  boy    T612\n",
       "2648    1882  Travis  0.000082  boy    T612\n",
       "3672    1883  Travis  0.000080  boy    T612\n",
       "4656    1884  Travis  0.000081  boy    T612\n",
       "5602    1885  Travis  0.000095  boy    T612\n",
       "6598    1886  Travis  0.000092  boy    T612\n",
       "9871    1889  Travis  0.000059  boy    T612\n",
       "10733   1890  Travis  0.000075  boy    T612\n",
       "11696   1891  Travis  0.000082  boy    T612\n",
       "12593   1892  Travis  0.000099  boy    T612\n",
       "13831   1893  Travis  0.000066  boy    T612\n",
       "14849   1894  Travis  0.000064  boy    T612\n",
       "15735   1895  Travis  0.000079  boy    T612\n",
       "16774   1896  Travis  0.000077  boy    T612\n",
       "17645   1897  Travis  0.000098  boy    T612\n",
       "18991   1898  Travis  0.000053  boy    T612\n",
       "19658   1899  Travis  0.000095  boy    T612\n",
       "20442   1900  Travis  0.000166  boy    T612\n",
       "22552   1902  Travis  0.000121  boy    T612\n",
       "23778   1903  Travis  0.000077  boy    T612\n",
       "24510   1904  Travis  0.000137  boy    T612\n",
       "25505   1905  Travis  0.000147  boy    T612\n",
       "26587   1906  Travis  0.000118  boy    T612\n",
       "27535   1907  Travis  0.000132  boy    T612\n",
       "28512   1908  Travis  0.000150  boy    T612\n",
       "29451   1909  Travis  0.000181  boy    T612\n",
       "30510   1910  Travis  0.000149  boy    T612\n",
       "31467   1911  Travis  0.000166  boy    T612\n",
       "32448   1912  Travis  0.000171  boy    T612\n",
       "33413   1913  Travis  0.000203  boy    T612\n",
       "34388   1914  Travis  0.000220  boy    T612\n",
       "35426   1915  Travis  0.000182  boy    T612\n",
       "36404   1916  Travis  0.000204  boy    T612\n",
       "37393   1917  Travis  0.000215  boy    T612\n",
       "38381   1918  Travis  0.000233  boy    T612\n",
       "39384   1919  Travis  0.000228  boy    T612\n",
       "40385   1920  Travis  0.000218  boy    T612\n",
       "41383   1921  Travis  0.000219  boy    T612\n",
       "42374   1922  Travis  0.000231  boy    T612\n",
       "43385   1923  Travis  0.000209  boy    T612\n",
       "44382   1924  Travis  0.000210  boy    T612\n",
       "45388   1925  Travis  0.000208  boy    T612\n",
       "46404   1926  Travis  0.000191  boy    T612\n",
       "47364   1927  Travis  0.000220  boy    T612\n",
       "48371   1928  Travis  0.000214  boy    T612\n",
       "49338   1929  Travis  0.000246  boy    T612\n",
       "50360   1930  Travis  0.000225  boy    T612\n",
       "51325   1931  Travis  0.000266  boy    T612\n",
       "52329   1932  Travis  0.000260  boy    T612\n",
       "53311   1933  Travis  0.000290  boy    T612\n",
       "54281   1934  Travis  0.000344  boy    T612\n",
       "55292   1935  Travis  0.000324  boy    T612\n",
       "56295   1936  Travis  0.000314  boy    T612\n",
       "57300   1937  Travis  0.000293  boy    T612\n",
       "58290   1938  Travis  0.000312  boy    T612\n",
       "59295   1939  Travis  0.000312  boy    T612\n",
       "60294   1940  Travis  0.000299  boy    T612\n",
       "61309   1941  Travis  0.000278  boy    T612\n",
       "62319   1942  Travis  0.000256  boy    T612\n",
       "63347   1943  Travis  0.000216  boy    T612\n",
       "64330   1944  Travis  0.000240  boy    T612\n",
       "65342   1945  Travis  0.000225  boy    T612\n",
       "66318   1946  Travis  0.000246  boy    T612\n",
       "67337   1947  Travis  0.000218  boy    T612\n",
       "68347   1948  Travis  0.000211  boy    T612\n",
       "69349   1949  Travis  0.000207  boy    T612\n",
       "70343   1950  Travis  0.000211  boy    T612\n",
       "71353   1951  Travis  0.000197  boy    T612\n",
       "72356   1952  Travis  0.000184  boy    T612\n",
       "73355   1953  Travis  0.000189  boy    T612\n",
       "74370   1954  Travis  0.000176  boy    T612\n",
       "75380   1955  Travis  0.000171  boy    T612\n",
       "76384   1956  Travis  0.000177  boy    T612\n",
       "77409   1957  Travis  0.000164  boy    T612\n",
       "78371   1958  Travis  0.000201  boy    T612\n",
       "79346   1959  Travis  0.000233  boy    T612\n",
       "80327   1960  Travis  0.000256  boy    T612\n",
       "81323   1961  Travis  0.000271  boy    T612\n",
       "82301   1962  Travis  0.000312  boy    T612\n",
       "83257   1963  Travis  0.000430  boy    T612\n",
       "84234   1964  Travis  0.000507  boy    T612\n",
       "85221   1965  Travis  0.000568  boy    T612\n",
       "86187   1966  Travis  0.000718  boy    T612\n",
       "87165   1967  Travis  0.000902  boy    T612\n",
       "88140   1968  Travis  0.001162  boy    T612\n",
       "89112   1969  Travis  0.001567  boy    T612\n",
       "90068   1970  Travis  0.002270  boy    T612\n",
       "91060   1971  Travis  0.002762  boy    T612\n",
       "92056   1972  Travis  0.003068  boy    T612\n",
       "93052   1973  Travis  0.003637  boy    T612\n",
       "94053   1974  Travis  0.003496  boy    T612\n",
       "95050   1975  Travis  0.003674  boy    T612\n",
       "96045   1976  Travis  0.004188  boy    T612\n",
       "97043   1977  Travis  0.004259  boy    T612\n",
       "98045   1978  Travis  0.004072  boy    T612\n",
       "99035   1979  Travis  0.006169  boy    T612\n",
       "100036  1980  Travis  0.005808  boy    T612\n",
       "101039  1981  Travis  0.005435  boy    T612\n",
       "102038  1982  Travis  0.005525  boy    T612\n",
       "103040  1983  Travis  0.005627  boy    T612\n",
       "104041  1984  Travis  0.005461  boy    T612\n",
       "105045  1985  Travis  0.004725  boy    T612\n",
       "106048  1986  Travis  0.004416  boy    T612\n",
       "107041  1987  Travis  0.005335  boy    T612\n",
       "108040  1988  Travis  0.005711  boy    T612\n",
       "109040  1989  Travis  0.005500  boy    T612\n",
       "110041  1990  Travis  0.005325  boy    T612\n",
       "111043  1991  Travis  0.004786  boy    T612\n",
       "112047  1992  Travis  0.004239  boy    T612\n",
       "113049  1993  Travis  0.003845  boy    T612\n",
       "114052  1994  Travis  0.003338  boy    T612\n",
       "115065  1995  Travis  0.002788  boy    T612\n",
       "116072  1996  Travis  0.002576  boy    T612\n",
       "117080  1997  Travis  0.002346  boy    T612\n",
       "118097  1998  Travis  0.001937  boy    T612\n",
       "119101  1999  Travis  0.001770  boy    T612\n",
       "120114  2000  Travis  0.001576  boy    T612\n",
       "121133  2001  Travis  0.001424  boy    T612\n",
       "122143  2002  Travis  0.001306  boy    T612\n",
       "123158  2003  Travis  0.001209  boy    T612\n",
       "124165  2004  Travis  0.001164  boy    T612\n",
       "125173  2005  Travis  0.001114  boy    T612\n",
       "126162  2006  Travis  0.001186  boy    T612\n",
       "127169  2007  Travis  0.001087  boy    T612\n",
       "128176  2008  Travis  0.001025  boy    T612"
      ]
     },
     "execution_count": 39,
     "metadata": {},
     "output_type": "execute_result"
    }
   ],
   "source": [
    "boys[boys.name == 'Travis']"
   ]
  },
  {
   "cell_type": "code",
   "execution_count": 40,
   "metadata": {
    "collapsed": false
   },
   "outputs": [],
   "source": [
    "idf = boys.set_index(['name', 'year'])   # pull out the indexes, and move them to the row."
   ]
  },
  {
   "cell_type": "code",
   "execution_count": 41,
   "metadata": {
    "collapsed": false
   },
   "outputs": [
    {
     "data": {
      "text/plain": [
       "                    prop  sex soundex\n",
       "name      year                       \n",
       "Reilly    2008  0.000097  boy    R400\n",
       "Sheldon   2008  0.000097  boy    S435\n",
       "Abdullah  2008  0.000097  boy    A134\n",
       "Jagger    2008  0.000097  boy    J260\n",
       "Thaddeus  2008  0.000097  boy    T320\n",
       "Case      2008  0.000096  boy    C200\n",
       "Kyson     2008  0.000096  boy    K250\n",
       "Lamont    2008  0.000096  boy    L553\n",
       "Chaz      2008  0.000096  boy    C200\n",
       "Makhi     2008  0.000096  boy    M200\n",
       "Jan       2008  0.000095  boy    J500\n",
       "Marques   2008  0.000095  boy    M622\n",
       "Oswaldo   2008  0.000095  boy    O243\n",
       "Donavan   2008  0.000095  boy    D515\n",
       "Keyon     2008  0.000095  boy    K500\n",
       "Kyan      2008  0.000095  boy    K500\n",
       "Simeon    2008  0.000095  boy    S550\n",
       "Trystan   2008  0.000095  boy    T623\n",
       "Andreas   2008  0.000094  boy    A536\n",
       "Dangelo   2008  0.000094  boy    D524\n",
       "Landin    2008  0.000094  boy    L535\n",
       "Reagan    2008  0.000094  boy    R250\n",
       "Turner    2008  0.000094  boy    T656\n",
       "Arnav     2008  0.000094  boy    A651\n",
       "Brenton   2008  0.000094  boy    B653\n",
       "Callum    2008  0.000094  boy    C450\n",
       "Jayvion   2008  0.000094  boy    J150\n",
       "Bridger   2008  0.000093  boy    B632\n",
       "Sammy     2008  0.000093  boy    S500\n",
       "Deegan    2008  0.000093  boy    D250\n",
       "Jaylan    2008  0.000093  boy    J450\n",
       "Lennon    2008  0.000093  boy    L550\n",
       "Odin      2008  0.000093  boy    O350\n",
       "Abdiel    2008  0.000092  boy    A134\n",
       "Jerimiah  2008  0.000092  boy    J650\n",
       "Eliezer   2008  0.000092  boy    E426\n",
       "Bronson   2008  0.000091  boy    B652\n",
       "Cornelius 2008  0.000091  boy    C654\n",
       "Pierre    2008  0.000091  boy    P600\n",
       "Cortez    2008  0.000091  boy    C632\n",
       "Baron     2008  0.000090  boy    B650\n",
       "Carlo     2008  0.000090  boy    C640\n",
       "Carsen    2008  0.000090  boy    C625\n",
       "Fletcher  2008  0.000090  boy    F432\n",
       "Izayah    2008  0.000090  boy    I200\n",
       "Kolten    2008  0.000090  boy    K435\n",
       "Damari    2008  0.000089  boy    D560\n",
       "Hugh      2008  0.000089  boy    H200\n",
       "Jensen    2008  0.000089  boy    J525\n",
       "Yurem     2008  0.000089  boy    Y650"
      ]
     },
     "execution_count": 41,
     "metadata": {},
     "output_type": "execute_result"
    }
   ],
   "source": [
    "idf[-50:]"
   ]
  },
  {
   "cell_type": "code",
   "execution_count": 42,
   "metadata": {
    "collapsed": false
   },
   "outputs": [
    {
     "data": {
      "text/plain": [
       "          prop  sex soundex\n",
       "year                       \n",
       "1880  0.000101  boy    T612\n",
       "1882  0.000082  boy    T612\n",
       "1883  0.000080  boy    T612\n",
       "1884  0.000081  boy    T612\n",
       "1885  0.000095  boy    T612\n",
       "1886  0.000092  boy    T612\n",
       "1889  0.000059  boy    T612\n",
       "1890  0.000075  boy    T612\n",
       "1891  0.000082  boy    T612\n",
       "1892  0.000099  boy    T612\n",
       "1893  0.000066  boy    T612\n",
       "1894  0.000064  boy    T612\n",
       "1895  0.000079  boy    T612\n",
       "1896  0.000077  boy    T612\n",
       "1897  0.000098  boy    T612\n",
       "1898  0.000053  boy    T612\n",
       "1899  0.000095  boy    T612\n",
       "1900  0.000166  boy    T612\n",
       "1902  0.000121  boy    T612\n",
       "1903  0.000077  boy    T612\n",
       "1904  0.000137  boy    T612\n",
       "1905  0.000147  boy    T612\n",
       "1906  0.000118  boy    T612\n",
       "1907  0.000132  boy    T612\n",
       "1908  0.000150  boy    T612\n",
       "1909  0.000181  boy    T612\n",
       "1910  0.000149  boy    T612\n",
       "1911  0.000166  boy    T612\n",
       "1912  0.000171  boy    T612\n",
       "1913  0.000203  boy    T612\n",
       "1914  0.000220  boy    T612\n",
       "1915  0.000182  boy    T612\n",
       "1916  0.000204  boy    T612\n",
       "1917  0.000215  boy    T612\n",
       "1918  0.000233  boy    T612\n",
       "1919  0.000228  boy    T612\n",
       "1920  0.000218  boy    T612\n",
       "1921  0.000219  boy    T612\n",
       "1922  0.000231  boy    T612\n",
       "1923  0.000209  boy    T612\n",
       "1924  0.000210  boy    T612\n",
       "1925  0.000208  boy    T612\n",
       "1926  0.000191  boy    T612\n",
       "1927  0.000220  boy    T612\n",
       "1928  0.000214  boy    T612\n",
       "1929  0.000246  boy    T612\n",
       "1930  0.000225  boy    T612\n",
       "1931  0.000266  boy    T612\n",
       "1932  0.000260  boy    T612\n",
       "1933  0.000290  boy    T612\n",
       "1934  0.000344  boy    T612\n",
       "1935  0.000324  boy    T612\n",
       "1936  0.000314  boy    T612\n",
       "1937  0.000293  boy    T612\n",
       "1938  0.000312  boy    T612\n",
       "1939  0.000312  boy    T612\n",
       "1940  0.000299  boy    T612\n",
       "1941  0.000278  boy    T612\n",
       "1942  0.000256  boy    T612\n",
       "1943  0.000216  boy    T612\n",
       "1944  0.000240  boy    T612\n",
       "1945  0.000225  boy    T612\n",
       "1946  0.000246  boy    T612\n",
       "1947  0.000218  boy    T612\n",
       "1948  0.000211  boy    T612\n",
       "1949  0.000207  boy    T612\n",
       "1950  0.000211  boy    T612\n",
       "1951  0.000197  boy    T612\n",
       "1952  0.000184  boy    T612\n",
       "1953  0.000189  boy    T612\n",
       "1954  0.000176  boy    T612\n",
       "1955  0.000171  boy    T612\n",
       "1956  0.000177  boy    T612\n",
       "1957  0.000164  boy    T612\n",
       "1958  0.000201  boy    T612\n",
       "1959  0.000233  boy    T612\n",
       "1960  0.000256  boy    T612\n",
       "1961  0.000271  boy    T612\n",
       "1962  0.000312  boy    T612\n",
       "1963  0.000430  boy    T612\n",
       "1964  0.000507  boy    T612\n",
       "1965  0.000568  boy    T612\n",
       "1966  0.000718  boy    T612\n",
       "1967  0.000902  boy    T612\n",
       "1968  0.001162  boy    T612\n",
       "1969  0.001567  boy    T612\n",
       "1970  0.002270  boy    T612\n",
       "1971  0.002762  boy    T612\n",
       "1972  0.003068  boy    T612\n",
       "1973  0.003637  boy    T612\n",
       "1974  0.003496  boy    T612\n",
       "1975  0.003674  boy    T612\n",
       "1976  0.004188  boy    T612\n",
       "1977  0.004259  boy    T612\n",
       "1978  0.004072  boy    T612\n",
       "1979  0.006169  boy    T612\n",
       "1980  0.005808  boy    T612\n",
       "1981  0.005435  boy    T612\n",
       "1982  0.005525  boy    T612\n",
       "1983  0.005627  boy    T612\n",
       "1984  0.005461  boy    T612\n",
       "1985  0.004725  boy    T612\n",
       "1986  0.004416  boy    T612\n",
       "1987  0.005335  boy    T612\n",
       "1988  0.005711  boy    T612\n",
       "1989  0.005500  boy    T612\n",
       "1990  0.005325  boy    T612\n",
       "1991  0.004786  boy    T612\n",
       "1992  0.004239  boy    T612\n",
       "1993  0.003845  boy    T612\n",
       "1994  0.003338  boy    T612\n",
       "1995  0.002788  boy    T612\n",
       "1996  0.002576  boy    T612\n",
       "1997  0.002346  boy    T612\n",
       "1998  0.001937  boy    T612\n",
       "1999  0.001770  boy    T612\n",
       "2000  0.001576  boy    T612\n",
       "2001  0.001424  boy    T612\n",
       "2002  0.001306  boy    T612\n",
       "2003  0.001209  boy    T612\n",
       "2004  0.001164  boy    T612\n",
       "2005  0.001114  boy    T612\n",
       "2006  0.001186  boy    T612\n",
       "2007  0.001087  boy    T612\n",
       "2008  0.001025  boy    T612"
      ]
     },
     "execution_count": 42,
     "metadata": {},
     "output_type": "execute_result"
    }
   ],
   "source": [
    "idf.ix['Travis']"
   ]
  },
  {
   "cell_type": "code",
   "execution_count": 43,
   "metadata": {
    "collapsed": false
   },
   "outputs": [
    {
     "data": {
      "text/plain": [
       "<matplotlib.axes.AxesSubplot at 0x107ae5590>"
      ]
     },
     "execution_count": 43,
     "metadata": {},
     "output_type": "execute_result"
    },
    {
     "data": {
      "image/png": "[encoded data removed]"
     },
     "metadata": {},
     "output_type": "display_data"
    }
   ],
   "source": [
    "idf.ix['Travis'].prop.plot()"
   ]
  },
  {
   "cell_type": "code",
   "execution_count": 44,
   "metadata": {
    "collapsed": false
   },
   "outputs": [
    {
     "data": {
      "text/plain": [
       "name\n",
       "Aaden       0.000442\n",
       "Aarav       0.000101\n",
       "Aaron       0.002266\n",
       "Ab          0.000044\n",
       "Abb         0.000046\n",
       "Abbie       0.000046\n",
       "Abbott      0.000044\n",
       "Abdiel      0.000092\n",
       "Abdul       0.000064\n",
       "Abdullah    0.000094\n",
       "Abe         0.000225\n",
       "Abel        0.000152\n",
       "Abelardo    0.000041\n",
       "Abie        0.000042\n",
       "Abner       0.000130\n",
       "...\n",
       "Zander       0.000369\n",
       "Zane         0.000175\n",
       "Zavier       0.000098\n",
       "Zayden       0.000185\n",
       "Zayne        0.000091\n",
       "Zeb          0.000080\n",
       "Zebulon      0.000055\n",
       "Zechariah    0.000112\n",
       "Zed          0.000056\n",
       "Zeke         0.000055\n",
       "Zenas        0.000052\n",
       "Zeno         0.000071\n",
       "Zigmund      0.000052\n",
       "Zion         0.000490\n",
       "Zollie       0.000060\n",
       "Name: prop, Length: 3437"
      ]
     },
     "execution_count": 44,
     "metadata": {},
     "output_type": "execute_result"
    }
   ],
   "source": [
    "boys.groupby('name')['prop'].mean()"
   ]
  },
  {
   "cell_type": "code",
   "execution_count": 45,
   "metadata": {
    "collapsed": false
   },
   "outputs": [
    {
     "data": {
      "text/plain": [
       "name\n",
       "Danniel     0.000027\n",
       "Kennard     0.000027\n",
       "Deryl       0.000027\n",
       "Grayling    0.000027\n",
       "Cheryl      0.000028\n",
       "Dwyane      0.000028\n",
       "Michial     0.000028\n",
       "Levern      0.000029\n",
       "Diane       0.000029\n",
       "Kimball     0.000029\n",
       "Randolf     0.000029\n",
       "Renard      0.000029\n",
       "Theodis     0.000029\n",
       "Patric      0.000029\n",
       "Lex         0.000030\n",
       "...\n",
       "Paul       0.008322\n",
       "Daniel     0.008517\n",
       "Frank      0.010386\n",
       "Edward     0.011069\n",
       "Richard    0.014183\n",
       "Thomas     0.014739\n",
       "George     0.016254\n",
       "David      0.016737\n",
       "Joseph     0.017771\n",
       "Michael    0.018342\n",
       "Charles    0.019521\n",
       "Robert     0.029625\n",
       "William    0.034182\n",
       "James      0.035465\n",
       "John       0.041082\n",
       "Name: prop, Length: 3437"
      ]
     },
     "execution_count": 45,
     "metadata": {},
     "output_type": "execute_result"
    }
   ],
   "source": [
    "boys.groupby('name')['prop'].mean().order()"
   ]
  },
  {
   "cell_type": "code",
   "execution_count": 46,
   "metadata": {
    "collapsed": false
   },
   "outputs": [
    {
     "data": {
      "text/plain": [
       "count    129000.000000\n",
       "mean          0.000916\n",
       "std           0.003441\n",
       "min           0.000026\n",
       "25%           0.000071\n",
       "50%           0.000142\n",
       "75%           0.000453\n",
       "max           0.081541"
      ]
     },
     "execution_count": 46,
     "metadata": {},
     "output_type": "execute_result"
    }
   ],
   "source": [
    "boys['prop'].describe()   # Getting the summary of statistics from the dataframe, based on proportion.e"
   ]
  },
  {
   "cell_type": "code",
   "execution_count": 47,
   "metadata": {
    "collapsed": false
   },
   "outputs": [],
   "source": [
    "result = boys.groupby('year')['prop'].describe()"
   ]
  },
  {
   "cell_type": "code",
   "execution_count": 48,
   "metadata": {
    "collapsed": false
   },
   "outputs": [
    {
     "data": {
      "text/plain": [
       "year       \n",
       "1880  count    1000.000000\n",
       "      mean        0.000931\n",
       "      std         0.004871\n",
       "      min         0.000042\n",
       "      25%         0.000059\n",
       "      50%         0.000118\n",
       "      75%         0.000372\n",
       "      max         0.081541\n",
       "1881  count    1000.000000\n",
       "      mean        0.000930\n",
       "      std         0.004812\n",
       "      min         0.000037\n",
       "      25%         0.000065\n",
       "      50%         0.000120\n",
       "      75%         0.000369\n",
       "      max         0.080975\n",
       "1882  count    1000.000000\n",
       "      mean        0.000928\n",
       "      std         0.004691\n",
       "      min         0.000041\n",
       "      25%         0.000066\n",
       "      50%         0.000115\n",
       "      75%         0.000377\n",
       "      max         0.078314\n",
       "1883  count    1000.000000\n",
       "      mean        0.000929\n",
       "      std         0.004675\n",
       "      min         0.000044\n",
       "      25%         0.000062\n",
       "      50%         0.000116\n",
       "      75%         0.000382\n",
       "      max         0.079066\n",
       "1884  count    1000.000000\n",
       "      mean        0.000927\n",
       "      std         0.004542\n",
       "      min         0.000041\n",
       "      25%         0.000065\n",
       "      50%         0.000122\n",
       "      75%         0.000385\n",
       "      max         0.076476\n",
       "1885  count    1000.000000\n",
       "      mean        0.000926\n",
       "      std         0.004459\n",
       "      min         0.000043\n",
       "      25%         0.000069\n",
       "      50%         0.000121\n",
       "      75%         0.000373\n",
       "      max         0.075517\n",
       "1886  count    1000.000000\n",
       "      mean        0.000926"
      ]
     },
     "execution_count": 48,
     "metadata": {},
     "output_type": "execute_result"
    }
   ],
   "source": [
    "result[:50]"
   ]
  },
  {
   "cell_type": "code",
   "execution_count": 49,
   "metadata": {
    "collapsed": false
   },
   "outputs": [],
   "source": [
    "df = boys[boys.year == 2008]"
   ]
  },
  {
   "cell_type": "code",
   "execution_count": 50,
   "metadata": {
    "collapsed": false
   },
   "outputs": [
    {
     "data": {
      "text/plain": [
       "128000    0.010355\n",
       "128001    0.009437\n",
       "128002    0.009301\n",
       "128003    0.008799\n",
       "128004    0.008702\n",
       "128005    0.008566\n",
       "128006    0.008442\n",
       "128007    0.008438\n",
       "128008    0.008268\n",
       "128009    0.008061\n",
       "128010    0.007877\n",
       "128011    0.007694\n",
       "128012    0.007570\n",
       "128013    0.007467\n",
       "128014    0.007262\n",
       "...\n",
       "128985    0.000092\n",
       "128986    0.000091\n",
       "128987    0.000091\n",
       "128988    0.000091\n",
       "128989    0.000091\n",
       "128990    0.000090\n",
       "128991    0.000090\n",
       "128992    0.000090\n",
       "128993    0.000090\n",
       "128994    0.000090\n",
       "128995    0.000090\n",
       "128996    0.000089\n",
       "128997    0.000089\n",
       "128998    0.000089\n",
       "128999    0.000089\n",
       "Name: prop, Length: 1000"
      ]
     },
     "execution_count": 50,
     "metadata": {},
     "output_type": "execute_result"
    }
   ],
   "source": [
    "df.prop"
   ]
  },
  {
   "cell_type": "code",
   "execution_count": 51,
   "metadata": {
    "collapsed": false
   },
   "outputs": [],
   "source": [
    "df = boys[boys.year == 2008].sort_index(by='prop', ascending=False)   # If not in descending order. Can also do ascending=True for ascending."
   ]
  },
  {
   "cell_type": "code",
   "execution_count": 52,
   "metadata": {
    "collapsed": false
   },
   "outputs": [
    {
     "data": {
      "text/plain": [
       "128000    0.010355\n",
       "128001    0.009437\n",
       "128002    0.009301\n",
       "128003    0.008799\n",
       "128004    0.008702\n",
       "128005    0.008566\n",
       "128006    0.008442\n",
       "128007    0.008438\n",
       "128008    0.008268\n",
       "128009    0.008061\n",
       "128010    0.007877\n",
       "128011    0.007694\n",
       "128012    0.007570\n",
       "128013    0.007467\n",
       "128014    0.007262\n",
       "...\n",
       "128985    0.000092\n",
       "128986    0.000091\n",
       "128987    0.000091\n",
       "128988    0.000091\n",
       "128989    0.000091\n",
       "128992    0.000090\n",
       "128994    0.000090\n",
       "128993    0.000090\n",
       "128995    0.000090\n",
       "128991    0.000090\n",
       "128990    0.000090\n",
       "128997    0.000089\n",
       "128998    0.000089\n",
       "128996    0.000089\n",
       "128999    0.000089\n",
       "Name: prop, Length: 1000"
      ]
     },
     "execution_count": 52,
     "metadata": {},
     "output_type": "execute_result"
    }
   ],
   "source": [
    "df.prop"
   ]
  },
  {
   "cell_type": "code",
   "execution_count": 53,
   "metadata": {
    "collapsed": false
   },
   "outputs": [
    {
     "data": {
      "text/plain": [
       "128000    0.010355\n",
       "128001    0.019792\n",
       "128002    0.029093\n",
       "128003    0.037892\n",
       "128004    0.046594\n",
       "128005    0.055160\n",
       "128006    0.063602\n",
       "128007    0.072040\n",
       "128008    0.080308\n",
       "128009    0.088369\n",
       "128010    0.096246\n",
       "128011    0.103940\n",
       "128012    0.111510\n",
       "128013    0.118977\n",
       "128014    0.126239\n",
       "...\n",
       "128985    0.794154\n",
       "128986    0.794245\n",
       "128987    0.794336\n",
       "128988    0.794427\n",
       "128989    0.794518\n",
       "128992    0.794608\n",
       "128994    0.794698\n",
       "128993    0.794788\n",
       "128995    0.794878\n",
       "128991    0.794968\n",
       "128990    0.795058\n",
       "128997    0.795147\n",
       "128998    0.795236\n",
       "128996    0.795325\n",
       "128999    0.795414\n",
       "Length: 1000"
      ]
     },
     "execution_count": 53,
     "metadata": {},
     "output_type": "execute_result"
    }
   ],
   "source": [
    "df.prop.cumsum()   # numpy"
   ]
  },
  {
   "cell_type": "code",
   "execution_count": 54,
   "metadata": {
    "collapsed": false
   },
   "outputs": [
    {
     "data": {
      "text/plain": [
       "127"
      ]
     },
     "execution_count": 54,
     "metadata": {},
     "output_type": "execute_result"
    }
   ],
   "source": [
    "df.prop.cumsum().searchsorted(0.5)   # how many does it take to reach 50%. Also called a measure of diversity."
   ]
  },
  {
   "cell_type": "code",
   "execution_count": 55,
   "metadata": {
    "collapsed": false
   },
   "outputs": [
    {
     "data": {
      "text/plain": [
       "128000    0.010355\n",
       "128001    0.019792\n",
       "128002    0.029093\n",
       "128003    0.037892\n",
       "128004    0.046594\n",
       "128005    0.055160\n",
       "128006    0.063602\n",
       "128007    0.072040\n",
       "128008    0.080308\n",
       "128009    0.088369\n",
       "128010    0.096246\n",
       "128011    0.103940\n",
       "128012    0.111510\n",
       "128013    0.118977\n",
       "128014    0.126239\n",
       "128015    0.133404\n",
       "128016    0.140356\n",
       "128017    0.147110\n",
       "128018    0.153482\n",
       "128019    0.159584\n",
       "128020    0.165669\n",
       "128021    0.171711\n",
       "128022    0.177696\n",
       "128023    0.183670\n",
       "128024    0.189600\n",
       "128025    0.195505\n",
       "128026    0.201343\n",
       "128027    0.207172\n",
       "128028    0.212924\n",
       "128029    0.218338\n",
       "128030    0.223717\n",
       "128031    0.229061\n",
       "128032    0.234334\n",
       "128033    0.239182\n",
       "128034    0.244003\n",
       "128035    0.248758\n",
       "128036    0.253340\n",
       "128037    0.257906\n",
       "128038    0.262453\n",
       "128039    0.266966\n",
       "128040    0.271479\n",
       "128041    0.275903\n",
       "128042    0.280226\n",
       "128043    0.284531\n",
       "128044    0.288831\n",
       "128045    0.293104\n",
       "128046    0.297326\n",
       "128047    0.301496\n",
       "128048    0.305538\n",
       "128049    0.309454\n",
       "128050    0.313330\n",
       "128051    0.317158\n",
       "128052    0.320967\n",
       "128053    0.324665\n",
       "128054    0.328339\n",
       "128055    0.331989\n",
       "128056    0.335588\n",
       "128057    0.339177\n",
       "128058    0.342724\n",
       "128059    0.346245\n",
       "128060    0.349669\n",
       "128061    0.353036\n",
       "128062    0.356375\n",
       "128063    0.359659\n",
       "128064    0.362908\n",
       "128065    0.366139\n",
       "128066    0.369359\n",
       "128067    0.372383\n",
       "128068    0.375391\n",
       "128069    0.378297\n",
       "128070    0.381182\n",
       "128071    0.383982\n",
       "128072    0.386771\n",
       "128073    0.389546\n",
       "128074    0.392286\n",
       "128075    0.395015\n",
       "128076    0.397694\n",
       "128077    0.400343\n",
       "128078    0.402992\n",
       "128079    0.405624\n",
       "128080    0.408225\n",
       "128081    0.410765\n",
       "128082    0.413265\n",
       "128083    0.415745\n",
       "128084    0.418224\n",
       "128085    0.420698\n",
       "128086    0.423111\n",
       "128087    0.425494\n",
       "128088    0.427855\n",
       "128089    0.430198\n",
       "128090    0.432527\n",
       "128091    0.434848\n",
       "128092    0.437132\n",
       "128093    0.439357\n",
       "128094    0.441551\n",
       "128095    0.443726\n",
       "128096    0.445889\n",
       "128097    0.447981\n",
       "128098    0.450050\n",
       "128099    0.452117\n",
       "128100    0.454156\n",
       "128101    0.456166\n",
       "128102    0.458152\n",
       "128103    0.460093\n",
       "128104    0.462009\n",
       "128105    0.463904\n",
       "128106    0.465773\n",
       "128107    0.467637\n",
       "128108    0.469478\n",
       "128109    0.471285\n",
       "128110    0.473029\n",
       "128111    0.474770\n",
       "128112    0.476492\n",
       "128113    0.478208\n",
       "128114    0.479911\n",
       "128115    0.481593\n",
       "128116    0.483275\n",
       "128117    0.484921\n",
       "128118    0.486563\n",
       "128119    0.488203\n",
       "128120    0.489818\n",
       "128121    0.491429\n",
       "128122    0.493032\n",
       "128123    0.494626\n",
       "128124    0.496173\n",
       "128125    0.497718\n",
       "128126    0.499243\n",
       "128127    0.500748\n",
       "128128    0.502243\n",
       "128129    0.503723\n",
       "Length: 130"
      ]
     },
     "execution_count": 55,
     "metadata": {},
     "output_type": "execute_result"
    }
   ],
   "source": [
    "df.prop.cumsum()[:130]"
   ]
  },
  {
   "cell_type": "code",
   "execution_count": 56,
   "metadata": {
    "collapsed": false
   },
   "outputs": [
    {
     "data": {
      "text/plain": [
       "<matplotlib.axes.AxesSubplot at 0x106e90550>"
      ]
     },
     "execution_count": 56,
     "metadata": {},
     "output_type": "execute_result"
    },
    {
     "data": {
      "image/png": "[encoded data removed]"
     },
     "metadata": {},
     "output_type": "display_data"
    }
   ],
   "source": [
    "def get_quantile_count(group, quantile = 0.5):\n",
    "    df = group.sort_index(by='prop', ascending=False)\n",
    "    return df.prop.cumsum().searchsorted(quantile)\n",
    "\n",
    "boys.groupby('year').apply(get_quantile_count).plot()"
   ]
  },
  {
   "cell_type": "code",
   "execution_count": 60,
   "metadata": {
    "collapsed": false
   },
   "outputs": [
    {
     "data": {
      "text/plain": [
       "<matplotlib.legend.Legend at 0x1097ff650>"
      ]
     },
     "execution_count": 60,
     "metadata": {},
     "output_type": "execute_result"
    },
    {
     "data": {
      "image/png": "[encoded data removed]"
     },
     "metadata": {},
     "output_type": "display_data"
    }
   ],
   "source": [
    "def get_quantile_count(group, quantile=0.5):     # Problem with no different colors for boys and girls.\n",
    "    group = group.groupby('soundex').sum()\n",
    "    df = group.sort_index(by='prop', ascending=False)\n",
    "    return df.prop.cumsum().searchsorted(quantile)\n",
    "\n",
    "#f = lambda x: get_quantile_count(x, 0.1)\n",
    "q = 0.25\n",
    "boy_ct = boys.groupby('year').apply(get_quantile_count, quantile=q)   # to pass different values for quantile\n",
    "girl_ct = girls.groupby('year').apply(get_quantile_count, quantile=q)\n",
    "boy_ct.plot(label='boy')\n",
    "girl_ct.plot(label='girl')\n",
    "legend(loc='best')    # with --pylab=inline, we don't have to do plt.legend()"
   ]
  },
  {
   "cell_type": "code",
   "execution_count": 61,
   "metadata": {
    "collapsed": false
   },
   "outputs": [
    {
     "data": {
      "text/plain": [
       "128000    1000\n",
       "128001     999\n",
       "128002     998\n",
       "128003     997\n",
       "128004     996\n",
       "128005     995\n",
       "128006     994\n",
       "128007     993\n",
       "128008     992\n",
       "128009     991\n",
       "128010     990\n",
       "128011     989\n",
       "128012     988\n",
       "128013     987\n",
       "128014     986\n",
       "...\n",
       "128985    16.0\n",
       "128986    12.5\n",
       "128987    12.5\n",
       "128988    12.5\n",
       "128989    12.5\n",
       "128990     7.5\n",
       "128991     7.5\n",
       "128992     7.5\n",
       "128993     7.5\n",
       "128994     7.5\n",
       "128995     7.5\n",
       "128996     2.5\n",
       "128997     2.5\n",
       "128998     2.5\n",
       "128999     2.5\n",
       "Name: prop, Length: 1000"
      ]
     },
     "execution_count": 61,
     "metadata": {},
     "output_type": "execute_result"
    }
   ],
   "source": [
    "boys[boys.year == 2008].prop.rank()    # mean rank by default."
   ]
  },
  {
   "cell_type": "code",
   "execution_count": 20,
   "metadata": {
    "collapsed": false
   },
   "outputs": [],
   "source": [
    "grouped = boys.groupby('year')['prop']"
   ]
  },
  {
   "cell_type": "code",
   "execution_count": 10,
   "metadata": {
    "collapsed": false
   },
   "outputs": [
    {
     "data": {
      "text/plain": [
       "0     1000\n",
       "1      999\n",
       "2      998\n",
       "3      997\n",
       "4      996\n",
       "5      995\n",
       "6      994\n",
       "7      993\n",
       "8      992\n",
       "9      991\n",
       "10     990\n",
       "11     989\n",
       "12     988\n",
       "13     987\n",
       "14     986\n",
       "...\n",
       "128985    16.0\n",
       "128986    12.5\n",
       "128987    12.5\n",
       "128988    12.5\n",
       "128989    12.5\n",
       "128990     7.5\n",
       "128991     7.5\n",
       "128992     7.5\n",
       "128993     7.5\n",
       "128994     7.5\n",
       "128995     7.5\n",
       "128996     2.5\n",
       "128997     2.5\n",
       "128998     2.5\n",
       "128999     2.5\n",
       "Name: prop, Length: 129000"
      ]
     },
     "execution_count": 10,
     "metadata": {},
     "output_type": "execute_result"
    }
   ],
   "source": [
    "grouped.transform(Series.rank)   # transform is more rigid than apply. Output the same size as the input."
   ]
  },
  {
   "cell_type": "code",
   "execution_count": 11,
   "metadata": {
    "collapsed": false
   },
   "outputs": [],
   "source": [
    "boys['year_rank'] = grouped.transform(Series.rank)"
   ]
  },
  {
   "cell_type": "code",
   "execution_count": 15,
   "metadata": {
    "collapsed": false
   },
   "outputs": [
    {
     "data": {
      "text/plain": [
       "<matplotlib.axes.AxesSubplot at 0x10a348cd0>"
      ]
     },
     "execution_count": 15,
     "metadata": {},
     "output_type": "execute_result"
    },
    {
     "data": {
      "image/png": "[encoded data removed]"
     },
     "metadata": {},
     "output_type": "display_data"
    }
   ],
   "source": [
    "boys[boys.name == 'Wesley'].year_rank.plot()"
   ]
  },
  {
   "cell_type": "code",
   "execution_count": 14,
   "metadata": {
    "collapsed": false
   },
   "outputs": [
    {
     "data": {
      "text/plain": [
       "<matplotlib.axes.AxesSubplot at 0x10456c050>"
      ]
     },
     "execution_count": 14,
     "metadata": {},
     "output_type": "execute_result"
    },
    {
     "data": {
      "image/png": "[encoded data removed]"
     },
     "metadata": {},
     "output_type": "display_data"
    }
   ],
   "source": [
    "idf = boys.set_index(['name', 'year'])   # same as above\n",
    "idf.ix['Wesley']\n",
    "idf.ix['Wesley'].year_rank\n",
    "idf.ix['Wesley'].year_rank.plot()"
   ]
  },
  {
   "cell_type": "code",
   "execution_count": 16,
   "metadata": {
    "collapsed": false
   },
   "outputs": [
    {
     "name": "stdout",
     "output_type": "stream",
     "text": [
      "10 loops, best of 3: 25.7 ms per loop\n"
     ]
    }
   ],
   "source": [
    "% timeit result = grouped.transform(lambda x: x - x.mean())"
   ]
  },
  {
   "cell_type": "code",
   "execution_count": 17,
   "metadata": {
    "collapsed": false
   },
   "outputs": [
    {
     "name": "stdout",
     "output_type": "stream",
     "text": [
      "100 loops, best of 3: 19.5 ms per loop\n"
     ]
    }
   ],
   "source": [
    "% timeit result = grouped.apply(lambda x: x - x.mean())"
   ]
  },
  {
   "cell_type": "code",
   "execution_count": 21,
   "metadata": {
    "collapsed": false
   },
   "outputs": [
    {
     "data": {
      "text/plain": [
       "<class 'pandas.core.frame.DataFrame'>\n",
       "Int64Index: 258000 entries, 0 to 257999\n",
       "Data columns:\n",
       "year       258000  non-null values\n",
       "name       258000  non-null values\n",
       "prop       258000  non-null values\n",
       "sex        258000  non-null values\n",
       "soundex    258000  non-null values\n",
       "dtypes: float64(1), int64(1), object(3)"
      ]
     },
     "execution_count": 21,
     "metadata": {},
     "output_type": "execute_result"
    }
   ],
   "source": [
    "names   # Output only the proportion of each name, not the amount."
   ]
  },
  {
   "cell_type": "code",
   "execution_count": 39,
   "metadata": {
    "collapsed": false
   },
   "outputs": [],
   "source": [
    "births = read_csv('births.csv')"
   ]
  },
  {
   "cell_type": "code",
   "execution_count": 29,
   "metadata": {
    "collapsed": false
   },
   "outputs": [],
   "source": [
    "merged = merge(names, births, on=['year', 'sex'])   # merge 2 tables: names and births."
   ]
  },
  {
   "cell_type": "code",
   "execution_count": 28,
   "metadata": {
    "collapsed": false
   },
   "outputs": [
    {
     "data": {
      "text/plain": [
       "<class 'pandas.core.frame.DataFrame'>\n",
       "Int64Index: 258000 entries, 0 to 257999\n",
       "Data columns:\n",
       "year       258000  non-null values\n",
       "name       258000  non-null values\n",
       "prop       258000  non-null values\n",
       "sex        258000  non-null values\n",
       "soundex    258000  non-null values\n",
       "births     258000  non-null values\n",
       "dtypes: float64(1), int64(2), object(3)"
      ]
     },
     "execution_count": 28,
     "metadata": {},
     "output_type": "execute_result"
    }
   ],
   "source": [
    "merge(names, births)   # same as above. Join is performed using the common columns: year and sex\n",
    "                       # Many to many joins in SQL compute the cartesians products of duplicated keys."
   ]
  },
  {
   "cell_type": "code",
   "execution_count": 30,
   "metadata": {
    "collapsed": false
   },
   "outputs": [],
   "source": [
    "merged['persons'] = np.floor(merged.prop * merged.births)"
   ]
  },
  {
   "cell_type": "code",
   "execution_count": 31,
   "metadata": {
    "collapsed": false
   },
   "outputs": [
    {
     "data": {
      "text/plain": [
       "   year     name      prop  sex soundex  births  persons\n",
       "0  1880     John  0.081541  boy    J500  118405     9654\n",
       "1  1880  William  0.080511  boy    W450  118405     9532\n",
       "2  1880    James  0.050057  boy    J520  118405     5926\n",
       "3  1880  Charles  0.045167  boy    C642  118405     5347\n",
       "4  1880   George  0.043292  boy    G620  118405     5125"
      ]
     },
     "execution_count": 31,
     "metadata": {},
     "output_type": "execute_result"
    }
   ],
   "source": [
    "merged.head()"
   ]
  },
  {
   "cell_type": "code",
   "execution_count": 34,
   "metadata": {
    "collapsed": false
   },
   "outputs": [
    {
     "data": {
      "text/plain": [
       "name      sex \n",
       "Aaden     boy        959\n",
       "Aaliyah   girl     39660\n",
       "Aarav     boy        219\n",
       "Aaron     boy     508034\n",
       "          girl      1365\n",
       "Ab        boy         24\n",
       "Abagail   girl      2680\n",
       "Abb       boy         15\n",
       "Abbey     girl     14333\n",
       "Abbie     boy         10\n",
       "          girl     16556\n",
       "Abbigail  girl      6792\n",
       "Abbott    boy          9\n",
       "Abby      girl     47845\n",
       "Abdiel    boy        199\n",
       "...\n",
       "Zilpah  girl        8\n",
       "Zilpha  girl       70\n",
       "Zina    girl     2263\n",
       "Zion    boy     11428\n",
       "        girl     1530\n",
       "Zita    girl      831\n",
       "Zoa     girl       73\n",
       "Zoe     girl    66271\n",
       "Zoey    girl    19335\n",
       "Zoie    girl     4688\n",
       "Zola    girl     4847\n",
       "Zollie  boy        60\n",
       "Zona    girl     3218\n",
       "Zora    girl     4551\n",
       "Zula    girl     3578\n",
       "Name: persons, Length: 7455"
      ]
     },
     "execution_count": 34,
     "metadata": {},
     "output_type": "execute_result"
    }
   ],
   "source": [
    "merged.groupby(['name', 'sex'])['persons'].sum()   # slice and dice. It's a hierarhical labeling."
   ]
  },
  {
   "cell_type": "code",
   "execution_count": 35,
   "metadata": {
    "collapsed": false
   },
   "outputs": [
    {
     "data": {
      "text/plain": [
       "name      sex \n",
       "Achsah    girl    3\n",
       "Ala       girl    3\n",
       "Alabama   girl    3\n",
       "Alfred    girl    3\n",
       "Amey      girl    3\n",
       "Chester   girl    3\n",
       "Chestina  girl    3\n",
       "Clem      girl    3\n",
       "Crissie   girl    3\n",
       "Daisye    girl    3\n",
       "Dema      girl    3\n",
       "Dollye    girl    3\n",
       "Eithel    girl    3\n",
       "Abie      boy     4\n",
       "Acey      boy     4\n",
       "...\n",
       "Elizabeth    girl    1540430\n",
       "Patricia     girl    1567602\n",
       "Daniel       boy     1776483\n",
       "Christopher  boy     1924919\n",
       "Thomas       boy     2239606\n",
       "Charles      boy     2320818\n",
       "Joseph       boy     2490274\n",
       "Richard      boy     2535681\n",
       "David        boy     3495940\n",
       "William      boy     3951365\n",
       "Mary         girl    4097626\n",
       "Michael      boy     4207352\n",
       "Robert       boy     4752198\n",
       "John         boy     5016124\n",
       "James        boy     5021269\n",
       "Name: persons, Length: 7455"
      ]
     },
     "execution_count": 35,
     "metadata": {},
     "output_type": "execute_result"
    }
   ],
   "source": [
    "merged.groupby(['name', 'sex'])['persons'].sum().order()"
   ]
  },
  {
   "cell_type": "code",
   "execution_count": 40,
   "metadata": {
    "collapsed": false
   },
   "outputs": [],
   "source": [
    "mboys = merge(boys, births)  # inner join by default."
   ]
  },
  {
   "cell_type": "code",
   "execution_count": 41,
   "metadata": {
    "collapsed": false
   },
   "outputs": [],
   "source": [
    "mboys['persons'] = np.floor(mboys.prop * mboys.births)"
   ]
  },
  {
   "cell_type": "code",
   "execution_count": 42,
   "metadata": {
    "collapsed": false
   },
   "outputs": [],
   "source": [
    "persons = mboys.set_index(['year', 'name']).persons   # Select out persons"
   ]
  },
  {
   "cell_type": "code",
   "execution_count": 44,
   "metadata": {
    "collapsed": false
   },
   "outputs": [
    {
     "data": {
      "text/plain": [
       "pandas.core.series.Series"
      ]
     },
     "execution_count": 44,
     "metadata": {},
     "output_type": "execute_result"
    }
   ],
   "source": [
    "type(persons)  # One dimensional series.\n"
   ]
  },
  {
   "cell_type": "code",
   "execution_count": 45,
   "metadata": {
    "collapsed": false
   },
   "outputs": [
    {
     "data": {
      "text/plain": [
       "year  name   \n",
       "1880  John       9654\n",
       "      William    9532\n",
       "      James      5926\n",
       "      Charles    5347\n",
       "      George     5125\n",
       "      Frank      3241\n",
       "      Joseph     2632\n",
       "      Thomas     2533\n",
       "      Henry      2443\n",
       "      Robert     2415\n",
       "      Edward     2363\n",
       "      Harry      2152\n",
       "      Walter     1754\n",
       "      Arthur     1598\n",
       "      Fred       1568\n",
       "...\n",
       "2008  Eliezer      199\n",
       "      Bronson      197\n",
       "      Cornelius    197\n",
       "      Pierre       197\n",
       "      Cortez       197\n",
       "      Baron        195\n",
       "      Carlo        195\n",
       "      Carsen       195\n",
       "      Fletcher     195\n",
       "      Izayah       195\n",
       "      Kolten       195\n",
       "      Damari       193\n",
       "      Hugh         193\n",
       "      Jensen       193\n",
       "      Yurem        193\n",
       "Name: persons, Length: 129000"
      ]
     },
     "execution_count": 45,
     "metadata": {},
     "output_type": "execute_result"
    }
   ],
   "source": [
    "persons  # hierarhical index"
   ]
  },
  {
   "cell_type": "code",
   "execution_count": 46,
   "metadata": {
    "collapsed": false
   },
   "outputs": [
    {
     "data": {
      "text/plain": [
       "<matplotlib.axes.AxesSubplot at 0x10a3ad1d0>"
      ]
     },
     "execution_count": 46,
     "metadata": {},
     "output_type": "execute_result"
    },
    {
     "data": {
      "image/png": "[encoded data removed]"
     },
     "metadata": {},
     "output_type": "display_data"
    }
   ],
   "source": [
    "persons.ix[:, 'Christopher'].plot(kind='bar', rot=90)  # Select out all the people named Chris. Plot is kind of crowded. Matplotlib doesn't go more than 130 in x axis."
   ]
  },
  {
   "cell_type": "code",
   "execution_count": 59,
   "metadata": {
    "collapsed": false
   },
   "outputs": [
    {
     "data": {
      "text/plain": [
       "<class 'pandas.core.frame.DataFrame'>\n",
       "Int64Index: 129 entries, 1880 to 2008\n",
       "Columns: 3437 entries, Aaden to Zollie\n",
       "dtypes: float64(3437)"
      ]
     },
     "execution_count": 59,
     "metadata": {},
     "output_type": "execute_result"
    }
   ],
   "source": [
    "persons.unstack('name')   # Create a data frame whose columns are each unique names, and the row indexes are the years."
   ]
  },
  {
   "cell_type": "code",
   "execution_count": 60,
   "metadata": {
    "collapsed": false
   },
   "outputs": [],
   "source": [
    "result = _   # underscore in ipython: the output of the last statement, because we don't want to compute again the same thing."
   ]
  },
  {
   "cell_type": "code",
   "execution_count": 61,
   "metadata": {
    "collapsed": false
   },
   "outputs": [
    {
     "data": {
      "text/plain": [
       "<class 'pandas.core.frame.DataFrame'>\n",
       "Int64Index: 129 entries, 1880 to 2008\n",
       "Columns: 3437 entries, Aaden to Zollie\n",
       "dtypes: float64(3437)"
      ]
     },
     "execution_count": 61,
     "metadata": {},
     "output_type": "execute_result"
    }
   ],
   "source": [
    "result"
   ]
  },
  {
   "cell_type": "code",
   "execution_count": 62,
   "metadata": {
    "collapsed": false
   },
   "outputs": [
    {
     "data": {
      "text/plain": [
       "year\n",
       "1880     123\n",
       "1881     102\n",
       "1882     144\n",
       "1883     104\n",
       "1884     120\n",
       "1885     107\n",
       "1886     120\n",
       "1887     114\n",
       "1888     147\n",
       "1889     100\n",
       "1890     130\n",
       "1891     114\n",
       "1892     141\n",
       "1893     136\n",
       "1894     149\n",
       "1895     156\n",
       "1896     144\n",
       "1897     120\n",
       "1898     151\n",
       "1899     119\n",
       "1900     180\n",
       "1901     146\n",
       "1902     144\n",
       "1903     152\n",
       "1904     165\n",
       "1905     174\n",
       "1906     155\n",
       "1907     190\n",
       "1908     184\n",
       "1909     195\n",
       "1910     208\n",
       "1911     261\n",
       "1912     484\n",
       "1913     584\n",
       "1914     789\n",
       "1915     990\n",
       "1916    1026\n",
       "1917    1013\n",
       "1918    1145\n",
       "1919    1095\n",
       "1920    1247\n",
       "1921    1326\n",
       "1922    1290\n",
       "1923    1376\n",
       "1924    1346\n",
       "1925    1266\n",
       "1926    1321\n",
       "1927    1327\n",
       "1928    1176\n",
       "1929    1176\n",
       "1930    1187\n",
       "1931    1113\n",
       "1932    1135\n",
       "1933    1030\n",
       "1934    1116\n",
       "1935    1037\n",
       "1936    1062\n",
       "1937    1064\n",
       "1938    1071\n",
       "1939    1116\n",
       "1940    1122\n",
       "1941    1089\n",
       "1942    1258\n",
       "1943    1263\n",
       "1944    1169\n",
       "1945    1105\n",
       "1946    1249\n",
       "1947    1455\n",
       "1948    1334\n",
       "1949    1398\n",
       "1950    1516\n",
       "1951    1511\n",
       "1952    1592\n",
       "1953    1732\n",
       "1954    1839\n",
       "1955    1918\n",
       "1956    2010\n",
       "1957    1987\n",
       "1958    1951\n",
       "1959    2001\n",
       "1960    2016\n",
       "1961    2001\n",
       "1962    1965\n",
       "1963    2097\n",
       "1964    1968\n",
       "1965    1862\n",
       "1966    1801\n",
       "1967    1592\n",
       "1968    1642\n",
       "1969    1853\n",
       "1970    2060\n",
       "1971    1958\n",
       "1972    1694\n",
       "1973    1558\n",
       "1974    1466\n",
       "1975    1534\n",
       "1976    2146\n",
       "1977    4301\n",
       "1978    3301\n",
       "1979    3232\n",
       "1980    3164\n",
       "1981    3039\n",
       "1982    3024\n",
       "1983    2787\n",
       "1984    2799\n",
       "1985    3038\n",
       "1986    3040\n",
       "1987    3245\n",
       "1988    3477\n",
       "1989    3458\n",
       "1990    3313\n",
       "1991    3268\n",
       "1992    3236\n",
       "1993    3169\n",
       "1994    3030\n",
       "1995    2795\n",
       "1996    2616\n",
       "1997    2355\n",
       "1998    2240\n",
       "1999    2208\n",
       "2000    2217\n",
       "2001    2024\n",
       "2002    2049\n",
       "2003    2116\n",
       "2004    2103\n",
       "2005    2107\n",
       "2006    2096\n",
       "2007    2057\n",
       "2008    2050\n",
       "Name: Wesley, Length: 129"
      ]
     },
     "execution_count": 62,
     "metadata": {},
     "output_type": "execute_result"
    }
   ],
   "source": [
    "result['Wesley']"
   ]
  },
  {
   "cell_type": "code",
   "execution_count": 63,
   "metadata": {
    "collapsed": false
   },
   "outputs": [
    {
     "data": {
      "text/plain": [
       "<matplotlib.axes.AxesSubplot at 0x10d4968d0>"
      ]
     },
     "execution_count": 63,
     "metadata": {},
     "output_type": "execute_result"
    },
    {
     "data": {
      "image/png": "[encoded data removed]"
     },
     "metadata": {},
     "output_type": "display_data"
    }
   ],
   "source": [
    "result['Wesley'].plot()"
   ]
  },
  {
   "cell_type": "code",
   "execution_count": null,
   "metadata": {
    "collapsed": false
   },
   "outputs": [],
   "source": []
  }
 ],
 "metadata": {
  "kernelspec": {
   "display_name": "Python 2",
   "language": "python",
   "name": "python2"
  },
  "language_info": {
   "codemirror_mode": {
    "name": "ipython",
    "version": 2
   },
   "file_extension": ".py",
   "mimetype": "text/x-python",
   "name": "python",
   "nbconvert_exporter": "python",
   "pygments_lexer": "ipython2",
   "version": "2.7.11"
  }
 },
 "nbformat": 4,
 "nbformat_minor": 0
}
